{
 "cells": [
  {
   "cell_type": "code",
   "execution_count": 1,
   "metadata": {},
   "outputs": [],
   "source": [
    "from SOM import SOM\n",
    "import sys\n",
    "\n",
    "sys.path.append(\"../../\")\n",
    "from utils import load_csv, dataloader, load_save_models\n",
    "import torch\n",
    "from torchvision.transforms import v2\n",
    "import preprocessing.tiff_handling as tiff_handling\n",
    "import plotly.express as px\n",
    "from stats import evaluate_perf_utils\n",
    "import numpy as np"
   ]
  },
  {
   "cell_type": "markdown",
   "metadata": {},
   "source": [
    "## load in the data"
   ]
  },
  {
   "cell_type": "code",
   "execution_count": 2,
   "metadata": {},
   "outputs": [],
   "source": [
    "input_dim = 100\n",
    "map_dim = 80"
   ]
  },
  {
   "cell_type": "code",
   "execution_count": 3,
   "metadata": {},
   "outputs": [
    {
     "name": "stdout",
     "output_type": "stream",
     "text": [
      "Model loaded from ./hpc_SOM_model.pkl.\n"
     ]
    },
    {
     "data": {
      "text/plain": [
       "<minisom.MiniSom at 0x740a001e8d70>"
      ]
     },
     "execution_count": 3,
     "metadata": {},
     "output_type": "execute_result"
    }
   ],
   "source": [
    "model = SOM.load_model(SOM(input_dim=input_dim,map_dim=map_dim),'./hpc_SOM_model.pkl')\n",
    "model.som"
   ]
  },
  {
   "cell_type": "markdown",
   "metadata": {},
   "source": [
    "## load in data"
   ]
  },
  {
   "cell_type": "code",
   "execution_count": 4,
   "metadata": {},
   "outputs": [
    {
     "name": "stderr",
     "output_type": "stream",
     "text": [
      "/home/bendm/machine_learning/project/majority-vote-outlier-detection/models/SOM/../../utils/load_csv.py:20: DtypeWarning: Columns (91,94,209,213) have mixed types. Specify dtype option on import or set low_memory=False.\n",
      "  frame = pd.read_csv(data_path, delimiter=\";\").iloc[:, -3:]\n"
     ]
    },
    {
     "name": "stdout",
     "output_type": "stream",
     "text": [
      "outlier test validation: False\n"
     ]
    }
   ],
   "source": [
    "set = load_csv.load_pandas()\n",
    "train, val,test = load_csv.split_data(set)\n",
    "\n",
    "print(f'outlier test validation: {any(val[\"classification\"]!=1)}')"
   ]
  },
  {
   "cell_type": "code",
   "execution_count": 5,
   "metadata": {},
   "outputs": [],
   "source": [
    "transform = v2.Compose(\n",
    "    [\n",
    "        v2.ToImage(),\n",
    "        v2.ToDtype(torch.float32, scale=True),\n",
    "        v2.Resize((60, 80)),\n",
    "        # v2.Lambda(\n",
    "        #     lambda x: (x.view(-1) - torch.min(x)) / (torch.max(x) - torch.min(x))\n",
    "        # ),\n",
    "    ]\n",
    ")\n",
    "\n",
    "val_data = np.array(\n",
    "    [\n",
    "        tiff_handling.flatten_image(transform(tiff_handling.handle_tiff(el)))\n",
    "        for el in val[\"file_names\"].tolist()\n",
    "    ]\n",
    ")\n",
    "\n",
    "test[\"image\"] = test[\"file_names\"].apply(lambda x: tiff_handling.flatten_image(transform(tiff_handling.handle_tiff(x))))"
   ]
  },
  {
   "cell_type": "code",
   "execution_count": 6,
   "metadata": {},
   "outputs": [
    {
     "name": "stdout",
     "output_type": "stream",
     "text": [
      "Threshold set at 2.8702 (Percentile: 95)\n"
     ]
    },
    {
     "data": {
      "text/plain": [
       "np.float64(2.870176573873579)"
      ]
     },
     "execution_count": 6,
     "metadata": {},
     "output_type": "execute_result"
    }
   ],
   "source": [
    "model.set_threshold(val_data)"
   ]
  },
  {
   "cell_type": "code",
   "execution_count": null,
   "metadata": {},
   "outputs": [],
   "source": [
    "output = model.predict(test)"
   ]
  },
  {
   "cell_type": "code",
   "execution_count": null,
   "metadata": {},
   "outputs": [],
   "source": [
    "truth = [1 if value == 1 else 0 for value in output['classification']]\n",
    "\n",
    "perf_metrics = evaluate_perf_utils.get_perf_metrics(truth, output['prediction'])\n",
    "tn = perf_metrics['tn']\n",
    "tp = perf_metrics['tp']\n",
    "fn = perf_metrics['fn']\n",
    "fp = perf_metrics['fp']\n",
    "precision = perf_metrics['precision']\n",
    "recall = perf_metrics['recall']\n",
    "f1 = perf_metrics['f1']\n",
    "\n",
    "perf_metrics"
   ]
  },
  {
   "cell_type": "code",
   "execution_count": null,
   "metadata": {},
   "outputs": [],
   "source": [
    "accuracy = (tp + tn) / (tp + tn + fp + fn)\n",
    "print(f'accuracy: {accuracy}')"
   ]
  }
 ],
 "metadata": {
  "kernelspec": {
   "display_name": ".venv",
   "language": "python",
   "name": "python3"
  },
  "language_info": {
   "codemirror_mode": {
    "name": "ipython",
    "version": 3
   },
   "file_extension": ".py",
   "mimetype": "text/x-python",
   "name": "python",
   "nbconvert_exporter": "python",
   "pygments_lexer": "ipython3",
   "version": "3.12.7"
  }
 },
 "nbformat": 4,
 "nbformat_minor": 2
}
