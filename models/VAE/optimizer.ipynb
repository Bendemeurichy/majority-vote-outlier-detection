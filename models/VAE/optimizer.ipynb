{
 "cells": [
  {
   "cell_type": "markdown",
   "metadata": {},
   "source": [
    "## optimize hyperparameters with Optuna"
   ]
  },
  {
   "cell_type": "markdown",
   "metadata": {},
   "source": [
    "### load data en preprocess"
   ]
  },
  {
   "cell_type": "code",
   "execution_count": null,
   "metadata": {},
   "outputs": [],
   "source": [
    "import sys\n",
    "\n",
    "sys.path.append(\"../../\")\n",
    "\n",
    "import utils.load_csv as load_csv\n",
    "\n",
    "set = load_csv.load_pandas()\n",
    "set = load_csv.sample_data(set, 100)\n",
    "\n",
    "# train and val only contain inliers and test contains both inliers and outliers\n",
    "train, val, test = load_csv.split_data(set)\n",
    "print(f\"train length: {len(train)}\")\n",
    "print(f\"val length: {len(val)}\")\n",
    "print(f\"test length: {len(test)}\")\n",
    "\n",
    "print(f'outlier test training: {any(train[\"classification\"] != 1)}')\n",
    "print(f'outlier test validation: {any(val[\"classification\"] != 1)}')\n",
    "print(f'outlier test test: {any(test[\"classification\"] != 1)}')\n",
    "train"
   ]
  },
  {
   "cell_type": "code",
   "execution_count": null,
   "metadata": {},
   "outputs": [],
   "source": [
    "from models.VAE.VAE import VAE\n",
    "from datetime import datetime\n",
    "\n",
    "import torch\n",
    "from torch.utils.tensorboard import SummaryWriter\n",
    "from utils.dataloader import ImagePathDataset\n",
    "from torchvision.transforms import v2"
   ]
  },
  {
   "cell_type": "code",
   "execution_count": null,
   "metadata": {},
   "outputs": [],
   "source": [
    "import torch.optim as optim\n",
    "import optuna\n",
    "\n",
    "\n",
    "def objective(trial):\n",
    "    device = torch.device(\"cuda\" if torch.cuda.is_available() else \"cpu\")\n",
    "    input_dim = 4800\n",
    "    batch_size = trial.suggest_categorical(\"batch_size\", [16, 32, 64, 128])\n",
    "    hidden_dim = trial.suggest_int(\"hidden_dim\", 1000, 4000, step=500)\n",
    "    latent_dim = trial.suggest_int(\"latent_dim\", 10, 1000, step=10)\n",
    "    epochs = trial.suggest_int(\"epochs\", 10, 100)\n",
    "\n",
    "    learning_rate = trial.suggest_loguniform(\"learning_rate\", 1e-5, 1e-2)\n",
    "    #learning_rate = 1e-3\n",
    "    weight_decay = 1e-2\n",
    "\n",
    "    model = VAE(input_dim, hidden_dim, latent_dim).to(device)\n",
    "    optimizer = torch.optim.AdamW(\n",
    "        model.parameters(), lr=learning_rate, weight_decay=weight_decay\n",
    "    )\n",
    "\n",
    "    transform = v2.Compose(\n",
    "        [\n",
    "            v2.ToImage(),\n",
    "            v2.ToDtype(torch.float32, scale=True),\n",
    "            v2.Resize((60, 80)),\n",
    "            v2.ToTensor(),\n",
    "            v2.Lambda(\n",
    "                lambda x: (x.view(-1) - torch.min(x)) / (torch.max(x) - torch.min(x))\n",
    "            ),\n",
    "        ]\n",
    "    )\n",
    "\n",
    "    train_set = ImagePathDataset(train, transform=transform)\n",
    "    val_set = ImagePathDataset(val, transform=transform)\n",
    "\n",
    "    train_dataloader = torch.utils.data.DataLoader(\n",
    "        train_set, batch_size=batch_size, shuffle=True\n",
    "    )\n",
    "    val_dataloader = torch.utils.data.DataLoader(\n",
    "        val_set, batch_size=batch_size, shuffle=True\n",
    "    )\n",
    "\n",
    "    prev_updates = 0\n",
    "    best_val_loss = float(\"inf\")\n",
    "    patience, early_stop_counter = 5, 0\n",
    "\n",
    "    for epoch in range(epochs):\n",
    "        print(f\"Epoch {epoch+1}/{epochs}\")\n",
    "        prev_updates = model.train_model(train_dataloader, optimizer, prev_updates)\n",
    "        val_loss = model.test(val_dataloader, prev_updates)\n",
    "        best_val_loss = min(val_loss, best_val_loss)\n",
    "\n",
    "        if val_loss < best_val_loss:\n",
    "            best_val_loss = val_loss\n",
    "            early_stop_counter = 0\n",
    "        else:\n",
    "            early_stop_counter += 1\n",
    "            if early_stop_counter >= patience:\n",
    "                print(\"Early stopping...\")\n",
    "                break\n",
    "\n",
    "        # Optional pruning\n",
    "        trial.report(best_val_loss, epoch)\n",
    "        if trial.should_prune():\n",
    "            raise optuna.exceptions.TrialPruned()\n",
    "\n",
    "    return best_val_loss"
   ]
  },
  {
   "cell_type": "code",
   "execution_count": null,
   "metadata": {},
   "outputs": [],
   "source": [
    "study = optuna.create_study(direction=\"minimize\", \n",
    "                            study_name=\"VAE\",\n",
    "                            sampler=optuna.samplers.TPESampler(),\n",
    "                            pruner=optuna.pruners.MedianPruner(n_startup_trials=5, n_warmup_steps=30))\n",
    "study.optimize(objective, n_trials=100, timeout=600)\n"
   ]
  },
  {
   "cell_type": "code",
   "execution_count": null,
   "metadata": {},
   "outputs": [],
   "source": [
    "print(\"Number of finished trials: \", len(study.trials))\n",
    "print(\"Best trial:\")\n",
    "trial = study.best_trial\n",
    "print(f\"  Value: {trial.value}\")\n",
    "print(\"  Params: \")\n",
    "for key, value in trial.params.items():\n",
    "    print(f\"    {key}: {value}\")"
   ]
  },
  {
   "cell_type": "code",
   "execution_count": null,
   "metadata": {},
   "outputs": [],
   "source": [
    "import optuna.visualization as vis\n",
    "\n",
    "vis.plot_optimization_history(study).show()\n",
    "vis.plot_param_importances(study).show()\n",
    "vis.plot_intermediate_values(study).show()"
   ]
  },
  {
   "cell_type": "code",
   "execution_count": null,
   "metadata": {},
   "outputs": [],
   "source": []
  }
 ],
 "metadata": {
  "kernelspec": {
   "display_name": ".venv",
   "language": "python",
   "name": "python3"
  },
  "language_info": {
   "codemirror_mode": {
    "name": "ipython",
    "version": 3
   },
   "file_extension": ".py",
   "mimetype": "text/x-python",
   "name": "python",
   "nbconvert_exporter": "python",
   "pygments_lexer": "ipython3",
   "version": "3.12.7"
  }
 },
 "nbformat": 4,
 "nbformat_minor": 2
}
