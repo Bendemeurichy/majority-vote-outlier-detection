{
 "cells": [
  {
   "cell_type": "markdown",
   "metadata": {},
   "source": [
    "## optimize hyperparameters with Optuna"
   ]
  },
  {
   "cell_type": "markdown",
   "metadata": {},
   "source": [
    "### load data en preprocess"
   ]
  },
  {
   "cell_type": "code",
   "execution_count": 1,
   "metadata": {},
   "outputs": [
    {
     "name": "stderr",
     "output_type": "stream",
     "text": [
      "/home/bendm/machine_learning/project/majority-vote-outlier-detection/models/VAE/../../utils/load_csv.py:20: DtypeWarning: Columns (91,94,209,213) have mixed types. Specify dtype option on import or set low_memory=False.\n",
      "  frame = pd.read_csv(data_path, delimiter=\";\").iloc[:, -3:]\n"
     ]
    },
    {
     "name": "stdout",
     "output_type": "stream",
     "text": [
      "train length: 45\n",
      "val length: 15\n",
      "test length: 18\n",
      "outlier test training: False\n",
      "outlier test validation: False\n",
      "outlier test test: True\n"
     ]
    },
    {
     "data": {
      "text/html": [
       "<div>\n",
       "<style scoped>\n",
       "    .dataframe tbody tr th:only-of-type {\n",
       "        vertical-align: middle;\n",
       "    }\n",
       "\n",
       "    .dataframe tbody tr th {\n",
       "        vertical-align: top;\n",
       "    }\n",
       "\n",
       "    .dataframe thead th {\n",
       "        text-align: right;\n",
       "    }\n",
       "</style>\n",
       "<table border=\"1\" class=\"dataframe\">\n",
       "  <thead>\n",
       "    <tr style=\"text-align: right;\">\n",
       "      <th></th>\n",
       "      <th>classification</th>\n",
       "      <th>file_names</th>\n",
       "      <th>label</th>\n",
       "    </tr>\n",
       "  </thead>\n",
       "  <tbody>\n",
       "    <tr>\n",
       "      <th>2894</th>\n",
       "      <td>1</td>\n",
       "      <td>/home/bendm/machine_learning/project/majority-...</td>\n",
       "      <td>Singlet</td>\n",
       "    </tr>\n",
       "    <tr>\n",
       "      <th>2876</th>\n",
       "      <td>1</td>\n",
       "      <td>/home/bendm/machine_learning/project/majority-...</td>\n",
       "      <td>Singlet</td>\n",
       "    </tr>\n",
       "    <tr>\n",
       "      <th>4947</th>\n",
       "      <td>1</td>\n",
       "      <td>/home/bendm/machine_learning/project/majority-...</td>\n",
       "      <td>Singlet</td>\n",
       "    </tr>\n",
       "    <tr>\n",
       "      <th>5861</th>\n",
       "      <td>1</td>\n",
       "      <td>/home/bendm/machine_learning/project/majority-...</td>\n",
       "      <td>Singlet</td>\n",
       "    </tr>\n",
       "    <tr>\n",
       "      <th>2678</th>\n",
       "      <td>1</td>\n",
       "      <td>/home/bendm/machine_learning/project/majority-...</td>\n",
       "      <td>Singlet</td>\n",
       "    </tr>\n",
       "    <tr>\n",
       "      <th>7231</th>\n",
       "      <td>1</td>\n",
       "      <td>/home/bendm/machine_learning/project/majority-...</td>\n",
       "      <td>Singlet</td>\n",
       "    </tr>\n",
       "    <tr>\n",
       "      <th>9930</th>\n",
       "      <td>1</td>\n",
       "      <td>/home/bendm/machine_learning/project/majority-...</td>\n",
       "      <td>Singlet</td>\n",
       "    </tr>\n",
       "    <tr>\n",
       "      <th>971</th>\n",
       "      <td>1</td>\n",
       "      <td>/home/bendm/machine_learning/project/majority-...</td>\n",
       "      <td>Singlet</td>\n",
       "    </tr>\n",
       "    <tr>\n",
       "      <th>6340</th>\n",
       "      <td>1</td>\n",
       "      <td>/home/bendm/machine_learning/project/majority-...</td>\n",
       "      <td>Singlet</td>\n",
       "    </tr>\n",
       "    <tr>\n",
       "      <th>4640</th>\n",
       "      <td>1</td>\n",
       "      <td>/home/bendm/machine_learning/project/majority-...</td>\n",
       "      <td>Singlet</td>\n",
       "    </tr>\n",
       "    <tr>\n",
       "      <th>8284</th>\n",
       "      <td>1</td>\n",
       "      <td>/home/bendm/machine_learning/project/majority-...</td>\n",
       "      <td>Singlet</td>\n",
       "    </tr>\n",
       "    <tr>\n",
       "      <th>7487</th>\n",
       "      <td>1</td>\n",
       "      <td>/home/bendm/machine_learning/project/majority-...</td>\n",
       "      <td>Singlet</td>\n",
       "    </tr>\n",
       "    <tr>\n",
       "      <th>7825</th>\n",
       "      <td>1</td>\n",
       "      <td>/home/bendm/machine_learning/project/majority-...</td>\n",
       "      <td>Singlet</td>\n",
       "    </tr>\n",
       "    <tr>\n",
       "      <th>6363</th>\n",
       "      <td>1</td>\n",
       "      <td>/home/bendm/machine_learning/project/majority-...</td>\n",
       "      <td>Singlet</td>\n",
       "    </tr>\n",
       "    <tr>\n",
       "      <th>1760</th>\n",
       "      <td>1</td>\n",
       "      <td>/home/bendm/machine_learning/project/majority-...</td>\n",
       "      <td>Singlet</td>\n",
       "    </tr>\n",
       "    <tr>\n",
       "      <th>7942</th>\n",
       "      <td>1</td>\n",
       "      <td>/home/bendm/machine_learning/project/majority-...</td>\n",
       "      <td>Singlet</td>\n",
       "    </tr>\n",
       "    <tr>\n",
       "      <th>6687</th>\n",
       "      <td>1</td>\n",
       "      <td>/home/bendm/machine_learning/project/majority-...</td>\n",
       "      <td>Singlet</td>\n",
       "    </tr>\n",
       "    <tr>\n",
       "      <th>107</th>\n",
       "      <td>1</td>\n",
       "      <td>/home/bendm/machine_learning/project/majority-...</td>\n",
       "      <td>Singlet</td>\n",
       "    </tr>\n",
       "    <tr>\n",
       "      <th>7539</th>\n",
       "      <td>1</td>\n",
       "      <td>/home/bendm/machine_learning/project/majority-...</td>\n",
       "      <td>Singlet</td>\n",
       "    </tr>\n",
       "    <tr>\n",
       "      <th>9896</th>\n",
       "      <td>1</td>\n",
       "      <td>/home/bendm/machine_learning/project/majority-...</td>\n",
       "      <td>Singlet</td>\n",
       "    </tr>\n",
       "    <tr>\n",
       "      <th>5589</th>\n",
       "      <td>1</td>\n",
       "      <td>/home/bendm/machine_learning/project/majority-...</td>\n",
       "      <td>Singlet</td>\n",
       "    </tr>\n",
       "    <tr>\n",
       "      <th>7938</th>\n",
       "      <td>1</td>\n",
       "      <td>/home/bendm/machine_learning/project/majority-...</td>\n",
       "      <td>Singlet</td>\n",
       "    </tr>\n",
       "    <tr>\n",
       "      <th>3337</th>\n",
       "      <td>1</td>\n",
       "      <td>/home/bendm/machine_learning/project/majority-...</td>\n",
       "      <td>Singlet</td>\n",
       "    </tr>\n",
       "    <tr>\n",
       "      <th>9753</th>\n",
       "      <td>1</td>\n",
       "      <td>/home/bendm/machine_learning/project/majority-...</td>\n",
       "      <td>Singlet</td>\n",
       "    </tr>\n",
       "    <tr>\n",
       "      <th>321</th>\n",
       "      <td>1</td>\n",
       "      <td>/home/bendm/machine_learning/project/majority-...</td>\n",
       "      <td>Singlet</td>\n",
       "    </tr>\n",
       "    <tr>\n",
       "      <th>2545</th>\n",
       "      <td>1</td>\n",
       "      <td>/home/bendm/machine_learning/project/majority-...</td>\n",
       "      <td>Singlet</td>\n",
       "    </tr>\n",
       "    <tr>\n",
       "      <th>7438</th>\n",
       "      <td>1</td>\n",
       "      <td>/home/bendm/machine_learning/project/majority-...</td>\n",
       "      <td>Singlet</td>\n",
       "    </tr>\n",
       "    <tr>\n",
       "      <th>2020</th>\n",
       "      <td>1</td>\n",
       "      <td>/home/bendm/machine_learning/project/majority-...</td>\n",
       "      <td>Singlet</td>\n",
       "    </tr>\n",
       "    <tr>\n",
       "      <th>3999</th>\n",
       "      <td>1</td>\n",
       "      <td>/home/bendm/machine_learning/project/majority-...</td>\n",
       "      <td>Singlet</td>\n",
       "    </tr>\n",
       "    <tr>\n",
       "      <th>9317</th>\n",
       "      <td>1</td>\n",
       "      <td>/home/bendm/machine_learning/project/majority-...</td>\n",
       "      <td>Singlet</td>\n",
       "    </tr>\n",
       "    <tr>\n",
       "      <th>1056</th>\n",
       "      <td>1</td>\n",
       "      <td>/home/bendm/machine_learning/project/majority-...</td>\n",
       "      <td>Singlet</td>\n",
       "    </tr>\n",
       "    <tr>\n",
       "      <th>952</th>\n",
       "      <td>1</td>\n",
       "      <td>/home/bendm/machine_learning/project/majority-...</td>\n",
       "      <td>Singlet</td>\n",
       "    </tr>\n",
       "    <tr>\n",
       "      <th>3006</th>\n",
       "      <td>1</td>\n",
       "      <td>/home/bendm/machine_learning/project/majority-...</td>\n",
       "      <td>Singlet</td>\n",
       "    </tr>\n",
       "    <tr>\n",
       "      <th>3723</th>\n",
       "      <td>1</td>\n",
       "      <td>/home/bendm/machine_learning/project/majority-...</td>\n",
       "      <td>Singlet</td>\n",
       "    </tr>\n",
       "    <tr>\n",
       "      <th>5547</th>\n",
       "      <td>1</td>\n",
       "      <td>/home/bendm/machine_learning/project/majority-...</td>\n",
       "      <td>Singlet</td>\n",
       "    </tr>\n",
       "    <tr>\n",
       "      <th>1731</th>\n",
       "      <td>1</td>\n",
       "      <td>/home/bendm/machine_learning/project/majority-...</td>\n",
       "      <td>Singlet</td>\n",
       "    </tr>\n",
       "    <tr>\n",
       "      <th>3570</th>\n",
       "      <td>1</td>\n",
       "      <td>/home/bendm/machine_learning/project/majority-...</td>\n",
       "      <td>Singlet</td>\n",
       "    </tr>\n",
       "    <tr>\n",
       "      <th>8243</th>\n",
       "      <td>1</td>\n",
       "      <td>/home/bendm/machine_learning/project/majority-...</td>\n",
       "      <td>Singlet</td>\n",
       "    </tr>\n",
       "    <tr>\n",
       "      <th>4521</th>\n",
       "      <td>1</td>\n",
       "      <td>/home/bendm/machine_learning/project/majority-...</td>\n",
       "      <td>Singlet</td>\n",
       "    </tr>\n",
       "    <tr>\n",
       "      <th>8847</th>\n",
       "      <td>1</td>\n",
       "      <td>/home/bendm/machine_learning/project/majority-...</td>\n",
       "      <td>Singlet</td>\n",
       "    </tr>\n",
       "    <tr>\n",
       "      <th>9920</th>\n",
       "      <td>1</td>\n",
       "      <td>/home/bendm/machine_learning/project/majority-...</td>\n",
       "      <td>Singlet</td>\n",
       "    </tr>\n",
       "    <tr>\n",
       "      <th>5359</th>\n",
       "      <td>1</td>\n",
       "      <td>/home/bendm/machine_learning/project/majority-...</td>\n",
       "      <td>Singlet</td>\n",
       "    </tr>\n",
       "    <tr>\n",
       "      <th>9189</th>\n",
       "      <td>1</td>\n",
       "      <td>/home/bendm/machine_learning/project/majority-...</td>\n",
       "      <td>Singlet</td>\n",
       "    </tr>\n",
       "    <tr>\n",
       "      <th>8158</th>\n",
       "      <td>1</td>\n",
       "      <td>/home/bendm/machine_learning/project/majority-...</td>\n",
       "      <td>Singlet</td>\n",
       "    </tr>\n",
       "    <tr>\n",
       "      <th>799</th>\n",
       "      <td>1</td>\n",
       "      <td>/home/bendm/machine_learning/project/majority-...</td>\n",
       "      <td>Singlet</td>\n",
       "    </tr>\n",
       "  </tbody>\n",
       "</table>\n",
       "</div>"
      ],
      "text/plain": [
       "      classification                                         file_names  \\\n",
       "2894               1  /home/bendm/machine_learning/project/majority-...   \n",
       "2876               1  /home/bendm/machine_learning/project/majority-...   \n",
       "4947               1  /home/bendm/machine_learning/project/majority-...   \n",
       "5861               1  /home/bendm/machine_learning/project/majority-...   \n",
       "2678               1  /home/bendm/machine_learning/project/majority-...   \n",
       "7231               1  /home/bendm/machine_learning/project/majority-...   \n",
       "9930               1  /home/bendm/machine_learning/project/majority-...   \n",
       "971                1  /home/bendm/machine_learning/project/majority-...   \n",
       "6340               1  /home/bendm/machine_learning/project/majority-...   \n",
       "4640               1  /home/bendm/machine_learning/project/majority-...   \n",
       "8284               1  /home/bendm/machine_learning/project/majority-...   \n",
       "7487               1  /home/bendm/machine_learning/project/majority-...   \n",
       "7825               1  /home/bendm/machine_learning/project/majority-...   \n",
       "6363               1  /home/bendm/machine_learning/project/majority-...   \n",
       "1760               1  /home/bendm/machine_learning/project/majority-...   \n",
       "7942               1  /home/bendm/machine_learning/project/majority-...   \n",
       "6687               1  /home/bendm/machine_learning/project/majority-...   \n",
       "107                1  /home/bendm/machine_learning/project/majority-...   \n",
       "7539               1  /home/bendm/machine_learning/project/majority-...   \n",
       "9896               1  /home/bendm/machine_learning/project/majority-...   \n",
       "5589               1  /home/bendm/machine_learning/project/majority-...   \n",
       "7938               1  /home/bendm/machine_learning/project/majority-...   \n",
       "3337               1  /home/bendm/machine_learning/project/majority-...   \n",
       "9753               1  /home/bendm/machine_learning/project/majority-...   \n",
       "321                1  /home/bendm/machine_learning/project/majority-...   \n",
       "2545               1  /home/bendm/machine_learning/project/majority-...   \n",
       "7438               1  /home/bendm/machine_learning/project/majority-...   \n",
       "2020               1  /home/bendm/machine_learning/project/majority-...   \n",
       "3999               1  /home/bendm/machine_learning/project/majority-...   \n",
       "9317               1  /home/bendm/machine_learning/project/majority-...   \n",
       "1056               1  /home/bendm/machine_learning/project/majority-...   \n",
       "952                1  /home/bendm/machine_learning/project/majority-...   \n",
       "3006               1  /home/bendm/machine_learning/project/majority-...   \n",
       "3723               1  /home/bendm/machine_learning/project/majority-...   \n",
       "5547               1  /home/bendm/machine_learning/project/majority-...   \n",
       "1731               1  /home/bendm/machine_learning/project/majority-...   \n",
       "3570               1  /home/bendm/machine_learning/project/majority-...   \n",
       "8243               1  /home/bendm/machine_learning/project/majority-...   \n",
       "4521               1  /home/bendm/machine_learning/project/majority-...   \n",
       "8847               1  /home/bendm/machine_learning/project/majority-...   \n",
       "9920               1  /home/bendm/machine_learning/project/majority-...   \n",
       "5359               1  /home/bendm/machine_learning/project/majority-...   \n",
       "9189               1  /home/bendm/machine_learning/project/majority-...   \n",
       "8158               1  /home/bendm/machine_learning/project/majority-...   \n",
       "799                1  /home/bendm/machine_learning/project/majority-...   \n",
       "\n",
       "        label  \n",
       "2894  Singlet  \n",
       "2876  Singlet  \n",
       "4947  Singlet  \n",
       "5861  Singlet  \n",
       "2678  Singlet  \n",
       "7231  Singlet  \n",
       "9930  Singlet  \n",
       "971   Singlet  \n",
       "6340  Singlet  \n",
       "4640  Singlet  \n",
       "8284  Singlet  \n",
       "7487  Singlet  \n",
       "7825  Singlet  \n",
       "6363  Singlet  \n",
       "1760  Singlet  \n",
       "7942  Singlet  \n",
       "6687  Singlet  \n",
       "107   Singlet  \n",
       "7539  Singlet  \n",
       "9896  Singlet  \n",
       "5589  Singlet  \n",
       "7938  Singlet  \n",
       "3337  Singlet  \n",
       "9753  Singlet  \n",
       "321   Singlet  \n",
       "2545  Singlet  \n",
       "7438  Singlet  \n",
       "2020  Singlet  \n",
       "3999  Singlet  \n",
       "9317  Singlet  \n",
       "1056  Singlet  \n",
       "952   Singlet  \n",
       "3006  Singlet  \n",
       "3723  Singlet  \n",
       "5547  Singlet  \n",
       "1731  Singlet  \n",
       "3570  Singlet  \n",
       "8243  Singlet  \n",
       "4521  Singlet  \n",
       "8847  Singlet  \n",
       "9920  Singlet  \n",
       "5359  Singlet  \n",
       "9189  Singlet  \n",
       "8158  Singlet  \n",
       "799   Singlet  "
      ]
     },
     "execution_count": 1,
     "metadata": {},
     "output_type": "execute_result"
    }
   ],
   "source": [
    "import sys\n",
    "\n",
    "sys.path.append(\"../../\")\n",
    "\n",
    "import utils.load_csv as load_csv\n",
    "\n",
    "set = load_csv.load_pandas()\n",
    "set = load_csv.sample_data(set, 100)\n",
    "\n",
    "# train and val only contain inliers and test contains both inliers and outliers\n",
    "train, val, test = load_csv.split_data(set)\n",
    "print(f\"train length: {len(train)}\")\n",
    "print(f\"val length: {len(val)}\")\n",
    "print(f\"test length: {len(test)}\")\n",
    "\n",
    "print(f'outlier test training: {any(train[\"classification\"] != 1)}')\n",
    "print(f'outlier test validation: {any(val[\"classification\"] != 1)}')\n",
    "print(f'outlier test test: {any(test[\"classification\"] != 1)}')\n",
    "train"
   ]
  },
  {
   "cell_type": "code",
   "execution_count": 2,
   "metadata": {},
   "outputs": [],
   "source": [
    "from models.VAE.VAE import VAE\n",
    "from datetime import datetime\n",
    "\n",
    "import torch\n",
    "from torch.utils.tensorboard import SummaryWriter\n",
    "from utils.dataloader import ImagePathDataset\n",
    "from torchvision.transforms import v2"
   ]
  },
  {
   "cell_type": "code",
   "execution_count": 3,
   "metadata": {},
   "outputs": [],
   "source": [
    "import torch.optim as optim\n",
    "import optuna\n",
    "\n",
    "\n",
    "def objective(trial):\n",
    "    device = torch.device(\"cuda\" if torch.cuda.is_available() else \"cpu\")\n",
    "    input_dim = 4800\n",
    "    batch_size = trial.suggest_categorical(\"batch_size\", [16, 32, 64, 128])\n",
    "    hidden_dim = trial.suggest_int(\"hidden_dim\", 1000, 4000, step=500)\n",
    "    latent_dim = trial.suggest_int(\"latent_dim\", 10, 1000, step=10)\n",
    "    epochs = trial.suggest_int(\"epochs\", 10, 100)\n",
    "\n",
    "    learning_rate = trial.suggest_loguniform(\"learning_rate\", 1e-5, 1e-2)\n",
    "    #learning_rate = 1e-3\n",
    "    weight_decay = 1e-2\n",
    "\n",
    "    model = VAE(input_dim, hidden_dim, latent_dim).to(device)\n",
    "    optimizer = torch.optim.AdamW(\n",
    "        model.parameters(), lr=learning_rate, weight_decay=weight_decay\n",
    "    )\n",
    "\n",
    "    transform = v2.Compose(\n",
    "        [\n",
    "            v2.ToImage(),\n",
    "            v2.ToDtype(torch.float32, scale=True),\n",
    "            v2.Resize((60, 80)),\n",
    "            v2.ToTensor(),\n",
    "            v2.Lambda(\n",
    "                lambda x: (x.view(-1) - torch.min(x)) / (torch.max(x) - torch.min(x))\n",
    "            ),\n",
    "        ]\n",
    "    )\n",
    "\n",
    "    train_set = ImagePathDataset(train, transform=transform)\n",
    "    val_set = ImagePathDataset(val, transform=transform)\n",
    "\n",
    "    train_dataloader = torch.utils.data.DataLoader(\n",
    "        train_set, batch_size=batch_size, shuffle=True\n",
    "    )\n",
    "    val_dataloader = torch.utils.data.DataLoader(\n",
    "        val_set, batch_size=batch_size, shuffle=True\n",
    "    )\n",
    "\n",
    "    prev_updates = 0\n",
    "    best_val_loss = float(\"inf\")\n",
    "    patience, early_stop_counter = 5, 0\n",
    "\n",
    "    for epoch in range(epochs):\n",
    "        print(f\"Epoch {epoch+1}/{epochs}\")\n",
    "        prev_updates = model.train_model(train_dataloader, optimizer, prev_updates)\n",
    "        val_loss = model.test(val_dataloader, prev_updates)\n",
    "        best_val_loss = min(val_loss, best_val_loss)\n",
    "\n",
    "        if val_loss < best_val_loss:\n",
    "            best_val_loss = val_loss\n",
    "            early_stop_counter = 0\n",
    "        else:\n",
    "            early_stop_counter += 1\n",
    "            if early_stop_counter >= patience:\n",
    "                print(\"Early stopping...\")\n",
    "                break\n",
    "\n",
    "        # Optional pruning\n",
    "        trial.report(best_val_loss, epoch)\n",
    "        if trial.should_prune():\n",
    "            raise optuna.exceptions.TrialPruned()\n",
    "\n",
    "    return best_val_loss"
   ]
  },
  {
   "cell_type": "code",
   "execution_count": 4,
   "metadata": {},
   "outputs": [
    {
     "name": "stderr",
     "output_type": "stream",
     "text": [
      "[I 2024-11-14 16:47:27,754] A new study created in memory with name: VAE\n",
      "/tmp/ipykernel_132500/3080735280.py:13: FutureWarning: suggest_loguniform has been deprecated in v3.0.0. This feature will be removed in v6.0.0. See https://github.com/optuna/optuna/releases/tag/v3.0.0. Use suggest_float(..., log=True) instead.\n",
      "  learning_rate = trial.suggest_loguniform(\"learning_rate\", 1e-5, 1e-2)\n",
      "/home/bendm/machine_learning/project/majority-vote-outlier-detection/.venv/lib/python3.12/site-packages/torchvision/transforms/v2/_deprecated.py:42: UserWarning: The transform `ToTensor()` is deprecated and will be removed in a future release. Instead, please use `v2.Compose([v2.ToImage(), v2.ToDtype(torch.float32, scale=True)])`.Output is equivalent up to float precision.\n",
      "  warnings.warn(\n"
     ]
    },
    {
     "name": "stdout",
     "output_type": "stream",
     "text": [
      "Epoch 1/92\n"
     ]
    },
    {
     "name": "stderr",
     "output_type": "stream",
     "text": [
      "  0%|          | 0/1 [00:00<?, ?it/s]"
     ]
    },
    {
     "name": "stdout",
     "output_type": "stream",
     "text": [
      "Step 0 (N samples: 0), Loss: 3333.9170 (Recon: 3327.4785, KL: 6.4384) Grad: 27.9591\n"
     ]
    },
    {
     "name": "stderr",
     "output_type": "stream",
     "text": [
      "100%|██████████| 1/1 [00:00<00:00,  1.81it/s]\n",
      "Testing: 100%|██████████| 1/1 [00:00<00:00, 15.69it/s]\n"
     ]
    },
    {
     "name": "stdout",
     "output_type": "stream",
     "text": [
      "====> Test set loss: 3068.3669 (BCE: 3043.3542, KLD: 25.0126)\n",
      "Epoch 2/92\n"
     ]
    },
    {
     "name": "stderr",
     "output_type": "stream",
     "text": [
      "100%|██████████| 1/1 [00:00<00:00,  3.05it/s]\n",
      "Testing: 100%|██████████| 1/1 [00:00<00:00, 26.79it/s]\n"
     ]
    },
    {
     "name": "stdout",
     "output_type": "stream",
     "text": [
      "====> Test set loss: 586277.3125 (BCE: 81632.9766, KLD: 504644.3438)\n",
      "Epoch 3/92\n"
     ]
    },
    {
     "name": "stderr",
     "output_type": "stream",
     "text": [
      "100%|██████████| 1/1 [00:00<00:00,  3.07it/s]\n",
      "Testing: 100%|██████████| 1/1 [00:00<00:00, 24.22it/s]\n"
     ]
    },
    {
     "name": "stdout",
     "output_type": "stream",
     "text": [
      "====> Test set loss: 4585768.5000 (BCE: 81632.9766, KLD: 4504135.5000)\n",
      "Epoch 4/92\n"
     ]
    },
    {
     "name": "stderr",
     "output_type": "stream",
     "text": [
      "100%|██████████| 1/1 [00:00<00:00,  2.96it/s]\n",
      "Testing: 100%|██████████| 1/1 [00:00<00:00, 28.83it/s]\n"
     ]
    },
    {
     "name": "stdout",
     "output_type": "stream",
     "text": [
      "====> Test set loss: 58641632.0000 (BCE: 81631.6172, KLD: 58560000.0000)\n",
      "Epoch 5/92\n"
     ]
    },
    {
     "name": "stderr",
     "output_type": "stream",
     "text": [
      "100%|██████████| 1/1 [00:00<00:00,  3.09it/s]\n",
      "Testing: 100%|██████████| 1/1 [00:00<00:00, 29.78it/s]\n",
      "[I 2024-11-14 16:47:30,141] Trial 0 finished with value: 3068.366943359375 and parameters: {'batch_size': 64, 'hidden_dim': 3500, 'latent_dim': 60, 'epochs': 92, 'learning_rate': 0.005806850329530073}. Best is trial 0 with value: 3068.366943359375.\n"
     ]
    },
    {
     "name": "stdout",
     "output_type": "stream",
     "text": [
      "====> Test set loss: 14903848.0000 (BCE: 81627.6016, KLD: 14822220.0000)\n",
      "Early stopping...\n",
      "Epoch 1/57\n"
     ]
    },
    {
     "name": "stderr",
     "output_type": "stream",
     "text": [
      "  0%|          | 0/1 [00:00<?, ?it/s]"
     ]
    },
    {
     "name": "stdout",
     "output_type": "stream",
     "text": [
      "Step 0 (N samples: 0), Loss: 3347.1050 (Recon: 3326.6758, KL: 20.4292) Grad: 28.2129\n"
     ]
    },
    {
     "name": "stderr",
     "output_type": "stream",
     "text": [
      "100%|██████████| 1/1 [00:00<00:00,  2.20it/s]\n",
      "Testing: 100%|██████████| 1/1 [00:00<00:00, 20.53it/s]\n"
     ]
    },
    {
     "name": "stdout",
     "output_type": "stream",
     "text": [
      "====> Test set loss: 3220.2905 (BCE: 3206.6360, KLD: 13.6546)\n",
      "Epoch 2/57\n"
     ]
    },
    {
     "name": "stderr",
     "output_type": "stream",
     "text": [
      "100%|██████████| 1/1 [00:00<00:00,  2.57it/s]\n",
      "Testing: 100%|██████████| 1/1 [00:00<00:00, 21.73it/s]\n"
     ]
    },
    {
     "name": "stdout",
     "output_type": "stream",
     "text": [
      "====> Test set loss: 170400.6875 (BCE: 80761.0469, KLD: 89639.6484)\n",
      "Epoch 3/57\n"
     ]
    },
    {
     "name": "stderr",
     "output_type": "stream",
     "text": [
      "100%|██████████| 1/1 [00:00<00:00,  2.46it/s]\n",
      "Testing: 100%|██████████| 1/1 [00:00<00:00, 24.07it/s]\n"
     ]
    },
    {
     "name": "stdout",
     "output_type": "stream",
     "text": [
      "====> Test set loss: 3972.9031 (BCE: 3776.6833, KLD: 196.2198)\n",
      "Epoch 4/57\n"
     ]
    },
    {
     "name": "stderr",
     "output_type": "stream",
     "text": [
      "100%|██████████| 1/1 [00:00<00:00,  2.54it/s]\n",
      "Testing: 100%|██████████| 1/1 [00:00<00:00, 22.97it/s]\n"
     ]
    },
    {
     "name": "stdout",
     "output_type": "stream",
     "text": [
      "====> Test set loss: 101446.0625 (BCE: 80983.4141, KLD: 20462.6465)\n",
      "Epoch 5/57\n"
     ]
    },
    {
     "name": "stderr",
     "output_type": "stream",
     "text": [
      "100%|██████████| 1/1 [00:00<00:00,  2.46it/s]\n",
      "Testing: 100%|██████████| 1/1 [00:00<00:00, 21.83it/s]\n",
      "[I 2024-11-14 16:47:32,734] Trial 1 finished with value: 3220.29052734375 and parameters: {'batch_size': 128, 'hidden_dim': 4000, 'latent_dim': 190, 'epochs': 57, 'learning_rate': 0.0024382560766540665}. Best is trial 0 with value: 3068.366943359375.\n"
     ]
    },
    {
     "name": "stdout",
     "output_type": "stream",
     "text": [
      "====> Test set loss: 14950.4961 (BCE: 13934.4707, KLD: 1016.0253)\n",
      "Early stopping...\n",
      "Epoch 1/21\n"
     ]
    },
    {
     "name": "stderr",
     "output_type": "stream",
     "text": [
      "  0%|          | 0/1 [00:00<?, ?it/s]"
     ]
    },
    {
     "name": "stdout",
     "output_type": "stream",
     "text": [
      "Step 0 (N samples: 0), Loss: 3368.8381 (Recon: 3327.0854, KL: 41.7527) Grad: 28.8335\n"
     ]
    },
    {
     "name": "stderr",
     "output_type": "stream",
     "text": [
      "100%|██████████| 1/1 [00:00<00:00,  1.65it/s]\n",
      "Testing: 100%|██████████| 1/1 [00:00<00:00, 15.11it/s]\n"
     ]
    },
    {
     "name": "stdout",
     "output_type": "stream",
     "text": [
      "====> Test set loss: 3352.0044 (BCE: 3311.7627, KLD: 40.2416)\n",
      "Epoch 2/21\n"
     ]
    },
    {
     "name": "stderr",
     "output_type": "stream",
     "text": [
      "100%|██████████| 1/1 [00:00<00:00,  2.24it/s]\n",
      "Testing: 100%|██████████| 1/1 [00:00<00:00, 16.97it/s]\n"
     ]
    },
    {
     "name": "stdout",
     "output_type": "stream",
     "text": [
      "====> Test set loss: 3322.4878 (BCE: 3287.8398, KLD: 34.6480)\n",
      "Epoch 3/21\n"
     ]
    },
    {
     "name": "stderr",
     "output_type": "stream",
     "text": [
      "100%|██████████| 1/1 [00:00<00:00,  2.05it/s]\n",
      "Testing: 100%|██████████| 1/1 [00:00<00:00, 16.16it/s]\n"
     ]
    },
    {
     "name": "stdout",
     "output_type": "stream",
     "text": [
      "====> Test set loss: 3265.2361 (BCE: 3237.0398, KLD: 28.1962)\n",
      "Epoch 4/21\n"
     ]
    },
    {
     "name": "stderr",
     "output_type": "stream",
     "text": [
      "100%|██████████| 1/1 [00:00<00:00,  2.14it/s]\n",
      "Testing: 100%|██████████| 1/1 [00:00<00:00, 15.67it/s]\n"
     ]
    },
    {
     "name": "stdout",
     "output_type": "stream",
     "text": [
      "====> Test set loss: 3140.6772 (BCE: 3093.7605, KLD: 46.9167)\n",
      "Epoch 5/21\n"
     ]
    },
    {
     "name": "stderr",
     "output_type": "stream",
     "text": [
      "100%|██████████| 1/1 [00:00<00:00,  2.17it/s]\n",
      "Testing: 100%|██████████| 1/1 [00:00<00:00, 15.69it/s]\n",
      "[I 2024-11-14 16:47:35,782] Trial 2 finished with value: 2805.24658203125 and parameters: {'batch_size': 128, 'hidden_dim': 3500, 'latent_dim': 390, 'epochs': 21, 'learning_rate': 0.0003591133222931593}. Best is trial 2 with value: 2805.24658203125.\n"
     ]
    },
    {
     "name": "stdout",
     "output_type": "stream",
     "text": [
      "====> Test set loss: 2805.2466 (BCE: 2670.8704, KLD: 134.3761)\n",
      "Early stopping...\n",
      "Epoch 1/24\n"
     ]
    },
    {
     "name": "stderr",
     "output_type": "stream",
     "text": [
      "  0%|          | 0/1 [00:00<?, ?it/s]"
     ]
    },
    {
     "name": "stdout",
     "output_type": "stream",
     "text": [
      "Step 0 (N samples: 0), Loss: 3335.4158 (Recon: 3326.8242, KL: 8.5914) Grad: 27.7992\n"
     ]
    },
    {
     "name": "stderr",
     "output_type": "stream",
     "text": [
      "100%|██████████| 1/1 [00:00<00:00,  5.87it/s]\n",
      "Testing: 100%|██████████| 1/1 [00:00<00:00, 33.87it/s]\n"
     ]
    },
    {
     "name": "stdout",
     "output_type": "stream",
     "text": [
      "====> Test set loss: 3170.1216 (BCE: 3070.5344, KLD: 99.5873)\n",
      "Epoch 2/24\n"
     ]
    },
    {
     "name": "stderr",
     "output_type": "stream",
     "text": [
      "100%|██████████| 1/1 [00:00<00:00,  7.05it/s]\n",
      "Testing: 100%|██████████| 1/1 [00:00<00:00, 33.68it/s]\n"
     ]
    },
    {
     "name": "stdout",
     "output_type": "stream",
     "text": [
      "====> Test set loss: 178169.9844 (BCE: 81442.4141, KLD: 96727.5703)\n",
      "Epoch 3/24\n"
     ]
    },
    {
     "name": "stderr",
     "output_type": "stream",
     "text": [
      "100%|██████████| 1/1 [00:00<00:00,  6.66it/s]\n",
      "Testing: 100%|██████████| 1/1 [00:00<00:00, 33.57it/s]\n"
     ]
    },
    {
     "name": "stdout",
     "output_type": "stream",
     "text": [
      "====> Test set loss: 253989.6562 (BCE: 81594.7422, KLD: 172394.9062)\n",
      "Epoch 4/24\n"
     ]
    },
    {
     "name": "stderr",
     "output_type": "stream",
     "text": [
      "100%|██████████| 1/1 [00:00<00:00,  7.21it/s]\n",
      "Testing: 100%|██████████| 1/1 [00:00<00:00, 31.24it/s]\n"
     ]
    },
    {
     "name": "stdout",
     "output_type": "stream",
     "text": [
      "====> Test set loss: 4435847.5000 (BCE: 81620.5000, KLD: 4354227.0000)\n",
      "Epoch 5/24\n"
     ]
    },
    {
     "name": "stderr",
     "output_type": "stream",
     "text": [
      "100%|██████████| 1/1 [00:00<00:00,  6.62it/s]\n",
      "Testing: 100%|██████████| 1/1 [00:00<00:00, 31.69it/s]\n",
      "[I 2024-11-14 16:47:36,792] Trial 3 finished with value: 3170.12158203125 and parameters: {'batch_size': 64, 'hidden_dim': 1500, 'latent_dim': 80, 'epochs': 24, 'learning_rate': 0.008944346648730318}. Best is trial 2 with value: 2805.24658203125.\n"
     ]
    },
    {
     "name": "stdout",
     "output_type": "stream",
     "text": [
      "====> Test set loss: 537291.3125 (BCE: 81614.3203, KLD: 455676.9688)\n",
      "Early stopping...\n",
      "Epoch 1/57\n"
     ]
    },
    {
     "name": "stderr",
     "output_type": "stream",
     "text": [
      "  0%|          | 0/2 [00:00<?, ?it/s]"
     ]
    },
    {
     "name": "stdout",
     "output_type": "stream",
     "text": [
      "Step 0 (N samples: 0), Loss: 3346.9978 (Recon: 3327.7432, KL: 19.2546) Grad: 27.9115\n"
     ]
    },
    {
     "name": "stderr",
     "output_type": "stream",
     "text": [
      "100%|██████████| 2/2 [00:00<00:00,  2.55it/s]\n",
      "Testing: 100%|██████████| 1/1 [00:00<00:00, 21.78it/s]\n"
     ]
    },
    {
     "name": "stdout",
     "output_type": "stream",
     "text": [
      "====> Test set loss: 3339.8953 (BCE: 3321.1101, KLD: 18.7853)\n",
      "Epoch 2/57\n"
     ]
    },
    {
     "name": "stderr",
     "output_type": "stream",
     "text": [
      "100%|██████████| 2/2 [00:00<00:00,  2.86it/s]\n",
      "Testing: 100%|██████████| 1/1 [00:00<00:00, 24.08it/s]\n"
     ]
    },
    {
     "name": "stdout",
     "output_type": "stream",
     "text": [
      "====> Test set loss: 3331.3362 (BCE: 3313.3950, KLD: 17.9411)\n",
      "Epoch 3/57\n"
     ]
    },
    {
     "name": "stderr",
     "output_type": "stream",
     "text": [
      "100%|██████████| 2/2 [00:00<00:00,  3.24it/s]\n",
      "Testing: 100%|██████████| 1/1 [00:00<00:00, 19.18it/s]\n"
     ]
    },
    {
     "name": "stdout",
     "output_type": "stream",
     "text": [
      "====> Test set loss: 3319.7043 (BCE: 3303.4241, KLD: 16.2803)\n",
      "Epoch 4/57\n"
     ]
    },
    {
     "name": "stderr",
     "output_type": "stream",
     "text": [
      "100%|██████████| 2/2 [00:00<00:00,  3.21it/s]\n",
      "Testing: 100%|██████████| 1/1 [00:00<00:00, 27.16it/s]\n"
     ]
    },
    {
     "name": "stdout",
     "output_type": "stream",
     "text": [
      "====> Test set loss: 3303.2495 (BCE: 3289.7849, KLD: 13.4646)\n",
      "Epoch 5/57\n"
     ]
    },
    {
     "name": "stderr",
     "output_type": "stream",
     "text": [
      "100%|██████████| 2/2 [00:00<00:00,  3.24it/s]\n",
      "Testing: 100%|██████████| 1/1 [00:00<00:00, 21.49it/s]\n",
      "[I 2024-11-14 16:47:40,652] Trial 4 finished with value: 3279.861328125 and parameters: {'batch_size': 32, 'hidden_dim': 4000, 'latent_dim': 180, 'epochs': 57, 'learning_rate': 7.05907770605474e-05}. Best is trial 2 with value: 2805.24658203125.\n"
     ]
    },
    {
     "name": "stdout",
     "output_type": "stream",
     "text": [
      "====> Test set loss: 3279.8613 (BCE: 3269.6848, KLD: 10.1766)\n",
      "Early stopping...\n",
      "Epoch 1/62\n"
     ]
    },
    {
     "name": "stderr",
     "output_type": "stream",
     "text": [
      "  0%|          | 0/2 [00:00<?, ?it/s]"
     ]
    },
    {
     "name": "stdout",
     "output_type": "stream",
     "text": [
      "Step 0 (N samples: 0), Loss: 3359.9529 (Recon: 3327.1934, KL: 32.7595) Grad: 28.4015\n"
     ]
    },
    {
     "name": "stderr",
     "output_type": "stream",
     "text": [
      "100%|██████████| 2/2 [00:00<00:00,  7.97it/s]\n",
      "Testing: 100%|██████████| 1/1 [00:00<00:00, 23.01it/s]\n"
     ]
    },
    {
     "name": "stdout",
     "output_type": "stream",
     "text": [
      "====> Test set loss: 3273.6719 (BCE: 3238.9192, KLD: 34.7528)\n",
      "Epoch 2/62\n"
     ]
    },
    {
     "name": "stderr",
     "output_type": "stream",
     "text": [
      "100%|██████████| 2/2 [00:00<00:00,  9.48it/s]\n",
      "Testing: 100%|██████████| 1/1 [00:00<00:00, 27.63it/s]\n"
     ]
    },
    {
     "name": "stdout",
     "output_type": "stream",
     "text": [
      "====> Test set loss: 3045.4478 (BCE: 3021.0889, KLD: 24.3589)\n",
      "Epoch 3/62\n"
     ]
    },
    {
     "name": "stderr",
     "output_type": "stream",
     "text": [
      "100%|██████████| 2/2 [00:00<00:00,  9.35it/s]\n",
      "Testing: 100%|██████████| 1/1 [00:00<00:00, 26.98it/s]\n"
     ]
    },
    {
     "name": "stdout",
     "output_type": "stream",
     "text": [
      "====> Test set loss: 2292.3552 (BCE: 2202.8210, KLD: 89.5342)\n",
      "Epoch 4/62\n"
     ]
    },
    {
     "name": "stderr",
     "output_type": "stream",
     "text": [
      "100%|██████████| 2/2 [00:00<00:00,  9.60it/s]\n",
      "Testing: 100%|██████████| 1/1 [00:00<00:00, 27.60it/s]\n"
     ]
    },
    {
     "name": "stdout",
     "output_type": "stream",
     "text": [
      "====> Test set loss: 2562.6436 (BCE: 2515.3999, KLD: 47.2437)\n",
      "Epoch 5/62\n"
     ]
    },
    {
     "name": "stderr",
     "output_type": "stream",
     "text": [
      "100%|██████████| 2/2 [00:00<00:00,  9.50it/s]\n",
      "Testing: 100%|██████████| 1/1 [00:00<00:00, 27.74it/s]\n",
      "[I 2024-11-14 16:47:42,012] Trial 5 finished with value: 2108.68701171875 and parameters: {'batch_size': 32, 'hidden_dim': 1000, 'latent_dim': 300, 'epochs': 62, 'learning_rate': 0.001403086347203519}. Best is trial 5 with value: 2108.68701171875.\n"
     ]
    },
    {
     "name": "stdout",
     "output_type": "stream",
     "text": [
      "====> Test set loss: 2108.6870 (BCE: 2090.3020, KLD: 18.3851)\n",
      "Early stopping...\n",
      "Epoch 1/72\n"
     ]
    },
    {
     "name": "stderr",
     "output_type": "stream",
     "text": [
      "100%|██████████| 1/1 [00:00<00:00,  2.24it/s]\n"
     ]
    },
    {
     "name": "stdout",
     "output_type": "stream",
     "text": [
      "Step 0 (N samples: 0), Loss: 3376.8613 (Recon: 3327.1497, KL: 49.7118) Grad: 28.9811\n"
     ]
    },
    {
     "name": "stderr",
     "output_type": "stream",
     "text": [
      "Testing: 100%|██████████| 1/1 [00:00<00:00, 14.37it/s]\n"
     ]
    },
    {
     "name": "stdout",
     "output_type": "stream",
     "text": [
      "====> Test set loss: 3329.2246 (BCE: 3283.1558, KLD: 46.0688)\n",
      "Epoch 2/72\n"
     ]
    },
    {
     "name": "stderr",
     "output_type": "stream",
     "text": [
      "100%|██████████| 1/1 [00:00<00:00,  2.36it/s]\n",
      "Testing: 100%|██████████| 1/1 [00:00<00:00, 14.12it/s]\n"
     ]
    },
    {
     "name": "stdout",
     "output_type": "stream",
     "text": [
      "====> Test set loss: 3304.4050 (BCE: 3074.5120, KLD: 229.8931)\n",
      "Epoch 3/72\n"
     ]
    },
    {
     "name": "stderr",
     "output_type": "stream",
     "text": [
      "100%|██████████| 1/1 [00:00<00:00,  2.32it/s]\n",
      "Testing: 100%|██████████| 1/1 [00:00<00:00, 13.70it/s]\n"
     ]
    },
    {
     "name": "stdout",
     "output_type": "stream",
     "text": [
      "====> Test set loss: 2829.3088 (BCE: 2800.8154, KLD: 28.4934)\n",
      "Epoch 4/72\n"
     ]
    },
    {
     "name": "stderr",
     "output_type": "stream",
     "text": [
      "100%|██████████| 1/1 [00:00<00:00,  2.28it/s]\n",
      "Testing: 100%|██████████| 1/1 [00:00<00:00, 14.81it/s]\n"
     ]
    },
    {
     "name": "stdout",
     "output_type": "stream",
     "text": [
      "====> Test set loss: 2363.7107 (BCE: 2312.6487, KLD: 51.0621)\n",
      "Epoch 5/72\n"
     ]
    },
    {
     "name": "stderr",
     "output_type": "stream",
     "text": [
      "100%|██████████| 1/1 [00:00<00:00,  2.14it/s]\n",
      "Testing: 100%|██████████| 1/1 [00:00<00:00, 14.39it/s]\n",
      "[I 2024-11-14 16:47:44,740] Trial 6 finished with value: 2286.68603515625 and parameters: {'batch_size': 128, 'hidden_dim': 2500, 'latent_dim': 460, 'epochs': 72, 'learning_rate': 0.001255667912355461}. Best is trial 5 with value: 2108.68701171875.\n"
     ]
    },
    {
     "name": "stdout",
     "output_type": "stream",
     "text": [
      "====> Test set loss: 2286.6860 (BCE: 2260.4436, KLD: 26.2424)\n",
      "Early stopping...\n",
      "Epoch 1/49\n"
     ]
    },
    {
     "name": "stderr",
     "output_type": "stream",
     "text": [
      "  0%|          | 0/1 [00:00<?, ?it/s]"
     ]
    },
    {
     "name": "stdout",
     "output_type": "stream",
     "text": [
      "Step 0 (N samples: 0), Loss: 3397.3530 (Recon: 3327.3340, KL: 70.0191) Grad: 29.5240\n"
     ]
    },
    {
     "name": "stderr",
     "output_type": "stream",
     "text": [
      "100%|██████████| 1/1 [00:00<00:00,  1.30it/s]\n",
      "Testing: 100%|██████████| 1/1 [00:00<00:00,  6.75it/s]\n"
     ]
    },
    {
     "name": "stdout",
     "output_type": "stream",
     "text": [
      "====> Test set loss: 3315.2939 (BCE: 3253.6077, KLD: 61.6862)\n",
      "Epoch 2/49\n"
     ]
    },
    {
     "name": "stderr",
     "output_type": "stream",
     "text": [
      "100%|██████████| 1/1 [00:00<00:00,  1.27it/s]\n",
      "Testing: 100%|██████████| 1/1 [00:00<00:00,  8.23it/s]\n"
     ]
    },
    {
     "name": "stdout",
     "output_type": "stream",
     "text": [
      "====> Test set loss: 20327.7773 (BCE: 6140.7964, KLD: 14186.9814)\n",
      "Epoch 3/49\n"
     ]
    },
    {
     "name": "stderr",
     "output_type": "stream",
     "text": [
      "100%|██████████| 1/1 [00:00<00:00,  1.26it/s]\n",
      "Testing: 100%|██████████| 1/1 [00:00<00:00,  8.81it/s]\n"
     ]
    },
    {
     "name": "stdout",
     "output_type": "stream",
     "text": [
      "====> Test set loss: 3514.4531 (BCE: 3231.4231, KLD: 283.0301)\n",
      "Epoch 4/49\n"
     ]
    },
    {
     "name": "stderr",
     "output_type": "stream",
     "text": [
      "100%|██████████| 1/1 [00:00<00:00,  1.34it/s]\n",
      "Testing: 100%|██████████| 1/1 [00:00<00:00,  8.59it/s]\n"
     ]
    },
    {
     "name": "stdout",
     "output_type": "stream",
     "text": [
      "====> Test set loss: 2801.3013 (BCE: 2489.1165, KLD: 312.1848)\n",
      "Epoch 5/49\n"
     ]
    },
    {
     "name": "stderr",
     "output_type": "stream",
     "text": [
      "100%|██████████| 1/1 [00:00<00:00,  1.37it/s]\n",
      "Testing: 100%|██████████| 1/1 [00:00<00:00,  7.80it/s]\n",
      "[I 2024-11-14 16:47:49,457] Trial 7 finished with value: 2801.30126953125 and parameters: {'batch_size': 64, 'hidden_dim': 3500, 'latent_dim': 650, 'epochs': 49, 'learning_rate': 0.0018168291880899488}. Best is trial 5 with value: 2108.68701171875.\n"
     ]
    },
    {
     "name": "stdout",
     "output_type": "stream",
     "text": [
      "====> Test set loss: 5218.4756 (BCE: 4209.3125, KLD: 1009.1633)\n",
      "Early stopping...\n",
      "Epoch 1/83\n"
     ]
    },
    {
     "name": "stderr",
     "output_type": "stream",
     "text": [
      " 50%|█████     | 1/2 [00:00<00:00,  1.35it/s]"
     ]
    },
    {
     "name": "stdout",
     "output_type": "stream",
     "text": [
      "Step 0 (N samples: 0), Loss: 3427.0779 (Recon: 3326.9453, KL: 100.1327) Grad: 30.5003\n"
     ]
    },
    {
     "name": "stderr",
     "output_type": "stream",
     "text": [
      "100%|██████████| 2/2 [00:01<00:00,  1.91it/s]\n",
      "Testing: 100%|██████████| 1/1 [00:00<00:00,  4.65it/s]\n"
     ]
    },
    {
     "name": "stdout",
     "output_type": "stream",
     "text": [
      "====> Test set loss: 3939.4512 (BCE: 2445.3157, KLD: 1494.1356)\n",
      "Epoch 2/83\n"
     ]
    },
    {
     "name": "stderr",
     "output_type": "stream",
     "text": [
      "100%|██████████| 2/2 [00:01<00:00,  1.99it/s]\n",
      "Testing: 100%|██████████| 1/1 [00:00<00:00,  4.67it/s]\n"
     ]
    },
    {
     "name": "stdout",
     "output_type": "stream",
     "text": [
      "====> Test set loss: 17497.3047 (BCE: 8505.9160, KLD: 8991.3877)\n",
      "Epoch 3/83\n"
     ]
    },
    {
     "name": "stderr",
     "output_type": "stream",
     "text": [
      "100%|██████████| 2/2 [00:00<00:00,  2.01it/s]\n",
      "Testing: 100%|██████████| 1/1 [00:00<00:00,  5.00it/s]\n"
     ]
    },
    {
     "name": "stdout",
     "output_type": "stream",
     "text": [
      "====> Test set loss: 170203.5781 (BCE: 166656.9531, KLD: 3546.6274)\n",
      "Epoch 4/83\n"
     ]
    },
    {
     "name": "stderr",
     "output_type": "stream",
     "text": [
      "100%|██████████| 2/2 [00:00<00:00,  2.02it/s]\n",
      "Testing: 100%|██████████| 1/1 [00:00<00:00,  4.54it/s]\n"
     ]
    },
    {
     "name": "stdout",
     "output_type": "stream",
     "text": [
      "====> Test set loss: 401953.4688 (BCE: 397225.5312, KLD: 4727.9458)\n",
      "Epoch 5/83\n"
     ]
    },
    {
     "name": "stderr",
     "output_type": "stream",
     "text": [
      "100%|██████████| 2/2 [00:00<00:00,  2.07it/s]\n",
      "Testing: 100%|██████████| 1/1 [00:00<00:00,  5.14it/s]\n",
      "[I 2024-11-14 16:47:55,577] Trial 8 finished with value: 3939.451171875 and parameters: {'batch_size': 32, 'hidden_dim': 1000, 'latent_dim': 920, 'epochs': 83, 'learning_rate': 0.006026031273012464}. Best is trial 5 with value: 2108.68701171875.\n"
     ]
    },
    {
     "name": "stdout",
     "output_type": "stream",
     "text": [
      "====> Test set loss: 9024.8057 (BCE: 8854.8086, KLD: 169.9972)\n",
      "Early stopping...\n",
      "Epoch 1/74\n"
     ]
    },
    {
     "name": "stderr",
     "output_type": "stream",
     "text": [
      "  0%|          | 0/1 [00:00<?, ?it/s]"
     ]
    },
    {
     "name": "stdout",
     "output_type": "stream",
     "text": [
      "Step 0 (N samples: 0), Loss: 3330.0789 (Recon: 3326.9307, KL: 3.1482) Grad: 27.9362\n"
     ]
    },
    {
     "name": "stderr",
     "output_type": "stream",
     "text": [
      "100%|██████████| 1/1 [00:00<00:00,  3.03it/s]\n",
      "Testing: 100%|██████████| 1/1 [00:00<00:00, 26.29it/s]\n"
     ]
    },
    {
     "name": "stdout",
     "output_type": "stream",
     "text": [
      "====> Test set loss: 3327.8967 (BCE: 3324.7979, KLD: 3.0989)\n",
      "Epoch 2/74\n"
     ]
    },
    {
     "name": "stderr",
     "output_type": "stream",
     "text": [
      "100%|██████████| 1/1 [00:00<00:00,  3.22it/s]\n",
      "Testing: 100%|██████████| 1/1 [00:00<00:00, 24.02it/s]\n"
     ]
    },
    {
     "name": "stdout",
     "output_type": "stream",
     "text": [
      "====> Test set loss: 3325.7146 (BCE: 3322.6685, KLD: 3.0462)\n",
      "Epoch 3/74\n"
     ]
    },
    {
     "name": "stderr",
     "output_type": "stream",
     "text": [
      "100%|██████████| 1/1 [00:00<00:00,  3.17it/s]\n",
      "Testing: 100%|██████████| 1/1 [00:00<00:00, 27.79it/s]\n"
     ]
    },
    {
     "name": "stdout",
     "output_type": "stream",
     "text": [
      "====> Test set loss: 3323.3376 (BCE: 3320.3533, KLD: 2.9844)\n",
      "Epoch 4/74\n"
     ]
    },
    {
     "name": "stderr",
     "output_type": "stream",
     "text": [
      "100%|██████████| 1/1 [00:00<00:00,  3.55it/s]\n",
      "Testing: 100%|██████████| 1/1 [00:00<00:00, 30.81it/s]\n"
     ]
    },
    {
     "name": "stdout",
     "output_type": "stream",
     "text": [
      "====> Test set loss: 3320.9402 (BCE: 3318.0317, KLD: 2.9085)\n",
      "Epoch 5/74\n"
     ]
    },
    {
     "name": "stderr",
     "output_type": "stream",
     "text": [
      "100%|██████████| 1/1 [00:00<00:00,  3.47it/s]\n",
      "Testing: 100%|██████████| 1/1 [00:00<00:00, 28.66it/s]\n",
      "[I 2024-11-14 16:47:57,526] Trial 9 finished with value: 3318.2451171875 and parameters: {'batch_size': 64, 'hidden_dim': 3500, 'latent_dim': 30, 'epochs': 74, 'learning_rate': 4.6908326446165156e-05}. Best is trial 5 with value: 2108.68701171875.\n"
     ]
    },
    {
     "name": "stdout",
     "output_type": "stream",
     "text": [
      "====> Test set loss: 3318.2451 (BCE: 3315.4314, KLD: 2.8137)\n",
      "Early stopping...\n",
      "Epoch 1/38\n"
     ]
    },
    {
     "name": "stderr",
     "output_type": "stream",
     "text": [
      " 33%|███▎      | 1/3 [00:00<00:00,  2.71it/s]"
     ]
    },
    {
     "name": "stdout",
     "output_type": "stream",
     "text": [
      "Step 0 (N samples: 0), Loss: 3407.6326 (Recon: 3327.4277, KL: 80.2049) Grad: 29.4179\n"
     ]
    },
    {
     "name": "stderr",
     "output_type": "stream",
     "text": [
      "100%|██████████| 3/3 [00:00<00:00,  3.07it/s]\n",
      "Testing: 100%|██████████| 1/1 [00:00<00:00,  6.17it/s]\n"
     ]
    },
    {
     "name": "stdout",
     "output_type": "stream",
     "text": [
      "====> Test set loss: 3356.5310 (BCE: 3287.3413, KLD: 69.1896)\n",
      "Epoch 2/38\n"
     ]
    },
    {
     "name": "stderr",
     "output_type": "stream",
     "text": [
      "100%|██████████| 3/3 [00:00<00:00,  3.22it/s]\n",
      "Testing: 100%|██████████| 1/1 [00:00<00:00,  6.02it/s]\n"
     ]
    },
    {
     "name": "stdout",
     "output_type": "stream",
     "text": [
      "====> Test set loss: 3231.2356 (BCE: 3178.6550, KLD: 52.5807)\n",
      "Epoch 3/38\n"
     ]
    },
    {
     "name": "stderr",
     "output_type": "stream",
     "text": [
      "100%|██████████| 3/3 [00:01<00:00,  2.94it/s]\n",
      "Testing: 100%|██████████| 1/1 [00:00<00:00,  5.32it/s]\n"
     ]
    },
    {
     "name": "stdout",
     "output_type": "stream",
     "text": [
      "====> Test set loss: 2730.5637 (BCE: 2594.5686, KLD: 135.9951)\n",
      "Epoch 4/38\n"
     ]
    },
    {
     "name": "stderr",
     "output_type": "stream",
     "text": [
      "100%|██████████| 3/3 [00:01<00:00,  2.69it/s]\n",
      "Testing: 100%|██████████| 1/1 [00:00<00:00,  5.72it/s]\n"
     ]
    },
    {
     "name": "stdout",
     "output_type": "stream",
     "text": [
      "====> Test set loss: 2497.6501 (BCE: 2320.1172, KLD: 177.5329)\n",
      "Epoch 5/38\n"
     ]
    },
    {
     "name": "stderr",
     "output_type": "stream",
     "text": [
      "100%|██████████| 3/3 [00:01<00:00,  2.56it/s]\n",
      "Testing: 100%|██████████| 1/1 [00:00<00:00,  4.56it/s]\n",
      "[I 2024-11-14 16:48:03,805] Trial 10 finished with value: 2115.4609375 and parameters: {'batch_size': 16, 'hidden_dim': 2000, 'latent_dim': 750, 'epochs': 38, 'learning_rate': 0.0003332514622110108}. Best is trial 5 with value: 2108.68701171875.\n"
     ]
    },
    {
     "name": "stdout",
     "output_type": "stream",
     "text": [
      "====> Test set loss: 2115.4609 (BCE: 2074.2002, KLD: 41.2608)\n",
      "Early stopping...\n",
      "Epoch 1/38\n"
     ]
    },
    {
     "name": "stderr",
     "output_type": "stream",
     "text": [
      " 33%|███▎      | 1/3 [00:00<00:00,  2.48it/s]"
     ]
    },
    {
     "name": "stdout",
     "output_type": "stream",
     "text": [
      "Step 0 (N samples: 0), Loss: 3407.6921 (Recon: 3327.3018, KL: 80.3903) Grad: 29.4540\n"
     ]
    },
    {
     "name": "stderr",
     "output_type": "stream",
     "text": [
      "100%|██████████| 3/3 [00:01<00:00,  2.75it/s]\n",
      "Testing: 100%|██████████| 1/1 [00:00<00:00,  7.06it/s]\n"
     ]
    },
    {
     "name": "stdout",
     "output_type": "stream",
     "text": [
      "====> Test set loss: 3364.8313 (BCE: 3292.3765, KLD: 72.4547)\n",
      "Epoch 2/38\n"
     ]
    },
    {
     "name": "stderr",
     "output_type": "stream",
     "text": [
      "100%|██████████| 3/3 [00:01<00:00,  2.72it/s]\n",
      "Testing: 100%|██████████| 1/1 [00:00<00:00,  5.67it/s]\n"
     ]
    },
    {
     "name": "stdout",
     "output_type": "stream",
     "text": [
      "====> Test set loss: 3265.0820 (BCE: 3208.1785, KLD: 56.9036)\n",
      "Epoch 3/38\n"
     ]
    },
    {
     "name": "stderr",
     "output_type": "stream",
     "text": [
      "100%|██████████| 3/3 [00:01<00:00,  2.81it/s]\n",
      "Testing: 100%|██████████| 1/1 [00:00<00:00,  6.02it/s]\n"
     ]
    },
    {
     "name": "stdout",
     "output_type": "stream",
     "text": [
      "====> Test set loss: 3005.0664 (BCE: 2951.0894, KLD: 53.9770)\n",
      "Epoch 4/38\n"
     ]
    },
    {
     "name": "stderr",
     "output_type": "stream",
     "text": [
      "100%|██████████| 3/3 [00:01<00:00,  2.98it/s]\n",
      "Testing: 100%|██████████| 1/1 [00:00<00:00,  4.88it/s]\n"
     ]
    },
    {
     "name": "stdout",
     "output_type": "stream",
     "text": [
      "====> Test set loss: 2498.0542 (BCE: 2211.3503, KLD: 286.7039)\n",
      "Epoch 5/38\n"
     ]
    },
    {
     "name": "stderr",
     "output_type": "stream",
     "text": [
      "100%|██████████| 3/3 [00:01<00:00,  2.35it/s]\n",
      "Testing: 100%|██████████| 1/1 [00:00<00:00,  6.92it/s]\n",
      "[I 2024-11-14 16:48:10,363] Trial 11 finished with value: 2498.05419921875 and parameters: {'batch_size': 16, 'hidden_dim': 2000, 'latent_dim': 740, 'epochs': 38, 'learning_rate': 0.00030030395019734873}. Best is trial 5 with value: 2108.68701171875.\n"
     ]
    },
    {
     "name": "stdout",
     "output_type": "stream",
     "text": [
      "====> Test set loss: 2602.6089 (BCE: 2456.0032, KLD: 146.6056)\n",
      "Early stopping...\n",
      "Epoch 1/41\n"
     ]
    },
    {
     "name": "stderr",
     "output_type": "stream",
     "text": [
      " 33%|███▎      | 1/3 [00:00<00:00,  2.03it/s]"
     ]
    },
    {
     "name": "stdout",
     "output_type": "stream",
     "text": [
      "Step 0 (N samples: 0), Loss: 3434.9238 (Recon: 3326.8350, KL: 108.0889) Grad: 30.9959\n"
     ]
    },
    {
     "name": "stderr",
     "output_type": "stream",
     "text": [
      "100%|██████████| 3/3 [00:01<00:00,  2.12it/s]\n",
      "Testing: 100%|██████████| 1/1 [00:00<00:00,  3.83it/s]\n"
     ]
    },
    {
     "name": "stdout",
     "output_type": "stream",
     "text": [
      "====> Test set loss: 3407.4265 (BCE: 3303.4023, KLD: 104.0242)\n",
      "Epoch 2/41\n"
     ]
    },
    {
     "name": "stderr",
     "output_type": "stream",
     "text": [
      "100%|██████████| 3/3 [00:01<00:00,  2.09it/s]\n",
      "Testing: 100%|██████████| 1/1 [00:00<00:00,  3.36it/s]\n"
     ]
    },
    {
     "name": "stdout",
     "output_type": "stream",
     "text": [
      "====> Test set loss: 3362.4456 (BCE: 3266.1157, KLD: 96.3298)\n",
      "Epoch 3/41\n"
     ]
    },
    {
     "name": "stderr",
     "output_type": "stream",
     "text": [
      "100%|██████████| 3/3 [00:01<00:00,  2.14it/s]\n",
      "Testing: 100%|██████████| 1/1 [00:00<00:00,  3.69it/s]\n"
     ]
    },
    {
     "name": "stdout",
     "output_type": "stream",
     "text": [
      "====> Test set loss: 3292.6252 (BCE: 3204.4189, KLD: 88.2062)\n",
      "Epoch 4/41\n"
     ]
    },
    {
     "name": "stderr",
     "output_type": "stream",
     "text": [
      "100%|██████████| 3/3 [00:01<00:00,  2.19it/s]\n",
      "Testing: 100%|██████████| 1/1 [00:00<00:00,  3.39it/s]\n"
     ]
    },
    {
     "name": "stdout",
     "output_type": "stream",
     "text": [
      "====> Test set loss: 3160.6135 (BCE: 3075.7944, KLD: 84.8191)\n",
      "Epoch 5/41\n"
     ]
    },
    {
     "name": "stderr",
     "output_type": "stream",
     "text": [
      "100%|██████████| 3/3 [00:01<00:00,  2.06it/s]\n",
      "Testing: 100%|██████████| 1/1 [00:00<00:00,  2.78it/s]\n",
      "[I 2024-11-14 16:48:19,035] Trial 12 finished with value: 2854.50927734375 and parameters: {'batch_size': 16, 'hidden_dim': 1000, 'latent_dim': 990, 'epochs': 41, 'learning_rate': 0.00031963353130939247}. Best is trial 5 with value: 2108.68701171875.\n"
     ]
    },
    {
     "name": "stdout",
     "output_type": "stream",
     "text": [
      "====> Test set loss: 2854.5093 (BCE: 2697.0234, KLD: 157.4859)\n",
      "Early stopping...\n",
      "Epoch 1/66\n"
     ]
    },
    {
     "name": "stderr",
     "output_type": "stream",
     "text": [
      " 33%|███▎      | 1/3 [00:00<00:00,  3.08it/s]"
     ]
    },
    {
     "name": "stdout",
     "output_type": "stream",
     "text": [
      "Step 0 (N samples: 0), Loss: 3396.5657 (Recon: 3327.8723, KL: 68.6933) Grad: 30.4187\n"
     ]
    },
    {
     "name": "stderr",
     "output_type": "stream",
     "text": [
      "100%|██████████| 3/3 [00:00<00:00,  3.36it/s]\n",
      "Testing: 100%|██████████| 1/1 [00:00<00:00,  6.75it/s]\n"
     ]
    },
    {
     "name": "stdout",
     "output_type": "stream",
     "text": [
      "====> Test set loss: 3395.4326 (BCE: 3326.8567, KLD: 68.5759)\n",
      "Epoch 2/66\n"
     ]
    },
    {
     "name": "stderr",
     "output_type": "stream",
     "text": [
      "100%|██████████| 3/3 [00:00<00:00,  3.21it/s]\n",
      "Testing: 100%|██████████| 1/1 [00:00<00:00,  7.94it/s]\n"
     ]
    },
    {
     "name": "stdout",
     "output_type": "stream",
     "text": [
      "====> Test set loss: 3394.3555 (BCE: 3325.8999, KLD: 68.4555)\n",
      "Epoch 3/66\n"
     ]
    },
    {
     "name": "stderr",
     "output_type": "stream",
     "text": [
      "100%|██████████| 3/3 [00:00<00:00,  3.46it/s]\n",
      "Testing: 100%|██████████| 1/1 [00:00<00:00,  7.66it/s]\n"
     ]
    },
    {
     "name": "stdout",
     "output_type": "stream",
     "text": [
      "====> Test set loss: 3393.2461 (BCE: 3324.9170, KLD: 68.3291)\n",
      "Epoch 4/66\n"
     ]
    },
    {
     "name": "stderr",
     "output_type": "stream",
     "text": [
      "100%|██████████| 3/3 [00:00<00:00,  3.51it/s]\n",
      "Testing: 100%|██████████| 1/1 [00:00<00:00,  8.27it/s]\n"
     ]
    },
    {
     "name": "stdout",
     "output_type": "stream",
     "text": [
      "====> Test set loss: 3392.1345 (BCE: 3323.9421, KLD: 68.1924)\n",
      "Epoch 5/66\n"
     ]
    },
    {
     "name": "stderr",
     "output_type": "stream",
     "text": [
      "100%|██████████| 3/3 [00:00<00:00,  3.63it/s]\n",
      "Testing: 100%|██████████| 1/1 [00:00<00:00,  7.44it/s]\n",
      "[I 2024-11-14 16:48:24,265] Trial 13 finished with value: 3390.981201171875 and parameters: {'batch_size': 16, 'hidden_dim': 2000, 'latent_dim': 640, 'epochs': 66, 'learning_rate': 1.0217433548343026e-05}. Best is trial 5 with value: 2108.68701171875.\n"
     ]
    },
    {
     "name": "stdout",
     "output_type": "stream",
     "text": [
      "====> Test set loss: 3390.9812 (BCE: 3322.9407, KLD: 68.0406)\n",
      "Early stopping...\n",
      "Epoch 1/35\n"
     ]
    },
    {
     "name": "stderr",
     "output_type": "stream",
     "text": [
      "  0%|          | 0/2 [00:00<?, ?it/s]"
     ]
    },
    {
     "name": "stdout",
     "output_type": "stream",
     "text": [
      "Step 0 (N samples: 0), Loss: 3357.5088 (Recon: 3327.2185, KL: 30.2902) Grad: 28.2581\n"
     ]
    },
    {
     "name": "stderr",
     "output_type": "stream",
     "text": [
      "100%|██████████| 2/2 [00:00<00:00,  4.07it/s]\n",
      "Testing: 100%|██████████| 1/1 [00:00<00:00, 15.52it/s]\n"
     ]
    },
    {
     "name": "stdout",
     "output_type": "stream",
     "text": [
      "====> Test set loss: 3222.8213 (BCE: 3180.8164, KLD: 42.0049)\n",
      "Epoch 2/35\n"
     ]
    },
    {
     "name": "stderr",
     "output_type": "stream",
     "text": [
      "100%|██████████| 2/2 [00:00<00:00,  3.97it/s]\n",
      "Testing: 100%|██████████| 1/1 [00:00<00:00, 18.09it/s]\n"
     ]
    },
    {
     "name": "stdout",
     "output_type": "stream",
     "text": [
      "====> Test set loss: 2293.9600 (BCE: 2213.8567, KLD: 80.1033)\n",
      "Epoch 3/35\n"
     ]
    },
    {
     "name": "stderr",
     "output_type": "stream",
     "text": [
      "100%|██████████| 2/2 [00:00<00:00,  4.30it/s]\n",
      "Testing: 100%|██████████| 1/1 [00:00<00:00, 21.97it/s]\n"
     ]
    },
    {
     "name": "stdout",
     "output_type": "stream",
     "text": [
      "====> Test set loss: 2089.0413 (BCE: 2072.4951, KLD: 16.5463)\n",
      "Epoch 4/35\n"
     ]
    },
    {
     "name": "stderr",
     "output_type": "stream",
     "text": [
      "100%|██████████| 2/2 [00:00<00:00,  4.14it/s]\n",
      "Testing: 100%|██████████| 1/1 [00:00<00:00, 17.46it/s]\n"
     ]
    },
    {
     "name": "stdout",
     "output_type": "stream",
     "text": [
      "====> Test set loss: 2050.1628 (BCE: 2033.8165, KLD: 16.3462)\n",
      "Epoch 5/35\n"
     ]
    },
    {
     "name": "stderr",
     "output_type": "stream",
     "text": [
      "100%|██████████| 2/2 [00:00<00:00,  3.99it/s]\n",
      "Testing: 100%|██████████| 1/1 [00:00<00:00, 21.28it/s]\n",
      "[I 2024-11-14 16:48:27,207] Trial 14 finished with value: 2050.162841796875 and parameters: {'batch_size': 32, 'hidden_dim': 2500, 'latent_dim': 280, 'epochs': 35, 'learning_rate': 0.0010249893087983613}. Best is trial 14 with value: 2050.162841796875.\n"
     ]
    },
    {
     "name": "stdout",
     "output_type": "stream",
     "text": [
      "====> Test set loss: 2264.4785 (BCE: 2222.2620, KLD: 42.2166)\n",
      "Early stopping...\n",
      "Epoch 1/11\n"
     ]
    },
    {
     "name": "stderr",
     "output_type": "stream",
     "text": [
      " 50%|█████     | 1/2 [00:00<00:00,  3.31it/s]"
     ]
    },
    {
     "name": "stdout",
     "output_type": "stream",
     "text": [
      "Step 0 (N samples: 0), Loss: 3363.3596 (Recon: 3327.3806, KL: 35.9790) Grad: 28.9518\n"
     ]
    },
    {
     "name": "stderr",
     "output_type": "stream",
     "text": [
      "100%|██████████| 2/2 [00:00<00:00,  3.89it/s]\n",
      "Testing: 100%|██████████| 1/1 [00:00<00:00, 17.42it/s]\n"
     ]
    },
    {
     "name": "stdout",
     "output_type": "stream",
     "text": [
      "====> Test set loss: 3242.0349 (BCE: 3201.6475, KLD: 40.3875)\n",
      "Epoch 2/11\n"
     ]
    },
    {
     "name": "stderr",
     "output_type": "stream",
     "text": [
      "100%|██████████| 2/2 [00:00<00:00,  4.10it/s]\n",
      "Testing: 100%|██████████| 1/1 [00:00<00:00, 18.23it/s]\n"
     ]
    },
    {
     "name": "stdout",
     "output_type": "stream",
     "text": [
      "====> Test set loss: 2425.1970 (BCE: 2389.2275, KLD: 35.9694)\n",
      "Epoch 3/11\n"
     ]
    },
    {
     "name": "stderr",
     "output_type": "stream",
     "text": [
      "100%|██████████| 2/2 [00:00<00:00,  3.97it/s]\n",
      "Testing: 100%|██████████| 1/1 [00:00<00:00, 17.84it/s]\n"
     ]
    },
    {
     "name": "stdout",
     "output_type": "stream",
     "text": [
      "====> Test set loss: 6919.3457 (BCE: 6655.3701, KLD: 263.9754)\n",
      "Epoch 4/11\n"
     ]
    },
    {
     "name": "stderr",
     "output_type": "stream",
     "text": [
      "100%|██████████| 2/2 [00:00<00:00,  4.05it/s]\n",
      "Testing: 100%|██████████| 1/1 [00:00<00:00, 17.14it/s]\n"
     ]
    },
    {
     "name": "stdout",
     "output_type": "stream",
     "text": [
      "====> Test set loss: 3275.0349 (BCE: 3243.6821, KLD: 31.3527)\n",
      "Epoch 5/11\n"
     ]
    },
    {
     "name": "stderr",
     "output_type": "stream",
     "text": [
      "100%|██████████| 2/2 [00:00<00:00,  4.04it/s]\n",
      "Testing: 100%|██████████| 1/1 [00:00<00:00, 15.57it/s]\n",
      "[I 2024-11-14 16:48:30,209] Trial 15 finished with value: 2045.4940185546875 and parameters: {'batch_size': 32, 'hidden_dim': 2500, 'latent_dim': 330, 'epochs': 11, 'learning_rate': 0.0009775936720707145}. Best is trial 15 with value: 2045.4940185546875.\n"
     ]
    },
    {
     "name": "stdout",
     "output_type": "stream",
     "text": [
      "====> Test set loss: 2045.4940 (BCE: 2021.7611, KLD: 23.7329)\n",
      "Early stopping...\n",
      "Epoch 1/15\n"
     ]
    },
    {
     "name": "stderr",
     "output_type": "stream",
     "text": [
      " 50%|█████     | 1/2 [00:00<00:00,  2.80it/s]"
     ]
    },
    {
     "name": "stdout",
     "output_type": "stream",
     "text": [
      "Step 0 (N samples: 0), Loss: 3361.9880 (Recon: 3327.4653, KL: 34.5228) Grad: 28.6474\n"
     ]
    },
    {
     "name": "stderr",
     "output_type": "stream",
     "text": [
      "100%|██████████| 2/2 [00:00<00:00,  3.51it/s]\n",
      "Testing: 100%|██████████| 1/1 [00:00<00:00, 17.52it/s]\n"
     ]
    },
    {
     "name": "stdout",
     "output_type": "stream",
     "text": [
      "====> Test set loss: 3233.7185 (BCE: 3196.3203, KLD: 37.3981)\n",
      "Epoch 2/15\n"
     ]
    },
    {
     "name": "stderr",
     "output_type": "stream",
     "text": [
      "100%|██████████| 2/2 [00:00<00:00,  4.45it/s]\n",
      "Testing: 100%|██████████| 1/1 [00:00<00:00, 19.68it/s]\n"
     ]
    },
    {
     "name": "stdout",
     "output_type": "stream",
     "text": [
      "====> Test set loss: 2302.9995 (BCE: 2246.5784, KLD: 56.4212)\n",
      "Epoch 3/15\n"
     ]
    },
    {
     "name": "stderr",
     "output_type": "stream",
     "text": [
      "100%|██████████| 2/2 [00:00<00:00,  4.38it/s]\n",
      "Testing: 100%|██████████| 1/1 [00:00<00:00, 21.46it/s]\n"
     ]
    },
    {
     "name": "stdout",
     "output_type": "stream",
     "text": [
      "====> Test set loss: 6685.9263 (BCE: 6523.8022, KLD: 162.1238)\n",
      "Epoch 4/15\n"
     ]
    },
    {
     "name": "stderr",
     "output_type": "stream",
     "text": [
      "100%|██████████| 2/2 [00:00<00:00,  4.49it/s]\n",
      "Testing: 100%|██████████| 1/1 [00:00<00:00, 19.29it/s]\n"
     ]
    },
    {
     "name": "stdout",
     "output_type": "stream",
     "text": [
      "====> Test set loss: 2975.8809 (BCE: 2954.8760, KLD: 21.0049)\n",
      "Epoch 5/15\n"
     ]
    },
    {
     "name": "stderr",
     "output_type": "stream",
     "text": [
      "100%|██████████| 2/2 [00:00<00:00,  4.19it/s]\n",
      "Testing: 100%|██████████| 1/1 [00:00<00:00, 13.82it/s]\n",
      "[I 2024-11-14 16:48:33,100] Trial 16 finished with value: 2092.21484375 and parameters: {'batch_size': 32, 'hidden_dim': 2500, 'latent_dim': 320, 'epochs': 15, 'learning_rate': 0.0009569586684586134}. Best is trial 15 with value: 2045.4940185546875.\n"
     ]
    },
    {
     "name": "stdout",
     "output_type": "stream",
     "text": [
      "====> Test set loss: 2092.2148 (BCE: 2057.1013, KLD: 35.1135)\n",
      "Early stopping...\n",
      "Epoch 1/12\n"
     ]
    },
    {
     "name": "stderr",
     "output_type": "stream",
     "text": [
      " 50%|█████     | 1/2 [00:00<00:00,  1.97it/s]"
     ]
    },
    {
     "name": "stdout",
     "output_type": "stream",
     "text": [
      "Step 0 (N samples: 0), Loss: 3387.9553 (Recon: 3327.7637, KL: 60.1916) Grad: 28.7583\n"
     ]
    },
    {
     "name": "stderr",
     "output_type": "stream",
     "text": [
      "100%|██████████| 2/2 [00:00<00:00,  2.65it/s]\n",
      "Testing: 100%|██████████| 1/1 [00:00<00:00, 12.27it/s]\n"
     ]
    },
    {
     "name": "stdout",
     "output_type": "stream",
     "text": [
      "====> Test set loss: 3378.3879 (BCE: 3319.2578, KLD: 59.1301)\n",
      "Epoch 2/12\n"
     ]
    },
    {
     "name": "stderr",
     "output_type": "stream",
     "text": [
      "100%|██████████| 2/2 [00:00<00:00,  2.91it/s]\n",
      "Testing: 100%|██████████| 1/1 [00:00<00:00,  9.23it/s]\n"
     ]
    },
    {
     "name": "stdout",
     "output_type": "stream",
     "text": [
      "====> Test set loss: 3366.2556 (BCE: 3309.2000, KLD: 57.0556)\n",
      "Epoch 3/12\n"
     ]
    },
    {
     "name": "stderr",
     "output_type": "stream",
     "text": [
      "100%|██████████| 2/2 [00:00<00:00,  2.73it/s]\n",
      "Testing: 100%|██████████| 1/1 [00:00<00:00, 11.61it/s]\n"
     ]
    },
    {
     "name": "stdout",
     "output_type": "stream",
     "text": [
      "====> Test set loss: 3349.0269 (BCE: 3296.1606, KLD: 52.8662)\n",
      "Epoch 4/12\n"
     ]
    },
    {
     "name": "stderr",
     "output_type": "stream",
     "text": [
      "100%|██████████| 2/2 [00:00<00:00,  2.70it/s]\n",
      "Testing: 100%|██████████| 1/1 [00:00<00:00,  9.45it/s]\n"
     ]
    },
    {
     "name": "stdout",
     "output_type": "stream",
     "text": [
      "====> Test set loss: 3324.4585 (BCE: 3277.6523, KLD: 46.8063)\n",
      "Epoch 5/12\n"
     ]
    },
    {
     "name": "stderr",
     "output_type": "stream",
     "text": [
      "100%|██████████| 2/2 [00:00<00:00,  2.55it/s]\n",
      "Testing: 100%|██████████| 1/1 [00:00<00:00,  8.68it/s]\n",
      "[I 2024-11-14 16:48:37,565] Trial 17 finished with value: 3291.406494140625 and parameters: {'batch_size': 32, 'hidden_dim': 2500, 'latent_dim': 560, 'epochs': 12, 'learning_rate': 0.00011753192095223374}. Best is trial 15 with value: 2045.4940185546875.\n"
     ]
    },
    {
     "name": "stdout",
     "output_type": "stream",
     "text": [
      "====> Test set loss: 3291.4065 (BCE: 3247.3186, KLD: 44.0878)\n",
      "Early stopping...\n",
      "Epoch 1/28\n"
     ]
    },
    {
     "name": "stderr",
     "output_type": "stream",
     "text": [
      "  0%|          | 0/2 [00:00<?, ?it/s]"
     ]
    },
    {
     "name": "stdout",
     "output_type": "stream",
     "text": [
      "Step 0 (N samples: 0), Loss: 3352.2466 (Recon: 3327.6455, KL: 24.6011) Grad: 28.3830\n"
     ]
    },
    {
     "name": "stderr",
     "output_type": "stream",
     "text": [
      "100%|██████████| 2/2 [00:00<00:00,  3.77it/s]\n",
      "Testing: 100%|██████████| 1/1 [00:00<00:00, 23.31it/s]\n"
     ]
    },
    {
     "name": "stdout",
     "output_type": "stream",
     "text": [
      "====> Test set loss: 3250.0701 (BCE: 3232.5061, KLD: 17.5640)\n",
      "Epoch 2/28\n"
     ]
    },
    {
     "name": "stderr",
     "output_type": "stream",
     "text": [
      "100%|██████████| 2/2 [00:00<00:00,  4.46it/s]\n",
      "Testing: 100%|██████████| 1/1 [00:00<00:00, 23.21it/s]\n"
     ]
    },
    {
     "name": "stdout",
     "output_type": "stream",
     "text": [
      "====> Test set loss: 2420.0911 (BCE: 2334.5444, KLD: 85.5466)\n",
      "Epoch 3/28\n"
     ]
    },
    {
     "name": "stderr",
     "output_type": "stream",
     "text": [
      "100%|██████████| 2/2 [00:00<00:00,  4.44it/s]\n",
      "Testing: 100%|██████████| 1/1 [00:00<00:00, 23.73it/s]\n"
     ]
    },
    {
     "name": "stdout",
     "output_type": "stream",
     "text": [
      "====> Test set loss: 8583.3779 (BCE: 8054.3584, KLD: 529.0195)\n",
      "Epoch 4/28\n"
     ]
    },
    {
     "name": "stderr",
     "output_type": "stream",
     "text": [
      "100%|██████████| 2/2 [00:00<00:00,  4.22it/s]\n",
      "Testing: 100%|██████████| 1/1 [00:00<00:00, 23.76it/s]\n"
     ]
    },
    {
     "name": "stdout",
     "output_type": "stream",
     "text": [
      "====> Test set loss: 3397.8821 (BCE: 3356.6267, KLD: 41.2553)\n",
      "Epoch 5/28\n"
     ]
    },
    {
     "name": "stderr",
     "output_type": "stream",
     "text": [
      "100%|██████████| 2/2 [00:00<00:00,  4.33it/s]\n",
      "Testing: 100%|██████████| 1/1 [00:00<00:00, 19.95it/s]\n",
      "[I 2024-11-14 16:48:40,407] Trial 18 finished with value: 2040.8145751953125 and parameters: {'batch_size': 32, 'hidden_dim': 3000, 'latent_dim': 230, 'epochs': 28, 'learning_rate': 0.0007418907711879858}. Best is trial 18 with value: 2040.8145751953125.\n"
     ]
    },
    {
     "name": "stdout",
     "output_type": "stream",
     "text": [
      "====> Test set loss: 2040.8146 (BCE: 2024.1853, KLD: 16.6292)\n",
      "Early stopping...\n",
      "Epoch 1/26\n"
     ]
    },
    {
     "name": "stderr",
     "output_type": "stream",
     "text": [
      "  0%|          | 0/2 [00:00<?, ?it/s]"
     ]
    },
    {
     "name": "stdout",
     "output_type": "stream",
     "text": [
      "Step 0 (N samples: 0), Loss: 3345.3694 (Recon: 3327.1709, KL: 18.1985) Grad: 28.4106\n"
     ]
    },
    {
     "name": "stderr",
     "output_type": "stream",
     "text": [
      "100%|██████████| 2/2 [00:00<00:00,  3.94it/s]\n",
      "Testing: 100%|██████████| 1/1 [00:00<00:00, 23.57it/s]\n"
     ]
    },
    {
     "name": "stdout",
     "output_type": "stream",
     "text": [
      "====> Test set loss: 3266.6343 (BCE: 3256.1829, KLD: 10.4515)\n",
      "Epoch 2/26\n"
     ]
    },
    {
     "name": "stderr",
     "output_type": "stream",
     "text": [
      "100%|██████████| 2/2 [00:00<00:00,  4.25it/s]\n",
      "Testing: 100%|██████████| 1/1 [00:00<00:00, 23.70it/s]\n"
     ]
    },
    {
     "name": "stdout",
     "output_type": "stream",
     "text": [
      "====> Test set loss: 2621.7000 (BCE: 2391.0532, KLD: 230.6467)\n",
      "Epoch 3/26\n"
     ]
    },
    {
     "name": "stderr",
     "output_type": "stream",
     "text": [
      "100%|██████████| 2/2 [00:00<00:00,  3.87it/s]\n",
      "Testing: 100%|██████████| 1/1 [00:00<00:00, 20.18it/s]\n"
     ]
    },
    {
     "name": "stdout",
     "output_type": "stream",
     "text": [
      "====> Test set loss: 2165.6887 (BCE: 2119.9561, KLD: 45.7327)\n",
      "Epoch 4/26\n"
     ]
    },
    {
     "name": "stderr",
     "output_type": "stream",
     "text": [
      "100%|██████████| 2/2 [00:00<00:00,  4.24it/s]\n",
      "Testing: 100%|██████████| 1/1 [00:00<00:00, 14.77it/s]\n"
     ]
    },
    {
     "name": "stdout",
     "output_type": "stream",
     "text": [
      "====> Test set loss: 2040.8655 (BCE: 2027.3528, KLD: 13.5127)\n",
      "Epoch 5/26\n"
     ]
    },
    {
     "name": "stderr",
     "output_type": "stream",
     "text": [
      "100%|██████████| 2/2 [00:00<00:00,  4.35it/s]\n",
      "Testing: 100%|██████████| 1/1 [00:00<00:00, 22.41it/s]\n",
      "[I 2024-11-14 16:48:43,329] Trial 19 finished with value: 2040.865478515625 and parameters: {'batch_size': 32, 'hidden_dim': 3000, 'latent_dim': 170, 'epochs': 26, 'learning_rate': 0.0006007712807099963}. Best is trial 18 with value: 2040.8145751953125.\n"
     ]
    },
    {
     "name": "stdout",
     "output_type": "stream",
     "text": [
      "====> Test set loss: 2109.9370 (BCE: 2097.8875, KLD: 12.0495)\n",
      "Early stopping...\n",
      "Epoch 1/27\n"
     ]
    },
    {
     "name": "stderr",
     "output_type": "stream",
     "text": [
      "  0%|          | 0/2 [00:00<?, ?it/s]"
     ]
    },
    {
     "name": "stdout",
     "output_type": "stream",
     "text": [
      "Step 0 (N samples: 0), Loss: 3344.9041 (Recon: 3327.7046, KL: 17.1994) Grad: 28.0184\n"
     ]
    },
    {
     "name": "stderr",
     "output_type": "stream",
     "text": [
      "100%|██████████| 2/2 [00:00<00:00,  4.06it/s]\n",
      "Testing: 100%|██████████| 1/1 [00:00<00:00, 26.49it/s]\n"
     ]
    },
    {
     "name": "stdout",
     "output_type": "stream",
     "text": [
      "====> Test set loss: 3333.7788 (BCE: 3317.2749, KLD: 16.5039)\n",
      "Epoch 2/27\n"
     ]
    },
    {
     "name": "stderr",
     "output_type": "stream",
     "text": [
      "100%|██████████| 2/2 [00:00<00:00,  4.44it/s]\n",
      "Testing: 100%|██████████| 1/1 [00:00<00:00, 25.93it/s]\n"
     ]
    },
    {
     "name": "stdout",
     "output_type": "stream",
     "text": [
      "====> Test set loss: 3318.6187 (BCE: 3303.8196, KLD: 14.7991)\n",
      "Epoch 3/27\n"
     ]
    },
    {
     "name": "stderr",
     "output_type": "stream",
     "text": [
      "100%|██████████| 2/2 [00:00<00:00,  4.80it/s]\n",
      "Testing: 100%|██████████| 1/1 [00:00<00:00, 27.98it/s]\n"
     ]
    },
    {
     "name": "stdout",
     "output_type": "stream",
     "text": [
      "====> Test set loss: 3295.0552 (BCE: 3283.7673, KLD: 11.2877)\n",
      "Epoch 4/27\n"
     ]
    },
    {
     "name": "stderr",
     "output_type": "stream",
     "text": [
      "100%|██████████| 2/2 [00:00<00:00,  4.59it/s]\n",
      "Testing: 100%|██████████| 1/1 [00:00<00:00, 18.05it/s]\n"
     ]
    },
    {
     "name": "stdout",
     "output_type": "stream",
     "text": [
      "====> Test set loss: 3259.2161 (BCE: 3249.2888, KLD: 9.9272)\n",
      "Epoch 5/27\n"
     ]
    },
    {
     "name": "stderr",
     "output_type": "stream",
     "text": [
      "100%|██████████| 2/2 [00:00<00:00,  4.63it/s]\n",
      "Testing: 100%|██████████| 1/1 [00:00<00:00, 28.64it/s]\n",
      "[I 2024-11-14 16:48:46,052] Trial 20 finished with value: 3198.979248046875 and parameters: {'batch_size': 32, 'hidden_dim': 3000, 'latent_dim': 160, 'epochs': 27, 'learning_rate': 0.0001281814041613834}. Best is trial 18 with value: 2040.8145751953125.\n"
     ]
    },
    {
     "name": "stdout",
     "output_type": "stream",
     "text": [
      "====> Test set loss: 3198.9792 (BCE: 3176.7388, KLD: 22.2406)\n",
      "Early stopping...\n",
      "Epoch 1/11\n"
     ]
    },
    {
     "name": "stderr",
     "output_type": "stream",
     "text": [
      " 50%|█████     | 1/2 [00:00<00:00,  2.76it/s]"
     ]
    },
    {
     "name": "stdout",
     "output_type": "stream",
     "text": [
      "Step 0 (N samples: 0), Loss: 3373.6296 (Recon: 3327.5562, KL: 46.0735) Grad: 29.3703\n"
     ]
    },
    {
     "name": "stderr",
     "output_type": "stream",
     "text": [
      "100%|██████████| 2/2 [00:00<00:00,  3.29it/s]\n",
      "Testing: 100%|██████████| 1/1 [00:00<00:00, 14.76it/s]\n"
     ]
    },
    {
     "name": "stdout",
     "output_type": "stream",
     "text": [
      "====> Test set loss: 3311.6079 (BCE: 3276.2803, KLD: 35.3276)\n",
      "Epoch 2/11\n"
     ]
    },
    {
     "name": "stderr",
     "output_type": "stream",
     "text": [
      "100%|██████████| 2/2 [00:00<00:00,  3.16it/s]\n",
      "Testing: 100%|██████████| 1/1 [00:00<00:00, 13.36it/s]\n"
     ]
    },
    {
     "name": "stdout",
     "output_type": "stream",
     "text": [
      "====> Test set loss: 3077.8640 (BCE: 3050.7043, KLD: 27.1596)\n",
      "Epoch 3/11\n"
     ]
    },
    {
     "name": "stderr",
     "output_type": "stream",
     "text": [
      "100%|██████████| 2/2 [00:00<00:00,  2.92it/s]\n",
      "Testing: 100%|██████████| 1/1 [00:00<00:00, 14.37it/s]\n"
     ]
    },
    {
     "name": "stdout",
     "output_type": "stream",
     "text": [
      "====> Test set loss: 2447.9951 (BCE: 2259.0369, KLD: 188.9583)\n",
      "Epoch 4/11\n"
     ]
    },
    {
     "name": "stderr",
     "output_type": "stream",
     "text": [
      "100%|██████████| 2/2 [00:00<00:00,  3.15it/s]\n",
      "Testing: 100%|██████████| 1/1 [00:00<00:00, 10.36it/s]\n"
     ]
    },
    {
     "name": "stdout",
     "output_type": "stream",
     "text": [
      "====> Test set loss: 2671.9897 (BCE: 2581.9312, KLD: 90.0587)\n",
      "Epoch 5/11\n"
     ]
    },
    {
     "name": "stderr",
     "output_type": "stream",
     "text": [
      "100%|██████████| 2/2 [00:00<00:00,  3.09it/s]\n",
      "Testing: 100%|██████████| 1/1 [00:00<00:00, 11.31it/s]\n",
      "[I 2024-11-14 16:48:49,888] Trial 21 finished with value: 2081.46044921875 and parameters: {'batch_size': 32, 'hidden_dim': 3000, 'latent_dim': 430, 'epochs': 11, 'learning_rate': 0.0004991008934529761}. Best is trial 18 with value: 2040.8145751953125.\n"
     ]
    },
    {
     "name": "stdout",
     "output_type": "stream",
     "text": [
      "====> Test set loss: 2081.4604 (BCE: 2056.7278, KLD: 24.7327)\n",
      "Early stopping...\n",
      "Epoch 1/30\n"
     ]
    },
    {
     "name": "stderr",
     "output_type": "stream",
     "text": [
      "  0%|          | 0/2 [00:00<?, ?it/s]"
     ]
    },
    {
     "name": "stdout",
     "output_type": "stream",
     "text": [
      "Step 0 (N samples: 0), Loss: 3353.3423 (Recon: 3327.5840, KL: 25.7582) Grad: 28.4581\n"
     ]
    },
    {
     "name": "stderr",
     "output_type": "stream",
     "text": [
      "100%|██████████| 2/2 [00:00<00:00,  3.49it/s]\n",
      "Testing: 100%|██████████| 1/1 [00:00<00:00, 17.50it/s]\n"
     ]
    },
    {
     "name": "stdout",
     "output_type": "stream",
     "text": [
      "====> Test set loss: 42315.2344 (BCE: 22505.6230, KLD: 19809.6113)\n",
      "Epoch 2/30\n"
     ]
    },
    {
     "name": "stderr",
     "output_type": "stream",
     "text": [
      "100%|██████████| 2/2 [00:00<00:00,  3.65it/s]\n",
      "Testing: 100%|██████████| 1/1 [00:00<00:00, 18.35it/s]\n"
     ]
    },
    {
     "name": "stdout",
     "output_type": "stream",
     "text": [
      "====> Test set loss: 34176.7891 (BCE: 32847.0508, KLD: 1329.7390)\n",
      "Epoch 3/30\n"
     ]
    },
    {
     "name": "stderr",
     "output_type": "stream",
     "text": [
      "100%|██████████| 2/2 [00:00<00:00,  3.39it/s]\n",
      "Testing: 100%|██████████| 1/1 [00:00<00:00, 18.78it/s]\n"
     ]
    },
    {
     "name": "stdout",
     "output_type": "stream",
     "text": [
      "====> Test set loss: 6624.9604 (BCE: 6394.3857, KLD: 230.5747)\n",
      "Epoch 4/30\n"
     ]
    },
    {
     "name": "stderr",
     "output_type": "stream",
     "text": [
      "100%|██████████| 2/2 [00:00<00:00,  3.83it/s]\n",
      "Testing: 100%|██████████| 1/1 [00:00<00:00, 21.55it/s]\n"
     ]
    },
    {
     "name": "stdout",
     "output_type": "stream",
     "text": [
      "====> Test set loss: 2356.4827 (BCE: 2333.0359, KLD: 23.4467)\n",
      "Epoch 5/30\n"
     ]
    },
    {
     "name": "stderr",
     "output_type": "stream",
     "text": [
      "100%|██████████| 2/2 [00:00<00:00,  3.61it/s]\n",
      "Testing: 100%|██████████| 1/1 [00:00<00:00, 20.20it/s]\n",
      "[I 2024-11-14 16:48:53,199] Trial 22 finished with value: 2356.482666015625 and parameters: {'batch_size': 32, 'hidden_dim': 3000, 'latent_dim': 240, 'epochs': 30, 'learning_rate': 0.002769514662591084}. Best is trial 18 with value: 2040.8145751953125.\n"
     ]
    },
    {
     "name": "stdout",
     "output_type": "stream",
     "text": [
      "====> Test set loss: 3023.7302 (BCE: 2978.2471, KLD: 45.4832)\n",
      "Early stopping...\n",
      "Epoch 1/19\n"
     ]
    },
    {
     "name": "stderr",
     "output_type": "stream",
     "text": [
      "  0%|          | 0/2 [00:00<?, ?it/s]"
     ]
    },
    {
     "name": "stdout",
     "output_type": "stream",
     "text": [
      "Step 0 (N samples: 0), Loss: 3365.7224 (Recon: 3327.4324, KL: 38.2900) Grad: 28.8716\n"
     ]
    },
    {
     "name": "stderr",
     "output_type": "stream",
     "text": [
      "100%|██████████| 2/2 [00:00<00:00,  3.23it/s]\n",
      "Testing: 100%|██████████| 1/1 [00:00<00:00, 16.90it/s]\n"
     ]
    },
    {
     "name": "stdout",
     "output_type": "stream",
     "text": [
      "====> Test set loss: 3296.8215 (BCE: 3268.1213, KLD: 28.7002)\n",
      "Epoch 2/19\n"
     ]
    },
    {
     "name": "stderr",
     "output_type": "stream",
     "text": [
      "100%|██████████| 2/2 [00:00<00:00,  3.53it/s]\n",
      "Testing: 100%|██████████| 1/1 [00:00<00:00, 16.78it/s]\n"
     ]
    },
    {
     "name": "stdout",
     "output_type": "stream",
     "text": [
      "====> Test set loss: 2922.8433 (BCE: 2850.4626, KLD: 72.3806)\n",
      "Epoch 3/19\n"
     ]
    },
    {
     "name": "stderr",
     "output_type": "stream",
     "text": [
      "100%|██████████| 2/2 [00:00<00:00,  3.74it/s]\n",
      "Testing: 100%|██████████| 1/1 [00:00<00:00, 15.73it/s]\n"
     ]
    },
    {
     "name": "stdout",
     "output_type": "stream",
     "text": [
      "====> Test set loss: 2575.9863 (BCE: 2366.5969, KLD: 209.3894)\n",
      "Epoch 4/19\n"
     ]
    },
    {
     "name": "stderr",
     "output_type": "stream",
     "text": [
      "100%|██████████| 2/2 [00:00<00:00,  3.57it/s]\n",
      "Testing: 100%|██████████| 1/1 [00:00<00:00, 18.54it/s]\n"
     ]
    },
    {
     "name": "stdout",
     "output_type": "stream",
     "text": [
      "====> Test set loss: 2150.9565 (BCE: 2124.3667, KLD: 26.5899)\n",
      "Epoch 5/19\n"
     ]
    },
    {
     "name": "stderr",
     "output_type": "stream",
     "text": [
      "100%|██████████| 2/2 [00:00<00:00,  3.85it/s]\n",
      "Testing: 100%|██████████| 1/1 [00:00<00:00, 19.53it/s]\n",
      "[I 2024-11-14 16:48:56,529] Trial 23 finished with value: 2047.85693359375 and parameters: {'batch_size': 32, 'hidden_dim': 3000, 'latent_dim': 360, 'epochs': 19, 'learning_rate': 0.0005327205088291617}. Best is trial 18 with value: 2040.8145751953125.\n"
     ]
    },
    {
     "name": "stdout",
     "output_type": "stream",
     "text": [
      "====> Test set loss: 2047.8569 (BCE: 2028.9387, KLD: 18.9182)\n",
      "Early stopping...\n",
      "Epoch 1/47\n"
     ]
    },
    {
     "name": "stderr",
     "output_type": "stream",
     "text": [
      "  0%|          | 0/2 [00:00<?, ?it/s]"
     ]
    },
    {
     "name": "stdout",
     "output_type": "stream",
     "text": [
      "Step 0 (N samples: 0), Loss: 3339.8875 (Recon: 3326.9858, KL: 12.9017) Grad: 27.9599\n"
     ]
    },
    {
     "name": "stderr",
     "output_type": "stream",
     "text": [
      "100%|██████████| 2/2 [00:00<00:00,  4.17it/s]\n",
      "Testing: 100%|██████████| 1/1 [00:00<00:00, 27.81it/s]\n"
     ]
    },
    {
     "name": "stdout",
     "output_type": "stream",
     "text": [
      "====> Test set loss: 3239.9302 (BCE: 3233.2139, KLD: 6.7163)\n",
      "Epoch 2/47\n"
     ]
    },
    {
     "name": "stderr",
     "output_type": "stream",
     "text": [
      "100%|██████████| 2/2 [00:00<00:00,  4.59it/s]\n",
      "Testing: 100%|██████████| 1/1 [00:00<00:00, 18.11it/s]\n"
     ]
    },
    {
     "name": "stdout",
     "output_type": "stream",
     "text": [
      "====> Test set loss: 2674.0444 (BCE: 2325.5830, KLD: 348.4615)\n",
      "Epoch 3/47\n"
     ]
    },
    {
     "name": "stderr",
     "output_type": "stream",
     "text": [
      "100%|██████████| 2/2 [00:00<00:00,  4.50it/s]\n",
      "Testing: 100%|██████████| 1/1 [00:00<00:00, 27.34it/s]\n"
     ]
    },
    {
     "name": "stdout",
     "output_type": "stream",
     "text": [
      "====> Test set loss: 2203.1687 (BCE: 2152.5042, KLD: 50.6646)\n",
      "Epoch 4/47\n"
     ]
    },
    {
     "name": "stderr",
     "output_type": "stream",
     "text": [
      "100%|██████████| 2/2 [00:00<00:00,  4.57it/s]\n",
      "Testing: 100%|██████████| 1/1 [00:00<00:00, 28.14it/s]\n"
     ]
    },
    {
     "name": "stdout",
     "output_type": "stream",
     "text": [
      "====> Test set loss: 2056.0549 (BCE: 2047.5269, KLD: 8.5282)\n",
      "Epoch 5/47\n"
     ]
    },
    {
     "name": "stderr",
     "output_type": "stream",
     "text": [
      "100%|██████████| 2/2 [00:00<00:00,  4.42it/s]\n",
      "Testing: 100%|██████████| 1/1 [00:00<00:00, 24.74it/s]\n",
      "[I 2024-11-14 16:48:59,210] Trial 24 finished with value: 2011.5826416015625 and parameters: {'batch_size': 32, 'hidden_dim': 3000, 'latent_dim': 120, 'epochs': 47, 'learning_rate': 0.000707375572422146}. Best is trial 24 with value: 2011.5826416015625.\n"
     ]
    },
    {
     "name": "stdout",
     "output_type": "stream",
     "text": [
      "====> Test set loss: 2011.5826 (BCE: 2004.2877, KLD: 7.2950)\n",
      "Early stopping...\n",
      "Epoch 1/51\n"
     ]
    },
    {
     "name": "stderr",
     "output_type": "stream",
     "text": [
      "  0%|          | 0/2 [00:00<?, ?it/s]"
     ]
    },
    {
     "name": "stdout",
     "output_type": "stream",
     "text": [
      "Step 0 (N samples: 0), Loss: 3339.2769 (Recon: 3327.4204, KL: 11.8564) Grad: 27.4434\n"
     ]
    },
    {
     "name": "stderr",
     "output_type": "stream",
     "text": [
      "100%|██████████| 2/2 [00:00<00:00,  4.18it/s]\n",
      "Testing: 100%|██████████| 1/1 [00:00<00:00, 31.54it/s]\n"
     ]
    },
    {
     "name": "stdout",
     "output_type": "stream",
     "text": [
      "====> Test set loss: 3322.8140 (BCE: 3311.8052, KLD: 11.0088)\n",
      "Epoch 2/51\n"
     ]
    },
    {
     "name": "stderr",
     "output_type": "stream",
     "text": [
      "100%|██████████| 2/2 [00:00<00:00,  4.48it/s]\n",
      "Testing: 100%|██████████| 1/1 [00:00<00:00, 27.17it/s]\n"
     ]
    },
    {
     "name": "stdout",
     "output_type": "stream",
     "text": [
      "====> Test set loss: 3296.0803 (BCE: 3287.6970, KLD: 8.3832)\n",
      "Epoch 3/51\n"
     ]
    },
    {
     "name": "stderr",
     "output_type": "stream",
     "text": [
      "100%|██████████| 2/2 [00:00<00:00,  4.55it/s]\n",
      "Testing: 100%|██████████| 1/1 [00:00<00:00, 29.99it/s]\n"
     ]
    },
    {
     "name": "stdout",
     "output_type": "stream",
     "text": [
      "====> Test set loss: 3237.4199 (BCE: 3231.0366, KLD: 6.3833)\n",
      "Epoch 4/51\n"
     ]
    },
    {
     "name": "stderr",
     "output_type": "stream",
     "text": [
      "100%|██████████| 2/2 [00:00<00:00,  4.56it/s]\n",
      "Testing: 100%|██████████| 1/1 [00:00<00:00, 27.23it/s]\n"
     ]
    },
    {
     "name": "stdout",
     "output_type": "stream",
     "text": [
      "====> Test set loss: 3088.3828 (BCE: 3051.4155, KLD: 36.9672)\n",
      "Epoch 5/51\n"
     ]
    },
    {
     "name": "stderr",
     "output_type": "stream",
     "text": [
      "100%|██████████| 2/2 [00:00<00:00,  4.54it/s]\n",
      "Testing: 100%|██████████| 1/1 [00:00<00:00, 28.69it/s]\n",
      "[I 2024-11-14 16:49:01,860] Trial 25 finished with value: 2701.446044921875 and parameters: {'batch_size': 32, 'hidden_dim': 3000, 'latent_dim': 110, 'epochs': 51, 'learning_rate': 0.000187857231948466}. Best is trial 24 with value: 2011.5826416015625.\n"
     ]
    },
    {
     "name": "stdout",
     "output_type": "stream",
     "text": [
      "====> Test set loss: 2701.4460 (BCE: 2467.5151, KLD: 233.9308)\n",
      "Early stopping...\n",
      "Epoch 1/45\n"
     ]
    },
    {
     "name": "stderr",
     "output_type": "stream",
     "text": [
      "  0%|          | 0/2 [00:00<?, ?it/s]"
     ]
    },
    {
     "name": "stdout",
     "output_type": "stream",
     "text": [
      "Step 0 (N samples: 0), Loss: 3350.9268 (Recon: 3327.4116, KL: 23.5150) Grad: 27.9148\n"
     ]
    },
    {
     "name": "stderr",
     "output_type": "stream",
     "text": [
      "100%|██████████| 2/2 [00:00<00:00,  3.07it/s]\n",
      "Testing: 100%|██████████| 1/1 [00:00<00:00, 24.34it/s]\n"
     ]
    },
    {
     "name": "stdout",
     "output_type": "stream",
     "text": [
      "====> Test set loss: 3254.8972 (BCE: 3239.9924, KLD: 14.9048)\n",
      "Epoch 2/45\n"
     ]
    },
    {
     "name": "stderr",
     "output_type": "stream",
     "text": [
      "100%|██████████| 2/2 [00:00<00:00,  3.33it/s]\n",
      "Testing: 100%|██████████| 1/1 [00:00<00:00, 18.36it/s]\n"
     ]
    },
    {
     "name": "stdout",
     "output_type": "stream",
     "text": [
      "====> Test set loss: 2629.8008 (BCE: 2260.9963, KLD: 368.8044)\n",
      "Epoch 3/45\n"
     ]
    },
    {
     "name": "stderr",
     "output_type": "stream",
     "text": [
      "100%|██████████| 2/2 [00:00<00:00,  3.14it/s]\n",
      "Testing: 100%|██████████| 1/1 [00:00<00:00, 22.05it/s]\n"
     ]
    },
    {
     "name": "stdout",
     "output_type": "stream",
     "text": [
      "====> Test set loss: 2190.3835 (BCE: 2167.9678, KLD: 22.4157)\n",
      "Epoch 4/45\n"
     ]
    },
    {
     "name": "stderr",
     "output_type": "stream",
     "text": [
      "100%|██████████| 2/2 [00:00<00:00,  3.60it/s]\n",
      "Testing: 100%|██████████| 1/1 [00:00<00:00, 28.18it/s]\n"
     ]
    },
    {
     "name": "stdout",
     "output_type": "stream",
     "text": [
      "====> Test set loss: 2059.2659 (BCE: 2045.4791, KLD: 13.7869)\n",
      "Epoch 5/45\n"
     ]
    },
    {
     "name": "stderr",
     "output_type": "stream",
     "text": [
      "100%|██████████| 2/2 [00:00<00:00,  3.58it/s]\n",
      "Testing: 100%|██████████| 1/1 [00:00<00:00, 27.57it/s]\n",
      "[I 2024-11-14 16:49:05,345] Trial 26 finished with value: 2042.5570068359375 and parameters: {'batch_size': 32, 'hidden_dim': 3500, 'latent_dim': 220, 'epochs': 45, 'learning_rate': 0.0006082892514152849}. Best is trial 24 with value: 2011.5826416015625.\n"
     ]
    },
    {
     "name": "stdout",
     "output_type": "stream",
     "text": [
      "====> Test set loss: 2042.5570 (BCE: 2029.6205, KLD: 12.9366)\n",
      "Early stopping...\n",
      "Epoch 1/31\n"
     ]
    },
    {
     "name": "stderr",
     "output_type": "stream",
     "text": [
      "  0%|          | 0/2 [00:00<?, ?it/s]"
     ]
    },
    {
     "name": "stdout",
     "output_type": "stream",
     "text": [
      "Step 0 (N samples: 0), Loss: 3340.7500 (Recon: 3326.9795, KL: 13.7706) Grad: 28.5272\n"
     ]
    },
    {
     "name": "stderr",
     "output_type": "stream",
     "text": [
      "100%|██████████| 2/2 [00:00<00:00,  4.21it/s]\n",
      "Testing: 100%|██████████| 1/1 [00:00<00:00, 26.81it/s]\n"
     ]
    },
    {
     "name": "stdout",
     "output_type": "stream",
     "text": [
      "====> Test set loss: 3337.3501 (BCE: 3323.7507, KLD: 13.5994)\n",
      "Epoch 2/31\n"
     ]
    },
    {
     "name": "stderr",
     "output_type": "stream",
     "text": [
      "100%|██████████| 2/2 [00:00<00:00,  4.31it/s]\n",
      "Testing: 100%|██████████| 1/1 [00:00<00:00, 22.89it/s]\n"
     ]
    },
    {
     "name": "stdout",
     "output_type": "stream",
     "text": [
      "====> Test set loss: 3333.8435 (BCE: 3320.4526, KLD: 13.3909)\n",
      "Epoch 3/31\n"
     ]
    },
    {
     "name": "stderr",
     "output_type": "stream",
     "text": [
      "100%|██████████| 2/2 [00:00<00:00,  4.23it/s]\n",
      "Testing: 100%|██████████| 1/1 [00:00<00:00, 26.37it/s]\n"
     ]
    },
    {
     "name": "stdout",
     "output_type": "stream",
     "text": [
      "====> Test set loss: 3330.0042 (BCE: 3316.9053, KLD: 13.0988)\n",
      "Epoch 4/31\n"
     ]
    },
    {
     "name": "stderr",
     "output_type": "stream",
     "text": [
      "100%|██████████| 2/2 [00:00<00:00,  4.39it/s]\n",
      "Testing: 100%|██████████| 1/1 [00:00<00:00, 24.50it/s]\n"
     ]
    },
    {
     "name": "stdout",
     "output_type": "stream",
     "text": [
      "====> Test set loss: 3325.7373 (BCE: 3313.0591, KLD: 12.6783)\n",
      "Epoch 5/31\n"
     ]
    },
    {
     "name": "stderr",
     "output_type": "stream",
     "text": [
      "100%|██████████| 2/2 [00:00<00:00,  3.78it/s]\n",
      "Testing: 100%|██████████| 1/1 [00:00<00:00, 23.87it/s]\n",
      "[I 2024-11-14 16:49:08,178] Trial 27 finished with value: 3320.426513671875 and parameters: {'batch_size': 32, 'hidden_dim': 3000, 'latent_dim': 130, 'epochs': 31, 'learning_rate': 3.978326233086084e-05}. Best is trial 24 with value: 2011.5826416015625.\n"
     ]
    },
    {
     "name": "stdout",
     "output_type": "stream",
     "text": [
      "====> Test set loss: 3320.4265 (BCE: 3308.3464, KLD: 12.0800)\n",
      "Early stopping...\n",
      "Epoch 1/45\n"
     ]
    },
    {
     "name": "stderr",
     "output_type": "stream",
     "text": [
      "  0%|          | 0/1 [00:00<?, ?it/s]"
     ]
    },
    {
     "name": "stdout",
     "output_type": "stream",
     "text": [
      "Step 0 (N samples: 0), Loss: 3331.3972 (Recon: 3327.0923, KL: 4.3049) Grad: 28.0031\n"
     ]
    },
    {
     "name": "stderr",
     "output_type": "stream",
     "text": [
      "100%|██████████| 1/1 [00:00<00:00,  2.54it/s]\n",
      "Testing: 100%|██████████| 1/1 [00:00<00:00, 28.13it/s]\n"
     ]
    },
    {
     "name": "stdout",
     "output_type": "stream",
     "text": [
      "====> Test set loss: 3210.2913 (BCE: 3207.8411, KLD: 2.4502)\n",
      "Epoch 2/45\n"
     ]
    },
    {
     "name": "stderr",
     "output_type": "stream",
     "text": [
      "100%|██████████| 1/1 [00:00<00:00,  2.98it/s]\n",
      "Testing: 100%|██████████| 1/1 [00:00<00:00, 28.61it/s]\n"
     ]
    },
    {
     "name": "stdout",
     "output_type": "stream",
     "text": [
      "====> Test set loss: 126325.4141 (BCE: 81290.8516, KLD: 45034.5625)\n",
      "Epoch 3/45\n"
     ]
    },
    {
     "name": "stderr",
     "output_type": "stream",
     "text": [
      "100%|██████████| 1/1 [00:00<00:00,  2.91it/s]\n",
      "Testing: 100%|██████████| 1/1 [00:00<00:00, 27.16it/s]\n"
     ]
    },
    {
     "name": "stdout",
     "output_type": "stream",
     "text": [
      "====> Test set loss: 54730.0508 (BCE: 53292.4453, KLD: 1437.6071)\n",
      "Epoch 4/45\n"
     ]
    },
    {
     "name": "stderr",
     "output_type": "stream",
     "text": [
      "100%|██████████| 1/1 [00:00<00:00,  2.87it/s]\n",
      "Testing: 100%|██████████| 1/1 [00:00<00:00, 25.54it/s]\n"
     ]
    },
    {
     "name": "stdout",
     "output_type": "stream",
     "text": [
      "====> Test set loss: 35939.4375 (BCE: 35727.8906, KLD: 211.5478)\n",
      "Epoch 5/45\n"
     ]
    },
    {
     "name": "stderr",
     "output_type": "stream",
     "text": [
      "100%|██████████| 1/1 [00:00<00:00,  2.87it/s]\n",
      "Testing: 100%|██████████| 1/1 [00:00<00:00, 29.37it/s]\n",
      "[I 2024-11-14 16:49:10,465] Trial 28 finished with value: 3210.291259765625 and parameters: {'batch_size': 128, 'hidden_dim': 4000, 'latent_dim': 40, 'epochs': 45, 'learning_rate': 0.00263682749381765}. Best is trial 24 with value: 2011.5826416015625.\n"
     ]
    },
    {
     "name": "stdout",
     "output_type": "stream",
     "text": [
      "====> Test set loss: 403617.7188 (BCE: 396762.9688, KLD: 6854.7642)\n",
      "Early stopping...\n",
      "Epoch 1/93\n"
     ]
    },
    {
     "name": "stderr",
     "output_type": "stream",
     "text": [
      "  0%|          | 0/1 [00:00<?, ?it/s]"
     ]
    },
    {
     "name": "stdout",
     "output_type": "stream",
     "text": [
      "Step 0 (N samples: 0), Loss: 3337.6650 (Recon: 3326.8694, KL: 10.7956) Grad: 28.0486\n"
     ]
    },
    {
     "name": "stderr",
     "output_type": "stream",
     "text": [
      "100%|██████████| 1/1 [00:00<00:00,  2.61it/s]\n",
      "Testing: 100%|██████████| 1/1 [00:00<00:00, 22.11it/s]\n"
     ]
    },
    {
     "name": "stdout",
     "output_type": "stream",
     "text": [
      "====> Test set loss: 3128.8076 (BCE: 3113.5417, KLD: 15.2659)\n",
      "Epoch 2/93\n"
     ]
    },
    {
     "name": "stderr",
     "output_type": "stream",
     "text": [
      "100%|██████████| 1/1 [00:00<00:00,  2.93it/s]\n",
      "Testing: 100%|██████████| 1/1 [00:00<00:00, 25.16it/s]\n"
     ]
    },
    {
     "name": "stdout",
     "output_type": "stream",
     "text": [
      "====> Test set loss: 103389.4375 (BCE: 81313.7500, KLD: 22075.6914)\n",
      "Epoch 3/93\n"
     ]
    },
    {
     "name": "stderr",
     "output_type": "stream",
     "text": [
      "100%|██████████| 1/1 [00:00<00:00,  3.26it/s]\n",
      "Testing: 100%|██████████| 1/1 [00:00<00:00, 26.50it/s]\n"
     ]
    },
    {
     "name": "stdout",
     "output_type": "stream",
     "text": [
      "====> Test set loss: 979233.6875 (BCE: 81635.3750, KLD: 897598.3125)\n",
      "Epoch 4/93\n"
     ]
    },
    {
     "name": "stderr",
     "output_type": "stream",
     "text": [
      "100%|██████████| 1/1 [00:00<00:00,  3.31it/s]\n",
      "Testing: 100%|██████████| 1/1 [00:00<00:00, 26.03it/s]\n"
     ]
    },
    {
     "name": "stdout",
     "output_type": "stream",
     "text": [
      "====> Test set loss: 1313514.0000 (BCE: 81637.6172, KLD: 1231876.3750)\n",
      "Epoch 5/93\n"
     ]
    },
    {
     "name": "stderr",
     "output_type": "stream",
     "text": [
      "100%|██████████| 1/1 [00:00<00:00,  3.26it/s]\n",
      "Testing: 100%|██████████| 1/1 [00:00<00:00, 17.17it/s]\n",
      "[I 2024-11-14 16:49:12,600] Trial 29 finished with value: 3128.8076171875 and parameters: {'batch_size': 64, 'hidden_dim': 3500, 'latent_dim': 100, 'epochs': 93, 'learning_rate': 0.004336959780864106}. Best is trial 24 with value: 2011.5826416015625.\n"
     ]
    },
    {
     "name": "stdout",
     "output_type": "stream",
     "text": [
      "====> Test set loss: 379869.4375 (BCE: 81636.7500, KLD: 298232.6875)\n",
      "Early stopping...\n",
      "Epoch 1/32\n"
     ]
    },
    {
     "name": "stderr",
     "output_type": "stream",
     "text": [
      " 50%|█████     | 1/2 [00:00<00:00,  5.73it/s]"
     ]
    },
    {
     "name": "stdout",
     "output_type": "stream",
     "text": [
      "Step 0 (N samples: 0), Loss: 3328.6589 (Recon: 3327.5586, KL: 1.1003) Grad: 28.0358\n"
     ]
    },
    {
     "name": "stderr",
     "output_type": "stream",
     "text": [
      "100%|██████████| 2/2 [00:00<00:00,  6.56it/s]\n",
      "Testing: 100%|██████████| 1/1 [00:00<00:00, 30.63it/s]\n"
     ]
    },
    {
     "name": "stdout",
     "output_type": "stream",
     "text": [
      "====> Test set loss: 3312.8289 (BCE: 3311.9297, KLD: 0.8991)\n",
      "Epoch 2/32\n"
     ]
    },
    {
     "name": "stderr",
     "output_type": "stream",
     "text": [
      "100%|██████████| 2/2 [00:00<00:00,  6.93it/s]\n",
      "Testing: 100%|██████████| 1/1 [00:00<00:00, 33.20it/s]\n"
     ]
    },
    {
     "name": "stdout",
     "output_type": "stream",
     "text": [
      "====> Test set loss: 3287.4929 (BCE: 3287.0095, KLD: 0.4834)\n",
      "Epoch 3/32\n"
     ]
    },
    {
     "name": "stderr",
     "output_type": "stream",
     "text": [
      "100%|██████████| 2/2 [00:00<00:00,  6.73it/s]\n",
      "Testing: 100%|██████████| 1/1 [00:00<00:00, 33.79it/s]\n"
     ]
    },
    {
     "name": "stdout",
     "output_type": "stream",
     "text": [
      "====> Test set loss: 3239.7957 (BCE: 3239.2290, KLD: 0.5667)\n",
      "Epoch 4/32\n"
     ]
    },
    {
     "name": "stderr",
     "output_type": "stream",
     "text": [
      "100%|██████████| 2/2 [00:00<00:00,  5.94it/s]\n",
      "Testing: 100%|██████████| 1/1 [00:00<00:00, 24.70it/s]\n"
     ]
    },
    {
     "name": "stdout",
     "output_type": "stream",
     "text": [
      "====> Test set loss: 3128.1282 (BCE: 3123.0532, KLD: 5.0751)\n",
      "Epoch 5/32\n"
     ]
    },
    {
     "name": "stderr",
     "output_type": "stream",
     "text": [
      "100%|██████████| 2/2 [00:00<00:00,  5.50it/s]\n",
      "Testing: 100%|██████████| 1/1 [00:00<00:00, 26.35it/s]\n",
      "[I 2024-11-14 16:49:14,522] Trial 30 finished with value: 2774.876953125 and parameters: {'batch_size': 32, 'hidden_dim': 2000, 'latent_dim': 10, 'epochs': 32, 'learning_rate': 0.0002216624769763908}. Best is trial 24 with value: 2011.5826416015625.\n"
     ]
    },
    {
     "name": "stdout",
     "output_type": "stream",
     "text": [
      "====> Test set loss: 2774.8770 (BCE: 2744.2178, KLD: 30.6591)\n",
      "Early stopping...\n",
      "Epoch 1/47\n"
     ]
    },
    {
     "name": "stderr",
     "output_type": "stream",
     "text": [
      "  0%|          | 0/2 [00:00<?, ?it/s]"
     ]
    },
    {
     "name": "stdout",
     "output_type": "stream",
     "text": [
      "Step 0 (N samples: 0), Loss: 3352.2876 (Recon: 3327.4485, KL: 24.8392) Grad: 28.1741\n"
     ]
    },
    {
     "name": "stderr",
     "output_type": "stream",
     "text": [
      "100%|██████████| 2/2 [00:00<00:00,  2.97it/s]\n",
      "Testing: 100%|██████████| 1/1 [00:00<00:00, 18.57it/s]\n"
     ]
    },
    {
     "name": "stdout",
     "output_type": "stream",
     "text": [
      "====> Test set loss: 3253.5835 (BCE: 3239.3191, KLD: 14.2643)\n",
      "Epoch 2/47\n"
     ]
    },
    {
     "name": "stderr",
     "output_type": "stream",
     "text": [
      "100%|██████████| 2/2 [00:00<00:00,  3.40it/s]\n",
      "Testing: 100%|██████████| 1/1 [00:00<00:00, 23.35it/s]\n"
     ]
    },
    {
     "name": "stdout",
     "output_type": "stream",
     "text": [
      "====> Test set loss: 3118.1628 (BCE: 2505.8506, KLD: 612.3123)\n",
      "Epoch 3/47\n"
     ]
    },
    {
     "name": "stderr",
     "output_type": "stream",
     "text": [
      "100%|██████████| 2/2 [00:00<00:00,  3.43it/s]\n",
      "Testing: 100%|██████████| 1/1 [00:00<00:00, 15.30it/s]\n"
     ]
    },
    {
     "name": "stdout",
     "output_type": "stream",
     "text": [
      "====> Test set loss: 2293.7729 (BCE: 2231.5125, KLD: 62.2604)\n",
      "Epoch 4/47\n"
     ]
    },
    {
     "name": "stderr",
     "output_type": "stream",
     "text": [
      "100%|██████████| 2/2 [00:00<00:00,  3.06it/s]\n",
      "Testing: 100%|██████████| 1/1 [00:00<00:00, 19.46it/s]\n"
     ]
    },
    {
     "name": "stdout",
     "output_type": "stream",
     "text": [
      "====> Test set loss: 2085.6106 (BCE: 2071.3677, KLD: 14.2428)\n",
      "Epoch 5/47\n"
     ]
    },
    {
     "name": "stderr",
     "output_type": "stream",
     "text": [
      "100%|██████████| 2/2 [00:00<00:00,  3.18it/s]\n",
      "Testing: 100%|██████████| 1/1 [00:00<00:00, 19.04it/s]\n",
      "[I 2024-11-14 16:49:18,258] Trial 31 finished with value: 2085.610595703125 and parameters: {'batch_size': 32, 'hidden_dim': 3500, 'latent_dim': 230, 'epochs': 47, 'learning_rate': 0.0006274170145244254}. Best is trial 24 with value: 2011.5826416015625.\n"
     ]
    },
    {
     "name": "stdout",
     "output_type": "stream",
     "text": [
      "====> Test set loss: 2112.2930 (BCE: 2099.7913, KLD: 12.5016)\n",
      "Early stopping...\n",
      "Epoch 1/53\n"
     ]
    },
    {
     "name": "stderr",
     "output_type": "stream",
     "text": [
      "  0%|          | 0/2 [00:00<?, ?it/s]"
     ]
    },
    {
     "name": "stdout",
     "output_type": "stream",
     "text": [
      "Step 0 (N samples: 0), Loss: 3351.5916 (Recon: 3326.7397, KL: 24.8518) Grad: 28.3446\n"
     ]
    },
    {
     "name": "stderr",
     "output_type": "stream",
     "text": [
      "100%|██████████| 2/2 [00:00<00:00,  2.98it/s]\n",
      "Testing: 100%|██████████| 1/1 [00:00<00:00, 16.97it/s]\n"
     ]
    },
    {
     "name": "stdout",
     "output_type": "stream",
     "text": [
      "====> Test set loss: 3220.7451 (BCE: 3202.9009, KLD: 17.8443)\n",
      "Epoch 2/53\n"
     ]
    },
    {
     "name": "stderr",
     "output_type": "stream",
     "text": [
      "100%|██████████| 2/2 [00:00<00:00,  3.31it/s]\n",
      "Testing: 100%|██████████| 1/1 [00:00<00:00, 19.62it/s]\n"
     ]
    },
    {
     "name": "stdout",
     "output_type": "stream",
     "text": [
      "====> Test set loss: 4525.9146 (BCE: 3847.6870, KLD: 678.2277)\n",
      "Epoch 3/53\n"
     ]
    },
    {
     "name": "stderr",
     "output_type": "stream",
     "text": [
      "100%|██████████| 2/2 [00:00<00:00,  3.32it/s]\n",
      "Testing: 100%|██████████| 1/1 [00:00<00:00, 20.07it/s]\n"
     ]
    },
    {
     "name": "stdout",
     "output_type": "stream",
     "text": [
      "====> Test set loss: 2832.7527 (BCE: 2753.3760, KLD: 79.3767)\n",
      "Epoch 4/53\n"
     ]
    },
    {
     "name": "stderr",
     "output_type": "stream",
     "text": [
      "100%|██████████| 2/2 [00:00<00:00,  3.40it/s]\n",
      "Testing: 100%|██████████| 1/1 [00:00<00:00, 24.80it/s]\n"
     ]
    },
    {
     "name": "stdout",
     "output_type": "stream",
     "text": [
      "====> Test set loss: 2102.7407 (BCE: 2087.8718, KLD: 14.8689)\n",
      "Epoch 5/53\n"
     ]
    },
    {
     "name": "stderr",
     "output_type": "stream",
     "text": [
      "100%|██████████| 2/2 [00:00<00:00,  3.62it/s]\n",
      "Testing: 100%|██████████| 1/1 [00:00<00:00, 27.00it/s]\n",
      "[I 2024-11-14 16:49:21,803] Trial 32 finished with value: 2102.74072265625 and parameters: {'batch_size': 32, 'hidden_dim': 3500, 'latent_dim': 230, 'epochs': 53, 'learning_rate': 0.0007120368945509521}. Best is trial 24 with value: 2011.5826416015625.\n"
     ]
    },
    {
     "name": "stdout",
     "output_type": "stream",
     "text": [
      "====> Test set loss: 3078.0491 (BCE: 3000.7419, KLD: 77.3072)\n",
      "Early stopping...\n",
      "Epoch 1/42\n"
     ]
    },
    {
     "name": "stderr",
     "output_type": "stream",
     "text": [
      "  0%|          | 0/2 [00:00<?, ?it/s]"
     ]
    },
    {
     "name": "stdout",
     "output_type": "stream",
     "text": [
      "Step 0 (N samples: 0), Loss: 3346.4805 (Recon: 3327.3386, KL: 19.1419) Grad: 28.4977\n"
     ]
    },
    {
     "name": "stderr",
     "output_type": "stream",
     "text": [
      "100%|██████████| 2/2 [00:00<00:00,  4.15it/s]\n",
      "Testing: 100%|██████████| 1/1 [00:00<00:00, 26.50it/s]\n"
     ]
    },
    {
     "name": "stdout",
     "output_type": "stream",
     "text": [
      "====> Test set loss: 3294.5906 (BCE: 3280.6941, KLD: 13.8964)\n",
      "Epoch 2/42\n"
     ]
    },
    {
     "name": "stderr",
     "output_type": "stream",
     "text": [
      "100%|██████████| 2/2 [00:00<00:00,  4.31it/s]\n",
      "Testing: 100%|██████████| 1/1 [00:00<00:00, 27.29it/s]\n"
     ]
    },
    {
     "name": "stdout",
     "output_type": "stream",
     "text": [
      "====> Test set loss: 3027.6365 (BCE: 2952.4568, KLD: 75.1797)\n",
      "Epoch 3/42\n"
     ]
    },
    {
     "name": "stderr",
     "output_type": "stream",
     "text": [
      "100%|██████████| 2/2 [00:00<00:00,  4.35it/s]\n",
      "Testing: 100%|██████████| 1/1 [00:00<00:00, 28.83it/s]\n"
     ]
    },
    {
     "name": "stdout",
     "output_type": "stream",
     "text": [
      "====> Test set loss: 2678.2471 (BCE: 2390.2146, KLD: 288.0326)\n",
      "Epoch 4/42\n"
     ]
    },
    {
     "name": "stderr",
     "output_type": "stream",
     "text": [
      "100%|██████████| 2/2 [00:00<00:00,  4.46it/s]\n",
      "Testing: 100%|██████████| 1/1 [00:00<00:00, 26.71it/s]\n"
     ]
    },
    {
     "name": "stdout",
     "output_type": "stream",
     "text": [
      "====> Test set loss: 2120.0369 (BCE: 2088.1431, KLD: 31.8938)\n",
      "Epoch 5/42\n"
     ]
    },
    {
     "name": "stderr",
     "output_type": "stream",
     "text": [
      "100%|██████████| 2/2 [00:00<00:00,  4.37it/s]\n",
      "Testing: 100%|██████████| 1/1 [00:00<00:00, 13.31it/s]\n",
      "[I 2024-11-14 16:49:24,564] Trial 33 finished with value: 2078.635009765625 and parameters: {'batch_size': 32, 'hidden_dim': 3000, 'latent_dim': 180, 'epochs': 42, 'learning_rate': 0.00047054975293100477}. Best is trial 24 with value: 2011.5826416015625.\n"
     ]
    },
    {
     "name": "stdout",
     "output_type": "stream",
     "text": [
      "====> Test set loss: 2078.6350 (BCE: 2066.2241, KLD: 12.4109)\n",
      "Early stopping...\n",
      "Epoch 1/22\n"
     ]
    },
    {
     "name": "stderr",
     "output_type": "stream",
     "text": [
      "  0%|          | 0/2 [00:00<?, ?it/s]"
     ]
    },
    {
     "name": "stdout",
     "output_type": "stream",
     "text": [
      "Step 0 (N samples: 0), Loss: 3368.8567 (Recon: 3327.4849, KL: 41.3717) Grad: 29.4208\n"
     ]
    },
    {
     "name": "stderr",
     "output_type": "stream",
     "text": [
      "100%|██████████| 2/2 [00:00<00:00,  2.32it/s]\n",
      "Testing: 100%|██████████| 1/1 [00:00<00:00, 15.15it/s]\n"
     ]
    },
    {
     "name": "stdout",
     "output_type": "stream",
     "text": [
      "====> Test set loss: 23476.3672 (BCE: 9567.0312, KLD: 13909.3350)\n",
      "Epoch 2/22\n"
     ]
    },
    {
     "name": "stderr",
     "output_type": "stream",
     "text": [
      "100%|██████████| 2/2 [00:00<00:00,  2.48it/s]\n",
      "Testing: 100%|██████████| 1/1 [00:00<00:00, 15.08it/s]\n"
     ]
    },
    {
     "name": "stdout",
     "output_type": "stream",
     "text": [
      "====> Test set loss: 3698.0156 (BCE: 3149.6655, KLD: 548.3502)\n",
      "Epoch 3/22\n"
     ]
    },
    {
     "name": "stderr",
     "output_type": "stream",
     "text": [
      "100%|██████████| 2/2 [00:00<00:00,  2.49it/s]\n",
      "Testing: 100%|██████████| 1/1 [00:00<00:00, 13.10it/s]\n"
     ]
    },
    {
     "name": "stdout",
     "output_type": "stream",
     "text": [
      "====> Test set loss: 5108.0840 (BCE: 4903.2607, KLD: 204.8234)\n",
      "Epoch 4/22\n"
     ]
    },
    {
     "name": "stderr",
     "output_type": "stream",
     "text": [
      "100%|██████████| 2/2 [00:00<00:00,  2.55it/s]\n",
      "Testing: 100%|██████████| 1/1 [00:00<00:00, 14.17it/s]\n"
     ]
    },
    {
     "name": "stdout",
     "output_type": "stream",
     "text": [
      "====> Test set loss: 2214.1885 (BCE: 2185.0989, KLD: 29.0895)\n",
      "Epoch 5/22\n"
     ]
    },
    {
     "name": "stderr",
     "output_type": "stream",
     "text": [
      "100%|██████████| 2/2 [00:00<00:00,  2.47it/s]\n",
      "Testing: 100%|██████████| 1/1 [00:00<00:00, 14.11it/s]\n",
      "[I 2024-11-14 16:49:29,310] Trial 34 finished with value: 2214.1884765625 and parameters: {'batch_size': 32, 'hidden_dim': 4000, 'latent_dim': 390, 'epochs': 22, 'learning_rate': 0.0018579539048177976}. Best is trial 24 with value: 2011.5826416015625.\n"
     ]
    },
    {
     "name": "stdout",
     "output_type": "stream",
     "text": [
      "====> Test set loss: 2602.3918 (BCE: 2573.9045, KLD: 28.4872)\n",
      "Early stopping...\n",
      "Epoch 1/18\n"
     ]
    },
    {
     "name": "stderr",
     "output_type": "stream",
     "text": [
      "  0%|          | 0/1 [00:00<?, ?it/s]"
     ]
    },
    {
     "name": "stdout",
     "output_type": "stream",
     "text": [
      "Step 0 (N samples: 0), Loss: 3356.3386 (Recon: 3327.1431, KL: 29.1956) Grad: 28.5061\n"
     ]
    },
    {
     "name": "stderr",
     "output_type": "stream",
     "text": [
      "100%|██████████| 1/1 [00:00<00:00,  2.18it/s]\n",
      "Testing: 100%|██████████| 1/1 [00:00<00:00, 19.17it/s]\n"
     ]
    },
    {
     "name": "stdout",
     "output_type": "stream",
     "text": [
      "====> Test set loss: 3322.9099 (BCE: 3296.0405, KLD: 26.8694)\n",
      "Epoch 2/18\n"
     ]
    },
    {
     "name": "stderr",
     "output_type": "stream",
     "text": [
      "100%|██████████| 1/1 [00:00<00:00,  2.62it/s]\n",
      "Testing: 100%|██████████| 1/1 [00:00<00:00, 22.09it/s]\n"
     ]
    },
    {
     "name": "stdout",
     "output_type": "stream",
     "text": [
      "====> Test set loss: 3230.5869 (BCE: 3207.2854, KLD: 23.3015)\n",
      "Epoch 3/18\n"
     ]
    },
    {
     "name": "stderr",
     "output_type": "stream",
     "text": [
      "100%|██████████| 1/1 [00:00<00:00,  2.88it/s]\n",
      "Testing: 100%|██████████| 1/1 [00:00<00:00, 24.20it/s]\n"
     ]
    },
    {
     "name": "stdout",
     "output_type": "stream",
     "text": [
      "====> Test set loss: 2894.6191 (BCE: 2864.9070, KLD: 29.7123)\n",
      "Epoch 4/18\n"
     ]
    },
    {
     "name": "stderr",
     "output_type": "stream",
     "text": [
      "100%|██████████| 1/1 [00:00<00:00,  2.86it/s]\n",
      "Testing: 100%|██████████| 1/1 [00:00<00:00, 22.10it/s]\n"
     ]
    },
    {
     "name": "stdout",
     "output_type": "stream",
     "text": [
      "====> Test set loss: 2900.1140 (BCE: 2592.4744, KLD: 307.6397)\n",
      "Epoch 5/18\n"
     ]
    },
    {
     "name": "stderr",
     "output_type": "stream",
     "text": [
      "100%|██████████| 1/1 [00:00<00:00,  2.83it/s]\n",
      "Testing: 100%|██████████| 1/1 [00:00<00:00, 19.45it/s]\n",
      "[I 2024-11-14 16:49:31,729] Trial 35 finished with value: 2894.619140625 and parameters: {'batch_size': 128, 'hidden_dim': 3500, 'latent_dim': 270, 'epochs': 18, 'learning_rate': 0.0006936418002549666}. Best is trial 24 with value: 2011.5826416015625.\n"
     ]
    },
    {
     "name": "stdout",
     "output_type": "stream",
     "text": [
      "====> Test set loss: 3154.3262 (BCE: 2990.6277, KLD: 163.6984)\n",
      "Early stopping...\n",
      "Epoch 1/59\n"
     ]
    },
    {
     "name": "stderr",
     "output_type": "stream",
     "text": [
      "  0%|          | 0/2 [00:00<?, ?it/s]"
     ]
    },
    {
     "name": "stdout",
     "output_type": "stream",
     "text": [
      "Step 0 (N samples: 0), Loss: 3336.4375 (Recon: 3326.7573, KL: 9.6802) Grad: 28.5732\n"
     ]
    },
    {
     "name": "stderr",
     "output_type": "stream",
     "text": [
      "100%|██████████| 2/2 [00:00<00:00,  3.82it/s]\n",
      "Testing: 100%|██████████| 1/1 [00:00<00:00, 25.34it/s]\n"
     ]
    },
    {
     "name": "stdout",
     "output_type": "stream",
     "text": [
      "====> Test set loss: 3319.0908 (BCE: 3310.2881, KLD: 8.8027)\n",
      "Epoch 2/59\n"
     ]
    },
    {
     "name": "stderr",
     "output_type": "stream",
     "text": [
      "100%|██████████| 2/2 [00:00<00:00,  4.46it/s]\n",
      "Testing: 100%|██████████| 1/1 [00:00<00:00, 29.63it/s]\n"
     ]
    },
    {
     "name": "stdout",
     "output_type": "stream",
     "text": [
      "====> Test set loss: 3288.8074 (BCE: 3282.7896, KLD: 6.0178)\n",
      "Epoch 3/59\n"
     ]
    },
    {
     "name": "stderr",
     "output_type": "stream",
     "text": [
      "100%|██████████| 2/2 [00:00<00:00,  3.74it/s]\n",
      "Testing: 100%|██████████| 1/1 [00:00<00:00, 25.14it/s]\n"
     ]
    },
    {
     "name": "stdout",
     "output_type": "stream",
     "text": [
      "====> Test set loss: 3216.0835 (BCE: 3208.4949, KLD: 7.5887)\n",
      "Epoch 4/59\n"
     ]
    },
    {
     "name": "stderr",
     "output_type": "stream",
     "text": [
      "100%|██████████| 2/2 [00:00<00:00,  3.87it/s]\n",
      "Testing: 100%|██████████| 1/1 [00:00<00:00, 25.76it/s]\n"
     ]
    },
    {
     "name": "stdout",
     "output_type": "stream",
     "text": [
      "====> Test set loss: 2964.1526 (BCE: 2874.4565, KLD: 89.6961)\n",
      "Epoch 5/59\n"
     ]
    },
    {
     "name": "stderr",
     "output_type": "stream",
     "text": [
      "100%|██████████| 2/2 [00:00<00:00,  4.22it/s]\n",
      "Testing: 100%|██████████| 1/1 [00:00<00:00, 27.12it/s]\n",
      "[I 2024-11-14 16:49:34,660] Trial 36 finished with value: 2728.1416015625 and parameters: {'batch_size': 32, 'hidden_dim': 3000, 'latent_dim': 90, 'epochs': 59, 'learning_rate': 0.0001957053500292502}. Best is trial 24 with value: 2011.5826416015625.\n"
     ]
    },
    {
     "name": "stdout",
     "output_type": "stream",
     "text": [
      "====> Test set loss: 2728.1416 (BCE: 2240.8296, KLD: 487.3120)\n",
      "Early stopping...\n",
      "Epoch 1/26\n"
     ]
    },
    {
     "name": "stderr",
     "output_type": "stream",
     "text": [
      "  0%|          | 0/1 [00:00<?, ?it/s]"
     ]
    },
    {
     "name": "stdout",
     "output_type": "stream",
     "text": [
      "Step 0 (N samples: 0), Loss: 3350.5710 (Recon: 3327.0056, KL: 23.5653) Grad: 28.3710\n"
     ]
    },
    {
     "name": "stderr",
     "output_type": "stream",
     "text": [
      "100%|██████████| 1/1 [00:00<00:00,  2.33it/s]\n",
      "Testing: 100%|██████████| 1/1 [00:00<00:00, 20.25it/s]\n"
     ]
    },
    {
     "name": "stdout",
     "output_type": "stream",
     "text": [
      "====> Test set loss: 3265.0061 (BCE: 3248.9810, KLD: 16.0251)\n",
      "Epoch 2/26\n"
     ]
    },
    {
     "name": "stderr",
     "output_type": "stream",
     "text": [
      "100%|██████████| 1/1 [00:00<00:00,  2.66it/s]\n",
      "Testing: 100%|██████████| 1/1 [00:00<00:00, 21.49it/s]\n"
     ]
    },
    {
     "name": "stdout",
     "output_type": "stream",
     "text": [
      "====> Test set loss: 26464.3477 (BCE: 14174.0439, KLD: 12290.3027)\n",
      "Epoch 3/26\n"
     ]
    },
    {
     "name": "stderr",
     "output_type": "stream",
     "text": [
      "100%|██████████| 1/1 [00:00<00:00,  2.55it/s]\n",
      "Testing: 100%|██████████| 1/1 [00:00<00:00, 22.07it/s]\n"
     ]
    },
    {
     "name": "stdout",
     "output_type": "stream",
     "text": [
      "====> Test set loss: 2961.7688 (BCE: 2458.5134, KLD: 503.2553)\n",
      "Epoch 4/26\n"
     ]
    },
    {
     "name": "stderr",
     "output_type": "stream",
     "text": [
      "100%|██████████| 1/1 [00:00<00:00,  2.29it/s]\n",
      "Testing: 100%|██████████| 1/1 [00:00<00:00, 20.62it/s]\n"
     ]
    },
    {
     "name": "stdout",
     "output_type": "stream",
     "text": [
      "====> Test set loss: 2507.4873 (BCE: 2465.5127, KLD: 41.9746)\n",
      "Epoch 5/26\n"
     ]
    },
    {
     "name": "stderr",
     "output_type": "stream",
     "text": [
      "100%|██████████| 1/1 [00:00<00:00,  2.41it/s]\n",
      "Testing: 100%|██████████| 1/1 [00:00<00:00, 20.15it/s]\n",
      "[I 2024-11-14 16:49:37,250] Trial 37 finished with value: 2146.450439453125 and parameters: {'batch_size': 128, 'hidden_dim': 4000, 'latent_dim': 220, 'epochs': 26, 'learning_rate': 0.001603024441328009}. Best is trial 24 with value: 2011.5826416015625.\n"
     ]
    },
    {
     "name": "stdout",
     "output_type": "stream",
     "text": [
      "====> Test set loss: 2146.4504 (BCE: 2107.2722, KLD: 39.1782)\n",
      "Early stopping...\n",
      "Epoch 1/36\n"
     ]
    },
    {
     "name": "stderr",
     "output_type": "stream",
     "text": [
      "  0%|          | 0/1 [00:00<?, ?it/s]"
     ]
    },
    {
     "name": "stdout",
     "output_type": "stream",
     "text": [
      "Step 0 (N samples: 0), Loss: 3382.6814 (Recon: 3327.1174, KL: 55.5639) Grad: 29.3185\n"
     ]
    },
    {
     "name": "stderr",
     "output_type": "stream",
     "text": [
      "100%|██████████| 1/1 [00:00<00:00,  1.41it/s]\n",
      "Testing: 100%|██████████| 1/1 [00:00<00:00,  9.79it/s]\n"
     ]
    },
    {
     "name": "stdout",
     "output_type": "stream",
     "text": [
      "====> Test set loss: 3236.9226 (BCE: 3182.5474, KLD: 54.3754)\n",
      "Epoch 2/36\n"
     ]
    },
    {
     "name": "stderr",
     "output_type": "stream",
     "text": [
      "100%|██████████| 1/1 [00:00<00:00,  1.65it/s]\n",
      "Testing: 100%|██████████| 1/1 [00:00<00:00, 13.47it/s]\n"
     ]
    },
    {
     "name": "stdout",
     "output_type": "stream",
     "text": [
      "====> Test set loss: 36946.9883 (BCE: 29247.4336, KLD: 7699.5542)\n",
      "Epoch 3/36\n"
     ]
    },
    {
     "name": "stderr",
     "output_type": "stream",
     "text": [
      "100%|██████████| 1/1 [00:00<00:00,  1.79it/s]\n",
      "Testing: 100%|██████████| 1/1 [00:00<00:00, 13.20it/s]\n"
     ]
    },
    {
     "name": "stdout",
     "output_type": "stream",
     "text": [
      "====> Test set loss: 6534878.5000 (BCE: 81488.2109, KLD: 6453390.5000)\n",
      "Epoch 4/36\n"
     ]
    },
    {
     "name": "stderr",
     "output_type": "stream",
     "text": [
      "100%|██████████| 1/1 [00:00<00:00,  1.95it/s]\n",
      "Testing: 100%|██████████| 1/1 [00:00<00:00, 14.30it/s]\n"
     ]
    },
    {
     "name": "stdout",
     "output_type": "stream",
     "text": [
      "====> Test set loss: 472299.5938 (BCE: 81427.6328, KLD: 390871.9688)\n",
      "Epoch 5/36\n"
     ]
    },
    {
     "name": "stderr",
     "output_type": "stream",
     "text": [
      "100%|██████████| 1/1 [00:00<00:00,  1.92it/s]\n",
      "Testing: 100%|██████████| 1/1 [00:00<00:00, 13.98it/s]\n",
      "[I 2024-11-14 16:49:40,854] Trial 38 finished with value: 3236.922607421875 and parameters: {'batch_size': 64, 'hidden_dim': 3500, 'latent_dim': 520, 'epochs': 36, 'learning_rate': 0.003476952808304161}. Best is trial 24 with value: 2011.5826416015625.\n"
     ]
    },
    {
     "name": "stdout",
     "output_type": "stream",
     "text": [
      "====> Test set loss: 123584.1406 (BCE: 105497.4688, KLD: 18086.6758)\n",
      "Early stopping...\n",
      "Epoch 1/44\n"
     ]
    },
    {
     "name": "stderr",
     "output_type": "stream",
     "text": [
      " 50%|█████     | 1/2 [00:00<00:00,  3.94it/s]"
     ]
    },
    {
     "name": "stdout",
     "output_type": "stream",
     "text": [
      "Step 0 (N samples: 0), Loss: 3344.4148 (Recon: 3327.1045, KL: 17.3103) Grad: 27.7788\n"
     ]
    },
    {
     "name": "stderr",
     "output_type": "stream",
     "text": [
      "100%|██████████| 2/2 [00:00<00:00,  4.29it/s]\n",
      "Testing: 100%|██████████| 1/1 [00:00<00:00, 22.47it/s]\n"
     ]
    },
    {
     "name": "stdout",
     "output_type": "stream",
     "text": [
      "====> Test set loss: 3215.1545 (BCE: 3191.2993, KLD: 23.8552)\n",
      "Epoch 2/44\n"
     ]
    },
    {
     "name": "stderr",
     "output_type": "stream",
     "text": [
      "100%|██████████| 2/2 [00:00<00:00,  4.80it/s]\n",
      "Testing: 100%|██████████| 1/1 [00:00<00:00, 29.44it/s]\n"
     ]
    },
    {
     "name": "stdout",
     "output_type": "stream",
     "text": [
      "====> Test set loss: 2458.3560 (BCE: 2314.9131, KLD: 143.4429)\n",
      "Epoch 3/44\n"
     ]
    },
    {
     "name": "stderr",
     "output_type": "stream",
     "text": [
      "100%|██████████| 2/2 [00:00<00:00,  4.50it/s]\n",
      "Testing: 100%|██████████| 1/1 [00:00<00:00, 26.87it/s]\n"
     ]
    },
    {
     "name": "stdout",
     "output_type": "stream",
     "text": [
      "====> Test set loss: 2120.7041 (BCE: 2102.9167, KLD: 17.7872)\n",
      "Epoch 4/44\n"
     ]
    },
    {
     "name": "stderr",
     "output_type": "stream",
     "text": [
      "100%|██████████| 2/2 [00:00<00:00,  4.81it/s]\n",
      "Testing: 100%|██████████| 1/1 [00:00<00:00, 31.73it/s]\n"
     ]
    },
    {
     "name": "stdout",
     "output_type": "stream",
     "text": [
      "====> Test set loss: 2038.4476 (BCE: 2029.3033, KLD: 9.1443)\n",
      "Epoch 5/44\n"
     ]
    },
    {
     "name": "stderr",
     "output_type": "stream",
     "text": [
      "100%|██████████| 2/2 [00:00<00:00,  4.88it/s]\n",
      "Testing: 100%|██████████| 1/1 [00:00<00:00, 29.34it/s]\n",
      "[I 2024-11-14 16:49:43,402] Trial 39 finished with value: 2038.4476318359375 and parameters: {'batch_size': 32, 'hidden_dim': 3000, 'latent_dim': 160, 'epochs': 44, 'learning_rate': 0.0008586814006636322}. Best is trial 24 with value: 2011.5826416015625.\n"
     ]
    },
    {
     "name": "stdout",
     "output_type": "stream",
     "text": [
      "====> Test set loss: 4839.7666 (BCE: 4714.6318, KLD: 125.1350)\n",
      "Early stopping...\n",
      "Epoch 1/98\n"
     ]
    },
    {
     "name": "stderr",
     "output_type": "stream",
     "text": [
      " 50%|█████     | 1/2 [00:00<00:00,  4.30it/s]"
     ]
    },
    {
     "name": "stdout",
     "output_type": "stream",
     "text": [
      "Step 0 (N samples: 0), Loss: 3341.4231 (Recon: 3327.4324, KL: 13.9908) Grad: 27.8322\n"
     ]
    },
    {
     "name": "stderr",
     "output_type": "stream",
     "text": [
      "100%|██████████| 2/2 [00:00<00:00,  5.13it/s]\n",
      "Testing: 100%|██████████| 1/1 [00:00<00:00, 26.91it/s]\n"
     ]
    },
    {
     "name": "stdout",
     "output_type": "stream",
     "text": [
      "====> Test set loss: 353484.6250 (BCE: 81576.3672, KLD: 271908.2500)\n",
      "Epoch 2/98\n"
     ]
    },
    {
     "name": "stderr",
     "output_type": "stream",
     "text": [
      "100%|██████████| 2/2 [00:00<00:00,  5.81it/s]\n",
      "Testing: 100%|██████████| 1/1 [00:00<00:00, 27.70it/s]\n"
     ]
    },
    {
     "name": "stdout",
     "output_type": "stream",
     "text": [
      "====> Test set loss: 20030664.0000 (BCE: 81605.8984, KLD: 19949058.0000)\n",
      "Epoch 3/98\n"
     ]
    },
    {
     "name": "stderr",
     "output_type": "stream",
     "text": [
      "100%|██████████| 2/2 [00:00<00:00,  5.31it/s]\n",
      "Testing: 100%|██████████| 1/1 [00:00<00:00, 26.85it/s]\n"
     ]
    },
    {
     "name": "stdout",
     "output_type": "stream",
     "text": [
      "====> Test set loss: 29599348.0000 (BCE: 81620.2578, KLD: 29517728.0000)\n",
      "Epoch 4/98\n"
     ]
    },
    {
     "name": "stderr",
     "output_type": "stream",
     "text": [
      "100%|██████████| 2/2 [00:00<00:00,  5.53it/s]\n",
      "Testing: 100%|██████████| 1/1 [00:00<00:00, 33.06it/s]\n"
     ]
    },
    {
     "name": "stdout",
     "output_type": "stream",
     "text": [
      "====> Test set loss: 791855.2500 (BCE: 81602.9688, KLD: 710252.3125)\n",
      "Epoch 5/98\n"
     ]
    },
    {
     "name": "stderr",
     "output_type": "stream",
     "text": [
      "100%|██████████| 2/2 [00:00<00:00,  5.74it/s]\n",
      "Testing: 100%|██████████| 1/1 [00:00<00:00, 32.79it/s]\n",
      "[I 2024-11-14 16:49:45,571] Trial 40 finished with value: 226160.015625 and parameters: {'batch_size': 32, 'hidden_dim': 2500, 'latent_dim': 130, 'epochs': 98, 'learning_rate': 0.00932507296145644}. Best is trial 24 with value: 2011.5826416015625.\n"
     ]
    },
    {
     "name": "stdout",
     "output_type": "stream",
     "text": [
      "====> Test set loss: 226160.0156 (BCE: 81622.6094, KLD: 144537.4062)\n",
      "Early stopping...\n",
      "Epoch 1/44\n"
     ]
    },
    {
     "name": "stderr",
     "output_type": "stream",
     "text": [
      " 50%|█████     | 1/2 [00:00<00:00,  3.88it/s]"
     ]
    },
    {
     "name": "stdout",
     "output_type": "stream",
     "text": [
      "Step 0 (N samples: 0), Loss: 3347.5366 (Recon: 3327.0498, KL: 20.4868) Grad: 28.3156\n"
     ]
    },
    {
     "name": "stderr",
     "output_type": "stream",
     "text": [
      "100%|██████████| 2/2 [00:00<00:00,  4.46it/s]\n",
      "Testing: 100%|██████████| 1/1 [00:00<00:00, 29.45it/s]\n"
     ]
    },
    {
     "name": "stdout",
     "output_type": "stream",
     "text": [
      "====> Test set loss: 3223.5317 (BCE: 3190.4136, KLD: 33.1181)\n",
      "Epoch 2/44\n"
     ]
    },
    {
     "name": "stderr",
     "output_type": "stream",
     "text": [
      "100%|██████████| 2/2 [00:00<00:00,  4.89it/s]\n",
      "Testing: 100%|██████████| 1/1 [00:00<00:00, 28.12it/s]\n"
     ]
    },
    {
     "name": "stdout",
     "output_type": "stream",
     "text": [
      "====> Test set loss: 2311.7920 (BCE: 2206.5432, KLD: 105.2487)\n",
      "Epoch 3/44\n"
     ]
    },
    {
     "name": "stderr",
     "output_type": "stream",
     "text": [
      "100%|██████████| 2/2 [00:00<00:00,  4.98it/s]\n",
      "Testing: 100%|██████████| 1/1 [00:00<00:00, 30.02it/s]\n"
     ]
    },
    {
     "name": "stdout",
     "output_type": "stream",
     "text": [
      "====> Test set loss: 2103.7122 (BCE: 2089.9282, KLD: 13.7839)\n",
      "Epoch 4/44\n"
     ]
    },
    {
     "name": "stderr",
     "output_type": "stream",
     "text": [
      "100%|██████████| 2/2 [00:00<00:00,  4.66it/s]\n",
      "Testing: 100%|██████████| 1/1 [00:00<00:00, 26.29it/s]\n"
     ]
    },
    {
     "name": "stdout",
     "output_type": "stream",
     "text": [
      "====> Test set loss: 2031.4974 (BCE: 2022.1034, KLD: 9.3941)\n",
      "Epoch 5/44\n"
     ]
    },
    {
     "name": "stderr",
     "output_type": "stream",
     "text": [
      "100%|██████████| 2/2 [00:00<00:00,  4.52it/s]\n",
      "Testing: 100%|██████████| 1/1 [00:00<00:00, 17.97it/s]\n",
      "[I 2024-11-14 16:49:48,112] Trial 41 finished with value: 2031.4974365234375 and parameters: {'batch_size': 32, 'hidden_dim': 3000, 'latent_dim': 190, 'epochs': 44, 'learning_rate': 0.0008735375835462416}. Best is trial 24 with value: 2011.5826416015625.\n"
     ]
    },
    {
     "name": "stdout",
     "output_type": "stream",
     "text": [
      "====> Test set loss: 2062.9370 (BCE: 2052.8064, KLD: 10.1307)\n",
      "Early stopping...\n",
      "Epoch 1/57\n"
     ]
    },
    {
     "name": "stderr",
     "output_type": "stream",
     "text": [
      "  0%|          | 0/2 [00:00<?, ?it/s]"
     ]
    },
    {
     "name": "stdout",
     "output_type": "stream",
     "text": [
      "Step 0 (N samples: 0), Loss: 3334.7544 (Recon: 3327.2280, KL: 7.5265) Grad: 28.2345\n"
     ]
    },
    {
     "name": "stderr",
     "output_type": "stream",
     "text": [
      "100%|██████████| 2/2 [00:00<00:00,  4.39it/s]\n",
      "Testing: 100%|██████████| 1/1 [00:00<00:00, 32.96it/s]\n"
     ]
    },
    {
     "name": "stdout",
     "output_type": "stream",
     "text": [
      "====> Test set loss: 3010.4468 (BCE: 2907.8352, KLD: 102.6116)\n",
      "Epoch 2/57\n"
     ]
    },
    {
     "name": "stderr",
     "output_type": "stream",
     "text": [
      "100%|██████████| 2/2 [00:00<00:00,  4.90it/s]\n",
      "Testing: 100%|██████████| 1/1 [00:00<00:00, 32.05it/s]\n"
     ]
    },
    {
     "name": "stdout",
     "output_type": "stream",
     "text": [
      "====> Test set loss: 3481.9888 (BCE: 3319.9214, KLD: 162.0675)\n",
      "Epoch 3/57\n"
     ]
    },
    {
     "name": "stderr",
     "output_type": "stream",
     "text": [
      "100%|██████████| 2/2 [00:00<00:00,  4.63it/s]\n",
      "Testing: 100%|██████████| 1/1 [00:00<00:00, 29.21it/s]\n"
     ]
    },
    {
     "name": "stdout",
     "output_type": "stream",
     "text": [
      "====> Test set loss: 2087.7754 (BCE: 2081.8557, KLD: 5.9197)\n",
      "Epoch 4/57\n"
     ]
    },
    {
     "name": "stderr",
     "output_type": "stream",
     "text": [
      "100%|██████████| 2/2 [00:00<00:00,  4.76it/s]\n",
      "Testing: 100%|██████████| 1/1 [00:00<00:00, 29.49it/s]\n"
     ]
    },
    {
     "name": "stdout",
     "output_type": "stream",
     "text": [
      "====> Test set loss: 2144.0054 (BCE: 2138.6982, KLD: 5.3072)\n",
      "Epoch 5/57\n"
     ]
    },
    {
     "name": "stderr",
     "output_type": "stream",
     "text": [
      "100%|██████████| 2/2 [00:00<00:00,  4.68it/s]\n",
      "Testing: 100%|██████████| 1/1 [00:00<00:00, 25.41it/s]\n",
      "[I 2024-11-14 16:49:50,653] Trial 42 finished with value: 2031.2645263671875 and parameters: {'batch_size': 32, 'hidden_dim': 3000, 'latent_dim': 70, 'epochs': 57, 'learning_rate': 0.0011567739175435603}. Best is trial 24 with value: 2011.5826416015625.\n"
     ]
    },
    {
     "name": "stdout",
     "output_type": "stream",
     "text": [
      "====> Test set loss: 2031.2645 (BCE: 2025.9249, KLD: 5.3397)\n",
      "Early stopping...\n",
      "Epoch 1/62\n"
     ]
    },
    {
     "name": "stderr",
     "output_type": "stream",
     "text": [
      " 50%|█████     | 1/2 [00:00<00:00,  4.27it/s]"
     ]
    },
    {
     "name": "stdout",
     "output_type": "stream",
     "text": [
      "Step 0 (N samples: 0), Loss: 3336.0234 (Recon: 3327.5625, KL: 8.4610) Grad: 27.8335\n"
     ]
    },
    {
     "name": "stderr",
     "output_type": "stream",
     "text": [
      "100%|██████████| 2/2 [00:00<00:00,  4.94it/s]\n",
      "Testing: 100%|██████████| 1/1 [00:00<00:00, 33.36it/s]\n"
     ]
    },
    {
     "name": "stdout",
     "output_type": "stream",
     "text": [
      "====> Test set loss: 3038.7122 (BCE: 2814.7158, KLD: 223.9964)\n",
      "Epoch 2/62\n"
     ]
    },
    {
     "name": "stderr",
     "output_type": "stream",
     "text": [
      "100%|██████████| 2/2 [00:00<00:00,  6.00it/s]\n",
      "Testing: 100%|██████████| 1/1 [00:00<00:00, 30.40it/s]\n"
     ]
    },
    {
     "name": "stdout",
     "output_type": "stream",
     "text": [
      "====> Test set loss: 2103.8516 (BCE: 2092.0125, KLD: 11.8391)\n",
      "Epoch 3/62\n"
     ]
    },
    {
     "name": "stderr",
     "output_type": "stream",
     "text": [
      "100%|██████████| 2/2 [00:00<00:00,  5.78it/s]\n",
      "Testing: 100%|██████████| 1/1 [00:00<00:00, 28.90it/s]\n"
     ]
    },
    {
     "name": "stdout",
     "output_type": "stream",
     "text": [
      "====> Test set loss: 3138.6333 (BCE: 3126.3892, KLD: 12.2442)\n",
      "Epoch 4/62\n"
     ]
    },
    {
     "name": "stderr",
     "output_type": "stream",
     "text": [
      "100%|██████████| 2/2 [00:00<00:00,  5.55it/s]\n",
      "Testing: 100%|██████████| 1/1 [00:00<00:00, 28.48it/s]\n"
     ]
    },
    {
     "name": "stdout",
     "output_type": "stream",
     "text": [
      "====> Test set loss: 2144.6130 (BCE: 2137.8542, KLD: 6.7588)\n",
      "Epoch 5/62\n"
     ]
    },
    {
     "name": "stderr",
     "output_type": "stream",
     "text": [
      "100%|██████████| 2/2 [00:00<00:00,  5.38it/s]\n",
      "Testing: 100%|██████████| 1/1 [00:00<00:00, 32.82it/s]\n",
      "[I 2024-11-14 16:49:52,826] Trial 43 finished with value: 2103.8515625 and parameters: {'batch_size': 32, 'hidden_dim': 2500, 'latent_dim': 80, 'epochs': 62, 'learning_rate': 0.0013628976956405064}. Best is trial 24 with value: 2011.5826416015625.\n"
     ]
    },
    {
     "name": "stdout",
     "output_type": "stream",
     "text": [
      "====> Test set loss: 2143.8750 (BCE: 2128.3726, KLD: 15.5025)\n",
      "Early stopping...\n",
      "Epoch 1/55\n"
     ]
    },
    {
     "name": "stderr",
     "output_type": "stream",
     "text": [
      " 50%|█████     | 1/2 [00:00<00:00,  4.06it/s]"
     ]
    },
    {
     "name": "stdout",
     "output_type": "stream",
     "text": [
      "Step 0 (N samples: 0), Loss: 3333.6028 (Recon: 3327.0652, KL: 6.5376) Grad: 28.1032\n"
     ]
    },
    {
     "name": "stderr",
     "output_type": "stream",
     "text": [
      "100%|██████████| 2/2 [00:00<00:00,  4.53it/s]\n",
      "Testing: 100%|██████████| 1/1 [00:00<00:00, 27.39it/s]\n"
     ]
    },
    {
     "name": "stdout",
     "output_type": "stream",
     "text": [
      "====> Test set loss: 10228.8613 (BCE: 7280.9009, KLD: 2947.9609)\n",
      "Epoch 2/55\n"
     ]
    },
    {
     "name": "stderr",
     "output_type": "stream",
     "text": [
      "100%|██████████| 2/2 [00:00<00:00,  4.77it/s]\n",
      "Testing: 100%|██████████| 1/1 [00:00<00:00, 30.53it/s]\n"
     ]
    },
    {
     "name": "stdout",
     "output_type": "stream",
     "text": [
      "====> Test set loss: 2329.0972 (BCE: 2314.3992, KLD: 14.6980)\n",
      "Epoch 3/55\n"
     ]
    },
    {
     "name": "stderr",
     "output_type": "stream",
     "text": [
      "100%|██████████| 2/2 [00:00<00:00,  5.03it/s]\n",
      "Testing: 100%|██████████| 1/1 [00:00<00:00, 33.98it/s]\n"
     ]
    },
    {
     "name": "stdout",
     "output_type": "stream",
     "text": [
      "====> Test set loss: 3187.0464 (BCE: 3116.0234, KLD: 71.0229)\n",
      "Epoch 4/55\n"
     ]
    },
    {
     "name": "stderr",
     "output_type": "stream",
     "text": [
      "100%|██████████| 2/2 [00:00<00:00,  4.99it/s]\n",
      "Testing: 100%|██████████| 1/1 [00:00<00:00, 31.70it/s]\n"
     ]
    },
    {
     "name": "stdout",
     "output_type": "stream",
     "text": [
      "====> Test set loss: 2759.0002 (BCE: 2752.6565, KLD: 6.3438)\n",
      "Epoch 5/55\n"
     ]
    },
    {
     "name": "stderr",
     "output_type": "stream",
     "text": [
      "100%|██████████| 2/2 [00:00<00:00,  4.90it/s]\n",
      "Testing: 100%|██████████| 1/1 [00:00<00:00, 32.98it/s]\n",
      "[I 2024-11-14 16:49:55,271] Trial 44 finished with value: 2261.9423828125 and parameters: {'batch_size': 32, 'hidden_dim': 3000, 'latent_dim': 60, 'epochs': 55, 'learning_rate': 0.001998100264928729}. Best is trial 24 with value: 2011.5826416015625.\n"
     ]
    },
    {
     "name": "stdout",
     "output_type": "stream",
     "text": [
      "====> Test set loss: 2261.9424 (BCE: 2253.2188, KLD: 8.7237)\n",
      "Early stopping...\n",
      "Epoch 1/70\n"
     ]
    },
    {
     "name": "stderr",
     "output_type": "stream",
     "text": [
      " 33%|███▎      | 1/3 [00:00<00:00,  5.25it/s]"
     ]
    },
    {
     "name": "stdout",
     "output_type": "stream",
     "text": [
      "Step 0 (N samples: 0), Loss: 3327.9177 (Recon: 3326.8726, KL: 1.0451) Grad: 28.2161\n"
     ]
    },
    {
     "name": "stderr",
     "output_type": "stream",
     "text": [
      "100%|██████████| 3/3 [00:00<00:00,  5.92it/s]\n",
      "Testing: 100%|██████████| 1/1 [00:00<00:00, 33.28it/s]\n"
     ]
    },
    {
     "name": "stdout",
     "output_type": "stream",
     "text": [
      "====> Test set loss: 2401.1489 (BCE: 2340.0251, KLD: 61.1237)\n",
      "Epoch 2/70\n"
     ]
    },
    {
     "name": "stderr",
     "output_type": "stream",
     "text": [
      "100%|██████████| 3/3 [00:00<00:00,  6.46it/s]\n",
      "Testing: 100%|██████████| 1/1 [00:00<00:00, 32.80it/s]\n"
     ]
    },
    {
     "name": "stdout",
     "output_type": "stream",
     "text": [
      "====> Test set loss: 9561.1680 (BCE: 9199.4004, KLD: 361.7679)\n",
      "Epoch 3/70\n"
     ]
    },
    {
     "name": "stderr",
     "output_type": "stream",
     "text": [
      "100%|██████████| 3/3 [00:00<00:00,  6.51it/s]\n",
      "Testing: 100%|██████████| 1/1 [00:00<00:00, 35.19it/s]\n"
     ]
    },
    {
     "name": "stdout",
     "output_type": "stream",
     "text": [
      "====> Test set loss: 2062.8162 (BCE: 2061.7866, KLD: 1.0295)\n",
      "Epoch 4/70\n"
     ]
    },
    {
     "name": "stderr",
     "output_type": "stream",
     "text": [
      "100%|██████████| 3/3 [00:00<00:00,  5.87it/s]\n",
      "Testing: 100%|██████████| 1/1 [00:00<00:00, 28.38it/s]\n"
     ]
    },
    {
     "name": "stdout",
     "output_type": "stream",
     "text": [
      "====> Test set loss: 2018.4434 (BCE: 2015.4557, KLD: 2.9877)\n",
      "Epoch 5/70\n"
     ]
    },
    {
     "name": "stderr",
     "output_type": "stream",
     "text": [
      "100%|██████████| 3/3 [00:00<00:00,  6.31it/s]\n",
      "Testing: 100%|██████████| 1/1 [00:00<00:00, 36.18it/s]\n",
      "[I 2024-11-14 16:49:58,020] Trial 45 finished with value: 2000.05224609375 and parameters: {'batch_size': 16, 'hidden_dim': 2500, 'latent_dim': 10, 'epochs': 70, 'learning_rate': 0.0008977353657852202}. Best is trial 45 with value: 2000.05224609375.\n"
     ]
    },
    {
     "name": "stdout",
     "output_type": "stream",
     "text": [
      "====> Test set loss: 2000.0522 (BCE: 1995.8181, KLD: 4.2342)\n",
      "Early stopping...\n",
      "Epoch 1/72\n"
     ]
    },
    {
     "name": "stderr",
     "output_type": "stream",
     "text": [
      " 33%|███▎      | 1/3 [00:00<00:00,  5.56it/s]"
     ]
    },
    {
     "name": "stdout",
     "output_type": "stream",
     "text": [
      "Step 0 (N samples: 0), Loss: 3327.9038 (Recon: 3326.7800, KL: 1.1239) Grad: 28.3116\n"
     ]
    },
    {
     "name": "stderr",
     "output_type": "stream",
     "text": [
      "100%|██████████| 3/3 [00:00<00:00,  6.13it/s]\n",
      "Testing: 100%|██████████| 1/1 [00:00<00:00, 31.62it/s]\n"
     ]
    },
    {
     "name": "stdout",
     "output_type": "stream",
     "text": [
      "====> Test set loss: 3188.2358 (BCE: 2921.5166, KLD: 266.7193)\n",
      "Epoch 2/72\n"
     ]
    },
    {
     "name": "stderr",
     "output_type": "stream",
     "text": [
      "100%|██████████| 3/3 [00:00<00:00,  6.14it/s]\n",
      "Testing: 100%|██████████| 1/1 [00:00<00:00, 31.50it/s]\n"
     ]
    },
    {
     "name": "stdout",
     "output_type": "stream",
     "text": [
      "====> Test set loss: 2104.0315 (BCE: 2101.5940, KLD: 2.4375)\n",
      "Epoch 3/72\n"
     ]
    },
    {
     "name": "stderr",
     "output_type": "stream",
     "text": [
      "100%|██████████| 3/3 [00:00<00:00,  6.34it/s]\n",
      "Testing: 100%|██████████| 1/1 [00:00<00:00, 36.94it/s]\n"
     ]
    },
    {
     "name": "stdout",
     "output_type": "stream",
     "text": [
      "====> Test set loss: 2299.0310 (BCE: 2294.5129, KLD: 4.5180)\n",
      "Epoch 4/72\n"
     ]
    },
    {
     "name": "stderr",
     "output_type": "stream",
     "text": [
      "100%|██████████| 3/3 [00:00<00:00,  6.55it/s]\n",
      "Testing: 100%|██████████| 1/1 [00:00<00:00, 31.82it/s]\n"
     ]
    },
    {
     "name": "stdout",
     "output_type": "stream",
     "text": [
      "====> Test set loss: 2029.2994 (BCE: 2026.6974, KLD: 2.6020)\n",
      "Epoch 5/72\n"
     ]
    },
    {
     "name": "stderr",
     "output_type": "stream",
     "text": [
      "100%|██████████| 3/3 [00:00<00:00,  6.42it/s]\n",
      "Testing: 100%|██████████| 1/1 [00:00<00:00, 37.17it/s]\n",
      "[I 2024-11-14 16:50:00,731] Trial 46 finished with value: 2024.7352294921875 and parameters: {'batch_size': 16, 'hidden_dim': 2500, 'latent_dim': 10, 'epochs': 72, 'learning_rate': 0.0011108011223914711}. Best is trial 45 with value: 2000.05224609375.\n"
     ]
    },
    {
     "name": "stdout",
     "output_type": "stream",
     "text": [
      "====> Test set loss: 2024.7352 (BCE: 2022.6987, KLD: 2.0365)\n",
      "Early stopping...\n",
      "Epoch 1/77\n"
     ]
    },
    {
     "name": "stderr",
     "output_type": "stream",
     "text": [
      "  0%|          | 0/3 [00:00<?, ?it/s]"
     ]
    },
    {
     "name": "stdout",
     "output_type": "stream",
     "text": [
      "Step 0 (N samples: 0), Loss: 3330.1633 (Recon: 3326.8772, KL: 3.2860) Grad: 27.5110\n"
     ]
    },
    {
     "name": "stderr",
     "output_type": "stream",
     "text": [
      "100%|██████████| 3/3 [00:00<00:00,  7.43it/s]\n",
      "Testing: 100%|██████████| 1/1 [00:00<00:00, 35.71it/s]\n"
     ]
    },
    {
     "name": "stdout",
     "output_type": "stream",
     "text": [
      "====> Test set loss: 2431.7847 (BCE: 2256.9490, KLD: 174.8356)\n",
      "Epoch 2/77\n"
     ]
    },
    {
     "name": "stderr",
     "output_type": "stream",
     "text": [
      "100%|██████████| 3/3 [00:00<00:00,  8.39it/s]\n",
      "Testing: 100%|██████████| 1/1 [00:00<00:00, 34.39it/s]\n"
     ]
    },
    {
     "name": "stdout",
     "output_type": "stream",
     "text": [
      "====> Test set loss: 2141.4790 (BCE: 2130.7439, KLD: 10.7352)\n",
      "Epoch 3/77\n"
     ]
    },
    {
     "name": "stderr",
     "output_type": "stream",
     "text": [
      "100%|██████████| 3/3 [00:00<00:00,  7.99it/s]\n",
      "Testing: 100%|██████████| 1/1 [00:00<00:00, 32.46it/s]\n"
     ]
    },
    {
     "name": "stdout",
     "output_type": "stream",
     "text": [
      "====> Test set loss: 2044.8293 (BCE: 2041.1605, KLD: 3.6688)\n",
      "Epoch 4/77\n"
     ]
    },
    {
     "name": "stderr",
     "output_type": "stream",
     "text": [
      "100%|██████████| 3/3 [00:00<00:00,  8.18it/s]\n",
      "Testing: 100%|██████████| 1/1 [00:00<00:00, 35.56it/s]\n"
     ]
    },
    {
     "name": "stdout",
     "output_type": "stream",
     "text": [
      "====> Test set loss: 2019.7087 (BCE: 2015.8679, KLD: 3.8408)\n",
      "Epoch 5/77\n"
     ]
    },
    {
     "name": "stderr",
     "output_type": "stream",
     "text": [
      "100%|██████████| 3/3 [00:00<00:00,  8.29it/s]\n",
      "Testing: 100%|██████████| 1/1 [00:00<00:00, 33.80it/s]\n",
      "[I 2024-11-14 16:50:02,885] Trial 47 finished with value: 1993.71728515625 and parameters: {'batch_size': 16, 'hidden_dim': 2000, 'latent_dim': 30, 'epochs': 77, 'learning_rate': 0.0013039505192832476}. Best is trial 47 with value: 1993.71728515625.\n"
     ]
    },
    {
     "name": "stdout",
     "output_type": "stream",
     "text": [
      "====> Test set loss: 1993.7173 (BCE: 1989.3558, KLD: 4.3615)\n",
      "Early stopping...\n",
      "Epoch 1/78\n"
     ]
    },
    {
     "name": "stderr",
     "output_type": "stream",
     "text": [
      "  0%|          | 0/3 [00:00<?, ?it/s]"
     ]
    },
    {
     "name": "stdout",
     "output_type": "stream",
     "text": [
      "Step 0 (N samples: 0), Loss: 3328.8918 (Recon: 3327.8428, KL: 1.0490) Grad: 27.9397\n"
     ]
    },
    {
     "name": "stderr",
     "output_type": "stream",
     "text": [
      "100%|██████████| 3/3 [00:00<00:00,  9.83it/s]\n",
      "Testing: 100%|██████████| 1/1 [00:00<00:00, 28.84it/s]\n"
     ]
    },
    {
     "name": "stdout",
     "output_type": "stream",
     "text": [
      "====> Test set loss: 2781.9189 (BCE: 2749.9309, KLD: 31.9880)\n",
      "Epoch 2/78\n"
     ]
    },
    {
     "name": "stderr",
     "output_type": "stream",
     "text": [
      "100%|██████████| 3/3 [00:00<00:00, 10.03it/s]\n",
      "Testing: 100%|██████████| 1/1 [00:00<00:00, 29.74it/s]\n"
     ]
    },
    {
     "name": "stdout",
     "output_type": "stream",
     "text": [
      "====> Test set loss: 3342.1755 (BCE: 3211.0630, KLD: 131.1124)\n",
      "Epoch 3/78\n"
     ]
    },
    {
     "name": "stderr",
     "output_type": "stream",
     "text": [
      "100%|██████████| 3/3 [00:00<00:00, 10.08it/s]\n",
      "Testing: 100%|██████████| 1/1 [00:00<00:00, 39.34it/s]\n"
     ]
    },
    {
     "name": "stdout",
     "output_type": "stream",
     "text": [
      "====> Test set loss: 2062.9824 (BCE: 2060.7070, KLD: 2.2753)\n",
      "Epoch 4/78\n"
     ]
    },
    {
     "name": "stderr",
     "output_type": "stream",
     "text": [
      "100%|██████████| 3/3 [00:00<00:00, 11.03it/s]\n",
      "Testing: 100%|██████████| 1/1 [00:00<00:00, 37.66it/s]\n"
     ]
    },
    {
     "name": "stdout",
     "output_type": "stream",
     "text": [
      "====> Test set loss: 2006.5021 (BCE: 2005.4780, KLD: 1.0240)\n",
      "Epoch 5/78\n"
     ]
    },
    {
     "name": "stderr",
     "output_type": "stream",
     "text": [
      "100%|██████████| 3/3 [00:00<00:00, 10.17it/s]\n",
      "Testing: 100%|██████████| 1/1 [00:00<00:00, 36.17it/s]\n",
      "[I 2024-11-14 16:50:04,622] Trial 48 finished with value: 2006.5020751953125 and parameters: {'batch_size': 16, 'hidden_dim': 1500, 'latent_dim': 10, 'epochs': 78, 'learning_rate': 0.0012904551057475906}. Best is trial 47 with value: 1993.71728515625.\n"
     ]
    },
    {
     "name": "stdout",
     "output_type": "stream",
     "text": [
      "====> Test set loss: 2030.9913 (BCE: 2029.3181, KLD: 1.6733)\n",
      "Early stopping...\n",
      "Epoch 1/79\n"
     ]
    },
    {
     "name": "stderr",
     "output_type": "stream",
     "text": [
      " 33%|███▎      | 1/3 [00:00<00:00,  9.77it/s]"
     ]
    },
    {
     "name": "stdout",
     "output_type": "stream",
     "text": [
      "Step 0 (N samples: 0), Loss: 3328.6309 (Recon: 3327.4666, KL: 1.1643) Grad: 26.6534\n"
     ]
    },
    {
     "name": "stderr",
     "output_type": "stream",
     "text": [
      "100%|██████████| 3/3 [00:00<00:00, 10.57it/s]\n",
      "Testing: 100%|██████████| 1/1 [00:00<00:00, 33.69it/s]\n"
     ]
    },
    {
     "name": "stdout",
     "output_type": "stream",
     "text": [
      "====> Test set loss: 3283.5618 (BCE: 3283.0610, KLD: 0.5008)\n",
      "Epoch 2/79\n"
     ]
    },
    {
     "name": "stderr",
     "output_type": "stream",
     "text": [
      "100%|██████████| 3/3 [00:00<00:00, 10.37it/s]\n",
      "Testing: 100%|██████████| 1/1 [00:00<00:00, 35.69it/s]\n"
     ]
    },
    {
     "name": "stdout",
     "output_type": "stream",
     "text": [
      "====> Test set loss: 3082.5149 (BCE: 3076.0732, KLD: 6.4417)\n",
      "Epoch 3/79\n"
     ]
    },
    {
     "name": "stderr",
     "output_type": "stream",
     "text": [
      "100%|██████████| 3/3 [00:00<00:00, 11.39it/s]\n",
      "Testing: 100%|██████████| 1/1 [00:00<00:00, 39.80it/s]\n"
     ]
    },
    {
     "name": "stdout",
     "output_type": "stream",
     "text": [
      "====> Test set loss: 2461.6931 (BCE: 2301.0420, KLD: 160.6510)\n",
      "Epoch 4/79\n"
     ]
    },
    {
     "name": "stderr",
     "output_type": "stream",
     "text": [
      "100%|██████████| 3/3 [00:00<00:00, 11.45it/s]\n",
      "Testing: 100%|██████████| 1/1 [00:00<00:00, 37.52it/s]\n"
     ]
    },
    {
     "name": "stdout",
     "output_type": "stream",
     "text": [
      "====> Test set loss: 3003.8118 (BCE: 2807.9446, KLD: 195.8672)\n",
      "Epoch 5/79\n"
     ]
    },
    {
     "name": "stderr",
     "output_type": "stream",
     "text": [
      "100%|██████████| 3/3 [00:00<00:00, 10.55it/s]\n",
      "Testing: 100%|██████████| 1/1 [00:00<00:00, 36.06it/s]\n",
      "[I 2024-11-14 16:50:06,259] Trial 49 finished with value: 2250.450927734375 and parameters: {'batch_size': 16, 'hidden_dim': 1500, 'latent_dim': 10, 'epochs': 79, 'learning_rate': 0.00040301893371057093}. Best is trial 47 with value: 1993.71728515625.\n"
     ]
    },
    {
     "name": "stdout",
     "output_type": "stream",
     "text": [
      "====> Test set loss: 2250.4509 (BCE: 2192.9287, KLD: 57.5221)\n",
      "Early stopping...\n",
      "Epoch 1/85\n"
     ]
    },
    {
     "name": "stderr",
     "output_type": "stream",
     "text": [
      "  0%|          | 0/3 [00:00<?, ?it/s]"
     ]
    },
    {
     "name": "stdout",
     "output_type": "stream",
     "text": [
      "Step 0 (N samples: 0), Loss: 3333.8083 (Recon: 3327.4087, KL: 6.3996) Grad: 28.4695\n"
     ]
    },
    {
     "name": "stderr",
     "output_type": "stream",
     "text": [
      "100%|██████████| 3/3 [00:00<00:00, 10.28it/s]\n",
      "Testing: 100%|██████████| 1/1 [00:00<00:00, 38.75it/s]\n"
     ]
    },
    {
     "name": "stdout",
     "output_type": "stream",
     "text": [
      "====> Test set loss: 86978.8125 (BCE: 66700.7656, KLD: 20278.0430)\n",
      "Epoch 2/85\n"
     ]
    },
    {
     "name": "stderr",
     "output_type": "stream",
     "text": [
      "100%|██████████| 3/3 [00:00<00:00, 10.95it/s]\n",
      "Testing: 100%|██████████| 1/1 [00:00<00:00, 36.93it/s]\n"
     ]
    },
    {
     "name": "stdout",
     "output_type": "stream",
     "text": [
      "====> Test set loss: 29467.2832 (BCE: 28661.0234, KLD: 806.2600)\n",
      "Epoch 3/85\n"
     ]
    },
    {
     "name": "stderr",
     "output_type": "stream",
     "text": [
      "100%|██████████| 3/3 [00:00<00:00, 10.45it/s]\n",
      "Testing: 100%|██████████| 1/1 [00:00<00:00, 37.47it/s]\n"
     ]
    },
    {
     "name": "stdout",
     "output_type": "stream",
     "text": [
      "====> Test set loss: 13140.0391 (BCE: 13046.5410, KLD: 93.4976)\n",
      "Epoch 4/85\n"
     ]
    },
    {
     "name": "stderr",
     "output_type": "stream",
     "text": [
      "100%|██████████| 3/3 [00:00<00:00, 10.39it/s]\n",
      "Testing: 100%|██████████| 1/1 [00:00<00:00, 36.44it/s]\n"
     ]
    },
    {
     "name": "stdout",
     "output_type": "stream",
     "text": [
      "====> Test set loss: 8109.1318 (BCE: 8103.3525, KLD: 5.7792)\n",
      "Epoch 5/85\n"
     ]
    },
    {
     "name": "stderr",
     "output_type": "stream",
     "text": [
      "100%|██████████| 3/3 [00:00<00:00, 10.47it/s]\n",
      "Testing: 100%|██████████| 1/1 [00:00<00:00, 36.41it/s]\n",
      "[I 2024-11-14 16:50:07,936] Trial 50 finished with value: 8109.1318359375 and parameters: {'batch_size': 16, 'hidden_dim': 1500, 'latent_dim': 60, 'epochs': 85, 'learning_rate': 0.005896364487725861}. Best is trial 47 with value: 1993.71728515625.\n"
     ]
    },
    {
     "name": "stdout",
     "output_type": "stream",
     "text": [
      "====> Test set loss: 280772.3438 (BCE: 277488.2188, KLD: 3284.1179)\n",
      "Early stopping...\n",
      "Epoch 1/70\n"
     ]
    },
    {
     "name": "stderr",
     "output_type": "stream",
     "text": [
      "  0%|          | 0/3 [00:00<?, ?it/s]"
     ]
    },
    {
     "name": "stdout",
     "output_type": "stream",
     "text": [
      "Step 0 (N samples: 0), Loss: 3331.7629 (Recon: 3327.4546, KL: 4.3084) Grad: 27.2029\n"
     ]
    },
    {
     "name": "stderr",
     "output_type": "stream",
     "text": [
      "100%|██████████| 3/3 [00:00<00:00,  7.92it/s]\n",
      "Testing: 100%|██████████| 1/1 [00:00<00:00, 35.15it/s]\n"
     ]
    },
    {
     "name": "stdout",
     "output_type": "stream",
     "text": [
      "====> Test set loss: 2638.0154 (BCE: 2559.9958, KLD: 78.0194)\n",
      "Epoch 2/70\n"
     ]
    },
    {
     "name": "stderr",
     "output_type": "stream",
     "text": [
      "100%|██████████| 3/3 [00:00<00:00,  8.28it/s]\n",
      "Testing: 100%|██████████| 1/1 [00:00<00:00, 36.12it/s]\n"
     ]
    },
    {
     "name": "stdout",
     "output_type": "stream",
     "text": [
      "====> Test set loss: 3495.9905 (BCE: 3360.6501, KLD: 135.3403)\n",
      "Epoch 3/70\n"
     ]
    },
    {
     "name": "stderr",
     "output_type": "stream",
     "text": [
      "100%|██████████| 3/3 [00:00<00:00,  8.37it/s]\n",
      "Testing: 100%|██████████| 1/1 [00:00<00:00, 36.65it/s]\n"
     ]
    },
    {
     "name": "stdout",
     "output_type": "stream",
     "text": [
      "====> Test set loss: 2057.1841 (BCE: 2053.8835, KLD: 3.3006)\n",
      "Epoch 4/70\n"
     ]
    },
    {
     "name": "stderr",
     "output_type": "stream",
     "text": [
      "100%|██████████| 3/3 [00:00<00:00,  8.43it/s]\n",
      "Testing: 100%|██████████| 1/1 [00:00<00:00, 39.19it/s]\n"
     ]
    },
    {
     "name": "stdout",
     "output_type": "stream",
     "text": [
      "====> Test set loss: 2080.9639 (BCE: 2077.4146, KLD: 3.5493)\n",
      "Epoch 5/70\n"
     ]
    },
    {
     "name": "stderr",
     "output_type": "stream",
     "text": [
      "100%|██████████| 3/3 [00:00<00:00,  8.52it/s]\n",
      "Testing: 100%|██████████| 1/1 [00:00<00:00, 38.34it/s]\n",
      "[I 2024-11-14 16:50:10,023] Trial 51 finished with value: 2057.18408203125 and parameters: {'batch_size': 16, 'hidden_dim': 2000, 'latent_dim': 40, 'epochs': 70, 'learning_rate': 0.0011560812767187384}. Best is trial 47 with value: 1993.71728515625.\n"
     ]
    },
    {
     "name": "stdout",
     "output_type": "stream",
     "text": [
      "====> Test set loss: 2058.5635 (BCE: 2054.6106, KLD: 3.9528)\n",
      "Early stopping...\n",
      "Epoch 1/76\n"
     ]
    },
    {
     "name": "stderr",
     "output_type": "stream",
     "text": [
      "  0%|          | 0/3 [00:00<?, ?it/s]"
     ]
    },
    {
     "name": "stdout",
     "output_type": "stream",
     "text": [
      "Step 0 (N samples: 0), Loss: 3329.2625 (Recon: 3327.0791, KL: 2.1833) Grad: 27.8071\n"
     ]
    },
    {
     "name": "stderr",
     "output_type": "stream",
     "text": [
      "100%|██████████| 3/3 [00:00<00:00, 11.11it/s]\n",
      "Testing: 100%|██████████| 1/1 [00:00<00:00, 38.13it/s]\n"
     ]
    },
    {
     "name": "stdout",
     "output_type": "stream",
     "text": [
      "====> Test set loss: 2901.4785 (BCE: 2873.7532, KLD: 27.7254)\n",
      "Epoch 2/76\n"
     ]
    },
    {
     "name": "stderr",
     "output_type": "stream",
     "text": [
      "100%|██████████| 3/3 [00:00<00:00, 11.26it/s]\n",
      "Testing: 100%|██████████| 1/1 [00:00<00:00, 40.46it/s]\n"
     ]
    },
    {
     "name": "stdout",
     "output_type": "stream",
     "text": [
      "====> Test set loss: 2582.8457 (BCE: 2507.2732, KLD: 75.5725)\n",
      "Epoch 3/76\n"
     ]
    },
    {
     "name": "stderr",
     "output_type": "stream",
     "text": [
      "100%|██████████| 3/3 [00:00<00:00, 11.19it/s]\n",
      "Testing: 100%|██████████| 1/1 [00:00<00:00, 40.61it/s]\n"
     ]
    },
    {
     "name": "stdout",
     "output_type": "stream",
     "text": [
      "====> Test set loss: 2076.6243 (BCE: 2074.4504, KLD: 2.1738)\n",
      "Epoch 4/76\n"
     ]
    },
    {
     "name": "stderr",
     "output_type": "stream",
     "text": [
      "100%|██████████| 3/3 [00:00<00:00, 10.58it/s]\n",
      "Testing: 100%|██████████| 1/1 [00:00<00:00, 33.74it/s]\n"
     ]
    },
    {
     "name": "stdout",
     "output_type": "stream",
     "text": [
      "====> Test set loss: 2006.4404 (BCE: 2004.2897, KLD: 2.1507)\n",
      "Epoch 5/76\n"
     ]
    },
    {
     "name": "stderr",
     "output_type": "stream",
     "text": [
      "100%|██████████| 3/3 [00:00<00:00, 10.64it/s]\n",
      "Testing: 100%|██████████| 1/1 [00:00<00:00, 37.34it/s]\n",
      "[I 2024-11-14 16:50:11,639] Trial 52 finished with value: 2006.4404296875 and parameters: {'batch_size': 16, 'hidden_dim': 1500, 'latent_dim': 20, 'epochs': 76, 'learning_rate': 0.001313451905349016}. Best is trial 47 with value: 1993.71728515625.\n"
     ]
    },
    {
     "name": "stdout",
     "output_type": "stream",
     "text": [
      "====> Test set loss: 2027.2821 (BCE: 2024.8130, KLD: 2.4691)\n",
      "Early stopping...\n",
      "Epoch 1/78\n"
     ]
    },
    {
     "name": "stderr",
     "output_type": "stream",
     "text": [
      " 33%|███▎      | 1/3 [00:00<00:00,  9.95it/s]"
     ]
    },
    {
     "name": "stdout",
     "output_type": "stream",
     "text": [
      "Step 0 (N samples: 0), Loss: 3328.8186 (Recon: 3327.6218, KL: 1.1968) Grad: 28.8905\n"
     ]
    },
    {
     "name": "stderr",
     "output_type": "stream",
     "text": [
      "100%|██████████| 3/3 [00:00<00:00, 11.05it/s]\n",
      "Testing: 100%|██████████| 1/1 [00:00<00:00, 39.48it/s]\n"
     ]
    },
    {
     "name": "stdout",
     "output_type": "stream",
     "text": [
      "====> Test set loss: 7792.6509 (BCE: 7014.0781, KLD: 778.5729)\n",
      "Epoch 2/78\n"
     ]
    },
    {
     "name": "stderr",
     "output_type": "stream",
     "text": [
      "100%|██████████| 3/3 [00:00<00:00, 11.30it/s]\n",
      "Testing: 100%|██████████| 1/1 [00:00<00:00, 38.48it/s]\n"
     ]
    },
    {
     "name": "stdout",
     "output_type": "stream",
     "text": [
      "====> Test set loss: 2215.1401 (BCE: 2212.5667, KLD: 2.5735)\n",
      "Epoch 3/78\n"
     ]
    },
    {
     "name": "stderr",
     "output_type": "stream",
     "text": [
      "100%|██████████| 3/3 [00:00<00:00, 11.18it/s]\n",
      "Testing: 100%|██████████| 1/1 [00:00<00:00, 40.12it/s]\n"
     ]
    },
    {
     "name": "stdout",
     "output_type": "stream",
     "text": [
      "====> Test set loss: 2020.9698 (BCE: 2016.0939, KLD: 4.8759)\n",
      "Epoch 4/78\n"
     ]
    },
    {
     "name": "stderr",
     "output_type": "stream",
     "text": [
      "100%|██████████| 3/3 [00:00<00:00, 11.01it/s]\n",
      "Testing: 100%|██████████| 1/1 [00:00<00:00, 40.27it/s]\n"
     ]
    },
    {
     "name": "stdout",
     "output_type": "stream",
     "text": [
      "====> Test set loss: 2026.9515 (BCE: 2024.6425, KLD: 2.3091)\n",
      "Epoch 5/78\n"
     ]
    },
    {
     "name": "stderr",
     "output_type": "stream",
     "text": [
      "100%|██████████| 3/3 [00:00<00:00, 11.27it/s]\n",
      "Testing: 100%|██████████| 1/1 [00:00<00:00, 40.17it/s]\n",
      "[I 2024-11-14 16:50:13,221] Trial 53 finished with value: 2020.9698486328125 and parameters: {'batch_size': 16, 'hidden_dim': 1500, 'latent_dim': 10, 'epochs': 78, 'learning_rate': 0.0022103025843803457}. Best is trial 47 with value: 1993.71728515625.\n"
     ]
    },
    {
     "name": "stdout",
     "output_type": "stream",
     "text": [
      "====> Test set loss: 2047.3904 (BCE: 2042.7593, KLD: 4.6312)\n",
      "Early stopping...\n",
      "Epoch 1/78\n"
     ]
    },
    {
     "name": "stderr",
     "output_type": "stream",
     "text": [
      "  0%|          | 0/3 [00:00<?, ?it/s]"
     ]
    },
    {
     "name": "stdout",
     "output_type": "stream",
     "text": [
      "Step 0 (N samples: 0), Loss: 3341.2212 (Recon: 3327.4939, KL: 13.7273) Grad: 27.5543\n"
     ]
    },
    {
     "name": "stderr",
     "output_type": "stream",
     "text": [
      "100%|██████████| 3/3 [00:00<00:00, 10.51it/s]\n",
      "Testing: 100%|██████████| 1/1 [00:00<00:00, 30.64it/s]\n"
     ]
    },
    {
     "name": "stdout",
     "output_type": "stream",
     "text": [
      "====> Test set loss: 2578.3987 (BCE: 2551.5027, KLD: 26.8959)\n",
      "Epoch 2/78\n"
     ]
    },
    {
     "name": "stderr",
     "output_type": "stream",
     "text": [
      "100%|██████████| 3/3 [00:00<00:00, 10.44it/s]\n",
      "Testing: 100%|██████████| 1/1 [00:00<00:00, 32.33it/s]\n"
     ]
    },
    {
     "name": "stdout",
     "output_type": "stream",
     "text": [
      "====> Test set loss: 2783.7795 (BCE: 2746.3975, KLD: 37.3822)\n",
      "Epoch 3/78\n"
     ]
    },
    {
     "name": "stderr",
     "output_type": "stream",
     "text": [
      "100%|██████████| 3/3 [00:00<00:00, 10.28it/s]\n",
      "Testing: 100%|██████████| 1/1 [00:00<00:00, 22.57it/s]\n"
     ]
    },
    {
     "name": "stdout",
     "output_type": "stream",
     "text": [
      "====> Test set loss: 2239.6919 (BCE: 2230.6069, KLD: 9.0850)\n",
      "Epoch 4/78\n"
     ]
    },
    {
     "name": "stderr",
     "output_type": "stream",
     "text": [
      "100%|██████████| 3/3 [00:00<00:00, 10.40it/s]\n",
      "Testing: 100%|██████████| 1/1 [00:00<00:00, 34.28it/s]\n"
     ]
    },
    {
     "name": "stdout",
     "output_type": "stream",
     "text": [
      "====> Test set loss: 2126.7351 (BCE: 2113.4897, KLD: 13.2455)\n",
      "Epoch 5/78\n"
     ]
    },
    {
     "name": "stderr",
     "output_type": "stream",
     "text": [
      "100%|██████████| 3/3 [00:00<00:00, 10.59it/s]\n",
      "Testing: 100%|██████████| 1/1 [00:00<00:00, 32.15it/s]\n",
      "[I 2024-11-14 16:50:14,944] Trial 54 finished with value: 2052.39404296875 and parameters: {'batch_size': 16, 'hidden_dim': 1500, 'latent_dim': 130, 'epochs': 78, 'learning_rate': 0.003074487283044391}. Best is trial 47 with value: 1993.71728515625.\n"
     ]
    },
    {
     "name": "stdout",
     "output_type": "stream",
     "text": [
      "====> Test set loss: 2052.3940 (BCE: 2035.3762, KLD: 17.0179)\n",
      "Early stopping...\n",
      "Epoch 1/84\n"
     ]
    },
    {
     "name": "stderr",
     "output_type": "stream",
     "text": [
      "  0%|          | 0/3 [00:00<?, ?it/s]"
     ]
    },
    {
     "name": "stdout",
     "output_type": "stream",
     "text": [
      "Step 0 (N samples: 0), Loss: 3332.8228 (Recon: 3327.3467, KL: 5.4761) Grad: 27.8510\n"
     ]
    },
    {
     "name": "stderr",
     "output_type": "stream",
     "text": [
      "100%|██████████| 3/3 [00:00<00:00, 14.97it/s]\n",
      "Testing: 100%|██████████| 1/1 [00:00<00:00, 40.09it/s]\n"
     ]
    },
    {
     "name": "stdout",
     "output_type": "stream",
     "text": [
      "====> Test set loss: 3078.9707 (BCE: 3075.1025, KLD: 3.8682)\n",
      "Epoch 2/84\n"
     ]
    },
    {
     "name": "stderr",
     "output_type": "stream",
     "text": [
      "100%|██████████| 3/3 [00:00<00:00, 16.47it/s]\n",
      "Testing: 100%|██████████| 1/1 [00:00<00:00, 39.30it/s]\n"
     ]
    },
    {
     "name": "stdout",
     "output_type": "stream",
     "text": [
      "====> Test set loss: 3418.9626 (BCE: 3272.1306, KLD: 146.8320)\n",
      "Epoch 3/84\n"
     ]
    },
    {
     "name": "stderr",
     "output_type": "stream",
     "text": [
      "100%|██████████| 3/3 [00:00<00:00, 16.29it/s]\n",
      "Testing: 100%|██████████| 1/1 [00:00<00:00, 40.80it/s]\n"
     ]
    },
    {
     "name": "stdout",
     "output_type": "stream",
     "text": [
      "====> Test set loss: 2082.2444 (BCE: 2076.5457, KLD: 5.6986)\n",
      "Epoch 4/84\n"
     ]
    },
    {
     "name": "stderr",
     "output_type": "stream",
     "text": [
      "100%|██████████| 3/3 [00:00<00:00, 15.88it/s]\n",
      "Testing: 100%|██████████| 1/1 [00:00<00:00, 42.79it/s]\n"
     ]
    },
    {
     "name": "stdout",
     "output_type": "stream",
     "text": [
      "====> Test set loss: 2004.5773 (BCE: 2000.4437, KLD: 4.1336)\n",
      "Epoch 5/84\n"
     ]
    },
    {
     "name": "stderr",
     "output_type": "stream",
     "text": [
      "100%|██████████| 3/3 [00:00<00:00, 16.47it/s]\n",
      "Testing: 100%|██████████| 1/1 [00:00<00:00, 41.28it/s]\n",
      "[I 2024-11-14 16:50:16,090] Trial 55 finished with value: 2004.5772705078125 and parameters: {'batch_size': 16, 'hidden_dim': 1000, 'latent_dim': 50, 'epochs': 84, 'learning_rate': 0.0017682573167899333}. Best is trial 47 with value: 1993.71728515625.\n"
     ]
    },
    {
     "name": "stdout",
     "output_type": "stream",
     "text": [
      "====> Test set loss: 2036.4930 (BCE: 2031.7800, KLD: 4.7130)\n",
      "Early stopping...\n",
      "Epoch 1/84\n"
     ]
    },
    {
     "name": "stderr",
     "output_type": "stream",
     "text": [
      " 33%|███▎      | 1/3 [00:00<00:00,  3.63it/s]"
     ]
    },
    {
     "name": "stdout",
     "output_type": "stream",
     "text": [
      "Step 0 (N samples: 0), Loss: 3417.5481 (Recon: 3327.4084, KL: 90.1396) Grad: 29.8769\n"
     ]
    },
    {
     "name": "stderr",
     "output_type": "stream",
     "text": [
      "100%|██████████| 3/3 [00:00<00:00,  3.88it/s]\n",
      "Testing: 100%|██████████| 1/1 [00:00<00:00,  6.13it/s]\n"
     ]
    },
    {
     "name": "stdout",
     "output_type": "stream",
     "text": [
      "====> Test set loss: 2847.3074 (BCE: 2426.3899, KLD: 420.9174)\n",
      "Epoch 2/84\n"
     ]
    },
    {
     "name": "stderr",
     "output_type": "stream",
     "text": [
      "100%|██████████| 3/3 [00:00<00:00,  3.71it/s]\n",
      "Testing: 100%|██████████| 1/1 [00:00<00:00,  6.11it/s]\n"
     ]
    },
    {
     "name": "stdout",
     "output_type": "stream",
     "text": [
      "====> Test set loss: 3403.4939 (BCE: 3251.2334, KLD: 152.2606)\n",
      "Epoch 3/84\n"
     ]
    },
    {
     "name": "stderr",
     "output_type": "stream",
     "text": [
      "100%|██████████| 3/3 [00:00<00:00,  3.72it/s]\n",
      "Testing: 100%|██████████| 1/1 [00:00<00:00,  6.39it/s]\n"
     ]
    },
    {
     "name": "stdout",
     "output_type": "stream",
     "text": [
      "====> Test set loss: 2732.2971 (BCE: 2658.9502, KLD: 73.3469)\n",
      "Epoch 4/84\n"
     ]
    },
    {
     "name": "stderr",
     "output_type": "stream",
     "text": [
      "100%|██████████| 3/3 [00:00<00:00,  3.85it/s]\n",
      "Testing: 100%|██████████| 1/1 [00:00<00:00,  6.25it/s]\n"
     ]
    },
    {
     "name": "stdout",
     "output_type": "stream",
     "text": [
      "====> Test set loss: 2268.7969 (BCE: 2172.8374, KLD: 95.9595)\n",
      "Epoch 5/84\n"
     ]
    },
    {
     "name": "stderr",
     "output_type": "stream",
     "text": [
      "100%|██████████| 3/3 [00:00<00:00,  3.91it/s]\n",
      "Testing: 100%|██████████| 1/1 [00:00<00:00,  6.26it/s]\n",
      "[I 2024-11-14 16:50:20,916] Trial 56 finished with value: 2192.875 and parameters: {'batch_size': 16, 'hidden_dim': 1000, 'latent_dim': 820, 'epochs': 84, 'learning_rate': 0.004327439192126143}. Best is trial 47 with value: 1993.71728515625.\n"
     ]
    },
    {
     "name": "stdout",
     "output_type": "stream",
     "text": [
      "====> Test set loss: 2192.8750 (BCE: 2127.2122, KLD: 65.6628)\n",
      "Early stopping...\n",
      "Epoch 1/67\n"
     ]
    },
    {
     "name": "stderr",
     "output_type": "stream",
     "text": [
      "  0%|          | 0/3 [00:00<?, ?it/s]"
     ]
    },
    {
     "name": "stdout",
     "output_type": "stream",
     "text": [
      "Step 0 (N samples: 0), Loss: 3334.0359 (Recon: 3327.4788, KL: 6.5570) Grad: 28.3362\n"
     ]
    },
    {
     "name": "stderr",
     "output_type": "stream",
     "text": [
      "100%|██████████| 3/3 [00:00<00:00, 15.69it/s]\n",
      "Testing: 100%|██████████| 1/1 [00:00<00:00, 39.62it/s]\n"
     ]
    },
    {
     "name": "stdout",
     "output_type": "stream",
     "text": [
      "====> Test set loss: 3100.5293 (BCE: 3095.8821, KLD: 4.6472)\n",
      "Epoch 2/67\n"
     ]
    },
    {
     "name": "stderr",
     "output_type": "stream",
     "text": [
      "100%|██████████| 3/3 [00:00<00:00, 16.38it/s]\n",
      "Testing: 100%|██████████| 1/1 [00:00<00:00, 41.95it/s]\n"
     ]
    },
    {
     "name": "stdout",
     "output_type": "stream",
     "text": [
      "====> Test set loss: 3143.2036 (BCE: 2980.3232, KLD: 162.8804)\n",
      "Epoch 3/67\n"
     ]
    },
    {
     "name": "stderr",
     "output_type": "stream",
     "text": [
      "100%|██████████| 3/3 [00:00<00:00, 16.34it/s]\n",
      "Testing: 100%|██████████| 1/1 [00:00<00:00, 40.91it/s]\n"
     ]
    },
    {
     "name": "stdout",
     "output_type": "stream",
     "text": [
      "====> Test set loss: 2106.1538 (BCE: 2098.4153, KLD: 7.7384)\n",
      "Epoch 4/67\n"
     ]
    },
    {
     "name": "stderr",
     "output_type": "stream",
     "text": [
      "100%|██████████| 3/3 [00:00<00:00, 15.82it/s]\n",
      "Testing: 100%|██████████| 1/1 [00:00<00:00, 40.47it/s]\n"
     ]
    },
    {
     "name": "stdout",
     "output_type": "stream",
     "text": [
      "====> Test set loss: 2053.3794 (BCE: 2048.3906, KLD: 4.9888)\n",
      "Epoch 5/67\n"
     ]
    },
    {
     "name": "stderr",
     "output_type": "stream",
     "text": [
      "100%|██████████| 3/3 [00:00<00:00, 16.01it/s]\n",
      "Testing: 100%|██████████| 1/1 [00:00<00:00, 41.44it/s]\n",
      "[I 2024-11-14 16:50:22,062] Trial 57 finished with value: 2045.983642578125 and parameters: {'batch_size': 16, 'hidden_dim': 1000, 'latent_dim': 60, 'epochs': 67, 'learning_rate': 0.0015415823954540771}. Best is trial 47 with value: 1993.71728515625.\n"
     ]
    },
    {
     "name": "stdout",
     "output_type": "stream",
     "text": [
      "====> Test set loss: 2045.9836 (BCE: 2039.3295, KLD: 6.6542)\n",
      "Early stopping...\n",
      "Epoch 1/88\n"
     ]
    },
    {
     "name": "stderr",
     "output_type": "stream",
     "text": [
      "  0%|          | 0/3 [00:00<?, ?it/s]"
     ]
    },
    {
     "name": "stdout",
     "output_type": "stream",
     "text": [
      "Step 0 (N samples: 0), Loss: 3339.1165 (Recon: 3327.4946, KL: 11.6219) Grad: 27.1968\n"
     ]
    },
    {
     "name": "stderr",
     "output_type": "stream",
     "text": [
      "100%|██████████| 3/3 [00:00<00:00, 10.59it/s]\n",
      "Testing: 100%|██████████| 1/1 [00:00<00:00, 36.71it/s]\n"
     ]
    },
    {
     "name": "stdout",
     "output_type": "stream",
     "text": [
      "====> Test set loss: 2959.8533 (BCE: 2953.0142, KLD: 6.8391)\n",
      "Epoch 2/88\n"
     ]
    },
    {
     "name": "stderr",
     "output_type": "stream",
     "text": [
      "100%|██████████| 3/3 [00:00<00:00, 10.65it/s]\n",
      "Testing: 100%|██████████| 1/1 [00:00<00:00, 36.47it/s]\n"
     ]
    },
    {
     "name": "stdout",
     "output_type": "stream",
     "text": [
      "====> Test set loss: 7444.2891 (BCE: 7245.4092, KLD: 198.8800)\n",
      "Epoch 3/88\n"
     ]
    },
    {
     "name": "stderr",
     "output_type": "stream",
     "text": [
      "100%|██████████| 3/3 [00:00<00:00, 11.06it/s]\n",
      "Testing: 100%|██████████| 1/1 [00:00<00:00, 36.51it/s]\n"
     ]
    },
    {
     "name": "stdout",
     "output_type": "stream",
     "text": [
      "====> Test set loss: 2474.7673 (BCE: 2465.7930, KLD: 8.9745)\n",
      "Epoch 4/88\n"
     ]
    },
    {
     "name": "stderr",
     "output_type": "stream",
     "text": [
      "100%|██████████| 3/3 [00:00<00:00, 10.73it/s]\n",
      "Testing: 100%|██████████| 1/1 [00:00<00:00, 32.50it/s]\n"
     ]
    },
    {
     "name": "stdout",
     "output_type": "stream",
     "text": [
      "====> Test set loss: 2067.9956 (BCE: 2057.4207, KLD: 10.5749)\n",
      "Epoch 5/88\n"
     ]
    },
    {
     "name": "stderr",
     "output_type": "stream",
     "text": [
      "100%|██████████| 3/3 [00:00<00:00, 10.81it/s]\n",
      "Testing: 100%|██████████| 1/1 [00:00<00:00, 32.49it/s]\n",
      "[I 2024-11-14 16:50:23,715] Trial 58 finished with value: 2031.4990234375 and parameters: {'batch_size': 16, 'hidden_dim': 1500, 'latent_dim': 110, 'epochs': 88, 'learning_rate': 0.0015605255300240937}. Best is trial 47 with value: 1993.71728515625.\n"
     ]
    },
    {
     "name": "stdout",
     "output_type": "stream",
     "text": [
      "====> Test set loss: 2031.4990 (BCE: 2021.8086, KLD: 9.6905)\n",
      "Early stopping...\n",
      "Epoch 1/76\n"
     ]
    },
    {
     "name": "stderr",
     "output_type": "stream",
     "text": [
      "  0%|          | 0/3 [00:00<?, ?it/s]"
     ]
    },
    {
     "name": "stdout",
     "output_type": "stream",
     "text": [
      "Step 0 (N samples: 0), Loss: 3342.0642 (Recon: 3327.1743, KL: 14.8898) Grad: 27.7533\n"
     ]
    },
    {
     "name": "stderr",
     "output_type": "stream",
     "text": [
      "100%|██████████| 3/3 [00:00<00:00,  7.30it/s]\n",
      "Testing: 100%|██████████| 1/1 [00:00<00:00, 34.16it/s]\n"
     ]
    },
    {
     "name": "stdout",
     "output_type": "stream",
     "text": [
      "====> Test set loss: 2504.7749 (BCE: 2473.4661, KLD: 31.3089)\n",
      "Epoch 2/76\n"
     ]
    },
    {
     "name": "stderr",
     "output_type": "stream",
     "text": [
      "100%|██████████| 3/3 [00:00<00:00,  8.06it/s]\n",
      "Testing: 100%|██████████| 1/1 [00:00<00:00, 29.30it/s]\n"
     ]
    },
    {
     "name": "stdout",
     "output_type": "stream",
     "text": [
      "====> Test set loss: 2121.0103 (BCE: 2107.0930, KLD: 13.9172)\n",
      "Epoch 3/76\n"
     ]
    },
    {
     "name": "stderr",
     "output_type": "stream",
     "text": [
      "100%|██████████| 3/3 [00:00<00:00,  8.09it/s]\n",
      "Testing: 100%|██████████| 1/1 [00:00<00:00, 34.10it/s]\n"
     ]
    },
    {
     "name": "stdout",
     "output_type": "stream",
     "text": [
      "====> Test set loss: 2080.8511 (BCE: 2068.4175, KLD: 12.4336)\n",
      "Epoch 4/76\n"
     ]
    },
    {
     "name": "stderr",
     "output_type": "stream",
     "text": [
      "100%|██████████| 3/3 [00:00<00:00,  8.15it/s]\n",
      "Testing: 100%|██████████| 1/1 [00:00<00:00, 30.48it/s]\n"
     ]
    },
    {
     "name": "stdout",
     "output_type": "stream",
     "text": [
      "====> Test set loss: 2069.8867 (BCE: 2050.5522, KLD: 19.3345)\n",
      "Epoch 5/76\n"
     ]
    },
    {
     "name": "stderr",
     "output_type": "stream",
     "text": [
      "100%|██████████| 3/3 [00:00<00:00,  8.03it/s]\n",
      "Testing: 100%|██████████| 1/1 [00:00<00:00, 31.01it/s]\n",
      "[I 2024-11-14 16:50:25,909] Trial 59 finished with value: 2035.05712890625 and parameters: {'batch_size': 16, 'hidden_dim': 2000, 'latent_dim': 140, 'epochs': 76, 'learning_rate': 0.0022842046247438866}. Best is trial 47 with value: 1993.71728515625.\n"
     ]
    },
    {
     "name": "stdout",
     "output_type": "stream",
     "text": [
      "====> Test set loss: 2035.0571 (BCE: 2018.1560, KLD: 16.9012)\n",
      "Early stopping...\n",
      "Epoch 1/90\n"
     ]
    },
    {
     "name": "stderr",
     "output_type": "stream",
     "text": [
      "  0%|          | 0/3 [00:00<?, ?it/s]"
     ]
    },
    {
     "name": "stdout",
     "output_type": "stream",
     "text": [
      "Step 0 (N samples: 0), Loss: 3331.1257 (Recon: 3326.9207, KL: 4.2051) Grad: 26.9697\n"
     ]
    },
    {
     "name": "stderr",
     "output_type": "stream",
     "text": [
      "100%|██████████| 3/3 [00:00<00:00, 15.27it/s]\n",
      "Testing: 100%|██████████| 1/1 [00:00<00:00, 41.06it/s]\n"
     ]
    },
    {
     "name": "stdout",
     "output_type": "stream",
     "text": [
      "====> Test set loss: 3311.0437 (BCE: 3307.5002, KLD: 3.5435)\n",
      "Epoch 2/90\n"
     ]
    },
    {
     "name": "stderr",
     "output_type": "stream",
     "text": [
      "100%|██████████| 3/3 [00:00<00:00, 16.31it/s]\n",
      "Testing: 100%|██████████| 1/1 [00:00<00:00, 39.37it/s]\n"
     ]
    },
    {
     "name": "stdout",
     "output_type": "stream",
     "text": [
      "====> Test set loss: 3281.2537 (BCE: 3279.0513, KLD: 2.2024)\n",
      "Epoch 3/90\n"
     ]
    },
    {
     "name": "stderr",
     "output_type": "stream",
     "text": [
      "100%|██████████| 3/3 [00:00<00:00, 16.42it/s]\n",
      "Testing: 100%|██████████| 1/1 [00:00<00:00, 42.03it/s]\n"
     ]
    },
    {
     "name": "stdout",
     "output_type": "stream",
     "text": [
      "====> Test set loss: 3235.5002 (BCE: 3231.0427, KLD: 4.4576)\n",
      "Epoch 4/90\n"
     ]
    },
    {
     "name": "stderr",
     "output_type": "stream",
     "text": [
      "100%|██████████| 3/3 [00:00<00:00, 15.26it/s]\n",
      "Testing: 100%|██████████| 1/1 [00:00<00:00, 42.25it/s]\n"
     ]
    },
    {
     "name": "stdout",
     "output_type": "stream",
     "text": [
      "====> Test set loss: 3116.8979 (BCE: 3099.8784, KLD: 17.0195)\n",
      "Epoch 5/90\n"
     ]
    },
    {
     "name": "stderr",
     "output_type": "stream",
     "text": [
      "100%|██████████| 3/3 [00:00<00:00, 16.45it/s]\n",
      "Testing: 100%|██████████| 1/1 [00:00<00:00, 39.72it/s]\n",
      "[I 2024-11-14 16:50:27,064] Trial 60 finished with value: 2850.9814453125 and parameters: {'batch_size': 16, 'hidden_dim': 1000, 'latent_dim': 40, 'epochs': 90, 'learning_rate': 0.0002753939947844902}. Best is trial 47 with value: 1993.71728515625.\n"
     ]
    },
    {
     "name": "stdout",
     "output_type": "stream",
     "text": [
      "====> Test set loss: 2850.9814 (BCE: 2769.5210, KLD: 81.4604)\n",
      "Early stopping...\n",
      "Epoch 1/81\n"
     ]
    },
    {
     "name": "stderr",
     "output_type": "stream",
     "text": [
      " 33%|███▎      | 1/3 [00:00<00:00,  9.41it/s]"
     ]
    },
    {
     "name": "stdout",
     "output_type": "stream",
     "text": [
      "Step 0 (N samples: 0), Loss: 3328.1768 (Recon: 3327.1260, KL: 1.0509) Grad: 28.1922\n"
     ]
    },
    {
     "name": "stderr",
     "output_type": "stream",
     "text": [
      "100%|██████████| 3/3 [00:00<00:00, 10.62it/s]\n",
      "Testing: 100%|██████████| 1/1 [00:00<00:00, 36.06it/s]\n"
     ]
    },
    {
     "name": "stdout",
     "output_type": "stream",
     "text": [
      "====> Test set loss: 2542.0010 (BCE: 2492.7119, KLD: 49.2891)\n",
      "Epoch 2/81\n"
     ]
    },
    {
     "name": "stderr",
     "output_type": "stream",
     "text": [
      "100%|██████████| 3/3 [00:00<00:00, 11.12it/s]\n",
      "Testing: 100%|██████████| 1/1 [00:00<00:00, 38.97it/s]\n"
     ]
    },
    {
     "name": "stdout",
     "output_type": "stream",
     "text": [
      "====> Test set loss: 4230.3164 (BCE: 4061.4673, KLD: 168.8489)\n",
      "Epoch 3/81\n"
     ]
    },
    {
     "name": "stderr",
     "output_type": "stream",
     "text": [
      "100%|██████████| 3/3 [00:00<00:00, 11.39it/s]\n",
      "Testing: 100%|██████████| 1/1 [00:00<00:00, 37.12it/s]\n"
     ]
    },
    {
     "name": "stdout",
     "output_type": "stream",
     "text": [
      "====> Test set loss: 2102.3376 (BCE: 2100.8159, KLD: 1.5217)\n",
      "Epoch 4/81\n"
     ]
    },
    {
     "name": "stderr",
     "output_type": "stream",
     "text": [
      "100%|██████████| 3/3 [00:00<00:00, 11.41it/s]\n",
      "Testing: 100%|██████████| 1/1 [00:00<00:00, 38.52it/s]\n"
     ]
    },
    {
     "name": "stdout",
     "output_type": "stream",
     "text": [
      "====> Test set loss: 2011.0170 (BCE: 2008.5034, KLD: 2.5136)\n",
      "Epoch 5/81\n"
     ]
    },
    {
     "name": "stderr",
     "output_type": "stream",
     "text": [
      "100%|██████████| 3/3 [00:00<00:00, 11.00it/s]\n",
      "Testing: 100%|██████████| 1/1 [00:00<00:00, 39.77it/s]\n",
      "[I 2024-11-14 16:50:28,661] Trial 61 finished with value: 2008.1064453125 and parameters: {'batch_size': 16, 'hidden_dim': 1500, 'latent_dim': 10, 'epochs': 81, 'learning_rate': 0.0013135692705081574}. Best is trial 47 with value: 1993.71728515625.\n"
     ]
    },
    {
     "name": "stdout",
     "output_type": "stream",
     "text": [
      "====> Test set loss: 2008.1064 (BCE: 2005.5338, KLD: 2.5726)\n",
      "Early stopping...\n",
      "Epoch 1/83\n"
     ]
    },
    {
     "name": "stderr",
     "output_type": "stream",
     "text": [
      "  0%|          | 0/3 [00:00<?, ?it/s]"
     ]
    },
    {
     "name": "stdout",
     "output_type": "stream",
     "text": [
      "Step 0 (N samples: 0), Loss: 3336.6753 (Recon: 3327.1245, KL: 9.5507) Grad: 28.5057\n"
     ]
    },
    {
     "name": "stderr",
     "output_type": "stream",
     "text": [
      "100%|██████████| 3/3 [00:00<00:00, 10.18it/s]\n",
      "Testing: 100%|██████████| 1/1 [00:00<00:00, 35.07it/s]\n"
     ]
    },
    {
     "name": "stdout",
     "output_type": "stream",
     "text": [
      "====> Test set loss: 3189.0535 (BCE: 3180.6843, KLD: 8.3691)\n",
      "Epoch 2/83\n"
     ]
    },
    {
     "name": "stderr",
     "output_type": "stream",
     "text": [
      "100%|██████████| 3/3 [00:00<00:00, 11.00it/s]\n",
      "Testing: 100%|██████████| 1/1 [00:00<00:00, 37.97it/s]\n"
     ]
    },
    {
     "name": "stdout",
     "output_type": "stream",
     "text": [
      "====> Test set loss: 2962.2952 (BCE: 2678.9216, KLD: 283.3735)\n",
      "Epoch 3/83\n"
     ]
    },
    {
     "name": "stderr",
     "output_type": "stream",
     "text": [
      "100%|██████████| 3/3 [00:00<00:00, 11.05it/s]\n",
      "Testing: 100%|██████████| 1/1 [00:00<00:00, 35.59it/s]\n"
     ]
    },
    {
     "name": "stdout",
     "output_type": "stream",
     "text": [
      "====> Test set loss: 2089.5325 (BCE: 2074.2361, KLD: 15.2964)\n",
      "Epoch 4/83\n"
     ]
    },
    {
     "name": "stderr",
     "output_type": "stream",
     "text": [
      "100%|██████████| 3/3 [00:00<00:00, 10.74it/s]\n",
      "Testing: 100%|██████████| 1/1 [00:00<00:00, 36.07it/s]\n"
     ]
    },
    {
     "name": "stdout",
     "output_type": "stream",
     "text": [
      "====> Test set loss: 2049.6973 (BCE: 2042.3951, KLD: 7.3020)\n",
      "Epoch 5/83\n"
     ]
    },
    {
     "name": "stderr",
     "output_type": "stream",
     "text": [
      "100%|██████████| 3/3 [00:00<00:00, 10.20it/s]\n",
      "Testing: 100%|██████████| 1/1 [00:00<00:00, 35.90it/s]\n",
      "[I 2024-11-14 16:50:30,329] Trial 62 finished with value: 2049.697265625 and parameters: {'batch_size': 16, 'hidden_dim': 1500, 'latent_dim': 90, 'epochs': 83, 'learning_rate': 0.0009042688619769686}. Best is trial 47 with value: 1993.71728515625.\n"
     ]
    },
    {
     "name": "stdout",
     "output_type": "stream",
     "text": [
      "====> Test set loss: 2141.1951 (BCE: 2131.7432, KLD: 9.4519)\n",
      "Early stopping...\n",
      "Epoch 1/81\n"
     ]
    },
    {
     "name": "stderr",
     "output_type": "stream",
     "text": [
      "  0%|          | 0/3 [00:00<?, ?it/s]"
     ]
    },
    {
     "name": "stdout",
     "output_type": "stream",
     "text": [
      "Step 0 (N samples: 0), Loss: 3331.5095 (Recon: 3327.1912, KL: 4.3183) Grad: 28.0444\n"
     ]
    },
    {
     "name": "stderr",
     "output_type": "stream",
     "text": [
      "100%|██████████| 3/3 [00:00<00:00,  7.66it/s]\n",
      "Testing: 100%|██████████| 1/1 [00:00<00:00, 36.68it/s]\n"
     ]
    },
    {
     "name": "stdout",
     "output_type": "stream",
     "text": [
      "====> Test set loss: 2415.3982 (BCE: 2336.2659, KLD: 79.1324)\n",
      "Epoch 2/81\n"
     ]
    },
    {
     "name": "stderr",
     "output_type": "stream",
     "text": [
      "100%|██████████| 3/3 [00:00<00:00,  8.32it/s]\n",
      "Testing: 100%|██████████| 1/1 [00:00<00:00, 36.27it/s]\n"
     ]
    },
    {
     "name": "stdout",
     "output_type": "stream",
     "text": [
      "====> Test set loss: 5252.1572 (BCE: 5076.1665, KLD: 175.9907)\n",
      "Epoch 3/81\n"
     ]
    },
    {
     "name": "stderr",
     "output_type": "stream",
     "text": [
      "100%|██████████| 3/3 [00:00<00:00,  7.95it/s]\n",
      "Testing: 100%|██████████| 1/1 [00:00<00:00, 32.72it/s]\n"
     ]
    },
    {
     "name": "stdout",
     "output_type": "stream",
     "text": [
      "====> Test set loss: 2034.0585 (BCE: 2030.8070, KLD: 3.2514)\n",
      "Epoch 4/81\n"
     ]
    },
    {
     "name": "stderr",
     "output_type": "stream",
     "text": [
      "100%|██████████| 3/3 [00:00<00:00,  8.19it/s]\n",
      "Testing: 100%|██████████| 1/1 [00:00<00:00, 34.91it/s]\n"
     ]
    },
    {
     "name": "stdout",
     "output_type": "stream",
     "text": [
      "====> Test set loss: 2039.0494 (BCE: 2035.9694, KLD: 3.0801)\n",
      "Epoch 5/81\n"
     ]
    },
    {
     "name": "stderr",
     "output_type": "stream",
     "text": [
      "100%|██████████| 3/3 [00:00<00:00,  8.39it/s]\n",
      "Testing: 100%|██████████| 1/1 [00:00<00:00, 36.72it/s]\n",
      "[I 2024-11-14 16:50:32,471] Trial 63 finished with value: 2031.4688720703125 and parameters: {'batch_size': 16, 'hidden_dim': 2000, 'latent_dim': 40, 'epochs': 81, 'learning_rate': 0.0013263492486889148}. Best is trial 47 with value: 1993.71728515625.\n"
     ]
    },
    {
     "name": "stdout",
     "output_type": "stream",
     "text": [
      "====> Test set loss: 2031.4689 (BCE: 2026.5814, KLD: 4.8875)\n",
      "Early stopping...\n",
      "Epoch 1/74\n"
     ]
    },
    {
     "name": "stderr",
     "output_type": "stream",
     "text": [
      " 67%|██████▋   | 2/3 [00:00<00:00, 15.49it/s]"
     ]
    },
    {
     "name": "stdout",
     "output_type": "stream",
     "text": [
      "Step 0 (N samples: 0), Loss: 3327.7922 (Recon: 3326.6956, KL: 1.0966) Grad: 27.4801\n"
     ]
    },
    {
     "name": "stderr",
     "output_type": "stream",
     "text": [
      "100%|██████████| 3/3 [00:00<00:00, 15.72it/s]\n",
      "Testing: 100%|██████████| 1/1 [00:00<00:00, 37.14it/s]\n"
     ]
    },
    {
     "name": "stdout",
     "output_type": "stream",
     "text": [
      "====> Test set loss: 2784.0083 (BCE: 2763.6187, KLD: 20.3895)\n",
      "Epoch 2/74\n"
     ]
    },
    {
     "name": "stderr",
     "output_type": "stream",
     "text": [
      "100%|██████████| 3/3 [00:00<00:00, 15.86it/s]\n",
      "Testing: 100%|██████████| 1/1 [00:00<00:00, 42.50it/s]\n"
     ]
    },
    {
     "name": "stdout",
     "output_type": "stream",
     "text": [
      "====> Test set loss: 2361.3633 (BCE: 2319.2844, KLD: 42.0787)\n",
      "Epoch 3/74\n"
     ]
    },
    {
     "name": "stderr",
     "output_type": "stream",
     "text": [
      "100%|██████████| 3/3 [00:00<00:00, 16.16it/s]\n",
      "Testing: 100%|██████████| 1/1 [00:00<00:00, 34.50it/s]\n"
     ]
    },
    {
     "name": "stdout",
     "output_type": "stream",
     "text": [
      "====> Test set loss: 2147.0115 (BCE: 2136.7468, KLD: 10.2647)\n",
      "Epoch 4/74\n"
     ]
    },
    {
     "name": "stderr",
     "output_type": "stream",
     "text": [
      "100%|██████████| 3/3 [00:00<00:00, 12.60it/s]\n",
      "Testing: 100%|██████████| 1/1 [00:00<00:00, 34.98it/s]\n"
     ]
    },
    {
     "name": "stdout",
     "output_type": "stream",
     "text": [
      "====> Test set loss: 2009.1401 (BCE: 2006.4734, KLD: 2.6667)\n",
      "Epoch 5/74\n"
     ]
    },
    {
     "name": "stderr",
     "output_type": "stream",
     "text": [
      "100%|██████████| 3/3 [00:00<00:00, 15.00it/s]\n",
      "Testing: 100%|██████████| 1/1 [00:00<00:00, 36.49it/s]\n",
      "[I 2024-11-14 16:50:33,700] Trial 64 finished with value: 2005.226806640625 and parameters: {'batch_size': 16, 'hidden_dim': 1000, 'latent_dim': 10, 'epochs': 74, 'learning_rate': 0.0017842828884039737}. Best is trial 47 with value: 1993.71728515625.\n"
     ]
    },
    {
     "name": "stdout",
     "output_type": "stream",
     "text": [
      "====> Test set loss: 2005.2268 (BCE: 2003.6973, KLD: 1.5296)\n",
      "Early stopping...\n",
      "Epoch 1/68\n"
     ]
    },
    {
     "name": "stderr",
     "output_type": "stream",
     "text": [
      "  0%|          | 0/3 [00:00<?, ?it/s]"
     ]
    },
    {
     "name": "stdout",
     "output_type": "stream",
     "text": [
      "Step 0 (N samples: 0), Loss: 3328.4177 (Recon: 3327.4028, KL: 1.0150) Grad: 27.9726\n"
     ]
    },
    {
     "name": "stderr",
     "output_type": "stream",
     "text": [
      "100%|██████████| 3/3 [00:00<00:00, 13.85it/s]\n",
      "Testing: 100%|██████████| 1/1 [00:00<00:00, 43.44it/s]\n"
     ]
    },
    {
     "name": "stdout",
     "output_type": "stream",
     "text": [
      "====> Test set loss: 3287.6672 (BCE: 3182.9460, KLD: 104.7212)\n",
      "Epoch 2/68\n"
     ]
    },
    {
     "name": "stderr",
     "output_type": "stream",
     "text": [
      "100%|██████████| 3/3 [00:00<00:00, 15.30it/s]\n",
      "Testing: 100%|██████████| 1/1 [00:00<00:00, 40.32it/s]\n"
     ]
    },
    {
     "name": "stdout",
     "output_type": "stream",
     "text": [
      "====> Test set loss: 2047.2915 (BCE: 2041.2085, KLD: 6.0830)\n",
      "Epoch 3/68\n"
     ]
    },
    {
     "name": "stderr",
     "output_type": "stream",
     "text": [
      "100%|██████████| 3/3 [00:00<00:00, 15.76it/s]\n",
      "Testing: 100%|██████████| 1/1 [00:00<00:00, 41.39it/s]\n"
     ]
    },
    {
     "name": "stdout",
     "output_type": "stream",
     "text": [
      "====> Test set loss: 2267.0715 (BCE: 2263.6279, KLD: 3.4436)\n",
      "Epoch 4/68\n"
     ]
    },
    {
     "name": "stderr",
     "output_type": "stream",
     "text": [
      "100%|██████████| 3/3 [00:00<00:00, 15.95it/s]\n",
      "Testing: 100%|██████████| 1/1 [00:00<00:00, 39.48it/s]\n"
     ]
    },
    {
     "name": "stdout",
     "output_type": "stream",
     "text": [
      "====> Test set loss: 2076.2310 (BCE: 2073.1392, KLD: 3.0917)\n",
      "Epoch 5/68\n"
     ]
    },
    {
     "name": "stderr",
     "output_type": "stream",
     "text": [
      "100%|██████████| 3/3 [00:00<00:00, 15.38it/s]\n",
      "Testing: 100%|██████████| 1/1 [00:00<00:00, 42.10it/s]\n",
      "[I 2024-11-14 16:50:34,918] Trial 65 finished with value: 2047.29150390625 and parameters: {'batch_size': 16, 'hidden_dim': 1000, 'latent_dim': 10, 'epochs': 68, 'learning_rate': 0.0036709537537991197}. Best is trial 47 with value: 1993.71728515625.\n"
     ]
    },
    {
     "name": "stdout",
     "output_type": "stream",
     "text": [
      "====> Test set loss: 2059.2793 (BCE: 2052.0400, KLD: 7.2394)\n",
      "Early stopping...\n",
      "Epoch 1/72\n"
     ]
    },
    {
     "name": "stderr",
     "output_type": "stream",
     "text": [
      "  0%|          | 0/3 [00:00<?, ?it/s]"
     ]
    },
    {
     "name": "stdout",
     "output_type": "stream",
     "text": [
      "Step 0 (N samples: 0), Loss: 3335.4167 (Recon: 3327.6760, KL: 7.7408) Grad: 28.2845\n"
     ]
    },
    {
     "name": "stderr",
     "output_type": "stream",
     "text": [
      "100%|██████████| 3/3 [00:00<00:00, 14.61it/s]\n",
      "Testing: 100%|██████████| 1/1 [00:00<00:00, 40.43it/s]\n"
     ]
    },
    {
     "name": "stdout",
     "output_type": "stream",
     "text": [
      "====> Test set loss: 8979.9082 (BCE: 6796.7173, KLD: 2183.1914)\n",
      "Epoch 2/72\n"
     ]
    },
    {
     "name": "stderr",
     "output_type": "stream",
     "text": [
      "100%|██████████| 3/3 [00:00<00:00, 15.97it/s]\n",
      "Testing: 100%|██████████| 1/1 [00:00<00:00, 39.84it/s]\n"
     ]
    },
    {
     "name": "stdout",
     "output_type": "stream",
     "text": [
      "====> Test set loss: 4755.1528 (BCE: 4650.2671, KLD: 104.8858)\n",
      "Epoch 3/72\n"
     ]
    },
    {
     "name": "stderr",
     "output_type": "stream",
     "text": [
      "100%|██████████| 3/3 [00:00<00:00, 14.00it/s]\n",
      "Testing: 100%|██████████| 1/1 [00:00<00:00, 41.95it/s]\n"
     ]
    },
    {
     "name": "stdout",
     "output_type": "stream",
     "text": [
      "====> Test set loss: 3397.6396 (BCE: 3389.7319, KLD: 7.9078)\n",
      "Epoch 4/72\n"
     ]
    },
    {
     "name": "stderr",
     "output_type": "stream",
     "text": [
      "100%|██████████| 3/3 [00:00<00:00, 15.76it/s]\n",
      "Testing: 100%|██████████| 1/1 [00:00<00:00, 40.66it/s]\n"
     ]
    },
    {
     "name": "stdout",
     "output_type": "stream",
     "text": [
      "====> Test set loss: 9277.0029 (BCE: 9263.5713, KLD: 13.4313)\n",
      "Epoch 5/72\n"
     ]
    },
    {
     "name": "stderr",
     "output_type": "stream",
     "text": [
      "100%|██████████| 3/3 [00:00<00:00, 15.90it/s]\n",
      "Testing: 100%|██████████| 1/1 [00:00<00:00, 40.49it/s]\n",
      "[I 2024-11-14 16:50:36,114] Trial 66 finished with value: 3159.332275390625 and parameters: {'batch_size': 16, 'hidden_dim': 1000, 'latent_dim': 70, 'epochs': 72, 'learning_rate': 0.007158025327343592}. Best is trial 47 with value: 1993.71728515625.\n"
     ]
    },
    {
     "name": "stdout",
     "output_type": "stream",
     "text": [
      "====> Test set loss: 3159.3323 (BCE: 3112.4844, KLD: 46.8480)\n",
      "Early stopping...\n",
      "Epoch 1/87\n"
     ]
    },
    {
     "name": "stderr",
     "output_type": "stream",
     "text": [
      "  0%|          | 0/3 [00:00<?, ?it/s]"
     ]
    },
    {
     "name": "stdout",
     "output_type": "stream",
     "text": [
      "Step 0 (N samples: 0), Loss: 3331.4709 (Recon: 3327.1890, KL: 4.2819) Grad: 27.2648\n"
     ]
    },
    {
     "name": "stderr",
     "output_type": "stream",
     "text": [
      "100%|██████████| 3/3 [00:00<00:00, 10.37it/s]\n",
      "Testing: 100%|██████████| 1/1 [00:00<00:00, 37.31it/s]\n"
     ]
    },
    {
     "name": "stdout",
     "output_type": "stream",
     "text": [
      "====> Test set loss: 2483.0610 (BCE: 2228.4714, KLD: 254.5896)\n",
      "Epoch 2/87\n"
     ]
    },
    {
     "name": "stderr",
     "output_type": "stream",
     "text": [
      "100%|██████████| 3/3 [00:00<00:00, 11.20it/s]\n",
      "Testing: 100%|██████████| 1/1 [00:00<00:00, 38.12it/s]\n"
     ]
    },
    {
     "name": "stdout",
     "output_type": "stream",
     "text": [
      "====> Test set loss: 2061.1992 (BCE: 2056.8105, KLD: 4.3886)\n",
      "Epoch 3/87\n"
     ]
    },
    {
     "name": "stderr",
     "output_type": "stream",
     "text": [
      "100%|██████████| 3/3 [00:00<00:00, 10.74it/s]\n",
      "Testing: 100%|██████████| 1/1 [00:00<00:00, 33.77it/s]\n"
     ]
    },
    {
     "name": "stdout",
     "output_type": "stream",
     "text": [
      "====> Test set loss: 2011.8267 (BCE: 2008.1843, KLD: 3.6423)\n",
      "Epoch 4/87\n"
     ]
    },
    {
     "name": "stderr",
     "output_type": "stream",
     "text": [
      "100%|██████████| 3/3 [00:00<00:00, 10.87it/s]\n",
      "Testing: 100%|██████████| 1/1 [00:00<00:00, 36.68it/s]\n"
     ]
    },
    {
     "name": "stdout",
     "output_type": "stream",
     "text": [
      "====> Test set loss: 2023.4435 (BCE: 2018.1589, KLD: 5.2845)\n",
      "Epoch 5/87\n"
     ]
    },
    {
     "name": "stderr",
     "output_type": "stream",
     "text": [
      "100%|██████████| 3/3 [00:00<00:00, 10.64it/s]\n",
      "Testing: 100%|██████████| 1/1 [00:00<00:00, 37.99it/s]\n",
      "[I 2024-11-14 16:50:37,759] Trial 67 finished with value: 2011.82666015625 and parameters: {'batch_size': 16, 'hidden_dim': 1500, 'latent_dim': 40, 'epochs': 87, 'learning_rate': 0.001794416776694769}. Best is trial 47 with value: 1993.71728515625.\n"
     ]
    },
    {
     "name": "stdout",
     "output_type": "stream",
     "text": [
      "====> Test set loss: 2033.0665 (BCE: 2028.4397, KLD: 4.6268)\n",
      "Early stopping...\n",
      "Epoch 1/75\n"
     ]
    },
    {
     "name": "stderr",
     "output_type": "stream",
     "text": [
      "  0%|          | 0/3 [00:00<?, ?it/s]"
     ]
    },
    {
     "name": "stdout",
     "output_type": "stream",
     "text": [
      "Step 0 (N samples: 0), Loss: 3338.1829 (Recon: 3327.3945, KL: 10.7882) Grad: 27.1211\n"
     ]
    },
    {
     "name": "stderr",
     "output_type": "stream",
     "text": [
      "100%|██████████| 3/3 [00:00<00:00, 14.98it/s]\n",
      "Testing: 100%|██████████| 1/1 [00:00<00:00, 39.70it/s]\n"
     ]
    },
    {
     "name": "stdout",
     "output_type": "stream",
     "text": [
      "====> Test set loss: 2859.4817 (BCE: 2851.9497, KLD: 7.5320)\n",
      "Epoch 2/75\n"
     ]
    },
    {
     "name": "stderr",
     "output_type": "stream",
     "text": [
      "100%|██████████| 3/3 [00:00<00:00, 15.18it/s]\n",
      "Testing: 100%|██████████| 1/1 [00:00<00:00, 38.05it/s]\n"
     ]
    },
    {
     "name": "stdout",
     "output_type": "stream",
     "text": [
      "====> Test set loss: 2104.0146 (BCE: 2097.3186, KLD: 6.6961)\n",
      "Epoch 3/75\n"
     ]
    },
    {
     "name": "stderr",
     "output_type": "stream",
     "text": [
      "100%|██████████| 3/3 [00:00<00:00, 13.74it/s]\n",
      "Testing: 100%|██████████| 1/1 [00:00<00:00, 39.31it/s]\n"
     ]
    },
    {
     "name": "stdout",
     "output_type": "stream",
     "text": [
      "====> Test set loss: 2021.1537 (BCE: 2012.9640, KLD: 8.1897)\n",
      "Epoch 4/75\n"
     ]
    },
    {
     "name": "stderr",
     "output_type": "stream",
     "text": [
      "100%|██████████| 3/3 [00:00<00:00, 15.19it/s]\n",
      "Testing: 100%|██████████| 1/1 [00:00<00:00, 36.31it/s]\n"
     ]
    },
    {
     "name": "stdout",
     "output_type": "stream",
     "text": [
      "====> Test set loss: 2048.6060 (BCE: 2039.9004, KLD: 8.7055)\n",
      "Epoch 5/75\n"
     ]
    },
    {
     "name": "stderr",
     "output_type": "stream",
     "text": [
      "100%|██████████| 3/3 [00:00<00:00, 15.54it/s]\n",
      "Testing: 100%|██████████| 1/1 [00:00<00:00, 35.19it/s]\n",
      "[I 2024-11-14 16:50:38,986] Trial 68 finished with value: 2021.1536865234375 and parameters: {'batch_size': 16, 'hidden_dim': 1000, 'latent_dim': 100, 'epochs': 75, 'learning_rate': 0.0025922362298887334}. Best is trial 47 with value: 1993.71728515625.\n"
     ]
    },
    {
     "name": "stdout",
     "output_type": "stream",
     "text": [
      "====> Test set loss: 2075.8572 (BCE: 2063.9922, KLD: 11.8650)\n",
      "Early stopping...\n",
      "Epoch 1/81\n"
     ]
    },
    {
     "name": "stderr",
     "output_type": "stream",
     "text": [
      "  0%|          | 0/3 [00:00<?, ?it/s]"
     ]
    },
    {
     "name": "stdout",
     "output_type": "stream",
     "text": [
      "Step 0 (N samples: 0), Loss: 3345.1194 (Recon: 3327.3313, KL: 17.7880) Grad: 28.1630\n"
     ]
    },
    {
     "name": "stderr",
     "output_type": "stream",
     "text": [
      "100%|██████████| 3/3 [00:00<00:00,  9.84it/s]\n",
      "Testing: 100%|██████████| 1/1 [00:00<00:00, 31.62it/s]\n"
     ]
    },
    {
     "name": "stdout",
     "output_type": "stream",
     "text": [
      "====> Test set loss: 13083.5742 (BCE: 7427.2261, KLD: 5656.3486)\n",
      "Epoch 2/81\n"
     ]
    },
    {
     "name": "stderr",
     "output_type": "stream",
     "text": [
      "100%|██████████| 3/3 [00:00<00:00,  9.73it/s]\n",
      "Testing: 100%|██████████| 1/1 [00:00<00:00, 33.18it/s]\n"
     ]
    },
    {
     "name": "stdout",
     "output_type": "stream",
     "text": [
      "====> Test set loss: 3626.4370 (BCE: 3205.0952, KLD: 421.3417)\n",
      "Epoch 3/81\n"
     ]
    },
    {
     "name": "stderr",
     "output_type": "stream",
     "text": [
      "100%|██████████| 3/3 [00:00<00:00, 10.31it/s]\n",
      "Testing: 100%|██████████| 1/1 [00:00<00:00, 28.61it/s]\n"
     ]
    },
    {
     "name": "stdout",
     "output_type": "stream",
     "text": [
      "====> Test set loss: 4461.0938 (BCE: 4268.0708, KLD: 193.0230)\n",
      "Epoch 4/81\n"
     ]
    },
    {
     "name": "stderr",
     "output_type": "stream",
     "text": [
      "100%|██████████| 3/3 [00:00<00:00, 10.06it/s]\n",
      "Testing: 100%|██████████| 1/1 [00:00<00:00, 33.53it/s]\n"
     ]
    },
    {
     "name": "stdout",
     "output_type": "stream",
     "text": [
      "====> Test set loss: 2734.8054 (BCE: 2528.9268, KLD: 205.8787)\n",
      "Epoch 5/81\n"
     ]
    },
    {
     "name": "stderr",
     "output_type": "stream",
     "text": [
      "100%|██████████| 3/3 [00:00<00:00, 10.51it/s]\n",
      "Testing: 100%|██████████| 1/1 [00:00<00:00, 37.37it/s]\n",
      "[I 2024-11-14 16:50:40,743] Trial 69 finished with value: 2734.805419921875 and parameters: {'batch_size': 16, 'hidden_dim': 1500, 'latent_dim': 160, 'epochs': 81, 'learning_rate': 0.004555009367092068}. Best is trial 47 with value: 1993.71728515625.\n"
     ]
    },
    {
     "name": "stdout",
     "output_type": "stream",
     "text": [
      "====> Test set loss: 2786.1338 (BCE: 2741.4417, KLD: 44.6923)\n",
      "Early stopping...\n",
      "Epoch 1/94\n"
     ]
    },
    {
     "name": "stderr",
     "output_type": "stream",
     "text": [
      " 33%|███▎      | 1/3 [00:00<00:00,  3.88it/s]"
     ]
    },
    {
     "name": "stdout",
     "output_type": "stream",
     "text": [
      "Step 0 (N samples: 0), Loss: 3396.4895 (Recon: 3327.1284, KL: 69.3610) Grad: 28.7554\n"
     ]
    },
    {
     "name": "stderr",
     "output_type": "stream",
     "text": [
      "100%|██████████| 3/3 [00:00<00:00,  4.15it/s]\n",
      "Testing: 100%|██████████| 1/1 [00:00<00:00,  7.83it/s]\n"
     ]
    },
    {
     "name": "stdout",
     "output_type": "stream",
     "text": [
      "====> Test set loss: 2538.2278 (BCE: 2476.0525, KLD: 62.1753)\n",
      "Epoch 2/94\n"
     ]
    },
    {
     "name": "stderr",
     "output_type": "stream",
     "text": [
      "100%|██████████| 3/3 [00:00<00:00,  4.47it/s]\n",
      "Testing: 100%|██████████| 1/1 [00:00<00:00, 10.40it/s]\n"
     ]
    },
    {
     "name": "stdout",
     "output_type": "stream",
     "text": [
      "====> Test set loss: 2215.3655 (BCE: 2174.2666, KLD: 41.0988)\n",
      "Epoch 3/94\n"
     ]
    },
    {
     "name": "stderr",
     "output_type": "stream",
     "text": [
      "100%|██████████| 3/3 [00:00<00:00,  4.28it/s]\n",
      "Testing: 100%|██████████| 1/1 [00:00<00:00,  8.92it/s]\n"
     ]
    },
    {
     "name": "stdout",
     "output_type": "stream",
     "text": [
      "====> Test set loss: 2142.5640 (BCE: 2087.0090, KLD: 55.5549)\n",
      "Epoch 4/94\n"
     ]
    },
    {
     "name": "stderr",
     "output_type": "stream",
     "text": [
      "100%|██████████| 3/3 [00:00<00:00,  4.28it/s]\n",
      "Testing: 100%|██████████| 1/1 [00:00<00:00,  9.63it/s]\n"
     ]
    },
    {
     "name": "stdout",
     "output_type": "stream",
     "text": [
      "====> Test set loss: 2103.9629 (BCE: 2076.9919, KLD: 26.9710)\n",
      "Epoch 5/94\n"
     ]
    },
    {
     "name": "stderr",
     "output_type": "stream",
     "text": [
      "100%|██████████| 3/3 [00:00<00:00,  4.40it/s]\n",
      "Testing: 100%|██████████| 1/1 [00:00<00:00, 10.24it/s]\n",
      "[I 2024-11-14 16:50:44,905] Trial 70 finished with value: 2103.962890625 and parameters: {'batch_size': 16, 'hidden_dim': 2000, 'latent_dim': 640, 'epochs': 94, 'learning_rate': 0.001988215153961603}. Best is trial 47 with value: 1993.71728515625.\n"
     ]
    },
    {
     "name": "stdout",
     "output_type": "stream",
     "text": [
      "====> Test set loss: 2263.4600 (BCE: 2209.5212, KLD: 53.9387)\n",
      "Early stopping...\n",
      "Epoch 1/64\n"
     ]
    },
    {
     "name": "stderr",
     "output_type": "stream",
     "text": [
      "  0%|          | 0/3 [00:00<?, ?it/s]"
     ]
    },
    {
     "name": "stdout",
     "output_type": "stream",
     "text": [
      "Step 0 (N samples: 0), Loss: 3331.6306 (Recon: 3327.2080, KL: 4.4227) Grad: 28.4440\n"
     ]
    },
    {
     "name": "stderr",
     "output_type": "stream",
     "text": [
      "100%|██████████| 3/3 [00:00<00:00, 14.51it/s]\n",
      "Testing: 100%|██████████| 1/1 [00:00<00:00, 37.78it/s]\n"
     ]
    },
    {
     "name": "stdout",
     "output_type": "stream",
     "text": [
      "====> Test set loss: 3261.6006 (BCE: 3259.1438, KLD: 2.4569)\n",
      "Epoch 2/64\n"
     ]
    },
    {
     "name": "stderr",
     "output_type": "stream",
     "text": [
      "100%|██████████| 3/3 [00:00<00:00, 15.65it/s]\n",
      "Testing: 100%|██████████| 1/1 [00:00<00:00, 41.65it/s]\n"
     ]
    },
    {
     "name": "stdout",
     "output_type": "stream",
     "text": [
      "====> Test set loss: 2871.2009 (BCE: 2798.9814, KLD: 72.2195)\n",
      "Epoch 3/64\n"
     ]
    },
    {
     "name": "stderr",
     "output_type": "stream",
     "text": [
      "100%|██████████| 3/3 [00:00<00:00, 16.14it/s]\n",
      "Testing: 100%|██████████| 1/1 [00:00<00:00, 40.79it/s]\n"
     ]
    },
    {
     "name": "stdout",
     "output_type": "stream",
     "text": [
      "====> Test set loss: 2673.8176 (BCE: 2445.1008, KLD: 228.7168)\n",
      "Epoch 4/64\n"
     ]
    },
    {
     "name": "stderr",
     "output_type": "stream",
     "text": [
      "100%|██████████| 3/3 [00:00<00:00, 15.55it/s]\n",
      "Testing: 100%|██████████| 1/1 [00:00<00:00, 41.52it/s]\n"
     ]
    },
    {
     "name": "stdout",
     "output_type": "stream",
     "text": [
      "====> Test set loss: 2151.5547 (BCE: 2126.5911, KLD: 24.9635)\n",
      "Epoch 5/64\n"
     ]
    },
    {
     "name": "stderr",
     "output_type": "stream",
     "text": [
      "100%|██████████| 3/3 [00:00<00:00, 16.58it/s]\n",
      "Testing: 100%|██████████| 1/1 [00:00<00:00, 42.87it/s]\n",
      "[I 2024-11-14 16:50:46,073] Trial 71 finished with value: 2062.987060546875 and parameters: {'batch_size': 16, 'hidden_dim': 1000, 'latent_dim': 40, 'epochs': 64, 'learning_rate': 0.0007494832680679383}. Best is trial 47 with value: 1993.71728515625.\n"
     ]
    },
    {
     "name": "stdout",
     "output_type": "stream",
     "text": [
      "====> Test set loss: 2062.9871 (BCE: 2049.8735, KLD: 13.1136)\n",
      "Early stopping...\n",
      "Epoch 1/74\n"
     ]
    },
    {
     "name": "stderr",
     "output_type": "stream",
     "text": [
      "100%|██████████| 1/1 [00:00<00:00,  4.81it/s]\n"
     ]
    },
    {
     "name": "stdout",
     "output_type": "stream",
     "text": [
      "Step 0 (N samples: 0), Loss: 3340.2830 (Recon: 3327.4341, KL: 12.8490) Grad: 28.0823\n"
     ]
    },
    {
     "name": "stderr",
     "output_type": "stream",
     "text": [
      "Testing: 100%|██████████| 1/1 [00:00<00:00, 32.59it/s]\n"
     ]
    },
    {
     "name": "stdout",
     "output_type": "stream",
     "text": [
      "====> Test set loss: 3296.9407 (BCE: 3285.7295, KLD: 11.2112)\n",
      "Epoch 2/74\n"
     ]
    },
    {
     "name": "stderr",
     "output_type": "stream",
     "text": [
      "100%|██████████| 1/1 [00:00<00:00,  5.82it/s]\n",
      "Testing: 100%|██████████| 1/1 [00:00<00:00, 33.28it/s]\n"
     ]
    },
    {
     "name": "stdout",
     "output_type": "stream",
     "text": [
      "====> Test set loss: 3181.7004 (BCE: 3128.1470, KLD: 53.5534)\n",
      "Epoch 3/74\n"
     ]
    },
    {
     "name": "stderr",
     "output_type": "stream",
     "text": [
      "100%|██████████| 1/1 [00:00<00:00,  5.86it/s]\n",
      "Testing: 100%|██████████| 1/1 [00:00<00:00, 32.33it/s]\n"
     ]
    },
    {
     "name": "stdout",
     "output_type": "stream",
     "text": [
      "====> Test set loss: 2911.7849 (BCE: 2904.8140, KLD: 6.9710)\n",
      "Epoch 4/74\n"
     ]
    },
    {
     "name": "stderr",
     "output_type": "stream",
     "text": [
      "100%|██████████| 1/1 [00:00<00:00,  5.65it/s]\n",
      "Testing: 100%|██████████| 1/1 [00:00<00:00, 35.28it/s]\n"
     ]
    },
    {
     "name": "stdout",
     "output_type": "stream",
     "text": [
      "====> Test set loss: 2269.8281 (BCE: 2235.3020, KLD: 34.5262)\n",
      "Epoch 5/74\n"
     ]
    },
    {
     "name": "stderr",
     "output_type": "stream",
     "text": [
      "100%|██████████| 1/1 [00:00<00:00,  5.97it/s]\n",
      "Testing: 100%|██████████| 1/1 [00:00<00:00, 35.03it/s]\n"
     ]
    },
    {
     "name": "stdout",
     "output_type": "stream",
     "text": [
      "====> Test set loss: 2278.7566 (BCE: 2258.4761, KLD: 20.2805)\n",
      "Early stopping...\n"
     ]
    },
    {
     "name": "stderr",
     "output_type": "stream",
     "text": [
      "[I 2024-11-14 16:50:47,271] Trial 72 finished with value: 2269.828125 and parameters: {'batch_size': 64, 'hidden_dim': 2000, 'latent_dim': 120, 'epochs': 74, 'learning_rate': 0.0013010385469793902}. Best is trial 47 with value: 1993.71728515625.\n"
     ]
    },
    {
     "name": "stdout",
     "output_type": "stream",
     "text": [
      "Epoch 1/71\n"
     ]
    },
    {
     "name": "stderr",
     "output_type": "stream",
     "text": [
      "  0%|          | 0/3 [00:00<?, ?it/s]"
     ]
    },
    {
     "name": "stdout",
     "output_type": "stream",
     "text": [
      "Step 0 (N samples: 0), Loss: 3336.9824 (Recon: 3327.3552, KL: 9.6272) Grad: 29.8870\n"
     ]
    },
    {
     "name": "stderr",
     "output_type": "stream",
     "text": [
      "100%|██████████| 3/3 [00:00<00:00, 10.18it/s]\n",
      "Testing: 100%|██████████| 1/1 [00:00<00:00, 37.87it/s]\n"
     ]
    },
    {
     "name": "stdout",
     "output_type": "stream",
     "text": [
      "====> Test set loss: 3292.7812 (BCE: 3285.6482, KLD: 7.1331)\n",
      "Epoch 2/71\n"
     ]
    },
    {
     "name": "stderr",
     "output_type": "stream",
     "text": [
      "100%|██████████| 3/3 [00:00<00:00, 10.55it/s]\n",
      "Testing: 100%|██████████| 1/1 [00:00<00:00, 35.30it/s]\n"
     ]
    },
    {
     "name": "stdout",
     "output_type": "stream",
     "text": [
      "====> Test set loss: 3164.6091 (BCE: 3144.0781, KLD: 20.5310)\n",
      "Epoch 3/71\n"
     ]
    },
    {
     "name": "stderr",
     "output_type": "stream",
     "text": [
      "100%|██████████| 3/3 [00:00<00:00, 10.61it/s]\n",
      "Testing: 100%|██████████| 1/1 [00:00<00:00, 36.57it/s]\n"
     ]
    },
    {
     "name": "stdout",
     "output_type": "stream",
     "text": [
      "====> Test set loss: 2631.2136 (BCE: 2393.9543, KLD: 237.2593)\n",
      "Epoch 4/71\n"
     ]
    },
    {
     "name": "stderr",
     "output_type": "stream",
     "text": [
      "100%|██████████| 3/3 [00:00<00:00, 10.60it/s]\n",
      "Testing: 100%|██████████| 1/1 [00:00<00:00, 35.80it/s]\n"
     ]
    },
    {
     "name": "stdout",
     "output_type": "stream",
     "text": [
      "====> Test set loss: 2399.1418 (BCE: 2227.9558, KLD: 171.1860)\n",
      "Epoch 5/71\n"
     ]
    },
    {
     "name": "stderr",
     "output_type": "stream",
     "text": [
      "100%|██████████| 3/3 [00:00<00:00,  9.73it/s]\n",
      "Testing: 100%|██████████| 1/1 [00:00<00:00, 39.01it/s]\n",
      "[I 2024-11-14 16:50:48,980] Trial 73 finished with value: 2134.11474609375 and parameters: {'batch_size': 16, 'hidden_dim': 1500, 'latent_dim': 90, 'epochs': 71, 'learning_rate': 0.0004044618713690942}. Best is trial 47 with value: 1993.71728515625.\n"
     ]
    },
    {
     "name": "stdout",
     "output_type": "stream",
     "text": [
      "====> Test set loss: 2134.1147 (BCE: 2108.3164, KLD: 25.7984)\n",
      "Early stopping...\n",
      "Epoch 1/77\n"
     ]
    },
    {
     "name": "stderr",
     "output_type": "stream",
     "text": [
      "  0%|          | 0/3 [00:00<?, ?it/s]"
     ]
    },
    {
     "name": "stdout",
     "output_type": "stream",
     "text": [
      "Step 0 (N samples: 0), Loss: 3327.9585 (Recon: 3326.8823, KL: 1.0762) Grad: 27.8664\n"
     ]
    },
    {
     "name": "stderr",
     "output_type": "stream",
     "text": [
      "100%|██████████| 3/3 [00:00<00:00, 10.31it/s]\n",
      "Testing: 100%|██████████| 1/1 [00:00<00:00, 34.70it/s]\n"
     ]
    },
    {
     "name": "stdout",
     "output_type": "stream",
     "text": [
      "====> Test set loss: 2982.9719 (BCE: 2960.9521, KLD: 22.0198)\n",
      "Epoch 2/77\n"
     ]
    },
    {
     "name": "stderr",
     "output_type": "stream",
     "text": [
      "100%|██████████| 3/3 [00:00<00:00, 11.07it/s]\n",
      "Testing: 100%|██████████| 1/1 [00:00<00:00, 38.83it/s]\n"
     ]
    },
    {
     "name": "stdout",
     "output_type": "stream",
     "text": [
      "====> Test set loss: 2875.7378 (BCE: 2705.9189, KLD: 169.8189)\n",
      "Epoch 3/77\n"
     ]
    },
    {
     "name": "stderr",
     "output_type": "stream",
     "text": [
      "100%|██████████| 3/3 [00:00<00:00, 10.94it/s]\n",
      "Testing: 100%|██████████| 1/1 [00:00<00:00, 43.03it/s]\n"
     ]
    },
    {
     "name": "stdout",
     "output_type": "stream",
     "text": [
      "====> Test set loss: 2098.7388 (BCE: 2095.8755, KLD: 2.8634)\n",
      "Epoch 4/77\n"
     ]
    },
    {
     "name": "stderr",
     "output_type": "stream",
     "text": [
      "100%|██████████| 3/3 [00:00<00:00, 10.78it/s]\n",
      "Testing: 100%|██████████| 1/1 [00:00<00:00, 39.12it/s]\n"
     ]
    },
    {
     "name": "stdout",
     "output_type": "stream",
     "text": [
      "====> Test set loss: 2019.3333 (BCE: 2015.9445, KLD: 3.3888)\n",
      "Epoch 5/77\n"
     ]
    },
    {
     "name": "stderr",
     "output_type": "stream",
     "text": [
      "100%|██████████| 3/3 [00:00<00:00, 11.18it/s]\n",
      "Testing: 100%|██████████| 1/1 [00:00<00:00, 38.96it/s]\n",
      "[I 2024-11-14 16:50:50,611] Trial 74 finished with value: 2019.333251953125 and parameters: {'batch_size': 16, 'hidden_dim': 1500, 'latent_dim': 10, 'epochs': 77, 'learning_rate': 0.0010127087034306008}. Best is trial 47 with value: 1993.71728515625.\n"
     ]
    },
    {
     "name": "stdout",
     "output_type": "stream",
     "text": [
      "====> Test set loss: 2026.2749 (BCE: 2024.9728, KLD: 1.3021)\n",
      "Early stopping...\n",
      "Epoch 1/81\n"
     ]
    },
    {
     "name": "stderr",
     "output_type": "stream",
     "text": [
      "100%|██████████| 1/1 [00:00<00:00,  8.42it/s]\n"
     ]
    },
    {
     "name": "stdout",
     "output_type": "stream",
     "text": [
      "Step 0 (N samples: 0), Loss: 3333.8894 (Recon: 3327.1941, KL: 6.6952) Grad: 27.7175\n"
     ]
    },
    {
     "name": "stderr",
     "output_type": "stream",
     "text": [
      "Testing: 100%|██████████| 1/1 [00:00<00:00, 31.79it/s]\n"
     ]
    },
    {
     "name": "stdout",
     "output_type": "stream",
     "text": [
      "====> Test set loss: 3316.5869 (BCE: 3310.3684, KLD: 6.2186)\n",
      "Epoch 2/81\n"
     ]
    },
    {
     "name": "stderr",
     "output_type": "stream",
     "text": [
      "100%|██████████| 1/1 [00:00<00:00,  8.38it/s]\n",
      "Testing: 100%|██████████| 1/1 [00:00<00:00, 37.12it/s]\n"
     ]
    },
    {
     "name": "stdout",
     "output_type": "stream",
     "text": [
      "====> Test set loss: 3292.2949 (BCE: 3287.3960, KLD: 4.8989)\n",
      "Epoch 3/81\n"
     ]
    },
    {
     "name": "stderr",
     "output_type": "stream",
     "text": [
      "100%|██████████| 1/1 [00:00<00:00,  8.04it/s]\n",
      "Testing: 100%|██████████| 1/1 [00:00<00:00, 36.80it/s]\n"
     ]
    },
    {
     "name": "stdout",
     "output_type": "stream",
     "text": [
      "====> Test set loss: 3257.9136 (BCE: 3252.9719, KLD: 4.9416)\n",
      "Epoch 4/81\n"
     ]
    },
    {
     "name": "stderr",
     "output_type": "stream",
     "text": [
      "100%|██████████| 1/1 [00:00<00:00,  8.68it/s]\n",
      "Testing: 100%|██████████| 1/1 [00:00<00:00, 41.16it/s]\n"
     ]
    },
    {
     "name": "stdout",
     "output_type": "stream",
     "text": [
      "====> Test set loss: 3207.9841 (BCE: 3202.9067, KLD: 5.0775)\n",
      "Epoch 5/81\n"
     ]
    },
    {
     "name": "stderr",
     "output_type": "stream",
     "text": [
      "100%|██████████| 1/1 [00:00<00:00,  7.49it/s]\n",
      "Testing: 100%|██████████| 1/1 [00:00<00:00, 38.63it/s]\n",
      "[I 2024-11-14 16:50:51,451] Trial 75 finished with value: 3110.704345703125 and parameters: {'batch_size': 128, 'hidden_dim': 1000, 'latent_dim': 60, 'epochs': 81, 'learning_rate': 0.0007734088620579892}. Best is trial 47 with value: 1993.71728515625.\n"
     ]
    },
    {
     "name": "stdout",
     "output_type": "stream",
     "text": [
      "====> Test set loss: 3110.7043 (BCE: 3099.0308, KLD: 11.6736)\n",
      "Early stopping...\n",
      "Epoch 1/86\n"
     ]
    },
    {
     "name": "stderr",
     "output_type": "stream",
     "text": [
      "  0%|          | 0/3 [00:00<?, ?it/s]"
     ]
    },
    {
     "name": "stdout",
     "output_type": "stream",
     "text": [
      "Step 0 (N samples: 0), Loss: 3346.8210 (Recon: 3326.4827, KL: 20.3384) Grad: 27.9386\n"
     ]
    },
    {
     "name": "stderr",
     "output_type": "stream",
     "text": [
      "100%|██████████| 3/3 [00:00<00:00,  9.44it/s]\n",
      "Testing: 100%|██████████| 1/1 [00:00<00:00, 29.59it/s]\n"
     ]
    },
    {
     "name": "stdout",
     "output_type": "stream",
     "text": [
      "====> Test set loss: 3345.7856 (BCE: 3325.4993, KLD: 20.2864)\n",
      "Epoch 2/86\n"
     ]
    },
    {
     "name": "stderr",
     "output_type": "stream",
     "text": [
      "100%|██████████| 3/3 [00:00<00:00,  8.96it/s]\n",
      "Testing: 100%|██████████| 1/1 [00:00<00:00, 25.86it/s]\n"
     ]
    },
    {
     "name": "stdout",
     "output_type": "stream",
     "text": [
      "====> Test set loss: 3344.7493 (BCE: 3324.5166, KLD: 20.2326)\n",
      "Epoch 3/86\n"
     ]
    },
    {
     "name": "stderr",
     "output_type": "stream",
     "text": [
      "100%|██████████| 3/3 [00:00<00:00,  8.75it/s]\n",
      "Testing: 100%|██████████| 1/1 [00:00<00:00, 30.52it/s]\n"
     ]
    },
    {
     "name": "stdout",
     "output_type": "stream",
     "text": [
      "====> Test set loss: 3343.6719 (BCE: 3323.4958, KLD: 20.1760)\n",
      "Epoch 4/86\n"
     ]
    },
    {
     "name": "stderr",
     "output_type": "stream",
     "text": [
      "100%|██████████| 3/3 [00:00<00:00,  8.91it/s]\n",
      "Testing: 100%|██████████| 1/1 [00:00<00:00, 29.17it/s]\n"
     ]
    },
    {
     "name": "stdout",
     "output_type": "stream",
     "text": [
      "====> Test set loss: 3342.5486 (BCE: 3322.4343, KLD: 20.1143)\n",
      "Epoch 5/86\n"
     ]
    },
    {
     "name": "stderr",
     "output_type": "stream",
     "text": [
      "100%|██████████| 3/3 [00:00<00:00,  8.96it/s]\n",
      "Testing: 100%|██████████| 1/1 [00:00<00:00, 27.39it/s]\n",
      "[I 2024-11-14 16:50:53,412] Trial 76 finished with value: 3341.47802734375 and parameters: {'batch_size': 16, 'hidden_dim': 1500, 'latent_dim': 190, 'epochs': 86, 'learning_rate': 1.2265405116155056e-05}. Best is trial 47 with value: 1993.71728515625.\n"
     ]
    },
    {
     "name": "stdout",
     "output_type": "stream",
     "text": [
      "====> Test set loss: 3341.4780 (BCE: 3321.4326, KLD: 20.0455)\n",
      "Early stopping...\n",
      "Epoch 1/65\n"
     ]
    },
    {
     "name": "stderr",
     "output_type": "stream",
     "text": [
      " 33%|███▎      | 1/3 [00:00<00:00,  6.39it/s]"
     ]
    },
    {
     "name": "stdout",
     "output_type": "stream",
     "text": [
      "Step 0 (N samples: 0), Loss: 3342.0884 (Recon: 3326.9246, KL: 15.1638) Grad: 27.7295\n"
     ]
    },
    {
     "name": "stderr",
     "output_type": "stream",
     "text": [
      "100%|██████████| 3/3 [00:00<00:00,  7.09it/s]\n",
      "Testing: 100%|██████████| 1/1 [00:00<00:00, 24.27it/s]\n"
     ]
    },
    {
     "name": "stdout",
     "output_type": "stream",
     "text": [
      "====> Test set loss: 3254.0139 (BCE: 3244.9077, KLD: 9.1062)\n",
      "Epoch 2/65\n"
     ]
    },
    {
     "name": "stderr",
     "output_type": "stream",
     "text": [
      "100%|██████████| 3/3 [00:00<00:00,  7.30it/s]\n",
      "Testing: 100%|██████████| 1/1 [00:00<00:00, 26.36it/s]\n"
     ]
    },
    {
     "name": "stdout",
     "output_type": "stream",
     "text": [
      "====> Test set loss: 2609.6331 (BCE: 2515.1799, KLD: 94.4532)\n",
      "Epoch 3/65\n"
     ]
    },
    {
     "name": "stderr",
     "output_type": "stream",
     "text": [
      "100%|██████████| 3/3 [00:00<00:00,  7.13it/s]\n",
      "Testing: 100%|██████████| 1/1 [00:00<00:00, 30.91it/s]\n"
     ]
    },
    {
     "name": "stdout",
     "output_type": "stream",
     "text": [
      "====> Test set loss: 2841.6240 (BCE: 2690.8142, KLD: 150.8099)\n",
      "Epoch 4/65\n"
     ]
    },
    {
     "name": "stderr",
     "output_type": "stream",
     "text": [
      "100%|██████████| 3/3 [00:00<00:00,  7.33it/s]\n",
      "Testing: 100%|██████████| 1/1 [00:00<00:00, 29.28it/s]\n"
     ]
    },
    {
     "name": "stdout",
     "output_type": "stream",
     "text": [
      "====> Test set loss: 2127.9534 (BCE: 2115.3994, KLD: 12.5539)\n",
      "Epoch 5/65\n"
     ]
    },
    {
     "name": "stderr",
     "output_type": "stream",
     "text": [
      "100%|██████████| 3/3 [00:00<00:00,  7.54it/s]\n",
      "Testing: 100%|██████████| 1/1 [00:00<00:00, 30.97it/s]\n",
      "[I 2024-11-14 16:50:55,822] Trial 77 finished with value: 2061.635986328125 and parameters: {'batch_size': 16, 'hidden_dim': 2000, 'latent_dim': 140, 'epochs': 65, 'learning_rate': 0.0005492340405777277}. Best is trial 47 with value: 1993.71728515625.\n"
     ]
    },
    {
     "name": "stdout",
     "output_type": "stream",
     "text": [
      "====> Test set loss: 2061.6360 (BCE: 2050.3494, KLD: 11.2866)\n",
      "Early stopping...\n",
      "Epoch 1/69\n"
     ]
    },
    {
     "name": "stderr",
     "output_type": "stream",
     "text": [
      "100%|██████████| 1/1 [00:00<00:00,  8.48it/s]\n"
     ]
    },
    {
     "name": "stdout",
     "output_type": "stream",
     "text": [
      "Step 0 (N samples: 0), Loss: 3331.3262 (Recon: 3327.0281, KL: 4.2981) Grad: 27.8187\n"
     ]
    },
    {
     "name": "stderr",
     "output_type": "stream",
     "text": [
      "Testing: 100%|██████████| 1/1 [00:00<00:00, 39.52it/s]\n"
     ]
    },
    {
     "name": "stdout",
     "output_type": "stream",
     "text": [
      "====> Test set loss: 3297.5979 (BCE: 3293.9407, KLD: 3.6573)\n",
      "Epoch 2/69\n"
     ]
    },
    {
     "name": "stderr",
     "output_type": "stream",
     "text": [
      "100%|██████████| 1/1 [00:00<00:00,  9.40it/s]\n",
      "Testing: 100%|██████████| 1/1 [00:00<00:00, 39.31it/s]\n"
     ]
    },
    {
     "name": "stdout",
     "output_type": "stream",
     "text": [
      "====> Test set loss: 3236.9995 (BCE: 3234.0413, KLD: 2.9582)\n",
      "Epoch 3/69\n"
     ]
    },
    {
     "name": "stderr",
     "output_type": "stream",
     "text": [
      "100%|██████████| 1/1 [00:00<00:00,  9.41it/s]\n",
      "Testing: 100%|██████████| 1/1 [00:00<00:00, 43.75it/s]\n"
     ]
    },
    {
     "name": "stdout",
     "output_type": "stream",
     "text": [
      "====> Test set loss: 3090.7039 (BCE: 3079.2996, KLD: 11.4044)\n",
      "Epoch 4/69\n"
     ]
    },
    {
     "name": "stderr",
     "output_type": "stream",
     "text": [
      "100%|██████████| 1/1 [00:00<00:00,  9.36it/s]\n",
      "Testing: 100%|██████████| 1/1 [00:00<00:00, 38.19it/s]\n"
     ]
    },
    {
     "name": "stdout",
     "output_type": "stream",
     "text": [
      "====> Test set loss: 2615.8220 (BCE: 2534.7253, KLD: 81.0966)\n",
      "Epoch 5/69\n"
     ]
    },
    {
     "name": "stderr",
     "output_type": "stream",
     "text": [
      "100%|██████████| 1/1 [00:00<00:00,  7.18it/s]\n",
      "Testing: 100%|██████████| 1/1 [00:00<00:00, 35.07it/s]\n",
      "[I 2024-11-14 16:50:56,621] Trial 78 finished with value: 2615.822021484375 and parameters: {'batch_size': 64, 'hidden_dim': 1000, 'latent_dim': 40, 'epochs': 69, 'learning_rate': 0.0014258353481706371}. Best is trial 47 with value: 1993.71728515625.\n"
     ]
    },
    {
     "name": "stdout",
     "output_type": "stream",
     "text": [
      "====> Test set loss: 3443.6475 (BCE: 3008.9846, KLD: 434.6629)\n",
      "Early stopping...\n",
      "Epoch 1/90\n"
     ]
    },
    {
     "name": "stderr",
     "output_type": "stream",
     "text": [
      "  0%|          | 0/3 [00:00<?, ?it/s]"
     ]
    },
    {
     "name": "stdout",
     "output_type": "stream",
     "text": [
      "Step 0 (N samples: 0), Loss: 3388.8774 (Recon: 3326.8213, KL: 62.0562) Grad: 29.6691\n"
     ]
    },
    {
     "name": "stderr",
     "output_type": "stream",
     "text": [
      "100%|██████████| 3/3 [00:00<00:00,  3.20it/s]\n",
      "Testing: 100%|██████████| 1/1 [00:00<00:00,  9.24it/s]\n"
     ]
    },
    {
     "name": "stdout",
     "output_type": "stream",
     "text": [
      "====> Test set loss: 3052.1294 (BCE: 3014.0425, KLD: 38.0870)\n",
      "Epoch 2/90\n"
     ]
    },
    {
     "name": "stderr",
     "output_type": "stream",
     "text": [
      "100%|██████████| 3/3 [00:00<00:00,  3.64it/s]\n",
      "Testing: 100%|██████████| 1/1 [00:00<00:00,  9.34it/s]\n"
     ]
    },
    {
     "name": "stdout",
     "output_type": "stream",
     "text": [
      "====> Test set loss: 5519.4263 (BCE: 5369.0693, KLD: 150.3569)\n",
      "Epoch 3/90\n"
     ]
    },
    {
     "name": "stderr",
     "output_type": "stream",
     "text": [
      "100%|██████████| 3/3 [00:00<00:00,  3.75it/s]\n",
      "Testing: 100%|██████████| 1/1 [00:00<00:00, 10.29it/s]\n"
     ]
    },
    {
     "name": "stdout",
     "output_type": "stream",
     "text": [
      "====> Test set loss: 2193.8557 (BCE: 2164.6228, KLD: 29.2330)\n",
      "Epoch 4/90\n"
     ]
    },
    {
     "name": "stderr",
     "output_type": "stream",
     "text": [
      "100%|██████████| 3/3 [00:00<00:00,  3.87it/s]\n",
      "Testing: 100%|██████████| 1/1 [00:00<00:00, 11.66it/s]\n"
     ]
    },
    {
     "name": "stdout",
     "output_type": "stream",
     "text": [
      "====> Test set loss: 2137.2524 (BCE: 2107.4558, KLD: 29.7965)\n",
      "Epoch 5/90\n"
     ]
    },
    {
     "name": "stderr",
     "output_type": "stream",
     "text": [
      "100%|██████████| 3/3 [00:00<00:00,  3.81it/s]\n",
      "Testing: 100%|██████████| 1/1 [00:00<00:00, 10.43it/s]\n",
      "[I 2024-11-14 16:51:01,510] Trial 79 finished with value: 2085.421875 and parameters: {'batch_size': 16, 'hidden_dim': 2500, 'latent_dim': 580, 'epochs': 90, 'learning_rate': 0.0009869602421275288}. Best is trial 47 with value: 1993.71728515625.\n"
     ]
    },
    {
     "name": "stdout",
     "output_type": "stream",
     "text": [
      "====> Test set loss: 2085.4219 (BCE: 2066.3767, KLD: 19.0452)\n",
      "Early stopping...\n",
      "Epoch 1/80\n"
     ]
    },
    {
     "name": "stderr",
     "output_type": "stream",
     "text": [
      " 33%|███▎      | 1/3 [00:00<00:00,  6.14it/s]"
     ]
    },
    {
     "name": "stdout",
     "output_type": "stream",
     "text": [
      "Step 0 (N samples: 0), Loss: 3336.0671 (Recon: 3327.3950, KL: 8.6722) Grad: 27.8623\n"
     ]
    },
    {
     "name": "stderr",
     "output_type": "stream",
     "text": [
      "100%|██████████| 3/3 [00:00<00:00,  6.72it/s]\n",
      "Testing: 100%|██████████| 1/1 [00:00<00:00,  6.00it/s]\n"
     ]
    },
    {
     "name": "stdout",
     "output_type": "stream",
     "text": [
      "====> Test set loss: 2356.4714 (BCE: 2260.1255, KLD: 96.3460)\n",
      "Epoch 2/80\n"
     ]
    },
    {
     "name": "stderr",
     "output_type": "stream",
     "text": [
      "100%|██████████| 3/3 [00:00<00:00,  6.56it/s]\n",
      "Testing: 100%|██████████| 1/1 [00:00<00:00, 26.60it/s]\n"
     ]
    },
    {
     "name": "stdout",
     "output_type": "stream",
     "text": [
      "====> Test set loss: 2133.7690 (BCE: 2126.8076, KLD: 6.9615)\n",
      "Epoch 3/80\n"
     ]
    },
    {
     "name": "stderr",
     "output_type": "stream",
     "text": [
      "100%|██████████| 3/3 [00:00<00:00,  7.02it/s]\n",
      "Testing: 100%|██████████| 1/1 [00:00<00:00, 12.50it/s]\n"
     ]
    },
    {
     "name": "stdout",
     "output_type": "stream",
     "text": [
      "====> Test set loss: 2116.7815 (BCE: 2111.1848, KLD: 5.5967)\n",
      "Epoch 4/80\n"
     ]
    },
    {
     "name": "stderr",
     "output_type": "stream",
     "text": [
      "100%|██████████| 3/3 [00:00<00:00,  6.69it/s]\n",
      "Testing: 100%|██████████| 1/1 [00:00<00:00, 28.31it/s]\n"
     ]
    },
    {
     "name": "stdout",
     "output_type": "stream",
     "text": [
      "====> Test set loss: 2055.5627 (BCE: 2035.8958, KLD: 19.6669)\n",
      "Epoch 5/80\n"
     ]
    },
    {
     "name": "stderr",
     "output_type": "stream",
     "text": [
      "100%|██████████| 3/3 [00:00<00:00,  6.95it/s]\n",
      "Testing: 100%|██████████| 1/1 [00:00<00:00, 34.95it/s]\n",
      "[I 2024-11-14 16:51:04,249] Trial 80 finished with value: 2037.087158203125 and parameters: {'batch_size': 16, 'hidden_dim': 2000, 'latent_dim': 80, 'epochs': 80, 'learning_rate': 0.0016620024577633458}. Best is trial 47 with value: 1993.71728515625.\n"
     ]
    },
    {
     "name": "stdout",
     "output_type": "stream",
     "text": [
      "====> Test set loss: 2037.0872 (BCE: 2027.4082, KLD: 9.6790)\n",
      "Early stopping...\n",
      "Epoch 1/96\n"
     ]
    },
    {
     "name": "stderr",
     "output_type": "stream",
     "text": [
      "  0%|          | 0/3 [00:00<?, ?it/s]"
     ]
    },
    {
     "name": "stdout",
     "output_type": "stream",
     "text": [
      "Step 0 (N samples: 0), Loss: 3332.1282 (Recon: 3327.6575, KL: 4.4707) Grad: 27.1488\n"
     ]
    },
    {
     "name": "stderr",
     "output_type": "stream",
     "text": [
      "100%|██████████| 3/3 [00:00<00:00, 10.30it/s]\n",
      "Testing: 100%|██████████| 1/1 [00:00<00:00, 35.20it/s]\n"
     ]
    },
    {
     "name": "stdout",
     "output_type": "stream",
     "text": [
      "====> Test set loss: 2663.4524 (BCE: 2611.8960, KLD: 51.5563)\n",
      "Epoch 2/96\n"
     ]
    },
    {
     "name": "stderr",
     "output_type": "stream",
     "text": [
      "100%|██████████| 3/3 [00:00<00:00, 10.13it/s]\n",
      "Testing: 100%|██████████| 1/1 [00:00<00:00, 34.08it/s]\n"
     ]
    },
    {
     "name": "stdout",
     "output_type": "stream",
     "text": [
      "====> Test set loss: 3284.8442 (BCE: 3206.8208, KLD: 78.0234)\n",
      "Epoch 3/96\n"
     ]
    },
    {
     "name": "stderr",
     "output_type": "stream",
     "text": [
      "100%|██████████| 3/3 [00:00<00:00, 10.37it/s]\n",
      "Testing: 100%|██████████| 1/1 [00:00<00:00, 35.70it/s]\n"
     ]
    },
    {
     "name": "stdout",
     "output_type": "stream",
     "text": [
      "====> Test set loss: 2062.9656 (BCE: 2059.9241, KLD: 3.0416)\n",
      "Epoch 4/96\n"
     ]
    },
    {
     "name": "stderr",
     "output_type": "stream",
     "text": [
      "100%|██████████| 3/3 [00:00<00:00, 10.11it/s]\n",
      "Testing: 100%|██████████| 1/1 [00:00<00:00, 33.11it/s]\n"
     ]
    },
    {
     "name": "stdout",
     "output_type": "stream",
     "text": [
      "====> Test set loss: 2148.9851 (BCE: 2145.7080, KLD: 3.2770)\n",
      "Epoch 5/96\n"
     ]
    },
    {
     "name": "stderr",
     "output_type": "stream",
     "text": [
      "100%|██████████| 3/3 [00:00<00:00,  9.79it/s]\n",
      "Testing: 100%|██████████| 1/1 [00:00<00:00, 36.57it/s]\n",
      "[I 2024-11-14 16:51:06,012] Trial 81 finished with value: 2037.7254638671875 and parameters: {'batch_size': 16, 'hidden_dim': 1500, 'latent_dim': 40, 'epochs': 96, 'learning_rate': 0.0017211510280160337}. Best is trial 47 with value: 1993.71728515625.\n"
     ]
    },
    {
     "name": "stdout",
     "output_type": "stream",
     "text": [
      "====> Test set loss: 2037.7255 (BCE: 2034.1057, KLD: 3.6197)\n",
      "Early stopping...\n",
      "Epoch 1/87\n"
     ]
    },
    {
     "name": "stderr",
     "output_type": "stream",
     "text": [
      "  0%|          | 0/3 [00:00<?, ?it/s]"
     ]
    },
    {
     "name": "stdout",
     "output_type": "stream",
     "text": [
      "Step 0 (N samples: 0), Loss: 3330.0547 (Recon: 3326.7551, KL: 3.2996) Grad: 27.1719\n"
     ]
    },
    {
     "name": "stderr",
     "output_type": "stream",
     "text": [
      "100%|██████████| 3/3 [00:00<00:00, 10.57it/s]\n",
      "Testing: 100%|██████████| 1/1 [00:00<00:00, 33.13it/s]\n"
     ]
    },
    {
     "name": "stdout",
     "output_type": "stream",
     "text": [
      "====> Test set loss: 8402.4023 (BCE: 7619.7021, KLD: 782.7001)\n",
      "Epoch 2/87\n"
     ]
    },
    {
     "name": "stderr",
     "output_type": "stream",
     "text": [
      "100%|██████████| 3/3 [00:00<00:00,  9.19it/s]\n",
      "Testing: 100%|██████████| 1/1 [00:00<00:00, 30.98it/s]\n"
     ]
    },
    {
     "name": "stdout",
     "output_type": "stream",
     "text": [
      "====> Test set loss: 2079.9951 (BCE: 2077.3977, KLD: 2.5974)\n",
      "Epoch 3/87\n"
     ]
    },
    {
     "name": "stderr",
     "output_type": "stream",
     "text": [
      "100%|██████████| 3/3 [00:00<00:00,  9.90it/s]\n",
      "Testing: 100%|██████████| 1/1 [00:00<00:00, 37.22it/s]\n"
     ]
    },
    {
     "name": "stdout",
     "output_type": "stream",
     "text": [
      "====> Test set loss: 2015.8173 (BCE: 2009.7762, KLD: 6.0410)\n",
      "Epoch 4/87\n"
     ]
    },
    {
     "name": "stderr",
     "output_type": "stream",
     "text": [
      "100%|██████████| 3/3 [00:00<00:00, 11.25it/s]\n",
      "Testing: 100%|██████████| 1/1 [00:00<00:00, 36.09it/s]\n"
     ]
    },
    {
     "name": "stdout",
     "output_type": "stream",
     "text": [
      "====> Test set loss: 2024.9670 (BCE: 2019.3889, KLD: 5.5781)\n",
      "Epoch 5/87\n"
     ]
    },
    {
     "name": "stderr",
     "output_type": "stream",
     "text": [
      "100%|██████████| 3/3 [00:00<00:00, 11.09it/s]\n",
      "Testing: 100%|██████████| 1/1 [00:00<00:00, 35.15it/s]\n",
      "[I 2024-11-14 16:51:07,727] Trial 82 finished with value: 2015.8172607421875 and parameters: {'batch_size': 16, 'hidden_dim': 1500, 'latent_dim': 30, 'epochs': 87, 'learning_rate': 0.0023141013069224426}. Best is trial 47 with value: 1993.71728515625.\n"
     ]
    },
    {
     "name": "stdout",
     "output_type": "stream",
     "text": [
      "====> Test set loss: 2065.1899 (BCE: 2059.8030, KLD: 5.3869)\n",
      "Early stopping...\n",
      "Epoch 1/74\n"
     ]
    },
    {
     "name": "stderr",
     "output_type": "stream",
     "text": [
      "  0%|          | 0/3 [00:00<?, ?it/s]"
     ]
    },
    {
     "name": "stdout",
     "output_type": "stream",
     "text": [
      "Step 0 (N samples: 0), Loss: 3339.0496 (Recon: 3326.8970, KL: 12.1527) Grad: 28.1921\n"
     ]
    },
    {
     "name": "stderr",
     "output_type": "stream",
     "text": [
      "100%|██████████| 3/3 [00:00<00:00,  9.92it/s]\n",
      "Testing: 100%|██████████| 1/1 [00:00<00:00, 30.28it/s]\n"
     ]
    },
    {
     "name": "stdout",
     "output_type": "stream",
     "text": [
      "====> Test set loss: 2589.8491 (BCE: 2573.7891, KLD: 16.0600)\n",
      "Epoch 2/74\n"
     ]
    },
    {
     "name": "stderr",
     "output_type": "stream",
     "text": [
      "100%|██████████| 3/3 [00:00<00:00, 10.70it/s]\n",
      "Testing: 100%|██████████| 1/1 [00:00<00:00, 35.45it/s]\n"
     ]
    },
    {
     "name": "stdout",
     "output_type": "stream",
     "text": [
      "====> Test set loss: 10757.0566 (BCE: 9993.5947, KLD: 763.4615)\n",
      "Epoch 3/74\n"
     ]
    },
    {
     "name": "stderr",
     "output_type": "stream",
     "text": [
      "100%|██████████| 3/3 [00:00<00:00, 10.49it/s]\n",
      "Testing: 100%|██████████| 1/1 [00:00<00:00, 27.40it/s]\n"
     ]
    },
    {
     "name": "stdout",
     "output_type": "stream",
     "text": [
      "====> Test set loss: 2425.3372 (BCE: 2405.7024, KLD: 19.6348)\n",
      "Epoch 4/74\n"
     ]
    },
    {
     "name": "stderr",
     "output_type": "stream",
     "text": [
      "100%|██████████| 3/3 [00:00<00:00,  9.08it/s]\n",
      "Testing: 100%|██████████| 1/1 [00:00<00:00, 32.26it/s]\n"
     ]
    },
    {
     "name": "stdout",
     "output_type": "stream",
     "text": [
      "====> Test set loss: 2396.0864 (BCE: 2384.1650, KLD: 11.9213)\n",
      "Epoch 5/74\n"
     ]
    },
    {
     "name": "stderr",
     "output_type": "stream",
     "text": [
      "100%|██████████| 3/3 [00:00<00:00, 10.13it/s]\n",
      "Testing: 100%|██████████| 1/1 [00:00<00:00, 33.63it/s]\n",
      "[I 2024-11-14 16:51:09,504] Trial 83 finished with value: 2078.052734375 and parameters: {'batch_size': 16, 'hidden_dim': 1500, 'latent_dim': 110, 'epochs': 74, 'learning_rate': 0.003031935352113929}. Best is trial 47 with value: 1993.71728515625.\n"
     ]
    },
    {
     "name": "stdout",
     "output_type": "stream",
     "text": [
      "====> Test set loss: 2078.0527 (BCE: 2064.2747, KLD: 13.7781)\n",
      "Early stopping...\n",
      "Epoch 1/83\n"
     ]
    },
    {
     "name": "stderr",
     "output_type": "stream",
     "text": [
      " 33%|███▎      | 1/3 [00:00<00:00,  9.06it/s]"
     ]
    },
    {
     "name": "stdout",
     "output_type": "stream",
     "text": [
      "Step 0 (N samples: 0), Loss: 3330.1667 (Recon: 3326.6057, KL: 3.5609) Grad: 28.1355\n"
     ]
    },
    {
     "name": "stderr",
     "output_type": "stream",
     "text": [
      "100%|██████████| 3/3 [00:00<00:00, 11.93it/s]\n",
      "Testing: 100%|██████████| 1/1 [00:00<00:00, 40.16it/s]\n"
     ]
    },
    {
     "name": "stdout",
     "output_type": "stream",
     "text": [
      "====> Test set loss: 2964.7871 (BCE: 2953.1184, KLD: 11.6688)\n",
      "Epoch 2/83\n"
     ]
    },
    {
     "name": "stderr",
     "output_type": "stream",
     "text": [
      "100%|██████████| 3/3 [00:00<00:00, 15.76it/s]\n",
      "Testing: 100%|██████████| 1/1 [00:00<00:00, 39.40it/s]\n"
     ]
    },
    {
     "name": "stdout",
     "output_type": "stream",
     "text": [
      "====> Test set loss: 2153.3142 (BCE: 2127.5112, KLD: 25.8030)\n",
      "Epoch 3/83\n"
     ]
    },
    {
     "name": "stderr",
     "output_type": "stream",
     "text": [
      "100%|██████████| 3/3 [00:00<00:00, 15.38it/s]\n",
      "Testing: 100%|██████████| 1/1 [00:00<00:00, 40.02it/s]\n"
     ]
    },
    {
     "name": "stdout",
     "output_type": "stream",
     "text": [
      "====> Test set loss: 2104.7905 (BCE: 2097.8865, KLD: 6.9041)\n",
      "Epoch 4/83\n"
     ]
    },
    {
     "name": "stderr",
     "output_type": "stream",
     "text": [
      "100%|██████████| 3/3 [00:00<00:00, 15.86it/s]\n",
      "Testing: 100%|██████████| 1/1 [00:00<00:00, 41.26it/s]\n"
     ]
    },
    {
     "name": "stdout",
     "output_type": "stream",
     "text": [
      "====> Test set loss: 2173.0764 (BCE: 2168.0457, KLD: 5.0308)\n",
      "Epoch 5/83\n"
     ]
    },
    {
     "name": "stderr",
     "output_type": "stream",
     "text": [
      "100%|██████████| 3/3 [00:00<00:00, 15.51it/s]\n",
      "Testing: 100%|██████████| 1/1 [00:00<00:00, 40.85it/s]\n",
      "[I 2024-11-14 16:51:10,737] Trial 84 finished with value: 2005.3499755859375 and parameters: {'batch_size': 16, 'hidden_dim': 1000, 'latent_dim': 30, 'epochs': 83, 'learning_rate': 0.0018436843182525397}. Best is trial 47 with value: 1993.71728515625.\n"
     ]
    },
    {
     "name": "stdout",
     "output_type": "stream",
     "text": [
      "====> Test set loss: 2005.3500 (BCE: 2001.6179, KLD: 3.7320)\n",
      "Early stopping...\n",
      "Epoch 1/82\n"
     ]
    },
    {
     "name": "stderr",
     "output_type": "stream",
     "text": [
      "100%|██████████| 1/1 [00:00<00:00,  9.01it/s]\n"
     ]
    },
    {
     "name": "stdout",
     "output_type": "stream",
     "text": [
      "Step 0 (N samples: 0), Loss: 3334.9932 (Recon: 3327.0574, KL: 7.9358) Grad: 27.8873\n"
     ]
    },
    {
     "name": "stderr",
     "output_type": "stream",
     "text": [
      "Testing: 100%|██████████| 1/1 [00:00<00:00, 35.96it/s]\n"
     ]
    },
    {
     "name": "stdout",
     "output_type": "stream",
     "text": [
      "====> Test set loss: 3306.9656 (BCE: 3299.8604, KLD: 7.1053)\n",
      "Epoch 2/82\n"
     ]
    },
    {
     "name": "stderr",
     "output_type": "stream",
     "text": [
      "100%|██████████| 1/1 [00:00<00:00,  9.20it/s]\n",
      "Testing: 100%|██████████| 1/1 [00:00<00:00, 36.13it/s]\n"
     ]
    },
    {
     "name": "stdout",
     "output_type": "stream",
     "text": [
      "====> Test set loss: 3260.4824 (BCE: 3254.7771, KLD: 5.7054)\n",
      "Epoch 3/82\n"
     ]
    },
    {
     "name": "stderr",
     "output_type": "stream",
     "text": [
      "100%|██████████| 1/1 [00:00<00:00,  9.67it/s]\n",
      "Testing: 100%|██████████| 1/1 [00:00<00:00, 41.74it/s]\n"
     ]
    },
    {
     "name": "stdout",
     "output_type": "stream",
     "text": [
      "====> Test set loss: 3179.1958 (BCE: 3173.6990, KLD: 5.4969)\n",
      "Epoch 4/82\n"
     ]
    },
    {
     "name": "stderr",
     "output_type": "stream",
     "text": [
      "100%|██████████| 1/1 [00:00<00:00,  9.05it/s]\n",
      "Testing: 100%|██████████| 1/1 [00:00<00:00, 40.59it/s]\n"
     ]
    },
    {
     "name": "stdout",
     "output_type": "stream",
     "text": [
      "====> Test set loss: 2990.0552 (BCE: 2970.3525, KLD: 19.7027)\n",
      "Epoch 5/82\n"
     ]
    },
    {
     "name": "stderr",
     "output_type": "stream",
     "text": [
      "100%|██████████| 1/1 [00:00<00:00,  7.71it/s]\n",
      "Testing: 100%|██████████| 1/1 [00:00<00:00, 38.49it/s]\n",
      "[I 2024-11-14 16:51:11,515] Trial 85 finished with value: 2458.573486328125 and parameters: {'batch_size': 128, 'hidden_dim': 1000, 'latent_dim': 70, 'epochs': 82, 'learning_rate': 0.0012135642707915722}. Best is trial 47 with value: 1993.71728515625.\n"
     ]
    },
    {
     "name": "stdout",
     "output_type": "stream",
     "text": [
      "====> Test set loss: 2458.5735 (BCE: 2334.8728, KLD: 123.7006)\n",
      "Early stopping...\n",
      "Epoch 1/90\n"
     ]
    },
    {
     "name": "stderr",
     "output_type": "stream",
     "text": [
      "  0%|          | 0/3 [00:00<?, ?it/s]"
     ]
    },
    {
     "name": "stdout",
     "output_type": "stream",
     "text": [
      "Step 0 (N samples: 0), Loss: 3328.4224 (Recon: 3327.3667, KL: 1.0557) Grad: 27.4208\n"
     ]
    },
    {
     "name": "stderr",
     "output_type": "stream",
     "text": [
      "100%|██████████| 3/3 [00:00<00:00, 14.79it/s]\n",
      "Testing: 100%|██████████| 1/1 [00:00<00:00, 31.69it/s]\n"
     ]
    },
    {
     "name": "stdout",
     "output_type": "stream",
     "text": [
      "====> Test set loss: 3267.4829 (BCE: 3267.1716, KLD: 0.3113)\n",
      "Epoch 2/90\n"
     ]
    },
    {
     "name": "stderr",
     "output_type": "stream",
     "text": [
      "100%|██████████| 3/3 [00:00<00:00, 13.75it/s]\n",
      "Testing: 100%|██████████| 1/1 [00:00<00:00, 37.57it/s]\n"
     ]
    },
    {
     "name": "stdout",
     "output_type": "stream",
     "text": [
      "====> Test set loss: 2948.3867 (BCE: 2920.3479, KLD: 28.0388)\n",
      "Epoch 3/90\n"
     ]
    },
    {
     "name": "stderr",
     "output_type": "stream",
     "text": [
      "100%|██████████| 3/3 [00:00<00:00, 14.87it/s]\n",
      "Testing: 100%|██████████| 1/1 [00:00<00:00, 42.70it/s]\n"
     ]
    },
    {
     "name": "stdout",
     "output_type": "stream",
     "text": [
      "====> Test set loss: 2918.3914 (BCE: 2593.1033, KLD: 325.2881)\n",
      "Epoch 4/90\n"
     ]
    },
    {
     "name": "stderr",
     "output_type": "stream",
     "text": [
      "100%|██████████| 3/3 [00:00<00:00, 15.92it/s]\n",
      "Testing: 100%|██████████| 1/1 [00:00<00:00, 35.60it/s]\n"
     ]
    },
    {
     "name": "stdout",
     "output_type": "stream",
     "text": [
      "====> Test set loss: 2719.7898 (BCE: 2540.2400, KLD: 179.5497)\n",
      "Epoch 5/90\n"
     ]
    },
    {
     "name": "stderr",
     "output_type": "stream",
     "text": [
      "100%|██████████| 3/3 [00:00<00:00, 15.70it/s]\n",
      "Testing: 100%|██████████| 1/1 [00:00<00:00, 36.72it/s]\n",
      "[I 2024-11-14 16:51:12,745] Trial 86 finished with value: 2193.836181640625 and parameters: {'batch_size': 16, 'hidden_dim': 1000, 'latent_dim': 10, 'epochs': 90, 'learning_rate': 0.000638107626153118}. Best is trial 47 with value: 1993.71728515625.\n"
     ]
    },
    {
     "name": "stdout",
     "output_type": "stream",
     "text": [
      "====> Test set loss: 2193.8362 (BCE: 2175.8892, KLD: 17.9470)\n",
      "Early stopping...\n",
      "Epoch 1/49\n"
     ]
    },
    {
     "name": "stderr",
     "output_type": "stream",
     "text": [
      "  0%|          | 0/3 [00:00<?, ?it/s]"
     ]
    },
    {
     "name": "stdout",
     "output_type": "stream",
     "text": [
      "Step 0 (N samples: 0), Loss: 3333.0327 (Recon: 3326.4341, KL: 6.5985) Grad: 26.9549\n"
     ]
    },
    {
     "name": "stderr",
     "output_type": "stream",
     "text": [
      "100%|██████████| 3/3 [00:00<00:00, 12.48it/s]\n",
      "Testing: 100%|██████████| 1/1 [00:00<00:00, 36.06it/s]\n"
     ]
    },
    {
     "name": "stdout",
     "output_type": "stream",
     "text": [
      "====> Test set loss: 3254.9521 (BCE: 3249.6787, KLD: 5.2734)\n",
      "Epoch 2/49\n"
     ]
    },
    {
     "name": "stderr",
     "output_type": "stream",
     "text": [
      "100%|██████████| 3/3 [00:00<00:00, 14.71it/s]\n",
      "Testing: 100%|██████████| 1/1 [00:00<00:00, 37.69it/s]\n"
     ]
    },
    {
     "name": "stdout",
     "output_type": "stream",
     "text": [
      "====> Test set loss: 2881.6738 (BCE: 2797.6960, KLD: 83.9777)\n",
      "Epoch 3/49\n"
     ]
    },
    {
     "name": "stderr",
     "output_type": "stream",
     "text": [
      "100%|██████████| 3/3 [00:00<00:00, 15.62it/s]\n",
      "Testing: 100%|██████████| 1/1 [00:00<00:00, 40.08it/s]\n"
     ]
    },
    {
     "name": "stdout",
     "output_type": "stream",
     "text": [
      "====> Test set loss: 2491.2229 (BCE: 2285.7659, KLD: 205.4570)\n",
      "Epoch 4/49\n"
     ]
    },
    {
     "name": "stderr",
     "output_type": "stream",
     "text": [
      "100%|██████████| 3/3 [00:00<00:00, 14.37it/s]\n",
      "Testing: 100%|██████████| 1/1 [00:00<00:00, 35.77it/s]\n"
     ]
    },
    {
     "name": "stdout",
     "output_type": "stream",
     "text": [
      "====> Test set loss: 2181.6191 (BCE: 2167.1169, KLD: 14.5022)\n",
      "Epoch 5/49\n"
     ]
    },
    {
     "name": "stderr",
     "output_type": "stream",
     "text": [
      "100%|██████████| 3/3 [00:00<00:00, 14.82it/s]\n",
      "Testing: 100%|██████████| 1/1 [00:00<00:00, 36.62it/s]\n",
      "[I 2024-11-14 16:51:14,019] Trial 87 finished with value: 2059.29296875 and parameters: {'batch_size': 16, 'hidden_dim': 1000, 'latent_dim': 60, 'epochs': 49, 'learning_rate': 0.000804818939347248}. Best is trial 47 with value: 1993.71728515625.\n"
     ]
    },
    {
     "name": "stdout",
     "output_type": "stream",
     "text": [
      "====> Test set loss: 2059.2930 (BCE: 2047.6080, KLD: 11.6848)\n",
      "Early stopping...\n",
      "Epoch 1/60\n"
     ]
    },
    {
     "name": "stderr",
     "output_type": "stream",
     "text": [
      " 33%|███▎      | 1/3 [00:00<00:00,  5.32it/s]"
     ]
    },
    {
     "name": "stdout",
     "output_type": "stream",
     "text": [
      "Step 0 (N samples: 0), Loss: 3337.4829 (Recon: 3326.8276, KL: 10.6553) Grad: 27.4517\n"
     ]
    },
    {
     "name": "stderr",
     "output_type": "stream",
     "text": [
      "100%|██████████| 3/3 [00:00<00:00,  5.78it/s]\n",
      "Testing: 100%|██████████| 1/1 [00:00<00:00, 30.12it/s]\n"
     ]
    },
    {
     "name": "stdout",
     "output_type": "stream",
     "text": [
      "====> Test set loss: 2636.3564 (BCE: 2609.3853, KLD: 26.9711)\n",
      "Epoch 2/60\n"
     ]
    },
    {
     "name": "stderr",
     "output_type": "stream",
     "text": [
      "100%|██████████| 3/3 [00:00<00:00,  5.87it/s]\n",
      "Testing: 100%|██████████| 1/1 [00:00<00:00, 29.83it/s]\n"
     ]
    },
    {
     "name": "stdout",
     "output_type": "stream",
     "text": [
      "====> Test set loss: 2534.6338 (BCE: 2497.6411, KLD: 36.9926)\n",
      "Epoch 3/60\n"
     ]
    },
    {
     "name": "stderr",
     "output_type": "stream",
     "text": [
      "100%|██████████| 3/3 [00:00<00:00,  5.90it/s]\n",
      "Testing: 100%|██████████| 1/1 [00:00<00:00, 30.91it/s]\n"
     ]
    },
    {
     "name": "stdout",
     "output_type": "stream",
     "text": [
      "====> Test set loss: 2527.9695 (BCE: 2504.4519, KLD: 23.5176)\n",
      "Epoch 4/60\n"
     ]
    },
    {
     "name": "stderr",
     "output_type": "stream",
     "text": [
      "100%|██████████| 3/3 [00:00<00:00,  6.26it/s]\n",
      "Testing: 100%|██████████| 1/1 [00:00<00:00, 31.04it/s]\n"
     ]
    },
    {
     "name": "stdout",
     "output_type": "stream",
     "text": [
      "====> Test set loss: 2226.5464 (BCE: 2210.7842, KLD: 15.7623)\n",
      "Epoch 5/60\n"
     ]
    },
    {
     "name": "stderr",
     "output_type": "stream",
     "text": [
      "100%|██████████| 3/3 [00:00<00:00,  5.90it/s]\n",
      "Testing: 100%|██████████| 1/1 [00:00<00:00, 33.96it/s]\n",
      "[I 2024-11-14 16:51:16,896] Trial 88 finished with value: 2071.908935546875 and parameters: {'batch_size': 16, 'hidden_dim': 2500, 'latent_dim': 100, 'epochs': 60, 'learning_rate': 0.002075013201918988}. Best is trial 47 with value: 1993.71728515625.\n"
     ]
    },
    {
     "name": "stdout",
     "output_type": "stream",
     "text": [
      "====> Test set loss: 2071.9089 (BCE: 2054.7273, KLD: 17.1817)\n",
      "Early stopping...\n",
      "Epoch 1/84\n"
     ]
    },
    {
     "name": "stderr",
     "output_type": "stream",
     "text": [
      " 33%|███▎      | 1/3 [00:00<00:00,  8.46it/s]"
     ]
    },
    {
     "name": "stdout",
     "output_type": "stream",
     "text": [
      "Step 0 (N samples: 0), Loss: 3375.3445 (Recon: 3327.7532, KL: 47.5912) Grad: 28.2300\n"
     ]
    },
    {
     "name": "stderr",
     "output_type": "stream",
     "text": [
      "100%|██████████| 3/3 [00:00<00:00,  9.31it/s]\n",
      "Testing: 100%|██████████| 1/1 [00:00<00:00, 20.58it/s]\n"
     ]
    },
    {
     "name": "stdout",
     "output_type": "stream",
     "text": [
      "====> Test set loss: 3236.3149 (BCE: 3199.2000, KLD: 37.1150)\n",
      "Epoch 2/84\n"
     ]
    },
    {
     "name": "stderr",
     "output_type": "stream",
     "text": [
      "100%|██████████| 3/3 [00:00<00:00,  9.28it/s]\n",
      "Testing: 100%|██████████| 1/1 [00:00<00:00, 18.90it/s]\n"
     ]
    },
    {
     "name": "stdout",
     "output_type": "stream",
     "text": [
      "====> Test set loss: 2595.0012 (BCE: 2511.9614, KLD: 83.0399)\n",
      "Epoch 3/84\n"
     ]
    },
    {
     "name": "stderr",
     "output_type": "stream",
     "text": [
      "100%|██████████| 3/3 [00:00<00:00,  7.93it/s]\n",
      "Testing: 100%|██████████| 1/1 [00:00<00:00, 20.16it/s]\n"
     ]
    },
    {
     "name": "stdout",
     "output_type": "stream",
     "text": [
      "====> Test set loss: 2915.0916 (BCE: 2790.2542, KLD: 124.8374)\n",
      "Epoch 4/84\n"
     ]
    },
    {
     "name": "stderr",
     "output_type": "stream",
     "text": [
      "100%|██████████| 3/3 [00:00<00:00,  8.94it/s]\n",
      "Testing: 100%|██████████| 1/1 [00:00<00:00, 18.47it/s]\n"
     ]
    },
    {
     "name": "stdout",
     "output_type": "stream",
     "text": [
      "====> Test set loss: 2101.6604 (BCE: 2077.8271, KLD: 23.8333)\n",
      "Epoch 5/84\n"
     ]
    },
    {
     "name": "stderr",
     "output_type": "stream",
     "text": [
      "100%|██████████| 3/3 [00:00<00:00,  9.11it/s]\n",
      "Testing: 100%|██████████| 1/1 [00:00<00:00, 17.14it/s]\n",
      "[I 2024-11-14 16:51:18,939] Trial 89 finished with value: 2050.067138671875 and parameters: {'batch_size': 16, 'hidden_dim': 1000, 'latent_dim': 440, 'epochs': 84, 'learning_rate': 0.0011933964339949595}. Best is trial 47 with value: 1993.71728515625.\n"
     ]
    },
    {
     "name": "stdout",
     "output_type": "stream",
     "text": [
      "====> Test set loss: 2050.0671 (BCE: 2028.0562, KLD: 22.0110)\n",
      "Early stopping...\n",
      "Epoch 1/73\n"
     ]
    },
    {
     "name": "stderr",
     "output_type": "stream",
     "text": [
      "100%|██████████| 1/1 [00:00<00:00,  8.78it/s]\n"
     ]
    },
    {
     "name": "stdout",
     "output_type": "stream",
     "text": [
      "Step 0 (N samples: 0), Loss: 3330.7488 (Recon: 3327.4822, KL: 3.2667) Grad: 27.7948\n"
     ]
    },
    {
     "name": "stderr",
     "output_type": "stream",
     "text": [
      "Testing: 100%|██████████| 1/1 [00:00<00:00, 36.36it/s]\n"
     ]
    },
    {
     "name": "stdout",
     "output_type": "stream",
     "text": [
      "====> Test set loss: 3266.0842 (BCE: 3263.9460, KLD: 2.1381)\n",
      "Epoch 2/73\n"
     ]
    },
    {
     "name": "stderr",
     "output_type": "stream",
     "text": [
      "100%|██████████| 1/1 [00:00<00:00,  9.03it/s]\n",
      "Testing: 100%|██████████| 1/1 [00:00<00:00, 37.50it/s]\n"
     ]
    },
    {
     "name": "stdout",
     "output_type": "stream",
     "text": [
      "====> Test set loss: 3079.6692 (BCE: 2980.4644, KLD: 99.2047)\n",
      "Epoch 3/73\n"
     ]
    },
    {
     "name": "stderr",
     "output_type": "stream",
     "text": [
      "100%|██████████| 1/1 [00:00<00:00,  8.87it/s]\n",
      "Testing: 100%|██████████| 1/1 [00:00<00:00, 35.40it/s]\n"
     ]
    },
    {
     "name": "stdout",
     "output_type": "stream",
     "text": [
      "====> Test set loss: 2614.8127 (BCE: 2596.9333, KLD: 17.8794)\n",
      "Epoch 4/73\n"
     ]
    },
    {
     "name": "stderr",
     "output_type": "stream",
     "text": [
      "100%|██████████| 1/1 [00:00<00:00,  7.94it/s]\n",
      "Testing: 100%|██████████| 1/1 [00:00<00:00, 39.53it/s]\n"
     ]
    },
    {
     "name": "stdout",
     "output_type": "stream",
     "text": [
      "====> Test set loss: 4659.1885 (BCE: 4445.6997, KLD: 213.4889)\n",
      "Epoch 5/73\n"
     ]
    },
    {
     "name": "stderr",
     "output_type": "stream",
     "text": [
      "100%|██████████| 1/1 [00:00<00:00,  8.67it/s]\n",
      "Testing: 100%|██████████| 1/1 [00:00<00:00, 40.87it/s]\n",
      "[I 2024-11-14 16:51:19,741] Trial 90 finished with value: 2614.812744140625 and parameters: {'batch_size': 64, 'hidden_dim': 1000, 'latent_dim': 30, 'epochs': 73, 'learning_rate': 0.002778666243993745}. Best is trial 47 with value: 1993.71728515625.\n"
     ]
    },
    {
     "name": "stdout",
     "output_type": "stream",
     "text": [
      "====> Test set loss: 4791.9761 (BCE: 4673.1675, KLD: 118.8086)\n",
      "Early stopping...\n",
      "Epoch 1/77\n"
     ]
    },
    {
     "name": "stderr",
     "output_type": "stream",
     "text": [
      "  0%|          | 0/3 [00:00<?, ?it/s]"
     ]
    },
    {
     "name": "stdout",
     "output_type": "stream",
     "text": [
      "Step 0 (N samples: 0), Loss: 3333.2410 (Recon: 3327.8433, KL: 5.3978) Grad: 28.1633\n"
     ]
    },
    {
     "name": "stderr",
     "output_type": "stream",
     "text": [
      "100%|██████████| 3/3 [00:00<00:00,  8.89it/s]\n",
      "Testing: 100%|██████████| 1/1 [00:00<00:00, 39.18it/s]\n"
     ]
    },
    {
     "name": "stdout",
     "output_type": "stream",
     "text": [
      "====> Test set loss: 2570.6099 (BCE: 2503.7214, KLD: 66.8884)\n",
      "Epoch 2/77\n"
     ]
    },
    {
     "name": "stderr",
     "output_type": "stream",
     "text": [
      "100%|██████████| 3/3 [00:00<00:00, 10.44it/s]\n",
      "Testing: 100%|██████████| 1/1 [00:00<00:00, 36.02it/s]\n"
     ]
    },
    {
     "name": "stdout",
     "output_type": "stream",
     "text": [
      "====> Test set loss: 3909.5073 (BCE: 3798.6223, KLD: 110.8849)\n",
      "Epoch 3/77\n"
     ]
    },
    {
     "name": "stderr",
     "output_type": "stream",
     "text": [
      "100%|██████████| 3/3 [00:00<00:00, 11.02it/s]\n",
      "Testing: 100%|██████████| 1/1 [00:00<00:00, 37.11it/s]\n"
     ]
    },
    {
     "name": "stdout",
     "output_type": "stream",
     "text": [
      "====> Test set loss: 2066.3123 (BCE: 2062.3821, KLD: 3.9303)\n",
      "Epoch 4/77\n"
     ]
    },
    {
     "name": "stderr",
     "output_type": "stream",
     "text": [
      "100%|██████████| 3/3 [00:00<00:00, 11.33it/s]\n",
      "Testing: 100%|██████████| 1/1 [00:00<00:00, 37.95it/s]\n"
     ]
    },
    {
     "name": "stdout",
     "output_type": "stream",
     "text": [
      "====> Test set loss: 2013.5903 (BCE: 2008.8160, KLD: 4.7742)\n",
      "Epoch 5/77\n"
     ]
    },
    {
     "name": "stderr",
     "output_type": "stream",
     "text": [
      "100%|██████████| 3/3 [00:00<00:00, 11.27it/s]\n",
      "Testing: 100%|██████████| 1/1 [00:00<00:00, 37.94it/s]\n",
      "[I 2024-11-14 16:51:21,423] Trial 91 finished with value: 2013.59033203125 and parameters: {'batch_size': 16, 'hidden_dim': 1500, 'latent_dim': 50, 'epochs': 77, 'learning_rate': 0.0017292334567575887}. Best is trial 47 with value: 1993.71728515625.\n"
     ]
    },
    {
     "name": "stdout",
     "output_type": "stream",
     "text": [
      "====> Test set loss: 2049.0244 (BCE: 2039.1562, KLD: 9.8682)\n",
      "Early stopping...\n",
      "Epoch 1/89\n"
     ]
    },
    {
     "name": "stderr",
     "output_type": "stream",
     "text": [
      "  0%|          | 0/3 [00:00<?, ?it/s]"
     ]
    },
    {
     "name": "stdout",
     "output_type": "stream",
     "text": [
      "Step 0 (N samples: 0), Loss: 3328.9792 (Recon: 3326.8228, KL: 2.1564) Grad: 28.8048\n"
     ]
    },
    {
     "name": "stderr",
     "output_type": "stream",
     "text": [
      "100%|██████████| 3/3 [00:00<00:00,  9.90it/s]\n",
      "Testing: 100%|██████████| 1/1 [00:00<00:00, 36.67it/s]\n"
     ]
    },
    {
     "name": "stdout",
     "output_type": "stream",
     "text": [
      "====> Test set loss: 6240.1353 (BCE: 5305.4556, KLD: 934.6796)\n",
      "Epoch 2/89\n"
     ]
    },
    {
     "name": "stderr",
     "output_type": "stream",
     "text": [
      "100%|██████████| 3/3 [00:00<00:00, 11.01it/s]\n",
      "Testing: 100%|██████████| 1/1 [00:00<00:00, 39.60it/s]\n"
     ]
    },
    {
     "name": "stdout",
     "output_type": "stream",
     "text": [
      "====> Test set loss: 2246.9775 (BCE: 2243.9568, KLD: 3.0207)\n",
      "Epoch 3/89\n"
     ]
    },
    {
     "name": "stderr",
     "output_type": "stream",
     "text": [
      "100%|██████████| 3/3 [00:00<00:00, 11.51it/s]\n",
      "Testing: 100%|██████████| 1/1 [00:00<00:00, 37.02it/s]\n"
     ]
    },
    {
     "name": "stdout",
     "output_type": "stream",
     "text": [
      "====> Test set loss: 2133.9473 (BCE: 2129.6982, KLD: 4.2491)\n",
      "Epoch 4/89\n"
     ]
    },
    {
     "name": "stderr",
     "output_type": "stream",
     "text": [
      "100%|██████████| 3/3 [00:00<00:00, 10.95it/s]\n",
      "Testing: 100%|██████████| 1/1 [00:00<00:00, 36.41it/s]\n"
     ]
    },
    {
     "name": "stdout",
     "output_type": "stream",
     "text": [
      "====> Test set loss: 2085.8955 (BCE: 2077.7349, KLD: 8.1608)\n",
      "Epoch 5/89\n"
     ]
    },
    {
     "name": "stderr",
     "output_type": "stream",
     "text": [
      "100%|██████████| 3/3 [00:00<00:00, 10.35it/s]\n",
      "Testing: 100%|██████████| 1/1 [00:00<00:00, 32.87it/s]\n",
      "[I 2024-11-14 16:51:23,078] Trial 92 finished with value: 2017.718505859375 and parameters: {'batch_size': 16, 'hidden_dim': 1500, 'latent_dim': 20, 'epochs': 89, 'learning_rate': 0.001968760222243254}. Best is trial 47 with value: 1993.71728515625.\n"
     ]
    },
    {
     "name": "stdout",
     "output_type": "stream",
     "text": [
      "====> Test set loss: 2017.7185 (BCE: 2012.3163, KLD: 5.4022)\n",
      "Early stopping...\n",
      "Epoch 1/79\n"
     ]
    },
    {
     "name": "stderr",
     "output_type": "stream",
     "text": [
      "  0%|          | 0/3 [00:00<?, ?it/s]"
     ]
    },
    {
     "name": "stdout",
     "output_type": "stream",
     "text": [
      "Step 0 (N samples: 0), Loss: 3336.9409 (Recon: 3327.1562, KL: 9.7847) Grad: 27.6578\n"
     ]
    },
    {
     "name": "stderr",
     "output_type": "stream",
     "text": [
      "100%|██████████| 3/3 [00:00<00:00,  7.73it/s]\n",
      "Testing: 100%|██████████| 1/1 [00:00<00:00, 36.00it/s]\n"
     ]
    },
    {
     "name": "stdout",
     "output_type": "stream",
     "text": [
      "====> Test set loss: 2938.7671 (BCE: 2894.4104, KLD: 44.3567)\n",
      "Epoch 2/79\n"
     ]
    },
    {
     "name": "stderr",
     "output_type": "stream",
     "text": [
      "100%|██████████| 3/3 [00:00<00:00,  8.40it/s]\n",
      "Testing: 100%|██████████| 1/1 [00:00<00:00, 35.41it/s]\n"
     ]
    },
    {
     "name": "stdout",
     "output_type": "stream",
     "text": [
      "====> Test set loss: 2375.4829 (BCE: 2290.3467, KLD: 85.1362)\n",
      "Epoch 3/79\n"
     ]
    },
    {
     "name": "stderr",
     "output_type": "stream",
     "text": [
      "100%|██████████| 3/3 [00:00<00:00,  8.35it/s]\n",
      "Testing: 100%|██████████| 1/1 [00:00<00:00, 36.41it/s]\n"
     ]
    },
    {
     "name": "stdout",
     "output_type": "stream",
     "text": [
      "====> Test set loss: 2121.9656 (BCE: 2109.0479, KLD: 12.9178)\n",
      "Epoch 4/79\n"
     ]
    },
    {
     "name": "stderr",
     "output_type": "stream",
     "text": [
      "100%|██████████| 3/3 [00:00<00:00,  8.14it/s]\n",
      "Testing: 100%|██████████| 1/1 [00:00<00:00, 35.71it/s]\n"
     ]
    },
    {
     "name": "stdout",
     "output_type": "stream",
     "text": [
      "====> Test set loss: 2075.4497 (BCE: 2068.7495, KLD: 6.7003)\n",
      "Epoch 5/79\n"
     ]
    },
    {
     "name": "stderr",
     "output_type": "stream",
     "text": [
      "100%|██████████| 3/3 [00:00<00:00,  8.15it/s]\n",
      "Testing: 100%|██████████| 1/1 [00:00<00:00, 34.98it/s]\n",
      "[I 2024-11-14 16:51:25,203] Trial 93 finished with value: 2039.32470703125 and parameters: {'batch_size': 16, 'hidden_dim': 2000, 'latent_dim': 90, 'epochs': 79, 'learning_rate': 0.000962135291363712}. Best is trial 47 with value: 1993.71728515625.\n"
     ]
    },
    {
     "name": "stdout",
     "output_type": "stream",
     "text": [
      "====> Test set loss: 2039.3247 (BCE: 2033.3381, KLD: 5.9866)\n",
      "Early stopping...\n",
      "Epoch 1/85\n"
     ]
    },
    {
     "name": "stderr",
     "output_type": "stream",
     "text": [
      "  0%|          | 0/3 [00:00<?, ?it/s]"
     ]
    },
    {
     "name": "stdout",
     "output_type": "stream",
     "text": [
      "Step 0 (N samples: 0), Loss: 3343.3772 (Recon: 3326.9695, KL: 16.4078) Grad: 29.4608\n"
     ]
    },
    {
     "name": "stderr",
     "output_type": "stream",
     "text": [
      "100%|██████████| 3/3 [00:00<00:00,  8.88it/s]\n",
      "Testing: 100%|██████████| 1/1 [00:00<00:00, 32.63it/s]\n"
     ]
    },
    {
     "name": "stdout",
     "output_type": "stream",
     "text": [
      "====> Test set loss: 3015.8352 (BCE: 3005.5439, KLD: 10.2913)\n",
      "Epoch 2/85\n"
     ]
    },
    {
     "name": "stderr",
     "output_type": "stream",
     "text": [
      "100%|██████████| 3/3 [00:00<00:00,  9.57it/s]\n",
      "Testing: 100%|██████████| 1/1 [00:00<00:00, 28.04it/s]\n"
     ]
    },
    {
     "name": "stdout",
     "output_type": "stream",
     "text": [
      "====> Test set loss: 4876.9014 (BCE: 4711.1958, KLD: 165.7057)\n",
      "Epoch 3/85\n"
     ]
    },
    {
     "name": "stderr",
     "output_type": "stream",
     "text": [
      "100%|██████████| 3/3 [00:00<00:00, 10.00it/s]\n",
      "Testing: 100%|██████████| 1/1 [00:00<00:00, 28.44it/s]\n"
     ]
    },
    {
     "name": "stdout",
     "output_type": "stream",
     "text": [
      "====> Test set loss: 2202.8511 (BCE: 2192.8909, KLD: 9.9601)\n",
      "Epoch 4/85\n"
     ]
    },
    {
     "name": "stderr",
     "output_type": "stream",
     "text": [
      "100%|██████████| 3/3 [00:00<00:00,  9.28it/s]\n",
      "Testing: 100%|██████████| 1/1 [00:00<00:00, 30.32it/s]\n"
     ]
    },
    {
     "name": "stdout",
     "output_type": "stream",
     "text": [
      "====> Test set loss: 2030.8234 (BCE: 2019.8723, KLD: 10.9511)\n",
      "Epoch 5/85\n"
     ]
    },
    {
     "name": "stderr",
     "output_type": "stream",
     "text": [
      "100%|██████████| 3/3 [00:00<00:00, 10.12it/s]\n",
      "Testing: 100%|██████████| 1/1 [00:00<00:00, 30.71it/s]\n",
      "[I 2024-11-14 16:51:27,062] Trial 94 finished with value: 2030.8233642578125 and parameters: {'batch_size': 16, 'hidden_dim': 1500, 'latent_dim': 150, 'epochs': 85, 'learning_rate': 0.0015024724549943032}. Best is trial 47 with value: 1993.71728515625.\n"
     ]
    },
    {
     "name": "stdout",
     "output_type": "stream",
     "text": [
      "====> Test set loss: 2057.4836 (BCE: 2047.4049, KLD: 10.0786)\n",
      "Early stopping...\n",
      "Epoch 1/76\n"
     ]
    },
    {
     "name": "stderr",
     "output_type": "stream",
     "text": [
      "  0%|          | 0/3 [00:00<?, ?it/s]"
     ]
    },
    {
     "name": "stdout",
     "output_type": "stream",
     "text": [
      "Step 0 (N samples: 0), Loss: 3330.3826 (Recon: 3327.2136, KL: 3.1690) Grad: 26.9122\n"
     ]
    },
    {
     "name": "stderr",
     "output_type": "stream",
     "text": [
      "100%|██████████| 3/3 [00:00<00:00, 10.39it/s]\n",
      "Testing: 100%|██████████| 1/1 [00:00<00:00, 36.85it/s]\n"
     ]
    },
    {
     "name": "stdout",
     "output_type": "stream",
     "text": [
      "====> Test set loss: 8729.6465 (BCE: 7471.5391, KLD: 1258.1077)\n",
      "Epoch 2/76\n"
     ]
    },
    {
     "name": "stderr",
     "output_type": "stream",
     "text": [
      "100%|██████████| 3/3 [00:00<00:00, 10.67it/s]\n",
      "Testing: 100%|██████████| 1/1 [00:00<00:00, 36.27it/s]\n"
     ]
    },
    {
     "name": "stdout",
     "output_type": "stream",
     "text": [
      "====> Test set loss: 2113.0325 (BCE: 2108.0425, KLD: 4.9900)\n",
      "Epoch 3/76\n"
     ]
    },
    {
     "name": "stderr",
     "output_type": "stream",
     "text": [
      "100%|██████████| 3/3 [00:00<00:00, 11.04it/s]\n",
      "Testing: 100%|██████████| 1/1 [00:00<00:00, 24.97it/s]\n"
     ]
    },
    {
     "name": "stdout",
     "output_type": "stream",
     "text": [
      "====> Test set loss: 2191.6252 (BCE: 2189.0552, KLD: 2.5700)\n",
      "Epoch 4/76\n"
     ]
    },
    {
     "name": "stderr",
     "output_type": "stream",
     "text": [
      "100%|██████████| 3/3 [00:00<00:00, 10.21it/s]\n",
      "Testing: 100%|██████████| 1/1 [00:00<00:00, 38.47it/s]\n"
     ]
    },
    {
     "name": "stdout",
     "output_type": "stream",
     "text": [
      "====> Test set loss: 2317.9417 (BCE: 2301.0625, KLD: 16.8790)\n",
      "Epoch 5/76\n"
     ]
    },
    {
     "name": "stderr",
     "output_type": "stream",
     "text": [
      "100%|██████████| 3/3 [00:00<00:00, 10.52it/s]\n",
      "Testing: 100%|██████████| 1/1 [00:00<00:00, 36.88it/s]\n",
      "[I 2024-11-14 16:51:28,750] Trial 95 finished with value: 2052.34326171875 and parameters: {'batch_size': 16, 'hidden_dim': 1500, 'latent_dim': 30, 'epochs': 76, 'learning_rate': 0.002429620650199381}. Best is trial 47 with value: 1993.71728515625.\n"
     ]
    },
    {
     "name": "stdout",
     "output_type": "stream",
     "text": [
      "====> Test set loss: 2052.3433 (BCE: 2048.3040, KLD: 4.0392)\n",
      "Early stopping...\n",
      "Epoch 1/93\n"
     ]
    },
    {
     "name": "stderr",
     "output_type": "stream",
     "text": [
      " 33%|███▎      | 1/3 [00:00<00:00,  2.33it/s]"
     ]
    },
    {
     "name": "stdout",
     "output_type": "stream",
     "text": [
      "Step 0 (N samples: 0), Loss: 3434.7456 (Recon: 3327.4551, KL: 107.2906) Grad: 30.0842\n"
     ]
    },
    {
     "name": "stderr",
     "output_type": "stream",
     "text": [
      "100%|██████████| 3/3 [00:01<00:00,  2.53it/s]\n",
      "Testing: 100%|██████████| 1/1 [00:00<00:00,  4.39it/s]\n"
     ]
    },
    {
     "name": "stdout",
     "output_type": "stream",
     "text": [
      "====> Test set loss: 2687.8005 (BCE: 2496.6111, KLD: 191.1894)\n",
      "Epoch 2/93\n"
     ]
    },
    {
     "name": "stderr",
     "output_type": "stream",
     "text": [
      "100%|██████████| 3/3 [00:01<00:00,  2.51it/s]\n",
      "Testing: 100%|██████████| 1/1 [00:00<00:00,  4.39it/s]\n"
     ]
    },
    {
     "name": "stdout",
     "output_type": "stream",
     "text": [
      "====> Test set loss: 4150.1143 (BCE: 3965.8989, KLD: 184.2154)\n",
      "Epoch 3/93\n"
     ]
    },
    {
     "name": "stderr",
     "output_type": "stream",
     "text": [
      "100%|██████████| 3/3 [00:01<00:00,  2.68it/s]\n",
      "Testing: 100%|██████████| 1/1 [00:00<00:00,  4.48it/s]\n"
     ]
    },
    {
     "name": "stdout",
     "output_type": "stream",
     "text": [
      "====> Test set loss: 2250.0955 (BCE: 2160.4573, KLD: 89.6381)\n",
      "Epoch 4/93\n"
     ]
    },
    {
     "name": "stderr",
     "output_type": "stream",
     "text": [
      "100%|██████████| 3/3 [00:01<00:00,  2.26it/s]\n",
      "Testing: 100%|██████████| 1/1 [00:00<00:00,  4.25it/s]\n"
     ]
    },
    {
     "name": "stdout",
     "output_type": "stream",
     "text": [
      "====> Test set loss: 2150.0967 (BCE: 2074.5056, KLD: 75.5912)\n",
      "Epoch 5/93\n"
     ]
    },
    {
     "name": "stderr",
     "output_type": "stream",
     "text": [
      "100%|██████████| 3/3 [00:01<00:00,  2.63it/s]\n",
      "Testing: 100%|██████████| 1/1 [00:00<00:00,  4.10it/s]\n",
      "[I 2024-11-14 16:51:35,969] Trial 96 finished with value: 2071.025146484375 and parameters: {'batch_size': 16, 'hidden_dim': 1000, 'latent_dim': 990, 'epochs': 93, 'learning_rate': 0.0033789480283947806}. Best is trial 47 with value: 1993.71728515625.\n"
     ]
    },
    {
     "name": "stdout",
     "output_type": "stream",
     "text": [
      "====> Test set loss: 2071.0251 (BCE: 2037.6417, KLD: 33.3833)\n",
      "Early stopping...\n",
      "Epoch 1/86\n"
     ]
    },
    {
     "name": "stderr",
     "output_type": "stream",
     "text": [
      " 33%|███▎      | 1/3 [00:00<00:00,  4.90it/s]"
     ]
    },
    {
     "name": "stdout",
     "output_type": "stream",
     "text": [
      "Step 0 (N samples: 0), Loss: 3340.5938 (Recon: 3327.5735, KL: 13.0203) Grad: 27.8865\n"
     ]
    },
    {
     "name": "stderr",
     "output_type": "stream",
     "text": [
      "100%|██████████| 3/3 [00:00<00:00,  5.83it/s]\n",
      "Testing: 100%|██████████| 1/1 [00:00<00:00, 31.14it/s]\n"
     ]
    },
    {
     "name": "stdout",
     "output_type": "stream",
     "text": [
      "====> Test set loss: 2523.5225 (BCE: 2496.5195, KLD: 27.0029)\n",
      "Epoch 2/86\n"
     ]
    },
    {
     "name": "stderr",
     "output_type": "stream",
     "text": [
      "100%|██████████| 3/3 [00:00<00:00,  6.13it/s]\n",
      "Testing: 100%|██████████| 1/1 [00:00<00:00, 33.04it/s]\n"
     ]
    },
    {
     "name": "stdout",
     "output_type": "stream",
     "text": [
      "====> Test set loss: 2982.7524 (BCE: 2963.0291, KLD: 19.7234)\n",
      "Epoch 3/86\n"
     ]
    },
    {
     "name": "stderr",
     "output_type": "stream",
     "text": [
      "100%|██████████| 3/3 [00:00<00:00,  6.32it/s]\n",
      "Testing: 100%|██████████| 1/1 [00:00<00:00, 30.41it/s]\n"
     ]
    },
    {
     "name": "stdout",
     "output_type": "stream",
     "text": [
      "====> Test set loss: 2050.1638 (BCE: 2042.7268, KLD: 7.4371)\n",
      "Epoch 4/86\n"
     ]
    },
    {
     "name": "stderr",
     "output_type": "stream",
     "text": [
      "100%|██████████| 3/3 [00:00<00:00,  6.19it/s]\n",
      "Testing: 100%|██████████| 1/1 [00:00<00:00, 27.62it/s]\n"
     ]
    },
    {
     "name": "stdout",
     "output_type": "stream",
     "text": [
      "====> Test set loss: 2653.0122 (BCE: 2402.7112, KLD: 250.3010)\n",
      "Epoch 5/86\n"
     ]
    },
    {
     "name": "stderr",
     "output_type": "stream",
     "text": [
      "100%|██████████| 3/3 [00:00<00:00,  6.14it/s]\n",
      "Testing: 100%|██████████| 1/1 [00:00<00:00, 28.39it/s]\n",
      "[I 2024-11-14 16:51:38,767] Trial 97 finished with value: 2044.4154052734375 and parameters: {'batch_size': 16, 'hidden_dim': 2500, 'latent_dim': 120, 'epochs': 86, 'learning_rate': 0.0013256817863418126}. Best is trial 47 with value: 1993.71728515625.\n"
     ]
    },
    {
     "name": "stdout",
     "output_type": "stream",
     "text": [
      "====> Test set loss: 2044.4154 (BCE: 2034.7200, KLD: 9.6954)\n",
      "Early stopping...\n",
      "Epoch 1/83\n"
     ]
    },
    {
     "name": "stderr",
     "output_type": "stream",
     "text": [
      " 33%|███▎      | 1/3 [00:00<00:00,  3.88it/s]"
     ]
    },
    {
     "name": "stdout",
     "output_type": "stream",
     "text": [
      "Step 0 (N samples: 0), Loss: 3404.3638 (Recon: 3327.9307, KL: 76.4330) Grad: 29.4631\n"
     ]
    },
    {
     "name": "stderr",
     "output_type": "stream",
     "text": [
      "100%|██████████| 3/3 [00:00<00:00,  4.20it/s]\n",
      "Testing: 100%|██████████| 1/1 [00:00<00:00,  7.91it/s]\n"
     ]
    },
    {
     "name": "stdout",
     "output_type": "stream",
     "text": [
      "====> Test set loss: 3203.9675 (BCE: 3148.5164, KLD: 55.4511)\n",
      "Epoch 2/83\n"
     ]
    },
    {
     "name": "stderr",
     "output_type": "stream",
     "text": [
      "100%|██████████| 3/3 [00:00<00:00,  3.99it/s]\n",
      "Testing: 100%|██████████| 1/1 [00:00<00:00,  8.99it/s]\n"
     ]
    },
    {
     "name": "stdout",
     "output_type": "stream",
     "text": [
      "====> Test set loss: 4983.2285 (BCE: 4529.5776, KLD: 453.6509)\n",
      "Epoch 3/83\n"
     ]
    },
    {
     "name": "stderr",
     "output_type": "stream",
     "text": [
      "100%|██████████| 3/3 [00:00<00:00,  4.55it/s]\n",
      "Testing: 100%|██████████| 1/1 [00:00<00:00,  9.10it/s]\n"
     ]
    },
    {
     "name": "stdout",
     "output_type": "stream",
     "text": [
      "====> Test set loss: 3775.3376 (BCE: 3677.5190, KLD: 97.8186)\n",
      "Epoch 4/83\n"
     ]
    },
    {
     "name": "stderr",
     "output_type": "stream",
     "text": [
      "100%|██████████| 3/3 [00:00<00:00,  4.55it/s]\n",
      "Testing: 100%|██████████| 1/1 [00:00<00:00,  8.20it/s]\n"
     ]
    },
    {
     "name": "stdout",
     "output_type": "stream",
     "text": [
      "====> Test set loss: 2137.5398 (BCE: 2095.6606, KLD: 41.8792)\n",
      "Epoch 5/83\n"
     ]
    },
    {
     "name": "stderr",
     "output_type": "stream",
     "text": [
      "100%|██████████| 3/3 [00:00<00:00,  4.57it/s]\n",
      "Testing: 100%|██████████| 1/1 [00:00<00:00,  8.86it/s]\n",
      "[I 2024-11-14 16:51:42,914] Trial 98 finished with value: 2066.79150390625 and parameters: {'batch_size': 16, 'hidden_dim': 1500, 'latent_dim': 700, 'epochs': 83, 'learning_rate': 0.0011053707642873715}. Best is trial 47 with value: 1993.71728515625.\n"
     ]
    },
    {
     "name": "stdout",
     "output_type": "stream",
     "text": [
      "====> Test set loss: 2066.7915 (BCE: 2031.3452, KLD: 35.4462)\n",
      "Early stopping...\n",
      "Epoch 1/100\n"
     ]
    },
    {
     "name": "stderr",
     "output_type": "stream",
     "text": [
      "  0%|          | 0/3 [00:00<?, ?it/s]"
     ]
    },
    {
     "name": "stdout",
     "output_type": "stream",
     "text": [
      "Step 0 (N samples: 0), Loss: 3333.9785 (Recon: 3326.3840, KL: 7.5946) Grad: 28.8230\n"
     ]
    },
    {
     "name": "stderr",
     "output_type": "stream",
     "text": [
      "100%|██████████| 3/3 [00:00<00:00, 15.12it/s]\n",
      "Testing: 100%|██████████| 1/1 [00:00<00:00, 40.53it/s]\n"
     ]
    },
    {
     "name": "stdout",
     "output_type": "stream",
     "text": [
      "====> Test set loss: 3102.2673 (BCE: 3097.9036, KLD: 4.3639)\n",
      "Epoch 2/100\n"
     ]
    },
    {
     "name": "stderr",
     "output_type": "stream",
     "text": [
      "100%|██████████| 3/3 [00:00<00:00, 15.68it/s]\n",
      "Testing: 100%|██████████| 1/1 [00:00<00:00, 40.34it/s]\n"
     ]
    },
    {
     "name": "stdout",
     "output_type": "stream",
     "text": [
      "====> Test set loss: 5016.2974 (BCE: 4778.2422, KLD: 238.0550)\n",
      "Epoch 3/100\n"
     ]
    },
    {
     "name": "stderr",
     "output_type": "stream",
     "text": [
      "100%|██████████| 3/3 [00:00<00:00, 15.97it/s]\n",
      "Testing: 100%|██████████| 1/1 [00:00<00:00, 38.00it/s]\n"
     ]
    },
    {
     "name": "stdout",
     "output_type": "stream",
     "text": [
      "====> Test set loss: 4150.5713 (BCE: 4093.0017, KLD: 57.5697)\n",
      "Epoch 4/100\n"
     ]
    },
    {
     "name": "stderr",
     "output_type": "stream",
     "text": [
      "100%|██████████| 3/3 [00:00<00:00, 15.45it/s]\n",
      "Testing: 100%|██████████| 1/1 [00:00<00:00, 39.13it/s]\n"
     ]
    },
    {
     "name": "stdout",
     "output_type": "stream",
     "text": [
      "====> Test set loss: 2111.8574 (BCE: 2106.0417, KLD: 5.8157)\n",
      "Epoch 5/100\n"
     ]
    },
    {
     "name": "stderr",
     "output_type": "stream",
     "text": [
      "100%|██████████| 3/3 [00:00<00:00, 15.29it/s]\n",
      "Testing: 100%|██████████| 1/1 [00:00<00:00, 34.81it/s]\n",
      "[I 2024-11-14 16:51:44,102] Trial 99 finished with value: 2036.510986328125 and parameters: {'batch_size': 16, 'hidden_dim': 1000, 'latent_dim': 70, 'epochs': 100, 'learning_rate': 0.0016597345763282672}. Best is trial 47 with value: 1993.71728515625.\n"
     ]
    },
    {
     "name": "stdout",
     "output_type": "stream",
     "text": [
      "====> Test set loss: 2036.5110 (BCE: 2029.0332, KLD: 7.4778)\n",
      "Early stopping...\n"
     ]
    }
   ],
   "source": [
    "study = optuna.create_study(direction=\"minimize\", \n",
    "                            study_name=\"VAE\",\n",
    "                            sampler=optuna.samplers.TPESampler(),\n",
    "                            pruner=optuna.pruners.MedianPruner(n_startup_trials=5, n_warmup_steps=30))\n",
    "study.optimize(objective, n_trials=100, timeout=600)\n"
   ]
  },
  {
   "cell_type": "code",
   "execution_count": 5,
   "metadata": {},
   "outputs": [
    {
     "name": "stdout",
     "output_type": "stream",
     "text": [
      "Number of finished trials:  100\n",
      "Best trial:\n",
      "  Value: 1993.71728515625\n",
      "  Params: \n",
      "    batch_size: 16\n",
      "    hidden_dim: 2000\n",
      "    latent_dim: 30\n",
      "    epochs: 77\n",
      "    learning_rate: 0.0013039505192832476\n"
     ]
    }
   ],
   "source": [
    "print(\"Number of finished trials: \", len(study.trials))\n",
    "print(\"Best trial:\")\n",
    "trial = study.best_trial\n",
    "print(f\"  Value: {trial.value}\")\n",
    "print(\"  Params: \")\n",
    "for key, value in trial.params.items():\n",
    "    print(f\"    {key}: {value}\")"
   ]
  },
  {
   "cell_type": "code",
   "execution_count": 6,
   "metadata": {},
   "outputs": [
    {
     "data": {
      "application/vnd.plotly.v1+json": {
       "config": {
        "plotlyServerURL": "https://plot.ly"
       },
       "data": [
        {
         "mode": "markers",
         "name": "Objective Value",
         "type": "scatter",
         "x": [
          0,
          1,
          2,
          3,
          4,
          5,
          6,
          7,
          8,
          9,
          10,
          11,
          12,
          13,
          14,
          15,
          16,
          17,
          18,
          19,
          20,
          21,
          22,
          23,
          24,
          25,
          26,
          27,
          28,
          29,
          30,
          31,
          32,
          33,
          34,
          35,
          36,
          37,
          38,
          39,
          40,
          41,
          42,
          43,
          44,
          45,
          46,
          47,
          48,
          49,
          50,
          51,
          52,
          53,
          54,
          55,
          56,
          57,
          58,
          59,
          60,
          61,
          62,
          63,
          64,
          65,
          66,
          67,
          68,
          69,
          70,
          71,
          72,
          73,
          74,
          75,
          76,
          77,
          78,
          79,
          80,
          81,
          82,
          83,
          84,
          85,
          86,
          87,
          88,
          89,
          90,
          91,
          92,
          93,
          94,
          95,
          96,
          97,
          98,
          99
         ],
         "y": [
          3068.366943359375,
          3220.29052734375,
          2805.24658203125,
          3170.12158203125,
          3279.861328125,
          2108.68701171875,
          2286.68603515625,
          2801.30126953125,
          3939.451171875,
          3318.2451171875,
          2115.4609375,
          2498.05419921875,
          2854.50927734375,
          3390.981201171875,
          2050.162841796875,
          2045.4940185546875,
          2092.21484375,
          3291.406494140625,
          2040.8145751953125,
          2040.865478515625,
          3198.979248046875,
          2081.46044921875,
          2356.482666015625,
          2047.85693359375,
          2011.5826416015625,
          2701.446044921875,
          2042.5570068359375,
          3320.426513671875,
          3210.291259765625,
          3128.8076171875,
          2774.876953125,
          2085.610595703125,
          2102.74072265625,
          2078.635009765625,
          2214.1884765625,
          2894.619140625,
          2728.1416015625,
          2146.450439453125,
          3236.922607421875,
          2038.4476318359375,
          226160.015625,
          2031.4974365234375,
          2031.2645263671875,
          2103.8515625,
          2261.9423828125,
          2000.05224609375,
          2024.7352294921875,
          1993.71728515625,
          2006.5020751953125,
          2250.450927734375,
          8109.1318359375,
          2057.18408203125,
          2006.4404296875,
          2020.9698486328125,
          2052.39404296875,
          2004.5772705078125,
          2192.875,
          2045.983642578125,
          2031.4990234375,
          2035.05712890625,
          2850.9814453125,
          2008.1064453125,
          2049.697265625,
          2031.4688720703125,
          2005.226806640625,
          2047.29150390625,
          3159.332275390625,
          2011.82666015625,
          2021.1536865234375,
          2734.805419921875,
          2103.962890625,
          2062.987060546875,
          2269.828125,
          2134.11474609375,
          2019.333251953125,
          3110.704345703125,
          3341.47802734375,
          2061.635986328125,
          2615.822021484375,
          2085.421875,
          2037.087158203125,
          2037.7254638671875,
          2015.8172607421875,
          2078.052734375,
          2005.3499755859375,
          2458.573486328125,
          2193.836181640625,
          2059.29296875,
          2071.908935546875,
          2050.067138671875,
          2614.812744140625,
          2013.59033203125,
          2017.718505859375,
          2039.32470703125,
          2030.8233642578125,
          2052.34326171875,
          2071.025146484375,
          2044.4154052734375,
          2066.79150390625,
          2036.510986328125
         ]
        },
        {
         "mode": "lines",
         "name": "Best Value",
         "type": "scatter",
         "x": [
          0,
          1,
          2,
          3,
          4,
          5,
          6,
          7,
          8,
          9,
          10,
          11,
          12,
          13,
          14,
          15,
          16,
          17,
          18,
          19,
          20,
          21,
          22,
          23,
          24,
          25,
          26,
          27,
          28,
          29,
          30,
          31,
          32,
          33,
          34,
          35,
          36,
          37,
          38,
          39,
          40,
          41,
          42,
          43,
          44,
          45,
          46,
          47,
          48,
          49,
          50,
          51,
          52,
          53,
          54,
          55,
          56,
          57,
          58,
          59,
          60,
          61,
          62,
          63,
          64,
          65,
          66,
          67,
          68,
          69,
          70,
          71,
          72,
          73,
          74,
          75,
          76,
          77,
          78,
          79,
          80,
          81,
          82,
          83,
          84,
          85,
          86,
          87,
          88,
          89,
          90,
          91,
          92,
          93,
          94,
          95,
          96,
          97,
          98,
          99
         ],
         "y": [
          3068.366943359375,
          3068.366943359375,
          2805.24658203125,
          2805.24658203125,
          2805.24658203125,
          2108.68701171875,
          2108.68701171875,
          2108.68701171875,
          2108.68701171875,
          2108.68701171875,
          2108.68701171875,
          2108.68701171875,
          2108.68701171875,
          2108.68701171875,
          2050.162841796875,
          2045.4940185546875,
          2045.4940185546875,
          2045.4940185546875,
          2040.8145751953125,
          2040.8145751953125,
          2040.8145751953125,
          2040.8145751953125,
          2040.8145751953125,
          2040.8145751953125,
          2011.5826416015625,
          2011.5826416015625,
          2011.5826416015625,
          2011.5826416015625,
          2011.5826416015625,
          2011.5826416015625,
          2011.5826416015625,
          2011.5826416015625,
          2011.5826416015625,
          2011.5826416015625,
          2011.5826416015625,
          2011.5826416015625,
          2011.5826416015625,
          2011.5826416015625,
          2011.5826416015625,
          2011.5826416015625,
          2011.5826416015625,
          2011.5826416015625,
          2011.5826416015625,
          2011.5826416015625,
          2011.5826416015625,
          2000.05224609375,
          2000.05224609375,
          1993.71728515625,
          1993.71728515625,
          1993.71728515625,
          1993.71728515625,
          1993.71728515625,
          1993.71728515625,
          1993.71728515625,
          1993.71728515625,
          1993.71728515625,
          1993.71728515625,
          1993.71728515625,
          1993.71728515625,
          1993.71728515625,
          1993.71728515625,
          1993.71728515625,
          1993.71728515625,
          1993.71728515625,
          1993.71728515625,
          1993.71728515625,
          1993.71728515625,
          1993.71728515625,
          1993.71728515625,
          1993.71728515625,
          1993.71728515625,
          1993.71728515625,
          1993.71728515625,
          1993.71728515625,
          1993.71728515625,
          1993.71728515625,
          1993.71728515625,
          1993.71728515625,
          1993.71728515625,
          1993.71728515625,
          1993.71728515625,
          1993.71728515625,
          1993.71728515625,
          1993.71728515625,
          1993.71728515625,
          1993.71728515625,
          1993.71728515625,
          1993.71728515625,
          1993.71728515625,
          1993.71728515625,
          1993.71728515625,
          1993.71728515625,
          1993.71728515625,
          1993.71728515625,
          1993.71728515625,
          1993.71728515625,
          1993.71728515625,
          1993.71728515625,
          1993.71728515625,
          1993.71728515625
         ]
        },
        {
         "marker": {
          "color": "#cccccc"
         },
         "mode": "markers",
         "name": "Infeasible Trial",
         "showlegend": false,
         "type": "scatter",
         "x": [],
         "y": []
        }
       ],
       "layout": {
        "template": {
         "data": {
          "bar": [
           {
            "error_x": {
             "color": "#2a3f5f"
            },
            "error_y": {
             "color": "#2a3f5f"
            },
            "marker": {
             "line": {
              "color": "#E5ECF6",
              "width": 0.5
             },
             "pattern": {
              "fillmode": "overlay",
              "size": 10,
              "solidity": 0.2
             }
            },
            "type": "bar"
           }
          ],
          "barpolar": [
           {
            "marker": {
             "line": {
              "color": "#E5ECF6",
              "width": 0.5
             },
             "pattern": {
              "fillmode": "overlay",
              "size": 10,
              "solidity": 0.2
             }
            },
            "type": "barpolar"
           }
          ],
          "carpet": [
           {
            "aaxis": {
             "endlinecolor": "#2a3f5f",
             "gridcolor": "white",
             "linecolor": "white",
             "minorgridcolor": "white",
             "startlinecolor": "#2a3f5f"
            },
            "baxis": {
             "endlinecolor": "#2a3f5f",
             "gridcolor": "white",
             "linecolor": "white",
             "minorgridcolor": "white",
             "startlinecolor": "#2a3f5f"
            },
            "type": "carpet"
           }
          ],
          "choropleth": [
           {
            "colorbar": {
             "outlinewidth": 0,
             "ticks": ""
            },
            "type": "choropleth"
           }
          ],
          "contour": [
           {
            "colorbar": {
             "outlinewidth": 0,
             "ticks": ""
            },
            "colorscale": [
             [
              0,
              "#0d0887"
             ],
             [
              0.1111111111111111,
              "#46039f"
             ],
             [
              0.2222222222222222,
              "#7201a8"
             ],
             [
              0.3333333333333333,
              "#9c179e"
             ],
             [
              0.4444444444444444,
              "#bd3786"
             ],
             [
              0.5555555555555556,
              "#d8576b"
             ],
             [
              0.6666666666666666,
              "#ed7953"
             ],
             [
              0.7777777777777778,
              "#fb9f3a"
             ],
             [
              0.8888888888888888,
              "#fdca26"
             ],
             [
              1,
              "#f0f921"
             ]
            ],
            "type": "contour"
           }
          ],
          "contourcarpet": [
           {
            "colorbar": {
             "outlinewidth": 0,
             "ticks": ""
            },
            "type": "contourcarpet"
           }
          ],
          "heatmap": [
           {
            "colorbar": {
             "outlinewidth": 0,
             "ticks": ""
            },
            "colorscale": [
             [
              0,
              "#0d0887"
             ],
             [
              0.1111111111111111,
              "#46039f"
             ],
             [
              0.2222222222222222,
              "#7201a8"
             ],
             [
              0.3333333333333333,
              "#9c179e"
             ],
             [
              0.4444444444444444,
              "#bd3786"
             ],
             [
              0.5555555555555556,
              "#d8576b"
             ],
             [
              0.6666666666666666,
              "#ed7953"
             ],
             [
              0.7777777777777778,
              "#fb9f3a"
             ],
             [
              0.8888888888888888,
              "#fdca26"
             ],
             [
              1,
              "#f0f921"
             ]
            ],
            "type": "heatmap"
           }
          ],
          "heatmapgl": [
           {
            "colorbar": {
             "outlinewidth": 0,
             "ticks": ""
            },
            "colorscale": [
             [
              0,
              "#0d0887"
             ],
             [
              0.1111111111111111,
              "#46039f"
             ],
             [
              0.2222222222222222,
              "#7201a8"
             ],
             [
              0.3333333333333333,
              "#9c179e"
             ],
             [
              0.4444444444444444,
              "#bd3786"
             ],
             [
              0.5555555555555556,
              "#d8576b"
             ],
             [
              0.6666666666666666,
              "#ed7953"
             ],
             [
              0.7777777777777778,
              "#fb9f3a"
             ],
             [
              0.8888888888888888,
              "#fdca26"
             ],
             [
              1,
              "#f0f921"
             ]
            ],
            "type": "heatmapgl"
           }
          ],
          "histogram": [
           {
            "marker": {
             "pattern": {
              "fillmode": "overlay",
              "size": 10,
              "solidity": 0.2
             }
            },
            "type": "histogram"
           }
          ],
          "histogram2d": [
           {
            "colorbar": {
             "outlinewidth": 0,
             "ticks": ""
            },
            "colorscale": [
             [
              0,
              "#0d0887"
             ],
             [
              0.1111111111111111,
              "#46039f"
             ],
             [
              0.2222222222222222,
              "#7201a8"
             ],
             [
              0.3333333333333333,
              "#9c179e"
             ],
             [
              0.4444444444444444,
              "#bd3786"
             ],
             [
              0.5555555555555556,
              "#d8576b"
             ],
             [
              0.6666666666666666,
              "#ed7953"
             ],
             [
              0.7777777777777778,
              "#fb9f3a"
             ],
             [
              0.8888888888888888,
              "#fdca26"
             ],
             [
              1,
              "#f0f921"
             ]
            ],
            "type": "histogram2d"
           }
          ],
          "histogram2dcontour": [
           {
            "colorbar": {
             "outlinewidth": 0,
             "ticks": ""
            },
            "colorscale": [
             [
              0,
              "#0d0887"
             ],
             [
              0.1111111111111111,
              "#46039f"
             ],
             [
              0.2222222222222222,
              "#7201a8"
             ],
             [
              0.3333333333333333,
              "#9c179e"
             ],
             [
              0.4444444444444444,
              "#bd3786"
             ],
             [
              0.5555555555555556,
              "#d8576b"
             ],
             [
              0.6666666666666666,
              "#ed7953"
             ],
             [
              0.7777777777777778,
              "#fb9f3a"
             ],
             [
              0.8888888888888888,
              "#fdca26"
             ],
             [
              1,
              "#f0f921"
             ]
            ],
            "type": "histogram2dcontour"
           }
          ],
          "mesh3d": [
           {
            "colorbar": {
             "outlinewidth": 0,
             "ticks": ""
            },
            "type": "mesh3d"
           }
          ],
          "parcoords": [
           {
            "line": {
             "colorbar": {
              "outlinewidth": 0,
              "ticks": ""
             }
            },
            "type": "parcoords"
           }
          ],
          "pie": [
           {
            "automargin": true,
            "type": "pie"
           }
          ],
          "scatter": [
           {
            "fillpattern": {
             "fillmode": "overlay",
             "size": 10,
             "solidity": 0.2
            },
            "type": "scatter"
           }
          ],
          "scatter3d": [
           {
            "line": {
             "colorbar": {
              "outlinewidth": 0,
              "ticks": ""
             }
            },
            "marker": {
             "colorbar": {
              "outlinewidth": 0,
              "ticks": ""
             }
            },
            "type": "scatter3d"
           }
          ],
          "scattercarpet": [
           {
            "marker": {
             "colorbar": {
              "outlinewidth": 0,
              "ticks": ""
             }
            },
            "type": "scattercarpet"
           }
          ],
          "scattergeo": [
           {
            "marker": {
             "colorbar": {
              "outlinewidth": 0,
              "ticks": ""
             }
            },
            "type": "scattergeo"
           }
          ],
          "scattergl": [
           {
            "marker": {
             "colorbar": {
              "outlinewidth": 0,
              "ticks": ""
             }
            },
            "type": "scattergl"
           }
          ],
          "scattermapbox": [
           {
            "marker": {
             "colorbar": {
              "outlinewidth": 0,
              "ticks": ""
             }
            },
            "type": "scattermapbox"
           }
          ],
          "scatterpolar": [
           {
            "marker": {
             "colorbar": {
              "outlinewidth": 0,
              "ticks": ""
             }
            },
            "type": "scatterpolar"
           }
          ],
          "scatterpolargl": [
           {
            "marker": {
             "colorbar": {
              "outlinewidth": 0,
              "ticks": ""
             }
            },
            "type": "scatterpolargl"
           }
          ],
          "scatterternary": [
           {
            "marker": {
             "colorbar": {
              "outlinewidth": 0,
              "ticks": ""
             }
            },
            "type": "scatterternary"
           }
          ],
          "surface": [
           {
            "colorbar": {
             "outlinewidth": 0,
             "ticks": ""
            },
            "colorscale": [
             [
              0,
              "#0d0887"
             ],
             [
              0.1111111111111111,
              "#46039f"
             ],
             [
              0.2222222222222222,
              "#7201a8"
             ],
             [
              0.3333333333333333,
              "#9c179e"
             ],
             [
              0.4444444444444444,
              "#bd3786"
             ],
             [
              0.5555555555555556,
              "#d8576b"
             ],
             [
              0.6666666666666666,
              "#ed7953"
             ],
             [
              0.7777777777777778,
              "#fb9f3a"
             ],
             [
              0.8888888888888888,
              "#fdca26"
             ],
             [
              1,
              "#f0f921"
             ]
            ],
            "type": "surface"
           }
          ],
          "table": [
           {
            "cells": {
             "fill": {
              "color": "#EBF0F8"
             },
             "line": {
              "color": "white"
             }
            },
            "header": {
             "fill": {
              "color": "#C8D4E3"
             },
             "line": {
              "color": "white"
             }
            },
            "type": "table"
           }
          ]
         },
         "layout": {
          "annotationdefaults": {
           "arrowcolor": "#2a3f5f",
           "arrowhead": 0,
           "arrowwidth": 1
          },
          "autotypenumbers": "strict",
          "coloraxis": {
           "colorbar": {
            "outlinewidth": 0,
            "ticks": ""
           }
          },
          "colorscale": {
           "diverging": [
            [
             0,
             "#8e0152"
            ],
            [
             0.1,
             "#c51b7d"
            ],
            [
             0.2,
             "#de77ae"
            ],
            [
             0.3,
             "#f1b6da"
            ],
            [
             0.4,
             "#fde0ef"
            ],
            [
             0.5,
             "#f7f7f7"
            ],
            [
             0.6,
             "#e6f5d0"
            ],
            [
             0.7,
             "#b8e186"
            ],
            [
             0.8,
             "#7fbc41"
            ],
            [
             0.9,
             "#4d9221"
            ],
            [
             1,
             "#276419"
            ]
           ],
           "sequential": [
            [
             0,
             "#0d0887"
            ],
            [
             0.1111111111111111,
             "#46039f"
            ],
            [
             0.2222222222222222,
             "#7201a8"
            ],
            [
             0.3333333333333333,
             "#9c179e"
            ],
            [
             0.4444444444444444,
             "#bd3786"
            ],
            [
             0.5555555555555556,
             "#d8576b"
            ],
            [
             0.6666666666666666,
             "#ed7953"
            ],
            [
             0.7777777777777778,
             "#fb9f3a"
            ],
            [
             0.8888888888888888,
             "#fdca26"
            ],
            [
             1,
             "#f0f921"
            ]
           ],
           "sequentialminus": [
            [
             0,
             "#0d0887"
            ],
            [
             0.1111111111111111,
             "#46039f"
            ],
            [
             0.2222222222222222,
             "#7201a8"
            ],
            [
             0.3333333333333333,
             "#9c179e"
            ],
            [
             0.4444444444444444,
             "#bd3786"
            ],
            [
             0.5555555555555556,
             "#d8576b"
            ],
            [
             0.6666666666666666,
             "#ed7953"
            ],
            [
             0.7777777777777778,
             "#fb9f3a"
            ],
            [
             0.8888888888888888,
             "#fdca26"
            ],
            [
             1,
             "#f0f921"
            ]
           ]
          },
          "colorway": [
           "#636efa",
           "#EF553B",
           "#00cc96",
           "#ab63fa",
           "#FFA15A",
           "#19d3f3",
           "#FF6692",
           "#B6E880",
           "#FF97FF",
           "#FECB52"
          ],
          "font": {
           "color": "#2a3f5f"
          },
          "geo": {
           "bgcolor": "white",
           "lakecolor": "white",
           "landcolor": "#E5ECF6",
           "showlakes": true,
           "showland": true,
           "subunitcolor": "white"
          },
          "hoverlabel": {
           "align": "left"
          },
          "hovermode": "closest",
          "mapbox": {
           "style": "light"
          },
          "paper_bgcolor": "white",
          "plot_bgcolor": "#E5ECF6",
          "polar": {
           "angularaxis": {
            "gridcolor": "white",
            "linecolor": "white",
            "ticks": ""
           },
           "bgcolor": "#E5ECF6",
           "radialaxis": {
            "gridcolor": "white",
            "linecolor": "white",
            "ticks": ""
           }
          },
          "scene": {
           "xaxis": {
            "backgroundcolor": "#E5ECF6",
            "gridcolor": "white",
            "gridwidth": 2,
            "linecolor": "white",
            "showbackground": true,
            "ticks": "",
            "zerolinecolor": "white"
           },
           "yaxis": {
            "backgroundcolor": "#E5ECF6",
            "gridcolor": "white",
            "gridwidth": 2,
            "linecolor": "white",
            "showbackground": true,
            "ticks": "",
            "zerolinecolor": "white"
           },
           "zaxis": {
            "backgroundcolor": "#E5ECF6",
            "gridcolor": "white",
            "gridwidth": 2,
            "linecolor": "white",
            "showbackground": true,
            "ticks": "",
            "zerolinecolor": "white"
           }
          },
          "shapedefaults": {
           "line": {
            "color": "#2a3f5f"
           }
          },
          "ternary": {
           "aaxis": {
            "gridcolor": "white",
            "linecolor": "white",
            "ticks": ""
           },
           "baxis": {
            "gridcolor": "white",
            "linecolor": "white",
            "ticks": ""
           },
           "bgcolor": "#E5ECF6",
           "caxis": {
            "gridcolor": "white",
            "linecolor": "white",
            "ticks": ""
           }
          },
          "title": {
           "x": 0.05
          },
          "xaxis": {
           "automargin": true,
           "gridcolor": "white",
           "linecolor": "white",
           "ticks": "",
           "title": {
            "standoff": 15
           },
           "zerolinecolor": "white",
           "zerolinewidth": 2
          },
          "yaxis": {
           "automargin": true,
           "gridcolor": "white",
           "linecolor": "white",
           "ticks": "",
           "title": {
            "standoff": 15
           },
           "zerolinecolor": "white",
           "zerolinewidth": 2
          }
         }
        },
        "title": {
         "text": "Optimization History Plot"
        },
        "xaxis": {
         "title": {
          "text": "Trial"
         }
        },
        "yaxis": {
         "title": {
          "text": "Objective Value"
         }
        }
       }
      }
     },
     "metadata": {},
     "output_type": "display_data"
    },
    {
     "data": {
      "application/vnd.plotly.v1+json": {
       "config": {
        "plotlyServerURL": "https://plot.ly"
       },
       "data": [
        {
         "cliponaxis": false,
         "hovertemplate": [
          "hidden_dim (IntDistribution): 0.007967674533217643<extra></extra>",
          "latent_dim (IntDistribution): 0.01980265163067327<extra></extra>",
          "batch_size (CategoricalDistribution): 0.03494365800631337<extra></extra>",
          "epochs (IntDistribution): 0.12387702251244813<extra></extra>",
          "learning_rate (FloatDistribution): 0.8134089933173477<extra></extra>"
         ],
         "name": "Objective Value",
         "orientation": "h",
         "text": [
          "<0.01",
          "0.02",
          "0.03",
          "0.12",
          "0.81"
         ],
         "textposition": "outside",
         "type": "bar",
         "x": [
          0.007967674533217643,
          0.01980265163067327,
          0.03494365800631337,
          0.12387702251244813,
          0.8134089933173477
         ],
         "y": [
          "hidden_dim",
          "latent_dim",
          "batch_size",
          "epochs",
          "learning_rate"
         ]
        }
       ],
       "layout": {
        "template": {
         "data": {
          "bar": [
           {
            "error_x": {
             "color": "#2a3f5f"
            },
            "error_y": {
             "color": "#2a3f5f"
            },
            "marker": {
             "line": {
              "color": "#E5ECF6",
              "width": 0.5
             },
             "pattern": {
              "fillmode": "overlay",
              "size": 10,
              "solidity": 0.2
             }
            },
            "type": "bar"
           }
          ],
          "barpolar": [
           {
            "marker": {
             "line": {
              "color": "#E5ECF6",
              "width": 0.5
             },
             "pattern": {
              "fillmode": "overlay",
              "size": 10,
              "solidity": 0.2
             }
            },
            "type": "barpolar"
           }
          ],
          "carpet": [
           {
            "aaxis": {
             "endlinecolor": "#2a3f5f",
             "gridcolor": "white",
             "linecolor": "white",
             "minorgridcolor": "white",
             "startlinecolor": "#2a3f5f"
            },
            "baxis": {
             "endlinecolor": "#2a3f5f",
             "gridcolor": "white",
             "linecolor": "white",
             "minorgridcolor": "white",
             "startlinecolor": "#2a3f5f"
            },
            "type": "carpet"
           }
          ],
          "choropleth": [
           {
            "colorbar": {
             "outlinewidth": 0,
             "ticks": ""
            },
            "type": "choropleth"
           }
          ],
          "contour": [
           {
            "colorbar": {
             "outlinewidth": 0,
             "ticks": ""
            },
            "colorscale": [
             [
              0,
              "#0d0887"
             ],
             [
              0.1111111111111111,
              "#46039f"
             ],
             [
              0.2222222222222222,
              "#7201a8"
             ],
             [
              0.3333333333333333,
              "#9c179e"
             ],
             [
              0.4444444444444444,
              "#bd3786"
             ],
             [
              0.5555555555555556,
              "#d8576b"
             ],
             [
              0.6666666666666666,
              "#ed7953"
             ],
             [
              0.7777777777777778,
              "#fb9f3a"
             ],
             [
              0.8888888888888888,
              "#fdca26"
             ],
             [
              1,
              "#f0f921"
             ]
            ],
            "type": "contour"
           }
          ],
          "contourcarpet": [
           {
            "colorbar": {
             "outlinewidth": 0,
             "ticks": ""
            },
            "type": "contourcarpet"
           }
          ],
          "heatmap": [
           {
            "colorbar": {
             "outlinewidth": 0,
             "ticks": ""
            },
            "colorscale": [
             [
              0,
              "#0d0887"
             ],
             [
              0.1111111111111111,
              "#46039f"
             ],
             [
              0.2222222222222222,
              "#7201a8"
             ],
             [
              0.3333333333333333,
              "#9c179e"
             ],
             [
              0.4444444444444444,
              "#bd3786"
             ],
             [
              0.5555555555555556,
              "#d8576b"
             ],
             [
              0.6666666666666666,
              "#ed7953"
             ],
             [
              0.7777777777777778,
              "#fb9f3a"
             ],
             [
              0.8888888888888888,
              "#fdca26"
             ],
             [
              1,
              "#f0f921"
             ]
            ],
            "type": "heatmap"
           }
          ],
          "heatmapgl": [
           {
            "colorbar": {
             "outlinewidth": 0,
             "ticks": ""
            },
            "colorscale": [
             [
              0,
              "#0d0887"
             ],
             [
              0.1111111111111111,
              "#46039f"
             ],
             [
              0.2222222222222222,
              "#7201a8"
             ],
             [
              0.3333333333333333,
              "#9c179e"
             ],
             [
              0.4444444444444444,
              "#bd3786"
             ],
             [
              0.5555555555555556,
              "#d8576b"
             ],
             [
              0.6666666666666666,
              "#ed7953"
             ],
             [
              0.7777777777777778,
              "#fb9f3a"
             ],
             [
              0.8888888888888888,
              "#fdca26"
             ],
             [
              1,
              "#f0f921"
             ]
            ],
            "type": "heatmapgl"
           }
          ],
          "histogram": [
           {
            "marker": {
             "pattern": {
              "fillmode": "overlay",
              "size": 10,
              "solidity": 0.2
             }
            },
            "type": "histogram"
           }
          ],
          "histogram2d": [
           {
            "colorbar": {
             "outlinewidth": 0,
             "ticks": ""
            },
            "colorscale": [
             [
              0,
              "#0d0887"
             ],
             [
              0.1111111111111111,
              "#46039f"
             ],
             [
              0.2222222222222222,
              "#7201a8"
             ],
             [
              0.3333333333333333,
              "#9c179e"
             ],
             [
              0.4444444444444444,
              "#bd3786"
             ],
             [
              0.5555555555555556,
              "#d8576b"
             ],
             [
              0.6666666666666666,
              "#ed7953"
             ],
             [
              0.7777777777777778,
              "#fb9f3a"
             ],
             [
              0.8888888888888888,
              "#fdca26"
             ],
             [
              1,
              "#f0f921"
             ]
            ],
            "type": "histogram2d"
           }
          ],
          "histogram2dcontour": [
           {
            "colorbar": {
             "outlinewidth": 0,
             "ticks": ""
            },
            "colorscale": [
             [
              0,
              "#0d0887"
             ],
             [
              0.1111111111111111,
              "#46039f"
             ],
             [
              0.2222222222222222,
              "#7201a8"
             ],
             [
              0.3333333333333333,
              "#9c179e"
             ],
             [
              0.4444444444444444,
              "#bd3786"
             ],
             [
              0.5555555555555556,
              "#d8576b"
             ],
             [
              0.6666666666666666,
              "#ed7953"
             ],
             [
              0.7777777777777778,
              "#fb9f3a"
             ],
             [
              0.8888888888888888,
              "#fdca26"
             ],
             [
              1,
              "#f0f921"
             ]
            ],
            "type": "histogram2dcontour"
           }
          ],
          "mesh3d": [
           {
            "colorbar": {
             "outlinewidth": 0,
             "ticks": ""
            },
            "type": "mesh3d"
           }
          ],
          "parcoords": [
           {
            "line": {
             "colorbar": {
              "outlinewidth": 0,
              "ticks": ""
             }
            },
            "type": "parcoords"
           }
          ],
          "pie": [
           {
            "automargin": true,
            "type": "pie"
           }
          ],
          "scatter": [
           {
            "fillpattern": {
             "fillmode": "overlay",
             "size": 10,
             "solidity": 0.2
            },
            "type": "scatter"
           }
          ],
          "scatter3d": [
           {
            "line": {
             "colorbar": {
              "outlinewidth": 0,
              "ticks": ""
             }
            },
            "marker": {
             "colorbar": {
              "outlinewidth": 0,
              "ticks": ""
             }
            },
            "type": "scatter3d"
           }
          ],
          "scattercarpet": [
           {
            "marker": {
             "colorbar": {
              "outlinewidth": 0,
              "ticks": ""
             }
            },
            "type": "scattercarpet"
           }
          ],
          "scattergeo": [
           {
            "marker": {
             "colorbar": {
              "outlinewidth": 0,
              "ticks": ""
             }
            },
            "type": "scattergeo"
           }
          ],
          "scattergl": [
           {
            "marker": {
             "colorbar": {
              "outlinewidth": 0,
              "ticks": ""
             }
            },
            "type": "scattergl"
           }
          ],
          "scattermapbox": [
           {
            "marker": {
             "colorbar": {
              "outlinewidth": 0,
              "ticks": ""
             }
            },
            "type": "scattermapbox"
           }
          ],
          "scatterpolar": [
           {
            "marker": {
             "colorbar": {
              "outlinewidth": 0,
              "ticks": ""
             }
            },
            "type": "scatterpolar"
           }
          ],
          "scatterpolargl": [
           {
            "marker": {
             "colorbar": {
              "outlinewidth": 0,
              "ticks": ""
             }
            },
            "type": "scatterpolargl"
           }
          ],
          "scatterternary": [
           {
            "marker": {
             "colorbar": {
              "outlinewidth": 0,
              "ticks": ""
             }
            },
            "type": "scatterternary"
           }
          ],
          "surface": [
           {
            "colorbar": {
             "outlinewidth": 0,
             "ticks": ""
            },
            "colorscale": [
             [
              0,
              "#0d0887"
             ],
             [
              0.1111111111111111,
              "#46039f"
             ],
             [
              0.2222222222222222,
              "#7201a8"
             ],
             [
              0.3333333333333333,
              "#9c179e"
             ],
             [
              0.4444444444444444,
              "#bd3786"
             ],
             [
              0.5555555555555556,
              "#d8576b"
             ],
             [
              0.6666666666666666,
              "#ed7953"
             ],
             [
              0.7777777777777778,
              "#fb9f3a"
             ],
             [
              0.8888888888888888,
              "#fdca26"
             ],
             [
              1,
              "#f0f921"
             ]
            ],
            "type": "surface"
           }
          ],
          "table": [
           {
            "cells": {
             "fill": {
              "color": "#EBF0F8"
             },
             "line": {
              "color": "white"
             }
            },
            "header": {
             "fill": {
              "color": "#C8D4E3"
             },
             "line": {
              "color": "white"
             }
            },
            "type": "table"
           }
          ]
         },
         "layout": {
          "annotationdefaults": {
           "arrowcolor": "#2a3f5f",
           "arrowhead": 0,
           "arrowwidth": 1
          },
          "autotypenumbers": "strict",
          "coloraxis": {
           "colorbar": {
            "outlinewidth": 0,
            "ticks": ""
           }
          },
          "colorscale": {
           "diverging": [
            [
             0,
             "#8e0152"
            ],
            [
             0.1,
             "#c51b7d"
            ],
            [
             0.2,
             "#de77ae"
            ],
            [
             0.3,
             "#f1b6da"
            ],
            [
             0.4,
             "#fde0ef"
            ],
            [
             0.5,
             "#f7f7f7"
            ],
            [
             0.6,
             "#e6f5d0"
            ],
            [
             0.7,
             "#b8e186"
            ],
            [
             0.8,
             "#7fbc41"
            ],
            [
             0.9,
             "#4d9221"
            ],
            [
             1,
             "#276419"
            ]
           ],
           "sequential": [
            [
             0,
             "#0d0887"
            ],
            [
             0.1111111111111111,
             "#46039f"
            ],
            [
             0.2222222222222222,
             "#7201a8"
            ],
            [
             0.3333333333333333,
             "#9c179e"
            ],
            [
             0.4444444444444444,
             "#bd3786"
            ],
            [
             0.5555555555555556,
             "#d8576b"
            ],
            [
             0.6666666666666666,
             "#ed7953"
            ],
            [
             0.7777777777777778,
             "#fb9f3a"
            ],
            [
             0.8888888888888888,
             "#fdca26"
            ],
            [
             1,
             "#f0f921"
            ]
           ],
           "sequentialminus": [
            [
             0,
             "#0d0887"
            ],
            [
             0.1111111111111111,
             "#46039f"
            ],
            [
             0.2222222222222222,
             "#7201a8"
            ],
            [
             0.3333333333333333,
             "#9c179e"
            ],
            [
             0.4444444444444444,
             "#bd3786"
            ],
            [
             0.5555555555555556,
             "#d8576b"
            ],
            [
             0.6666666666666666,
             "#ed7953"
            ],
            [
             0.7777777777777778,
             "#fb9f3a"
            ],
            [
             0.8888888888888888,
             "#fdca26"
            ],
            [
             1,
             "#f0f921"
            ]
           ]
          },
          "colorway": [
           "#636efa",
           "#EF553B",
           "#00cc96",
           "#ab63fa",
           "#FFA15A",
           "#19d3f3",
           "#FF6692",
           "#B6E880",
           "#FF97FF",
           "#FECB52"
          ],
          "font": {
           "color": "#2a3f5f"
          },
          "geo": {
           "bgcolor": "white",
           "lakecolor": "white",
           "landcolor": "#E5ECF6",
           "showlakes": true,
           "showland": true,
           "subunitcolor": "white"
          },
          "hoverlabel": {
           "align": "left"
          },
          "hovermode": "closest",
          "mapbox": {
           "style": "light"
          },
          "paper_bgcolor": "white",
          "plot_bgcolor": "#E5ECF6",
          "polar": {
           "angularaxis": {
            "gridcolor": "white",
            "linecolor": "white",
            "ticks": ""
           },
           "bgcolor": "#E5ECF6",
           "radialaxis": {
            "gridcolor": "white",
            "linecolor": "white",
            "ticks": ""
           }
          },
          "scene": {
           "xaxis": {
            "backgroundcolor": "#E5ECF6",
            "gridcolor": "white",
            "gridwidth": 2,
            "linecolor": "white",
            "showbackground": true,
            "ticks": "",
            "zerolinecolor": "white"
           },
           "yaxis": {
            "backgroundcolor": "#E5ECF6",
            "gridcolor": "white",
            "gridwidth": 2,
            "linecolor": "white",
            "showbackground": true,
            "ticks": "",
            "zerolinecolor": "white"
           },
           "zaxis": {
            "backgroundcolor": "#E5ECF6",
            "gridcolor": "white",
            "gridwidth": 2,
            "linecolor": "white",
            "showbackground": true,
            "ticks": "",
            "zerolinecolor": "white"
           }
          },
          "shapedefaults": {
           "line": {
            "color": "#2a3f5f"
           }
          },
          "ternary": {
           "aaxis": {
            "gridcolor": "white",
            "linecolor": "white",
            "ticks": ""
           },
           "baxis": {
            "gridcolor": "white",
            "linecolor": "white",
            "ticks": ""
           },
           "bgcolor": "#E5ECF6",
           "caxis": {
            "gridcolor": "white",
            "linecolor": "white",
            "ticks": ""
           }
          },
          "title": {
           "x": 0.05
          },
          "xaxis": {
           "automargin": true,
           "gridcolor": "white",
           "linecolor": "white",
           "ticks": "",
           "title": {
            "standoff": 15
           },
           "zerolinecolor": "white",
           "zerolinewidth": 2
          },
          "yaxis": {
           "automargin": true,
           "gridcolor": "white",
           "linecolor": "white",
           "ticks": "",
           "title": {
            "standoff": 15
           },
           "zerolinecolor": "white",
           "zerolinewidth": 2
          }
         }
        },
        "title": {
         "text": "Hyperparameter Importances"
        },
        "xaxis": {
         "title": {
          "text": "Hyperparameter Importance"
         }
        },
        "yaxis": {
         "title": {
          "text": "Hyperparameter"
         }
        }
       }
      }
     },
     "metadata": {},
     "output_type": "display_data"
    },
    {
     "data": {
      "application/vnd.plotly.v1+json": {
       "config": {
        "plotlyServerURL": "https://plot.ly"
       },
       "data": [
        {
         "marker": {
          "maxdisplayed": 10
         },
         "mode": "lines+markers",
         "name": "Trial0",
         "type": "scatter",
         "x": [
          0,
          1,
          2,
          3
         ],
         "y": [
          3068.366943359375,
          3068.366943359375,
          3068.366943359375,
          3068.366943359375
         ]
        },
        {
         "marker": {
          "maxdisplayed": 10
         },
         "mode": "lines+markers",
         "name": "Trial1",
         "type": "scatter",
         "x": [
          0,
          1,
          2,
          3
         ],
         "y": [
          3220.29052734375,
          3220.29052734375,
          3220.29052734375,
          3220.29052734375
         ]
        },
        {
         "marker": {
          "maxdisplayed": 10
         },
         "mode": "lines+markers",
         "name": "Trial2",
         "type": "scatter",
         "x": [
          0,
          1,
          2,
          3
         ],
         "y": [
          3352.00439453125,
          3322.48779296875,
          3265.236083984375,
          3140.67724609375
         ]
        },
        {
         "marker": {
          "maxdisplayed": 10
         },
         "mode": "lines+markers",
         "name": "Trial3",
         "type": "scatter",
         "x": [
          0,
          1,
          2,
          3
         ],
         "y": [
          3170.12158203125,
          3170.12158203125,
          3170.12158203125,
          3170.12158203125
         ]
        },
        {
         "marker": {
          "maxdisplayed": 10
         },
         "mode": "lines+markers",
         "name": "Trial4",
         "type": "scatter",
         "x": [
          0,
          1,
          2,
          3
         ],
         "y": [
          3339.895263671875,
          3331.336181640625,
          3319.704345703125,
          3303.24951171875
         ]
        },
        {
         "marker": {
          "maxdisplayed": 10
         },
         "mode": "lines+markers",
         "name": "Trial5",
         "type": "scatter",
         "x": [
          0,
          1,
          2,
          3
         ],
         "y": [
          3273.671875,
          3045.44775390625,
          2292.355224609375,
          2292.355224609375
         ]
        },
        {
         "marker": {
          "maxdisplayed": 10
         },
         "mode": "lines+markers",
         "name": "Trial6",
         "type": "scatter",
         "x": [
          0,
          1,
          2,
          3
         ],
         "y": [
          3329.224609375,
          3304.405029296875,
          2829.308837890625,
          2363.710693359375
         ]
        },
        {
         "marker": {
          "maxdisplayed": 10
         },
         "mode": "lines+markers",
         "name": "Trial7",
         "type": "scatter",
         "x": [
          0,
          1,
          2,
          3
         ],
         "y": [
          3315.2939453125,
          3315.2939453125,
          3315.2939453125,
          2801.30126953125
         ]
        },
        {
         "marker": {
          "maxdisplayed": 10
         },
         "mode": "lines+markers",
         "name": "Trial8",
         "type": "scatter",
         "x": [
          0,
          1,
          2,
          3
         ],
         "y": [
          3939.451171875,
          3939.451171875,
          3939.451171875,
          3939.451171875
         ]
        },
        {
         "marker": {
          "maxdisplayed": 10
         },
         "mode": "lines+markers",
         "name": "Trial9",
         "type": "scatter",
         "x": [
          0,
          1,
          2,
          3
         ],
         "y": [
          3327.896728515625,
          3325.714599609375,
          3323.337646484375,
          3320.940185546875
         ]
        },
        {
         "marker": {
          "maxdisplayed": 10
         },
         "mode": "lines+markers",
         "name": "Trial10",
         "type": "scatter",
         "x": [
          0,
          1,
          2,
          3
         ],
         "y": [
          3356.531005859375,
          3231.235595703125,
          2730.563720703125,
          2497.650146484375
         ]
        },
        {
         "marker": {
          "maxdisplayed": 10
         },
         "mode": "lines+markers",
         "name": "Trial11",
         "type": "scatter",
         "x": [
          0,
          1,
          2,
          3
         ],
         "y": [
          3364.831298828125,
          3265.08203125,
          3005.06640625,
          2498.05419921875
         ]
        },
        {
         "marker": {
          "maxdisplayed": 10
         },
         "mode": "lines+markers",
         "name": "Trial12",
         "type": "scatter",
         "x": [
          0,
          1,
          2,
          3
         ],
         "y": [
          3407.426513671875,
          3362.445556640625,
          3292.625244140625,
          3160.613525390625
         ]
        },
        {
         "marker": {
          "maxdisplayed": 10
         },
         "mode": "lines+markers",
         "name": "Trial13",
         "type": "scatter",
         "x": [
          0,
          1,
          2,
          3
         ],
         "y": [
          3395.4326171875,
          3394.35546875,
          3393.24609375,
          3392.134521484375
         ]
        },
        {
         "marker": {
          "maxdisplayed": 10
         },
         "mode": "lines+markers",
         "name": "Trial14",
         "type": "scatter",
         "x": [
          0,
          1,
          2,
          3
         ],
         "y": [
          3222.8212890625,
          2293.9599609375,
          2089.041259765625,
          2050.162841796875
         ]
        },
        {
         "marker": {
          "maxdisplayed": 10
         },
         "mode": "lines+markers",
         "name": "Trial15",
         "type": "scatter",
         "x": [
          0,
          1,
          2,
          3
         ],
         "y": [
          3242.034912109375,
          2425.197021484375,
          2425.197021484375,
          2425.197021484375
         ]
        },
        {
         "marker": {
          "maxdisplayed": 10
         },
         "mode": "lines+markers",
         "name": "Trial16",
         "type": "scatter",
         "x": [
          0,
          1,
          2,
          3
         ],
         "y": [
          3233.718505859375,
          2302.99951171875,
          2302.99951171875,
          2302.99951171875
         ]
        },
        {
         "marker": {
          "maxdisplayed": 10
         },
         "mode": "lines+markers",
         "name": "Trial17",
         "type": "scatter",
         "x": [
          0,
          1,
          2,
          3
         ],
         "y": [
          3378.387939453125,
          3366.255615234375,
          3349.02685546875,
          3324.45849609375
         ]
        },
        {
         "marker": {
          "maxdisplayed": 10
         },
         "mode": "lines+markers",
         "name": "Trial18",
         "type": "scatter",
         "x": [
          0,
          1,
          2,
          3
         ],
         "y": [
          3250.070068359375,
          2420.091064453125,
          2420.091064453125,
          2420.091064453125
         ]
        },
        {
         "marker": {
          "maxdisplayed": 10
         },
         "mode": "lines+markers",
         "name": "Trial19",
         "type": "scatter",
         "x": [
          0,
          1,
          2,
          3
         ],
         "y": [
          3266.63427734375,
          2621.699951171875,
          2165.688720703125,
          2040.865478515625
         ]
        },
        {
         "marker": {
          "maxdisplayed": 10
         },
         "mode": "lines+markers",
         "name": "Trial20",
         "type": "scatter",
         "x": [
          0,
          1,
          2,
          3
         ],
         "y": [
          3333.77880859375,
          3318.61865234375,
          3295.05517578125,
          3259.216064453125
         ]
        },
        {
         "marker": {
          "maxdisplayed": 10
         },
         "mode": "lines+markers",
         "name": "Trial21",
         "type": "scatter",
         "x": [
          0,
          1,
          2,
          3
         ],
         "y": [
          3311.60791015625,
          3077.864013671875,
          2447.9951171875,
          2447.9951171875
         ]
        },
        {
         "marker": {
          "maxdisplayed": 10
         },
         "mode": "lines+markers",
         "name": "Trial22",
         "type": "scatter",
         "x": [
          0,
          1,
          2,
          3
         ],
         "y": [
          42315.234375,
          34176.7890625,
          6624.96044921875,
          2356.482666015625
         ]
        },
        {
         "marker": {
          "maxdisplayed": 10
         },
         "mode": "lines+markers",
         "name": "Trial23",
         "type": "scatter",
         "x": [
          0,
          1,
          2,
          3
         ],
         "y": [
          3296.821533203125,
          2922.84326171875,
          2575.986328125,
          2150.95654296875
         ]
        },
        {
         "marker": {
          "maxdisplayed": 10
         },
         "mode": "lines+markers",
         "name": "Trial24",
         "type": "scatter",
         "x": [
          0,
          1,
          2,
          3
         ],
         "y": [
          3239.93017578125,
          2674.04443359375,
          2203.168701171875,
          2056.054931640625
         ]
        },
        {
         "marker": {
          "maxdisplayed": 10
         },
         "mode": "lines+markers",
         "name": "Trial25",
         "type": "scatter",
         "x": [
          0,
          1,
          2,
          3
         ],
         "y": [
          3322.81396484375,
          3296.080322265625,
          3237.419921875,
          3088.3828125
         ]
        },
        {
         "marker": {
          "maxdisplayed": 10
         },
         "mode": "lines+markers",
         "name": "Trial26",
         "type": "scatter",
         "x": [
          0,
          1,
          2,
          3
         ],
         "y": [
          3254.897216796875,
          2629.80078125,
          2190.383544921875,
          2059.265869140625
         ]
        },
        {
         "marker": {
          "maxdisplayed": 10
         },
         "mode": "lines+markers",
         "name": "Trial27",
         "type": "scatter",
         "x": [
          0,
          1,
          2,
          3
         ],
         "y": [
          3337.35009765625,
          3333.843505859375,
          3330.004150390625,
          3325.7373046875
         ]
        },
        {
         "marker": {
          "maxdisplayed": 10
         },
         "mode": "lines+markers",
         "name": "Trial28",
         "type": "scatter",
         "x": [
          0,
          1,
          2,
          3
         ],
         "y": [
          3210.291259765625,
          3210.291259765625,
          3210.291259765625,
          3210.291259765625
         ]
        },
        {
         "marker": {
          "maxdisplayed": 10
         },
         "mode": "lines+markers",
         "name": "Trial29",
         "type": "scatter",
         "x": [
          0,
          1,
          2,
          3
         ],
         "y": [
          3128.8076171875,
          3128.8076171875,
          3128.8076171875,
          3128.8076171875
         ]
        },
        {
         "marker": {
          "maxdisplayed": 10
         },
         "mode": "lines+markers",
         "name": "Trial30",
         "type": "scatter",
         "x": [
          0,
          1,
          2,
          3
         ],
         "y": [
          3312.828857421875,
          3287.492919921875,
          3239.795654296875,
          3128.128173828125
         ]
        },
        {
         "marker": {
          "maxdisplayed": 10
         },
         "mode": "lines+markers",
         "name": "Trial31",
         "type": "scatter",
         "x": [
          0,
          1,
          2,
          3
         ],
         "y": [
          3253.58349609375,
          3118.162841796875,
          2293.77294921875,
          2085.610595703125
         ]
        },
        {
         "marker": {
          "maxdisplayed": 10
         },
         "mode": "lines+markers",
         "name": "Trial32",
         "type": "scatter",
         "x": [
          0,
          1,
          2,
          3
         ],
         "y": [
          3220.7451171875,
          3220.7451171875,
          2832.752685546875,
          2102.74072265625
         ]
        },
        {
         "marker": {
          "maxdisplayed": 10
         },
         "mode": "lines+markers",
         "name": "Trial33",
         "type": "scatter",
         "x": [
          0,
          1,
          2,
          3
         ],
         "y": [
          3294.590576171875,
          3027.636474609375,
          2678.2470703125,
          2120.036865234375
         ]
        },
        {
         "marker": {
          "maxdisplayed": 10
         },
         "mode": "lines+markers",
         "name": "Trial34",
         "type": "scatter",
         "x": [
          0,
          1,
          2,
          3
         ],
         "y": [
          23476.3671875,
          3698.015625,
          3698.015625,
          2214.1884765625
         ]
        },
        {
         "marker": {
          "maxdisplayed": 10
         },
         "mode": "lines+markers",
         "name": "Trial35",
         "type": "scatter",
         "x": [
          0,
          1,
          2,
          3
         ],
         "y": [
          3322.909912109375,
          3230.5869140625,
          2894.619140625,
          2894.619140625
         ]
        },
        {
         "marker": {
          "maxdisplayed": 10
         },
         "mode": "lines+markers",
         "name": "Trial36",
         "type": "scatter",
         "x": [
          0,
          1,
          2,
          3
         ],
         "y": [
          3319.0908203125,
          3288.807373046875,
          3216.08349609375,
          2964.152587890625
         ]
        },
        {
         "marker": {
          "maxdisplayed": 10
         },
         "mode": "lines+markers",
         "name": "Trial37",
         "type": "scatter",
         "x": [
          0,
          1,
          2,
          3
         ],
         "y": [
          3265.006103515625,
          3265.006103515625,
          2961.768798828125,
          2507.4873046875
         ]
        },
        {
         "marker": {
          "maxdisplayed": 10
         },
         "mode": "lines+markers",
         "name": "Trial38",
         "type": "scatter",
         "x": [
          0,
          1,
          2,
          3
         ],
         "y": [
          3236.922607421875,
          3236.922607421875,
          3236.922607421875,
          3236.922607421875
         ]
        },
        {
         "marker": {
          "maxdisplayed": 10
         },
         "mode": "lines+markers",
         "name": "Trial39",
         "type": "scatter",
         "x": [
          0,
          1,
          2,
          3
         ],
         "y": [
          3215.154541015625,
          2458.35595703125,
          2120.7041015625,
          2038.4476318359375
         ]
        },
        {
         "marker": {
          "maxdisplayed": 10
         },
         "mode": "lines+markers",
         "name": "Trial40",
         "type": "scatter",
         "x": [
          0,
          1,
          2,
          3
         ],
         "y": [
          353484.625,
          353484.625,
          353484.625,
          353484.625
         ]
        },
        {
         "marker": {
          "maxdisplayed": 10
         },
         "mode": "lines+markers",
         "name": "Trial41",
         "type": "scatter",
         "x": [
          0,
          1,
          2,
          3
         ],
         "y": [
          3223.53173828125,
          2311.7919921875,
          2103.712158203125,
          2031.4974365234375
         ]
        },
        {
         "marker": {
          "maxdisplayed": 10
         },
         "mode": "lines+markers",
         "name": "Trial42",
         "type": "scatter",
         "x": [
          0,
          1,
          2,
          3
         ],
         "y": [
          3010.44677734375,
          3010.44677734375,
          2087.775390625,
          2087.775390625
         ]
        },
        {
         "marker": {
          "maxdisplayed": 10
         },
         "mode": "lines+markers",
         "name": "Trial43",
         "type": "scatter",
         "x": [
          0,
          1,
          2,
          3
         ],
         "y": [
          3038.712158203125,
          2103.8515625,
          2103.8515625,
          2103.8515625
         ]
        },
        {
         "marker": {
          "maxdisplayed": 10
         },
         "mode": "lines+markers",
         "name": "Trial44",
         "type": "scatter",
         "x": [
          0,
          1,
          2,
          3
         ],
         "y": [
          10228.861328125,
          2329.09716796875,
          2329.09716796875,
          2329.09716796875
         ]
        },
        {
         "marker": {
          "maxdisplayed": 10
         },
         "mode": "lines+markers",
         "name": "Trial45",
         "type": "scatter",
         "x": [
          0,
          1,
          2,
          3
         ],
         "y": [
          2401.14892578125,
          2401.14892578125,
          2062.816162109375,
          2018.443359375
         ]
        },
        {
         "marker": {
          "maxdisplayed": 10
         },
         "mode": "lines+markers",
         "name": "Trial46",
         "type": "scatter",
         "x": [
          0,
          1,
          2,
          3
         ],
         "y": [
          3188.23583984375,
          2104.031494140625,
          2104.031494140625,
          2029.2994384765625
         ]
        },
        {
         "marker": {
          "maxdisplayed": 10
         },
         "mode": "lines+markers",
         "name": "Trial47",
         "type": "scatter",
         "x": [
          0,
          1,
          2,
          3
         ],
         "y": [
          2431.78466796875,
          2141.47900390625,
          2044.829345703125,
          2019.708740234375
         ]
        },
        {
         "marker": {
          "maxdisplayed": 10
         },
         "mode": "lines+markers",
         "name": "Trial48",
         "type": "scatter",
         "x": [
          0,
          1,
          2,
          3
         ],
         "y": [
          2781.9189453125,
          2781.9189453125,
          2062.982421875,
          2006.5020751953125
         ]
        },
        {
         "marker": {
          "maxdisplayed": 10
         },
         "mode": "lines+markers",
         "name": "Trial49",
         "type": "scatter",
         "x": [
          0,
          1,
          2,
          3
         ],
         "y": [
          3283.561767578125,
          3082.514892578125,
          2461.693115234375,
          2461.693115234375
         ]
        },
        {
         "marker": {
          "maxdisplayed": 10
         },
         "mode": "lines+markers",
         "name": "Trial50",
         "type": "scatter",
         "x": [
          0,
          1,
          2,
          3
         ],
         "y": [
          86978.8125,
          29467.283203125,
          13140.0390625,
          8109.1318359375
         ]
        },
        {
         "marker": {
          "maxdisplayed": 10
         },
         "mode": "lines+markers",
         "name": "Trial51",
         "type": "scatter",
         "x": [
          0,
          1,
          2,
          3
         ],
         "y": [
          2638.015380859375,
          2638.015380859375,
          2057.18408203125,
          2057.18408203125
         ]
        },
        {
         "marker": {
          "maxdisplayed": 10
         },
         "mode": "lines+markers",
         "name": "Trial52",
         "type": "scatter",
         "x": [
          0,
          1,
          2,
          3
         ],
         "y": [
          2901.478515625,
          2582.845703125,
          2076.624267578125,
          2006.4404296875
         ]
        },
        {
         "marker": {
          "maxdisplayed": 10
         },
         "mode": "lines+markers",
         "name": "Trial53",
         "type": "scatter",
         "x": [
          0,
          1,
          2,
          3
         ],
         "y": [
          7792.65087890625,
          2215.14013671875,
          2020.9698486328125,
          2020.9698486328125
         ]
        },
        {
         "marker": {
          "maxdisplayed": 10
         },
         "mode": "lines+markers",
         "name": "Trial54",
         "type": "scatter",
         "x": [
          0,
          1,
          2,
          3
         ],
         "y": [
          2578.398681640625,
          2578.398681640625,
          2239.69189453125,
          2126.735107421875
         ]
        },
        {
         "marker": {
          "maxdisplayed": 10
         },
         "mode": "lines+markers",
         "name": "Trial55",
         "type": "scatter",
         "x": [
          0,
          1,
          2,
          3
         ],
         "y": [
          3078.970703125,
          3078.970703125,
          2082.244384765625,
          2004.5772705078125
         ]
        },
        {
         "marker": {
          "maxdisplayed": 10
         },
         "mode": "lines+markers",
         "name": "Trial56",
         "type": "scatter",
         "x": [
          0,
          1,
          2,
          3
         ],
         "y": [
          2847.307373046875,
          2847.307373046875,
          2732.297119140625,
          2268.796875
         ]
        },
        {
         "marker": {
          "maxdisplayed": 10
         },
         "mode": "lines+markers",
         "name": "Trial57",
         "type": "scatter",
         "x": [
          0,
          1,
          2,
          3
         ],
         "y": [
          3100.529296875,
          3100.529296875,
          2106.15380859375,
          2053.37939453125
         ]
        },
        {
         "marker": {
          "maxdisplayed": 10
         },
         "mode": "lines+markers",
         "name": "Trial58",
         "type": "scatter",
         "x": [
          0,
          1,
          2,
          3
         ],
         "y": [
          2959.853271484375,
          2959.853271484375,
          2474.767333984375,
          2067.99560546875
         ]
        },
        {
         "marker": {
          "maxdisplayed": 10
         },
         "mode": "lines+markers",
         "name": "Trial59",
         "type": "scatter",
         "x": [
          0,
          1,
          2,
          3
         ],
         "y": [
          2504.77490234375,
          2121.01025390625,
          2080.85107421875,
          2069.88671875
         ]
        },
        {
         "marker": {
          "maxdisplayed": 10
         },
         "mode": "lines+markers",
         "name": "Trial60",
         "type": "scatter",
         "x": [
          0,
          1,
          2,
          3
         ],
         "y": [
          3311.043701171875,
          3281.253662109375,
          3235.500244140625,
          3116.89794921875
         ]
        },
        {
         "marker": {
          "maxdisplayed": 10
         },
         "mode": "lines+markers",
         "name": "Trial61",
         "type": "scatter",
         "x": [
          0,
          1,
          2,
          3
         ],
         "y": [
          2542.0009765625,
          2542.0009765625,
          2102.337646484375,
          2011.0169677734375
         ]
        },
        {
         "marker": {
          "maxdisplayed": 10
         },
         "mode": "lines+markers",
         "name": "Trial62",
         "type": "scatter",
         "x": [
          0,
          1,
          2,
          3
         ],
         "y": [
          3189.053466796875,
          2962.295166015625,
          2089.532470703125,
          2049.697265625
         ]
        },
        {
         "marker": {
          "maxdisplayed": 10
         },
         "mode": "lines+markers",
         "name": "Trial63",
         "type": "scatter",
         "x": [
          0,
          1,
          2,
          3
         ],
         "y": [
          2415.398193359375,
          2415.398193359375,
          2034.0584716796875,
          2034.0584716796875
         ]
        },
        {
         "marker": {
          "maxdisplayed": 10
         },
         "mode": "lines+markers",
         "name": "Trial64",
         "type": "scatter",
         "x": [
          0,
          1,
          2,
          3
         ],
         "y": [
          2784.00830078125,
          2361.36328125,
          2147.011474609375,
          2009.14013671875
         ]
        },
        {
         "marker": {
          "maxdisplayed": 10
         },
         "mode": "lines+markers",
         "name": "Trial65",
         "type": "scatter",
         "x": [
          0,
          1,
          2,
          3
         ],
         "y": [
          3287.667236328125,
          2047.29150390625,
          2047.29150390625,
          2047.29150390625
         ]
        },
        {
         "marker": {
          "maxdisplayed": 10
         },
         "mode": "lines+markers",
         "name": "Trial66",
         "type": "scatter",
         "x": [
          0,
          1,
          2,
          3
         ],
         "y": [
          8979.908203125,
          4755.15283203125,
          3397.6396484375,
          3397.6396484375
         ]
        },
        {
         "marker": {
          "maxdisplayed": 10
         },
         "mode": "lines+markers",
         "name": "Trial67",
         "type": "scatter",
         "x": [
          0,
          1,
          2,
          3
         ],
         "y": [
          2483.06103515625,
          2061.19921875,
          2011.82666015625,
          2011.82666015625
         ]
        },
        {
         "marker": {
          "maxdisplayed": 10
         },
         "mode": "lines+markers",
         "name": "Trial68",
         "type": "scatter",
         "x": [
          0,
          1,
          2,
          3
         ],
         "y": [
          2859.481689453125,
          2104.0146484375,
          2021.1536865234375,
          2021.1536865234375
         ]
        },
        {
         "marker": {
          "maxdisplayed": 10
         },
         "mode": "lines+markers",
         "name": "Trial69",
         "type": "scatter",
         "x": [
          0,
          1,
          2,
          3
         ],
         "y": [
          13083.57421875,
          3626.43701171875,
          3626.43701171875,
          2734.805419921875
         ]
        },
        {
         "marker": {
          "maxdisplayed": 10
         },
         "mode": "lines+markers",
         "name": "Trial70",
         "type": "scatter",
         "x": [
          0,
          1,
          2,
          3
         ],
         "y": [
          2538.227783203125,
          2215.365478515625,
          2142.56396484375,
          2103.962890625
         ]
        },
        {
         "marker": {
          "maxdisplayed": 10
         },
         "mode": "lines+markers",
         "name": "Trial71",
         "type": "scatter",
         "x": [
          0,
          1,
          2,
          3
         ],
         "y": [
          3261.6005859375,
          2871.200927734375,
          2673.817626953125,
          2151.5546875
         ]
        },
        {
         "marker": {
          "maxdisplayed": 10
         },
         "mode": "lines+markers",
         "name": "Trial72",
         "type": "scatter",
         "x": [
          0,
          1,
          2,
          3
         ],
         "y": [
          3296.940673828125,
          3181.700439453125,
          2911.784912109375,
          2269.828125
         ]
        },
        {
         "marker": {
          "maxdisplayed": 10
         },
         "mode": "lines+markers",
         "name": "Trial73",
         "type": "scatter",
         "x": [
          0,
          1,
          2,
          3
         ],
         "y": [
          3292.78125,
          3164.609130859375,
          2631.213623046875,
          2399.141845703125
         ]
        },
        {
         "marker": {
          "maxdisplayed": 10
         },
         "mode": "lines+markers",
         "name": "Trial74",
         "type": "scatter",
         "x": [
          0,
          1,
          2,
          3
         ],
         "y": [
          2982.971923828125,
          2875.73779296875,
          2098.73876953125,
          2019.333251953125
         ]
        },
        {
         "marker": {
          "maxdisplayed": 10
         },
         "mode": "lines+markers",
         "name": "Trial75",
         "type": "scatter",
         "x": [
          0,
          1,
          2,
          3
         ],
         "y": [
          3316.5869140625,
          3292.294921875,
          3257.91357421875,
          3207.984130859375
         ]
        },
        {
         "marker": {
          "maxdisplayed": 10
         },
         "mode": "lines+markers",
         "name": "Trial76",
         "type": "scatter",
         "x": [
          0,
          1,
          2,
          3
         ],
         "y": [
          3345.78564453125,
          3344.749267578125,
          3343.671875,
          3342.548583984375
         ]
        },
        {
         "marker": {
          "maxdisplayed": 10
         },
         "mode": "lines+markers",
         "name": "Trial77",
         "type": "scatter",
         "x": [
          0,
          1,
          2,
          3
         ],
         "y": [
          3254.013916015625,
          2609.633056640625,
          2609.633056640625,
          2127.953369140625
         ]
        },
        {
         "marker": {
          "maxdisplayed": 10
         },
         "mode": "lines+markers",
         "name": "Trial78",
         "type": "scatter",
         "x": [
          0,
          1,
          2,
          3
         ],
         "y": [
          3297.597900390625,
          3236.99951171875,
          3090.703857421875,
          2615.822021484375
         ]
        },
        {
         "marker": {
          "maxdisplayed": 10
         },
         "mode": "lines+markers",
         "name": "Trial79",
         "type": "scatter",
         "x": [
          0,
          1,
          2,
          3
         ],
         "y": [
          3052.12939453125,
          3052.12939453125,
          2193.855712890625,
          2137.25244140625
         ]
        },
        {
         "marker": {
          "maxdisplayed": 10
         },
         "mode": "lines+markers",
         "name": "Trial80",
         "type": "scatter",
         "x": [
          0,
          1,
          2,
          3
         ],
         "y": [
          2356.471435546875,
          2133.76904296875,
          2116.781494140625,
          2055.562744140625
         ]
        },
        {
         "marker": {
          "maxdisplayed": 10
         },
         "mode": "lines+markers",
         "name": "Trial81",
         "type": "scatter",
         "x": [
          0,
          1,
          2,
          3
         ],
         "y": [
          2663.452392578125,
          2663.452392578125,
          2062.965576171875,
          2062.965576171875
         ]
        },
        {
         "marker": {
          "maxdisplayed": 10
         },
         "mode": "lines+markers",
         "name": "Trial82",
         "type": "scatter",
         "x": [
          0,
          1,
          2,
          3
         ],
         "y": [
          8402.40234375,
          2079.9951171875,
          2015.8172607421875,
          2015.8172607421875
         ]
        },
        {
         "marker": {
          "maxdisplayed": 10
         },
         "mode": "lines+markers",
         "name": "Trial83",
         "type": "scatter",
         "x": [
          0,
          1,
          2,
          3
         ],
         "y": [
          2589.84912109375,
          2589.84912109375,
          2425.337158203125,
          2396.08642578125
         ]
        },
        {
         "marker": {
          "maxdisplayed": 10
         },
         "mode": "lines+markers",
         "name": "Trial84",
         "type": "scatter",
         "x": [
          0,
          1,
          2,
          3
         ],
         "y": [
          2964.787109375,
          2153.314208984375,
          2104.79052734375,
          2104.79052734375
         ]
        },
        {
         "marker": {
          "maxdisplayed": 10
         },
         "mode": "lines+markers",
         "name": "Trial85",
         "type": "scatter",
         "x": [
          0,
          1,
          2,
          3
         ],
         "y": [
          3306.965576171875,
          3260.482421875,
          3179.19580078125,
          2990.05517578125
         ]
        },
        {
         "marker": {
          "maxdisplayed": 10
         },
         "mode": "lines+markers",
         "name": "Trial86",
         "type": "scatter",
         "x": [
          0,
          1,
          2,
          3
         ],
         "y": [
          3267.48291015625,
          2948.38671875,
          2918.391357421875,
          2719.789794921875
         ]
        },
        {
         "marker": {
          "maxdisplayed": 10
         },
         "mode": "lines+markers",
         "name": "Trial87",
         "type": "scatter",
         "x": [
          0,
          1,
          2,
          3
         ],
         "y": [
          3254.9521484375,
          2881.673828125,
          2491.222900390625,
          2181.619140625
         ]
        },
        {
         "marker": {
          "maxdisplayed": 10
         },
         "mode": "lines+markers",
         "name": "Trial88",
         "type": "scatter",
         "x": [
          0,
          1,
          2,
          3
         ],
         "y": [
          2636.3564453125,
          2534.6337890625,
          2527.969482421875,
          2226.54638671875
         ]
        },
        {
         "marker": {
          "maxdisplayed": 10
         },
         "mode": "lines+markers",
         "name": "Trial89",
         "type": "scatter",
         "x": [
          0,
          1,
          2,
          3
         ],
         "y": [
          3236.31494140625,
          2595.001220703125,
          2595.001220703125,
          2101.660400390625
         ]
        },
        {
         "marker": {
          "maxdisplayed": 10
         },
         "mode": "lines+markers",
         "name": "Trial90",
         "type": "scatter",
         "x": [
          0,
          1,
          2,
          3
         ],
         "y": [
          3266.084228515625,
          3079.669189453125,
          2614.812744140625,
          2614.812744140625
         ]
        },
        {
         "marker": {
          "maxdisplayed": 10
         },
         "mode": "lines+markers",
         "name": "Trial91",
         "type": "scatter",
         "x": [
          0,
          1,
          2,
          3
         ],
         "y": [
          2570.60986328125,
          2570.60986328125,
          2066.312255859375,
          2013.59033203125
         ]
        },
        {
         "marker": {
          "maxdisplayed": 10
         },
         "mode": "lines+markers",
         "name": "Trial92",
         "type": "scatter",
         "x": [
          0,
          1,
          2,
          3
         ],
         "y": [
          6240.13525390625,
          2246.9775390625,
          2133.947265625,
          2085.8955078125
         ]
        },
        {
         "marker": {
          "maxdisplayed": 10
         },
         "mode": "lines+markers",
         "name": "Trial93",
         "type": "scatter",
         "x": [
          0,
          1,
          2,
          3
         ],
         "y": [
          2938.76708984375,
          2375.48291015625,
          2121.965576171875,
          2075.44970703125
         ]
        },
        {
         "marker": {
          "maxdisplayed": 10
         },
         "mode": "lines+markers",
         "name": "Trial94",
         "type": "scatter",
         "x": [
          0,
          1,
          2,
          3
         ],
         "y": [
          3015.835205078125,
          3015.835205078125,
          2202.85107421875,
          2030.8233642578125
         ]
        },
        {
         "marker": {
          "maxdisplayed": 10
         },
         "mode": "lines+markers",
         "name": "Trial95",
         "type": "scatter",
         "x": [
          0,
          1,
          2,
          3
         ],
         "y": [
          8729.646484375,
          2113.032470703125,
          2113.032470703125,
          2113.032470703125
         ]
        },
        {
         "marker": {
          "maxdisplayed": 10
         },
         "mode": "lines+markers",
         "name": "Trial96",
         "type": "scatter",
         "x": [
          0,
          1,
          2,
          3
         ],
         "y": [
          2687.800537109375,
          2687.800537109375,
          2250.095458984375,
          2150.0966796875
         ]
        },
        {
         "marker": {
          "maxdisplayed": 10
         },
         "mode": "lines+markers",
         "name": "Trial97",
         "type": "scatter",
         "x": [
          0,
          1,
          2,
          3
         ],
         "y": [
          2523.5224609375,
          2523.5224609375,
          2050.163818359375,
          2050.163818359375
         ]
        },
        {
         "marker": {
          "maxdisplayed": 10
         },
         "mode": "lines+markers",
         "name": "Trial98",
         "type": "scatter",
         "x": [
          0,
          1,
          2,
          3
         ],
         "y": [
          3203.967529296875,
          3203.967529296875,
          3203.967529296875,
          2137.539794921875
         ]
        },
        {
         "marker": {
          "maxdisplayed": 10
         },
         "mode": "lines+markers",
         "name": "Trial99",
         "type": "scatter",
         "x": [
          0,
          1,
          2,
          3
         ],
         "y": [
          3102.267333984375,
          3102.267333984375,
          3102.267333984375,
          2111.857421875
         ]
        }
       ],
       "layout": {
        "showlegend": false,
        "template": {
         "data": {
          "bar": [
           {
            "error_x": {
             "color": "#2a3f5f"
            },
            "error_y": {
             "color": "#2a3f5f"
            },
            "marker": {
             "line": {
              "color": "#E5ECF6",
              "width": 0.5
             },
             "pattern": {
              "fillmode": "overlay",
              "size": 10,
              "solidity": 0.2
             }
            },
            "type": "bar"
           }
          ],
          "barpolar": [
           {
            "marker": {
             "line": {
              "color": "#E5ECF6",
              "width": 0.5
             },
             "pattern": {
              "fillmode": "overlay",
              "size": 10,
              "solidity": 0.2
             }
            },
            "type": "barpolar"
           }
          ],
          "carpet": [
           {
            "aaxis": {
             "endlinecolor": "#2a3f5f",
             "gridcolor": "white",
             "linecolor": "white",
             "minorgridcolor": "white",
             "startlinecolor": "#2a3f5f"
            },
            "baxis": {
             "endlinecolor": "#2a3f5f",
             "gridcolor": "white",
             "linecolor": "white",
             "minorgridcolor": "white",
             "startlinecolor": "#2a3f5f"
            },
            "type": "carpet"
           }
          ],
          "choropleth": [
           {
            "colorbar": {
             "outlinewidth": 0,
             "ticks": ""
            },
            "type": "choropleth"
           }
          ],
          "contour": [
           {
            "colorbar": {
             "outlinewidth": 0,
             "ticks": ""
            },
            "colorscale": [
             [
              0,
              "#0d0887"
             ],
             [
              0.1111111111111111,
              "#46039f"
             ],
             [
              0.2222222222222222,
              "#7201a8"
             ],
             [
              0.3333333333333333,
              "#9c179e"
             ],
             [
              0.4444444444444444,
              "#bd3786"
             ],
             [
              0.5555555555555556,
              "#d8576b"
             ],
             [
              0.6666666666666666,
              "#ed7953"
             ],
             [
              0.7777777777777778,
              "#fb9f3a"
             ],
             [
              0.8888888888888888,
              "#fdca26"
             ],
             [
              1,
              "#f0f921"
             ]
            ],
            "type": "contour"
           }
          ],
          "contourcarpet": [
           {
            "colorbar": {
             "outlinewidth": 0,
             "ticks": ""
            },
            "type": "contourcarpet"
           }
          ],
          "heatmap": [
           {
            "colorbar": {
             "outlinewidth": 0,
             "ticks": ""
            },
            "colorscale": [
             [
              0,
              "#0d0887"
             ],
             [
              0.1111111111111111,
              "#46039f"
             ],
             [
              0.2222222222222222,
              "#7201a8"
             ],
             [
              0.3333333333333333,
              "#9c179e"
             ],
             [
              0.4444444444444444,
              "#bd3786"
             ],
             [
              0.5555555555555556,
              "#d8576b"
             ],
             [
              0.6666666666666666,
              "#ed7953"
             ],
             [
              0.7777777777777778,
              "#fb9f3a"
             ],
             [
              0.8888888888888888,
              "#fdca26"
             ],
             [
              1,
              "#f0f921"
             ]
            ],
            "type": "heatmap"
           }
          ],
          "heatmapgl": [
           {
            "colorbar": {
             "outlinewidth": 0,
             "ticks": ""
            },
            "colorscale": [
             [
              0,
              "#0d0887"
             ],
             [
              0.1111111111111111,
              "#46039f"
             ],
             [
              0.2222222222222222,
              "#7201a8"
             ],
             [
              0.3333333333333333,
              "#9c179e"
             ],
             [
              0.4444444444444444,
              "#bd3786"
             ],
             [
              0.5555555555555556,
              "#d8576b"
             ],
             [
              0.6666666666666666,
              "#ed7953"
             ],
             [
              0.7777777777777778,
              "#fb9f3a"
             ],
             [
              0.8888888888888888,
              "#fdca26"
             ],
             [
              1,
              "#f0f921"
             ]
            ],
            "type": "heatmapgl"
           }
          ],
          "histogram": [
           {
            "marker": {
             "pattern": {
              "fillmode": "overlay",
              "size": 10,
              "solidity": 0.2
             }
            },
            "type": "histogram"
           }
          ],
          "histogram2d": [
           {
            "colorbar": {
             "outlinewidth": 0,
             "ticks": ""
            },
            "colorscale": [
             [
              0,
              "#0d0887"
             ],
             [
              0.1111111111111111,
              "#46039f"
             ],
             [
              0.2222222222222222,
              "#7201a8"
             ],
             [
              0.3333333333333333,
              "#9c179e"
             ],
             [
              0.4444444444444444,
              "#bd3786"
             ],
             [
              0.5555555555555556,
              "#d8576b"
             ],
             [
              0.6666666666666666,
              "#ed7953"
             ],
             [
              0.7777777777777778,
              "#fb9f3a"
             ],
             [
              0.8888888888888888,
              "#fdca26"
             ],
             [
              1,
              "#f0f921"
             ]
            ],
            "type": "histogram2d"
           }
          ],
          "histogram2dcontour": [
           {
            "colorbar": {
             "outlinewidth": 0,
             "ticks": ""
            },
            "colorscale": [
             [
              0,
              "#0d0887"
             ],
             [
              0.1111111111111111,
              "#46039f"
             ],
             [
              0.2222222222222222,
              "#7201a8"
             ],
             [
              0.3333333333333333,
              "#9c179e"
             ],
             [
              0.4444444444444444,
              "#bd3786"
             ],
             [
              0.5555555555555556,
              "#d8576b"
             ],
             [
              0.6666666666666666,
              "#ed7953"
             ],
             [
              0.7777777777777778,
              "#fb9f3a"
             ],
             [
              0.8888888888888888,
              "#fdca26"
             ],
             [
              1,
              "#f0f921"
             ]
            ],
            "type": "histogram2dcontour"
           }
          ],
          "mesh3d": [
           {
            "colorbar": {
             "outlinewidth": 0,
             "ticks": ""
            },
            "type": "mesh3d"
           }
          ],
          "parcoords": [
           {
            "line": {
             "colorbar": {
              "outlinewidth": 0,
              "ticks": ""
             }
            },
            "type": "parcoords"
           }
          ],
          "pie": [
           {
            "automargin": true,
            "type": "pie"
           }
          ],
          "scatter": [
           {
            "fillpattern": {
             "fillmode": "overlay",
             "size": 10,
             "solidity": 0.2
            },
            "type": "scatter"
           }
          ],
          "scatter3d": [
           {
            "line": {
             "colorbar": {
              "outlinewidth": 0,
              "ticks": ""
             }
            },
            "marker": {
             "colorbar": {
              "outlinewidth": 0,
              "ticks": ""
             }
            },
            "type": "scatter3d"
           }
          ],
          "scattercarpet": [
           {
            "marker": {
             "colorbar": {
              "outlinewidth": 0,
              "ticks": ""
             }
            },
            "type": "scattercarpet"
           }
          ],
          "scattergeo": [
           {
            "marker": {
             "colorbar": {
              "outlinewidth": 0,
              "ticks": ""
             }
            },
            "type": "scattergeo"
           }
          ],
          "scattergl": [
           {
            "marker": {
             "colorbar": {
              "outlinewidth": 0,
              "ticks": ""
             }
            },
            "type": "scattergl"
           }
          ],
          "scattermapbox": [
           {
            "marker": {
             "colorbar": {
              "outlinewidth": 0,
              "ticks": ""
             }
            },
            "type": "scattermapbox"
           }
          ],
          "scatterpolar": [
           {
            "marker": {
             "colorbar": {
              "outlinewidth": 0,
              "ticks": ""
             }
            },
            "type": "scatterpolar"
           }
          ],
          "scatterpolargl": [
           {
            "marker": {
             "colorbar": {
              "outlinewidth": 0,
              "ticks": ""
             }
            },
            "type": "scatterpolargl"
           }
          ],
          "scatterternary": [
           {
            "marker": {
             "colorbar": {
              "outlinewidth": 0,
              "ticks": ""
             }
            },
            "type": "scatterternary"
           }
          ],
          "surface": [
           {
            "colorbar": {
             "outlinewidth": 0,
             "ticks": ""
            },
            "colorscale": [
             [
              0,
              "#0d0887"
             ],
             [
              0.1111111111111111,
              "#46039f"
             ],
             [
              0.2222222222222222,
              "#7201a8"
             ],
             [
              0.3333333333333333,
              "#9c179e"
             ],
             [
              0.4444444444444444,
              "#bd3786"
             ],
             [
              0.5555555555555556,
              "#d8576b"
             ],
             [
              0.6666666666666666,
              "#ed7953"
             ],
             [
              0.7777777777777778,
              "#fb9f3a"
             ],
             [
              0.8888888888888888,
              "#fdca26"
             ],
             [
              1,
              "#f0f921"
             ]
            ],
            "type": "surface"
           }
          ],
          "table": [
           {
            "cells": {
             "fill": {
              "color": "#EBF0F8"
             },
             "line": {
              "color": "white"
             }
            },
            "header": {
             "fill": {
              "color": "#C8D4E3"
             },
             "line": {
              "color": "white"
             }
            },
            "type": "table"
           }
          ]
         },
         "layout": {
          "annotationdefaults": {
           "arrowcolor": "#2a3f5f",
           "arrowhead": 0,
           "arrowwidth": 1
          },
          "autotypenumbers": "strict",
          "coloraxis": {
           "colorbar": {
            "outlinewidth": 0,
            "ticks": ""
           }
          },
          "colorscale": {
           "diverging": [
            [
             0,
             "#8e0152"
            ],
            [
             0.1,
             "#c51b7d"
            ],
            [
             0.2,
             "#de77ae"
            ],
            [
             0.3,
             "#f1b6da"
            ],
            [
             0.4,
             "#fde0ef"
            ],
            [
             0.5,
             "#f7f7f7"
            ],
            [
             0.6,
             "#e6f5d0"
            ],
            [
             0.7,
             "#b8e186"
            ],
            [
             0.8,
             "#7fbc41"
            ],
            [
             0.9,
             "#4d9221"
            ],
            [
             1,
             "#276419"
            ]
           ],
           "sequential": [
            [
             0,
             "#0d0887"
            ],
            [
             0.1111111111111111,
             "#46039f"
            ],
            [
             0.2222222222222222,
             "#7201a8"
            ],
            [
             0.3333333333333333,
             "#9c179e"
            ],
            [
             0.4444444444444444,
             "#bd3786"
            ],
            [
             0.5555555555555556,
             "#d8576b"
            ],
            [
             0.6666666666666666,
             "#ed7953"
            ],
            [
             0.7777777777777778,
             "#fb9f3a"
            ],
            [
             0.8888888888888888,
             "#fdca26"
            ],
            [
             1,
             "#f0f921"
            ]
           ],
           "sequentialminus": [
            [
             0,
             "#0d0887"
            ],
            [
             0.1111111111111111,
             "#46039f"
            ],
            [
             0.2222222222222222,
             "#7201a8"
            ],
            [
             0.3333333333333333,
             "#9c179e"
            ],
            [
             0.4444444444444444,
             "#bd3786"
            ],
            [
             0.5555555555555556,
             "#d8576b"
            ],
            [
             0.6666666666666666,
             "#ed7953"
            ],
            [
             0.7777777777777778,
             "#fb9f3a"
            ],
            [
             0.8888888888888888,
             "#fdca26"
            ],
            [
             1,
             "#f0f921"
            ]
           ]
          },
          "colorway": [
           "#636efa",
           "#EF553B",
           "#00cc96",
           "#ab63fa",
           "#FFA15A",
           "#19d3f3",
           "#FF6692",
           "#B6E880",
           "#FF97FF",
           "#FECB52"
          ],
          "font": {
           "color": "#2a3f5f"
          },
          "geo": {
           "bgcolor": "white",
           "lakecolor": "white",
           "landcolor": "#E5ECF6",
           "showlakes": true,
           "showland": true,
           "subunitcolor": "white"
          },
          "hoverlabel": {
           "align": "left"
          },
          "hovermode": "closest",
          "mapbox": {
           "style": "light"
          },
          "paper_bgcolor": "white",
          "plot_bgcolor": "#E5ECF6",
          "polar": {
           "angularaxis": {
            "gridcolor": "white",
            "linecolor": "white",
            "ticks": ""
           },
           "bgcolor": "#E5ECF6",
           "radialaxis": {
            "gridcolor": "white",
            "linecolor": "white",
            "ticks": ""
           }
          },
          "scene": {
           "xaxis": {
            "backgroundcolor": "#E5ECF6",
            "gridcolor": "white",
            "gridwidth": 2,
            "linecolor": "white",
            "showbackground": true,
            "ticks": "",
            "zerolinecolor": "white"
           },
           "yaxis": {
            "backgroundcolor": "#E5ECF6",
            "gridcolor": "white",
            "gridwidth": 2,
            "linecolor": "white",
            "showbackground": true,
            "ticks": "",
            "zerolinecolor": "white"
           },
           "zaxis": {
            "backgroundcolor": "#E5ECF6",
            "gridcolor": "white",
            "gridwidth": 2,
            "linecolor": "white",
            "showbackground": true,
            "ticks": "",
            "zerolinecolor": "white"
           }
          },
          "shapedefaults": {
           "line": {
            "color": "#2a3f5f"
           }
          },
          "ternary": {
           "aaxis": {
            "gridcolor": "white",
            "linecolor": "white",
            "ticks": ""
           },
           "baxis": {
            "gridcolor": "white",
            "linecolor": "white",
            "ticks": ""
           },
           "bgcolor": "#E5ECF6",
           "caxis": {
            "gridcolor": "white",
            "linecolor": "white",
            "ticks": ""
           }
          },
          "title": {
           "x": 0.05
          },
          "xaxis": {
           "automargin": true,
           "gridcolor": "white",
           "linecolor": "white",
           "ticks": "",
           "title": {
            "standoff": 15
           },
           "zerolinecolor": "white",
           "zerolinewidth": 2
          },
          "yaxis": {
           "automargin": true,
           "gridcolor": "white",
           "linecolor": "white",
           "ticks": "",
           "title": {
            "standoff": 15
           },
           "zerolinecolor": "white",
           "zerolinewidth": 2
          }
         }
        },
        "title": {
         "text": "Intermediate Values Plot"
        },
        "xaxis": {
         "title": {
          "text": "Step"
         }
        },
        "yaxis": {
         "title": {
          "text": "Intermediate Value"
         }
        }
       }
      }
     },
     "metadata": {},
     "output_type": "display_data"
    }
   ],
   "source": [
    "import optuna.visualization as vis\n",
    "\n",
    "vis.plot_optimization_history(study).show()\n",
    "vis.plot_param_importances(study).show()\n",
    "vis.plot_intermediate_values(study).show()"
   ]
  },
  {
   "cell_type": "code",
   "execution_count": null,
   "metadata": {},
   "outputs": [],
   "source": []
  }
 ],
 "metadata": {
  "kernelspec": {
   "display_name": ".venv",
   "language": "python",
   "name": "python3"
  },
  "language_info": {
   "codemirror_mode": {
    "name": "ipython",
    "version": 3
   },
   "file_extension": ".py",
   "mimetype": "text/x-python",
   "name": "python",
   "nbconvert_exporter": "python",
   "pygments_lexer": "ipython3",
   "version": "3.12.7"
  }
 },
 "nbformat": 4,
 "nbformat_minor": 2
}
