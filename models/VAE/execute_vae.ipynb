{
 "cells": [
  {
   "cell_type": "markdown",
   "metadata": {},
   "source": [
    "## Notebook to test the vae model on smaller dataset"
   ]
  },
  {
   "cell_type": "markdown",
   "metadata": {},
   "source": [
    "### load and sample the data"
   ]
  },
  {
   "cell_type": "code",
   "execution_count": 1,
   "metadata": {},
   "outputs": [
    {
     "name": "stderr",
     "output_type": "stream",
     "text": [
      "/home/bendm/machine_learning/project/majority-vote-outlier-detection/models/VAE/../../utils/load_csv.py:20: DtypeWarning: Columns (91,94,209,213) have mixed types. Specify dtype option on import or set low_memory=False.\n",
      "  frame = pd.read_csv(data_path, delimiter=\";\").iloc[:, -3:]\n"
     ]
    },
    {
     "name": "stdout",
     "output_type": "stream",
     "text": [
      "train length: 45\n",
      "val length: 15\n",
      "test length: 18\n",
      "outlier test training: False\n",
      "outlier test validation: False\n",
      "outlier test test: True\n"
     ]
    },
    {
     "data": {
      "text/html": [
       "<div>\n",
       "<style scoped>\n",
       "    .dataframe tbody tr th:only-of-type {\n",
       "        vertical-align: middle;\n",
       "    }\n",
       "\n",
       "    .dataframe tbody tr th {\n",
       "        vertical-align: top;\n",
       "    }\n",
       "\n",
       "    .dataframe thead th {\n",
       "        text-align: right;\n",
       "    }\n",
       "</style>\n",
       "<table border=\"1\" class=\"dataframe\">\n",
       "  <thead>\n",
       "    <tr style=\"text-align: right;\">\n",
       "      <th></th>\n",
       "      <th>classification</th>\n",
       "      <th>file_names</th>\n",
       "      <th>label</th>\n",
       "    </tr>\n",
       "  </thead>\n",
       "  <tbody>\n",
       "    <tr>\n",
       "      <th>2894</th>\n",
       "      <td>1</td>\n",
       "      <td>/home/bendm/machine_learning/project/majority-...</td>\n",
       "      <td>Singlet</td>\n",
       "    </tr>\n",
       "    <tr>\n",
       "      <th>2876</th>\n",
       "      <td>1</td>\n",
       "      <td>/home/bendm/machine_learning/project/majority-...</td>\n",
       "      <td>Singlet</td>\n",
       "    </tr>\n",
       "    <tr>\n",
       "      <th>4947</th>\n",
       "      <td>1</td>\n",
       "      <td>/home/bendm/machine_learning/project/majority-...</td>\n",
       "      <td>Singlet</td>\n",
       "    </tr>\n",
       "    <tr>\n",
       "      <th>5861</th>\n",
       "      <td>1</td>\n",
       "      <td>/home/bendm/machine_learning/project/majority-...</td>\n",
       "      <td>Singlet</td>\n",
       "    </tr>\n",
       "    <tr>\n",
       "      <th>2678</th>\n",
       "      <td>1</td>\n",
       "      <td>/home/bendm/machine_learning/project/majority-...</td>\n",
       "      <td>Singlet</td>\n",
       "    </tr>\n",
       "    <tr>\n",
       "      <th>7231</th>\n",
       "      <td>1</td>\n",
       "      <td>/home/bendm/machine_learning/project/majority-...</td>\n",
       "      <td>Singlet</td>\n",
       "    </tr>\n",
       "    <tr>\n",
       "      <th>9930</th>\n",
       "      <td>1</td>\n",
       "      <td>/home/bendm/machine_learning/project/majority-...</td>\n",
       "      <td>Singlet</td>\n",
       "    </tr>\n",
       "    <tr>\n",
       "      <th>971</th>\n",
       "      <td>1</td>\n",
       "      <td>/home/bendm/machine_learning/project/majority-...</td>\n",
       "      <td>Singlet</td>\n",
       "    </tr>\n",
       "    <tr>\n",
       "      <th>6340</th>\n",
       "      <td>1</td>\n",
       "      <td>/home/bendm/machine_learning/project/majority-...</td>\n",
       "      <td>Singlet</td>\n",
       "    </tr>\n",
       "    <tr>\n",
       "      <th>4640</th>\n",
       "      <td>1</td>\n",
       "      <td>/home/bendm/machine_learning/project/majority-...</td>\n",
       "      <td>Singlet</td>\n",
       "    </tr>\n",
       "    <tr>\n",
       "      <th>8284</th>\n",
       "      <td>1</td>\n",
       "      <td>/home/bendm/machine_learning/project/majority-...</td>\n",
       "      <td>Singlet</td>\n",
       "    </tr>\n",
       "    <tr>\n",
       "      <th>7487</th>\n",
       "      <td>1</td>\n",
       "      <td>/home/bendm/machine_learning/project/majority-...</td>\n",
       "      <td>Singlet</td>\n",
       "    </tr>\n",
       "    <tr>\n",
       "      <th>7825</th>\n",
       "      <td>1</td>\n",
       "      <td>/home/bendm/machine_learning/project/majority-...</td>\n",
       "      <td>Singlet</td>\n",
       "    </tr>\n",
       "    <tr>\n",
       "      <th>6363</th>\n",
       "      <td>1</td>\n",
       "      <td>/home/bendm/machine_learning/project/majority-...</td>\n",
       "      <td>Singlet</td>\n",
       "    </tr>\n",
       "    <tr>\n",
       "      <th>1760</th>\n",
       "      <td>1</td>\n",
       "      <td>/home/bendm/machine_learning/project/majority-...</td>\n",
       "      <td>Singlet</td>\n",
       "    </tr>\n",
       "    <tr>\n",
       "      <th>7942</th>\n",
       "      <td>1</td>\n",
       "      <td>/home/bendm/machine_learning/project/majority-...</td>\n",
       "      <td>Singlet</td>\n",
       "    </tr>\n",
       "    <tr>\n",
       "      <th>6687</th>\n",
       "      <td>1</td>\n",
       "      <td>/home/bendm/machine_learning/project/majority-...</td>\n",
       "      <td>Singlet</td>\n",
       "    </tr>\n",
       "    <tr>\n",
       "      <th>107</th>\n",
       "      <td>1</td>\n",
       "      <td>/home/bendm/machine_learning/project/majority-...</td>\n",
       "      <td>Singlet</td>\n",
       "    </tr>\n",
       "    <tr>\n",
       "      <th>7539</th>\n",
       "      <td>1</td>\n",
       "      <td>/home/bendm/machine_learning/project/majority-...</td>\n",
       "      <td>Singlet</td>\n",
       "    </tr>\n",
       "    <tr>\n",
       "      <th>9896</th>\n",
       "      <td>1</td>\n",
       "      <td>/home/bendm/machine_learning/project/majority-...</td>\n",
       "      <td>Singlet</td>\n",
       "    </tr>\n",
       "    <tr>\n",
       "      <th>5589</th>\n",
       "      <td>1</td>\n",
       "      <td>/home/bendm/machine_learning/project/majority-...</td>\n",
       "      <td>Singlet</td>\n",
       "    </tr>\n",
       "    <tr>\n",
       "      <th>7938</th>\n",
       "      <td>1</td>\n",
       "      <td>/home/bendm/machine_learning/project/majority-...</td>\n",
       "      <td>Singlet</td>\n",
       "    </tr>\n",
       "    <tr>\n",
       "      <th>3337</th>\n",
       "      <td>1</td>\n",
       "      <td>/home/bendm/machine_learning/project/majority-...</td>\n",
       "      <td>Singlet</td>\n",
       "    </tr>\n",
       "    <tr>\n",
       "      <th>9753</th>\n",
       "      <td>1</td>\n",
       "      <td>/home/bendm/machine_learning/project/majority-...</td>\n",
       "      <td>Singlet</td>\n",
       "    </tr>\n",
       "    <tr>\n",
       "      <th>321</th>\n",
       "      <td>1</td>\n",
       "      <td>/home/bendm/machine_learning/project/majority-...</td>\n",
       "      <td>Singlet</td>\n",
       "    </tr>\n",
       "    <tr>\n",
       "      <th>2545</th>\n",
       "      <td>1</td>\n",
       "      <td>/home/bendm/machine_learning/project/majority-...</td>\n",
       "      <td>Singlet</td>\n",
       "    </tr>\n",
       "    <tr>\n",
       "      <th>7438</th>\n",
       "      <td>1</td>\n",
       "      <td>/home/bendm/machine_learning/project/majority-...</td>\n",
       "      <td>Singlet</td>\n",
       "    </tr>\n",
       "    <tr>\n",
       "      <th>2020</th>\n",
       "      <td>1</td>\n",
       "      <td>/home/bendm/machine_learning/project/majority-...</td>\n",
       "      <td>Singlet</td>\n",
       "    </tr>\n",
       "    <tr>\n",
       "      <th>3999</th>\n",
       "      <td>1</td>\n",
       "      <td>/home/bendm/machine_learning/project/majority-...</td>\n",
       "      <td>Singlet</td>\n",
       "    </tr>\n",
       "    <tr>\n",
       "      <th>9317</th>\n",
       "      <td>1</td>\n",
       "      <td>/home/bendm/machine_learning/project/majority-...</td>\n",
       "      <td>Singlet</td>\n",
       "    </tr>\n",
       "    <tr>\n",
       "      <th>1056</th>\n",
       "      <td>1</td>\n",
       "      <td>/home/bendm/machine_learning/project/majority-...</td>\n",
       "      <td>Singlet</td>\n",
       "    </tr>\n",
       "    <tr>\n",
       "      <th>952</th>\n",
       "      <td>1</td>\n",
       "      <td>/home/bendm/machine_learning/project/majority-...</td>\n",
       "      <td>Singlet</td>\n",
       "    </tr>\n",
       "    <tr>\n",
       "      <th>3006</th>\n",
       "      <td>1</td>\n",
       "      <td>/home/bendm/machine_learning/project/majority-...</td>\n",
       "      <td>Singlet</td>\n",
       "    </tr>\n",
       "    <tr>\n",
       "      <th>3723</th>\n",
       "      <td>1</td>\n",
       "      <td>/home/bendm/machine_learning/project/majority-...</td>\n",
       "      <td>Singlet</td>\n",
       "    </tr>\n",
       "    <tr>\n",
       "      <th>5547</th>\n",
       "      <td>1</td>\n",
       "      <td>/home/bendm/machine_learning/project/majority-...</td>\n",
       "      <td>Singlet</td>\n",
       "    </tr>\n",
       "    <tr>\n",
       "      <th>1731</th>\n",
       "      <td>1</td>\n",
       "      <td>/home/bendm/machine_learning/project/majority-...</td>\n",
       "      <td>Singlet</td>\n",
       "    </tr>\n",
       "    <tr>\n",
       "      <th>3570</th>\n",
       "      <td>1</td>\n",
       "      <td>/home/bendm/machine_learning/project/majority-...</td>\n",
       "      <td>Singlet</td>\n",
       "    </tr>\n",
       "    <tr>\n",
       "      <th>8243</th>\n",
       "      <td>1</td>\n",
       "      <td>/home/bendm/machine_learning/project/majority-...</td>\n",
       "      <td>Singlet</td>\n",
       "    </tr>\n",
       "    <tr>\n",
       "      <th>4521</th>\n",
       "      <td>1</td>\n",
       "      <td>/home/bendm/machine_learning/project/majority-...</td>\n",
       "      <td>Singlet</td>\n",
       "    </tr>\n",
       "    <tr>\n",
       "      <th>8847</th>\n",
       "      <td>1</td>\n",
       "      <td>/home/bendm/machine_learning/project/majority-...</td>\n",
       "      <td>Singlet</td>\n",
       "    </tr>\n",
       "    <tr>\n",
       "      <th>9920</th>\n",
       "      <td>1</td>\n",
       "      <td>/home/bendm/machine_learning/project/majority-...</td>\n",
       "      <td>Singlet</td>\n",
       "    </tr>\n",
       "    <tr>\n",
       "      <th>5359</th>\n",
       "      <td>1</td>\n",
       "      <td>/home/bendm/machine_learning/project/majority-...</td>\n",
       "      <td>Singlet</td>\n",
       "    </tr>\n",
       "    <tr>\n",
       "      <th>9189</th>\n",
       "      <td>1</td>\n",
       "      <td>/home/bendm/machine_learning/project/majority-...</td>\n",
       "      <td>Singlet</td>\n",
       "    </tr>\n",
       "    <tr>\n",
       "      <th>8158</th>\n",
       "      <td>1</td>\n",
       "      <td>/home/bendm/machine_learning/project/majority-...</td>\n",
       "      <td>Singlet</td>\n",
       "    </tr>\n",
       "    <tr>\n",
       "      <th>799</th>\n",
       "      <td>1</td>\n",
       "      <td>/home/bendm/machine_learning/project/majority-...</td>\n",
       "      <td>Singlet</td>\n",
       "    </tr>\n",
       "  </tbody>\n",
       "</table>\n",
       "</div>"
      ],
      "text/plain": [
       "      classification                                         file_names  \\\n",
       "2894               1  /home/bendm/machine_learning/project/majority-...   \n",
       "2876               1  /home/bendm/machine_learning/project/majority-...   \n",
       "4947               1  /home/bendm/machine_learning/project/majority-...   \n",
       "5861               1  /home/bendm/machine_learning/project/majority-...   \n",
       "2678               1  /home/bendm/machine_learning/project/majority-...   \n",
       "7231               1  /home/bendm/machine_learning/project/majority-...   \n",
       "9930               1  /home/bendm/machine_learning/project/majority-...   \n",
       "971                1  /home/bendm/machine_learning/project/majority-...   \n",
       "6340               1  /home/bendm/machine_learning/project/majority-...   \n",
       "4640               1  /home/bendm/machine_learning/project/majority-...   \n",
       "8284               1  /home/bendm/machine_learning/project/majority-...   \n",
       "7487               1  /home/bendm/machine_learning/project/majority-...   \n",
       "7825               1  /home/bendm/machine_learning/project/majority-...   \n",
       "6363               1  /home/bendm/machine_learning/project/majority-...   \n",
       "1760               1  /home/bendm/machine_learning/project/majority-...   \n",
       "7942               1  /home/bendm/machine_learning/project/majority-...   \n",
       "6687               1  /home/bendm/machine_learning/project/majority-...   \n",
       "107                1  /home/bendm/machine_learning/project/majority-...   \n",
       "7539               1  /home/bendm/machine_learning/project/majority-...   \n",
       "9896               1  /home/bendm/machine_learning/project/majority-...   \n",
       "5589               1  /home/bendm/machine_learning/project/majority-...   \n",
       "7938               1  /home/bendm/machine_learning/project/majority-...   \n",
       "3337               1  /home/bendm/machine_learning/project/majority-...   \n",
       "9753               1  /home/bendm/machine_learning/project/majority-...   \n",
       "321                1  /home/bendm/machine_learning/project/majority-...   \n",
       "2545               1  /home/bendm/machine_learning/project/majority-...   \n",
       "7438               1  /home/bendm/machine_learning/project/majority-...   \n",
       "2020               1  /home/bendm/machine_learning/project/majority-...   \n",
       "3999               1  /home/bendm/machine_learning/project/majority-...   \n",
       "9317               1  /home/bendm/machine_learning/project/majority-...   \n",
       "1056               1  /home/bendm/machine_learning/project/majority-...   \n",
       "952                1  /home/bendm/machine_learning/project/majority-...   \n",
       "3006               1  /home/bendm/machine_learning/project/majority-...   \n",
       "3723               1  /home/bendm/machine_learning/project/majority-...   \n",
       "5547               1  /home/bendm/machine_learning/project/majority-...   \n",
       "1731               1  /home/bendm/machine_learning/project/majority-...   \n",
       "3570               1  /home/bendm/machine_learning/project/majority-...   \n",
       "8243               1  /home/bendm/machine_learning/project/majority-...   \n",
       "4521               1  /home/bendm/machine_learning/project/majority-...   \n",
       "8847               1  /home/bendm/machine_learning/project/majority-...   \n",
       "9920               1  /home/bendm/machine_learning/project/majority-...   \n",
       "5359               1  /home/bendm/machine_learning/project/majority-...   \n",
       "9189               1  /home/bendm/machine_learning/project/majority-...   \n",
       "8158               1  /home/bendm/machine_learning/project/majority-...   \n",
       "799                1  /home/bendm/machine_learning/project/majority-...   \n",
       "\n",
       "        label  \n",
       "2894  Singlet  \n",
       "2876  Singlet  \n",
       "4947  Singlet  \n",
       "5861  Singlet  \n",
       "2678  Singlet  \n",
       "7231  Singlet  \n",
       "9930  Singlet  \n",
       "971   Singlet  \n",
       "6340  Singlet  \n",
       "4640  Singlet  \n",
       "8284  Singlet  \n",
       "7487  Singlet  \n",
       "7825  Singlet  \n",
       "6363  Singlet  \n",
       "1760  Singlet  \n",
       "7942  Singlet  \n",
       "6687  Singlet  \n",
       "107   Singlet  \n",
       "7539  Singlet  \n",
       "9896  Singlet  \n",
       "5589  Singlet  \n",
       "7938  Singlet  \n",
       "3337  Singlet  \n",
       "9753  Singlet  \n",
       "321   Singlet  \n",
       "2545  Singlet  \n",
       "7438  Singlet  \n",
       "2020  Singlet  \n",
       "3999  Singlet  \n",
       "9317  Singlet  \n",
       "1056  Singlet  \n",
       "952   Singlet  \n",
       "3006  Singlet  \n",
       "3723  Singlet  \n",
       "5547  Singlet  \n",
       "1731  Singlet  \n",
       "3570  Singlet  \n",
       "8243  Singlet  \n",
       "4521  Singlet  \n",
       "8847  Singlet  \n",
       "9920  Singlet  \n",
       "5359  Singlet  \n",
       "9189  Singlet  \n",
       "8158  Singlet  \n",
       "799   Singlet  "
      ]
     },
     "execution_count": 1,
     "metadata": {},
     "output_type": "execute_result"
    }
   ],
   "source": [
    "\n",
    "import sys\n",
    "\n",
    "sys.path.append(\"../../\")\n",
    "\n",
    "import utils.load_csv as load_csv\n",
    "\n",
    "set = load_csv.load_pandas()\n",
    "set = load_csv.sample_data(set, 100)\n",
    "\n",
    "# train and val only contain inliers and test contains both inliers and outliers\n",
    "train, val, test = load_csv.split_data(set)\n",
    "print(f\"train length: {len(train)}\")\n",
    "print(f\"val length: {len(val)}\")\n",
    "print(f\"test length: {len(test)}\")\n",
    "\n",
    "print(f'outlier test training: {any(train[\"classification\"] != 1)}')\n",
    "print(f'outlier test validation: {any(val[\"classification\"] != 1)}')\n",
    "print(f'outlier test test: {any(test[\"classification\"] != 1)}')\n",
    "train"
   ]
  },
  {
   "cell_type": "code",
   "execution_count": 2,
   "metadata": {},
   "outputs": [],
   "source": [
    "from models.VAE.VAE import VAE\n",
    "from datetime import datetime\n",
    "\n",
    "import torch\n",
    "from torch.utils.tensorboard import SummaryWriter\n",
    "from utils.dataloader import ImagePathDataset\n",
    "from torchvision.transforms import v2"
   ]
  },
  {
   "cell_type": "code",
   "execution_count": 3,
   "metadata": {},
   "outputs": [
    {
     "name": "stderr",
     "output_type": "stream",
     "text": [
      "/home/bendm/machine_learning/project/majority-vote-outlier-detection/.venv/lib/python3.12/site-packages/torchvision/transforms/v2/_deprecated.py:42: UserWarning: The transform `ToTensor()` is deprecated and will be removed in a future release. Instead, please use `v2.Compose([v2.ToImage(), v2.ToDtype(torch.float32, scale=True)])`.Output is equivalent up to float precision.\n",
      "  warnings.warn(\n"
     ]
    }
   ],
   "source": [
    "batch_size = 8\n",
    "lr = 1e-3\n",
    "weight_decay = 1e-2\n",
    "epochs = 80\n",
    "input_dim = 4800\n",
    "hidden_dim = 2000\n",
    "latent_dim = 30\n",
    "\n",
    "transform = v2.Compose(\n",
    "    [\n",
    "        v2.ToImage(),\n",
    "        v2.ToDtype(torch.float32, scale=True),\n",
    "        v2.Resize((60, 80)),\n",
    "        v2.ToTensor(),\n",
    "        v2.Lambda(\n",
    "            lambda x: (x.view(-1) - torch.min(x)) / (torch.max(x) - torch.min(x))\n",
    "        ),\n",
    "    ]\n",
    ")\n",
    "\n",
    "train_set = ImagePathDataset(train, transform=transform)\n",
    "val_set = ImagePathDataset(val, transform=transform)\n",
    "\n",
    "train_dataloader = torch.utils.data.DataLoader(\n",
    "    train_set, batch_size=batch_size, shuffle=True\n",
    ")\n",
    "val_dataloader = torch.utils.data.DataLoader(\n",
    "    val_set, batch_size=batch_size, shuffle=True\n",
    ")"
   ]
  },
  {
   "cell_type": "code",
   "execution_count": 4,
   "metadata": {},
   "outputs": [],
   "source": [
    "import matplotlib.pyplot as plt\n",
    "import numpy as np\n",
    "\n",
    "for batch_idx, (data, target) in enumerate(train_dataloader):\n",
    "    # check if all values are 0\n",
    "    if ((data == 0).all()):\n",
    "        print(\"nan\")\n",
    "        print(data)\n",
    "        print(data.shape)\n",
    "        plt.imshow(data[0].reshape(60, 80))\n",
    "        plt.show()\n",
    "        break"
   ]
  },
  {
   "cell_type": "markdown",
   "metadata": {},
   "source": [
    "reasonable output after all preprocessing transformations."
   ]
  },
  {
   "cell_type": "code",
   "execution_count": 5,
   "metadata": {},
   "outputs": [],
   "source": [
    "device = torch.device(\"cuda\" if torch.cuda.is_available() else \"cpu\")\n",
    "model = VAE(input_dim=input_dim, hidden_dim=hidden_dim, latent_dim=latent_dim).to(device)\n",
    "optimizer = torch.optim.AdamW(model.parameters(), lr=lr, weight_decay=weight_decay)\n",
    "writer = SummaryWriter(f'runs/outlier/vae_{datetime.now().strftime(\"%Y%m%d-%H%M%S\")}')"
   ]
  },
  {
   "cell_type": "code",
   "execution_count": null,
   "metadata": {},
   "outputs": [
    {
     "name": "stdout",
     "output_type": "stream",
     "text": [
      "Epoch 1/80\n"
     ]
    },
    {
     "name": "stderr",
     "output_type": "stream",
     "text": [
      "  0%|          | 0/6 [00:00<?, ?it/s]"
     ]
    },
    {
     "name": "stdout",
     "output_type": "stream",
     "text": [
      "Step 0 (N samples: 0), Loss: 3330.5256 (Recon: 3327.2664, KL: 3.2593) Grad: 28.0864\n"
     ]
    },
    {
     "name": "stderr",
     "output_type": "stream",
     "text": [
      "100%|██████████| 6/6 [00:01<00:00,  3.22it/s]\n",
      "Testing: 100%|██████████| 2/2 [00:00<00:00, 18.59it/s]\n"
     ]
    },
    {
     "name": "stdout",
     "output_type": "stream",
     "text": [
      "====> Test set loss: 2605.7109 (BCE: 2468.2310, KLD: 137.4800)\n",
      "Epoch 2/80\n"
     ]
    },
    {
     "name": "stderr",
     "output_type": "stream",
     "text": [
      "100%|██████████| 6/6 [00:01<00:00,  3.53it/s]\n",
      "Testing: 100%|██████████| 2/2 [00:00<00:00, 26.56it/s]\n"
     ]
    },
    {
     "name": "stdout",
     "output_type": "stream",
     "text": [
      "====> Test set loss: 2296.3269 (BCE: 2289.1177, KLD: 7.2092)\n",
      "Epoch 3/80\n"
     ]
    },
    {
     "name": "stderr",
     "output_type": "stream",
     "text": [
      "100%|██████████| 6/6 [00:01<00:00,  3.50it/s]\n",
      "Testing: 100%|██████████| 2/2 [00:00<00:00, 28.25it/s]\n"
     ]
    },
    {
     "name": "stdout",
     "output_type": "stream",
     "text": [
      "====> Test set loss: 2026.8635 (BCE: 2022.9768, KLD: 3.8867)\n",
      "Epoch 4/80\n"
     ]
    },
    {
     "name": "stderr",
     "output_type": "stream",
     "text": [
      "100%|██████████| 6/6 [00:01<00:00,  3.46it/s]\n",
      "Testing: 100%|██████████| 2/2 [00:00<00:00, 27.62it/s]\n"
     ]
    },
    {
     "name": "stdout",
     "output_type": "stream",
     "text": [
      "====> Test set loss: 2027.5117 (BCE: 2023.0806, KLD: 4.4312)\n",
      "Epoch 5/80\n"
     ]
    },
    {
     "name": "stderr",
     "output_type": "stream",
     "text": [
      "100%|██████████| 6/6 [00:01<00:00,  3.57it/s]\n",
      "Testing: 100%|██████████| 2/2 [00:00<00:00, 27.24it/s]\n"
     ]
    },
    {
     "name": "stdout",
     "output_type": "stream",
     "text": [
      "====> Test set loss: 2044.2324 (BCE: 2039.1483, KLD: 5.0841)\n",
      "Epoch 6/80\n"
     ]
    },
    {
     "name": "stderr",
     "output_type": "stream",
     "text": [
      "100%|██████████| 6/6 [00:01<00:00,  3.76it/s]\n",
      "Testing: 100%|██████████| 2/2 [00:00<00:00, 30.47it/s]\n"
     ]
    },
    {
     "name": "stdout",
     "output_type": "stream",
     "text": [
      "====> Test set loss: 2023.7001 (BCE: 2016.8796, KLD: 6.8205)\n",
      "Epoch 7/80\n"
     ]
    },
    {
     "name": "stderr",
     "output_type": "stream",
     "text": [
      "100%|██████████| 6/6 [00:01<00:00,  4.07it/s]\n",
      "Testing: 100%|██████████| 2/2 [00:00<00:00, 31.25it/s]\n"
     ]
    },
    {
     "name": "stdout",
     "output_type": "stream",
     "text": [
      "====> Test set loss: 2001.8639 (BCE: 1995.4848, KLD: 6.3791)\n",
      "Epoch 8/80\n"
     ]
    },
    {
     "name": "stderr",
     "output_type": "stream",
     "text": [
      "100%|██████████| 6/6 [00:01<00:00,  4.05it/s]\n",
      "Testing: 100%|██████████| 2/2 [00:00<00:00, 30.75it/s]\n"
     ]
    },
    {
     "name": "stdout",
     "output_type": "stream",
     "text": [
      "====> Test set loss: 2018.0056 (BCE: 2013.3161, KLD: 4.6894)\n",
      "Epoch 9/80\n"
     ]
    },
    {
     "name": "stderr",
     "output_type": "stream",
     "text": [
      "100%|██████████| 6/6 [00:01<00:00,  4.00it/s]\n",
      "Testing: 100%|██████████| 2/2 [00:00<00:00, 29.39it/s]\n"
     ]
    },
    {
     "name": "stdout",
     "output_type": "stream",
     "text": [
      "====> Test set loss: 1992.3159 (BCE: 1988.6789, KLD: 3.6370)\n",
      "Epoch 10/80\n"
     ]
    },
    {
     "name": "stderr",
     "output_type": "stream",
     "text": [
      "100%|██████████| 6/6 [00:01<00:00,  3.86it/s]\n",
      "Testing: 100%|██████████| 2/2 [00:00<00:00, 31.61it/s]\n"
     ]
    },
    {
     "name": "stdout",
     "output_type": "stream",
     "text": [
      "====> Test set loss: 2013.5623 (BCE: 2009.6936, KLD: 3.8687)\n",
      "Epoch 11/80\n"
     ]
    },
    {
     "name": "stderr",
     "output_type": "stream",
     "text": [
      "100%|██████████| 6/6 [00:01<00:00,  3.91it/s]\n",
      "Testing: 100%|██████████| 2/2 [00:00<00:00, 29.56it/s]\n"
     ]
    },
    {
     "name": "stdout",
     "output_type": "stream",
     "text": [
      "====> Test set loss: 2000.8282 (BCE: 1995.9117, KLD: 4.9165)\n",
      "Epoch 12/80\n"
     ]
    },
    {
     "name": "stderr",
     "output_type": "stream",
     "text": [
      "100%|██████████| 6/6 [00:01<00:00,  3.85it/s]\n",
      "Testing: 100%|██████████| 2/2 [00:00<00:00, 31.48it/s]\n"
     ]
    },
    {
     "name": "stdout",
     "output_type": "stream",
     "text": [
      "====> Test set loss: 2007.1938 (BCE: 2002.1630, KLD: 5.0308)\n",
      "Epoch 13/80\n"
     ]
    },
    {
     "name": "stderr",
     "output_type": "stream",
     "text": [
      "100%|██████████| 6/6 [00:01<00:00,  3.79it/s]\n",
      "Testing: 100%|██████████| 2/2 [00:00<00:00, 31.21it/s]\n"
     ]
    },
    {
     "name": "stdout",
     "output_type": "stream",
     "text": [
      "====> Test set loss: 1995.2875 (BCE: 1991.6078, KLD: 3.6797)\n",
      "Epoch 14/80\n"
     ]
    },
    {
     "name": "stderr",
     "output_type": "stream",
     "text": [
      "100%|██████████| 6/6 [00:01<00:00,  3.97it/s]\n",
      "Testing: 100%|██████████| 2/2 [00:00<00:00, 32.89it/s]\n"
     ]
    },
    {
     "name": "stdout",
     "output_type": "stream",
     "text": [
      "====> Test set loss: 1995.3432 (BCE: 1992.3394, KLD: 3.0038)\n",
      "Epoch 15/80\n"
     ]
    },
    {
     "name": "stderr",
     "output_type": "stream",
     "text": [
      "100%|██████████| 6/6 [00:01<00:00,  3.63it/s]\n",
      "Testing: 100%|██████████| 2/2 [00:00<00:00, 23.26it/s]\n"
     ]
    },
    {
     "name": "stdout",
     "output_type": "stream",
     "text": [
      "====> Test set loss: 1990.4532 (BCE: 1985.3489, KLD: 5.1043)\n",
      "Epoch 16/80\n"
     ]
    },
    {
     "name": "stderr",
     "output_type": "stream",
     "text": [
      "100%|██████████| 6/6 [00:01<00:00,  3.36it/s]\n",
      "Testing: 100%|██████████| 2/2 [00:00<00:00, 25.68it/s]\n"
     ]
    },
    {
     "name": "stdout",
     "output_type": "stream",
     "text": [
      "====> Test set loss: 2017.3431 (BCE: 2013.5378, KLD: 3.8053)\n",
      "Epoch 17/80\n"
     ]
    },
    {
     "name": "stderr",
     "output_type": "stream",
     "text": [
      " 67%|██████▋   | 4/6 [00:01<00:00,  3.39it/s]"
     ]
    },
    {
     "name": "stdout",
     "output_type": "stream",
     "text": [
      "Step 100 (N samples: 800), Loss: 1906.9778 (Recon: 1893.7058, KL: 13.2720) Grad: 243.4824\n"
     ]
    },
    {
     "name": "stderr",
     "output_type": "stream",
     "text": [
      "100%|██████████| 6/6 [00:01<00:00,  3.36it/s]\n",
      "Testing: 100%|██████████| 2/2 [00:00<00:00, 27.09it/s]\n"
     ]
    },
    {
     "name": "stdout",
     "output_type": "stream",
     "text": [
      "====> Test set loss: 2003.5802 (BCE: 1998.2896, KLD: 5.2906)\n",
      "Epoch 18/80\n"
     ]
    },
    {
     "name": "stderr",
     "output_type": "stream",
     "text": [
      "100%|██████████| 6/6 [00:01<00:00,  3.39it/s]\n",
      "Testing: 100%|██████████| 2/2 [00:00<00:00, 26.62it/s]\n"
     ]
    },
    {
     "name": "stdout",
     "output_type": "stream",
     "text": [
      "====> Test set loss: 1999.5583 (BCE: 1997.0443, KLD: 2.5140)\n",
      "Epoch 19/80\n"
     ]
    },
    {
     "name": "stderr",
     "output_type": "stream",
     "text": [
      "100%|██████████| 6/6 [00:01<00:00,  3.41it/s]\n",
      "Testing: 100%|██████████| 2/2 [00:00<00:00, 26.23it/s]\n"
     ]
    },
    {
     "name": "stdout",
     "output_type": "stream",
     "text": [
      "====> Test set loss: 1994.1074 (BCE: 1989.9628, KLD: 4.1446)\n",
      "Epoch 20/80\n"
     ]
    },
    {
     "name": "stderr",
     "output_type": "stream",
     "text": [
      " 17%|█▋        | 1/6 [00:00<00:01,  3.35it/s]"
     ]
    }
   ],
   "source": [
    "prev_updates = 0\n",
    "for epoch in range(epochs):\n",
    "    print(f\"Epoch {epoch+1}/{epochs}\")\n",
    "    prev_updates = model.train_model(train_dataloader, optimizer, prev_updates, writer)\n",
    "    model.test(val_dataloader, prev_updates, writer)"
   ]
  }
 ],
 "metadata": {
  "kernelspec": {
   "display_name": ".venv",
   "language": "python",
   "name": "python3"
  },
  "language_info": {
   "codemirror_mode": {
    "name": "ipython",
    "version": 3
   },
   "file_extension": ".py",
   "mimetype": "text/x-python",
   "name": "python",
   "nbconvert_exporter": "python",
   "pygments_lexer": "ipython3",
   "version": "3.12.7"
  }
 },
 "nbformat": 4,
 "nbformat_minor": 2
}
