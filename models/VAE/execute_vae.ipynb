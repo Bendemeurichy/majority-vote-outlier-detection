{
 "cells": [
  {
   "cell_type": "markdown",
   "metadata": {},
   "source": [
    "## Notebook to test the vae model on smaller dataset"
   ]
  },
  {
   "cell_type": "markdown",
   "metadata": {},
   "source": [
    "### load and sample the data"
   ]
  },
  {
   "cell_type": "code",
   "execution_count": 1,
   "metadata": {},
   "outputs": [
    {
     "name": "stderr",
     "output_type": "stream",
     "text": [
      "/home/bendm/machine_learning/project/majority-vote-outlier-detection/models/VAE/../../utils/load_csv.py:20: DtypeWarning: Columns (91,94,209,213) have mixed types. Specify dtype option on import or set low_memory=False.\n",
      "  frame = pd.read_csv(data_path, delimiter=\";\").iloc[:, -3:]\n"
     ]
    },
    {
     "name": "stdout",
     "output_type": "stream",
     "text": [
      "train length: 45\n",
      "val length: 15\n",
      "test length: 18\n",
      "outlier test training: False\n",
      "outlier test validation: False\n",
      "outlier test test: True\n"
     ]
    },
    {
     "data": {
      "text/html": [
       "<div>\n",
       "<style scoped>\n",
       "    .dataframe tbody tr th:only-of-type {\n",
       "        vertical-align: middle;\n",
       "    }\n",
       "\n",
       "    .dataframe tbody tr th {\n",
       "        vertical-align: top;\n",
       "    }\n",
       "\n",
       "    .dataframe thead th {\n",
       "        text-align: right;\n",
       "    }\n",
       "</style>\n",
       "<table border=\"1\" class=\"dataframe\">\n",
       "  <thead>\n",
       "    <tr style=\"text-align: right;\">\n",
       "      <th></th>\n",
       "      <th>classification</th>\n",
       "      <th>file_names</th>\n",
       "      <th>label</th>\n",
       "    </tr>\n",
       "  </thead>\n",
       "  <tbody>\n",
       "    <tr>\n",
       "      <th>2894</th>\n",
       "      <td>1</td>\n",
       "      <td>/home/bendm/machine_learning/project/majority-...</td>\n",
       "      <td>Singlet</td>\n",
       "    </tr>\n",
       "    <tr>\n",
       "      <th>2876</th>\n",
       "      <td>1</td>\n",
       "      <td>/home/bendm/machine_learning/project/majority-...</td>\n",
       "      <td>Singlet</td>\n",
       "    </tr>\n",
       "    <tr>\n",
       "      <th>4947</th>\n",
       "      <td>1</td>\n",
       "      <td>/home/bendm/machine_learning/project/majority-...</td>\n",
       "      <td>Singlet</td>\n",
       "    </tr>\n",
       "    <tr>\n",
       "      <th>5861</th>\n",
       "      <td>1</td>\n",
       "      <td>/home/bendm/machine_learning/project/majority-...</td>\n",
       "      <td>Singlet</td>\n",
       "    </tr>\n",
       "    <tr>\n",
       "      <th>2678</th>\n",
       "      <td>1</td>\n",
       "      <td>/home/bendm/machine_learning/project/majority-...</td>\n",
       "      <td>Singlet</td>\n",
       "    </tr>\n",
       "    <tr>\n",
       "      <th>7231</th>\n",
       "      <td>1</td>\n",
       "      <td>/home/bendm/machine_learning/project/majority-...</td>\n",
       "      <td>Singlet</td>\n",
       "    </tr>\n",
       "    <tr>\n",
       "      <th>9930</th>\n",
       "      <td>1</td>\n",
       "      <td>/home/bendm/machine_learning/project/majority-...</td>\n",
       "      <td>Singlet</td>\n",
       "    </tr>\n",
       "    <tr>\n",
       "      <th>971</th>\n",
       "      <td>1</td>\n",
       "      <td>/home/bendm/machine_learning/project/majority-...</td>\n",
       "      <td>Singlet</td>\n",
       "    </tr>\n",
       "    <tr>\n",
       "      <th>6340</th>\n",
       "      <td>1</td>\n",
       "      <td>/home/bendm/machine_learning/project/majority-...</td>\n",
       "      <td>Singlet</td>\n",
       "    </tr>\n",
       "    <tr>\n",
       "      <th>4640</th>\n",
       "      <td>1</td>\n",
       "      <td>/home/bendm/machine_learning/project/majority-...</td>\n",
       "      <td>Singlet</td>\n",
       "    </tr>\n",
       "    <tr>\n",
       "      <th>8284</th>\n",
       "      <td>1</td>\n",
       "      <td>/home/bendm/machine_learning/project/majority-...</td>\n",
       "      <td>Singlet</td>\n",
       "    </tr>\n",
       "    <tr>\n",
       "      <th>7487</th>\n",
       "      <td>1</td>\n",
       "      <td>/home/bendm/machine_learning/project/majority-...</td>\n",
       "      <td>Singlet</td>\n",
       "    </tr>\n",
       "    <tr>\n",
       "      <th>7825</th>\n",
       "      <td>1</td>\n",
       "      <td>/home/bendm/machine_learning/project/majority-...</td>\n",
       "      <td>Singlet</td>\n",
       "    </tr>\n",
       "    <tr>\n",
       "      <th>6363</th>\n",
       "      <td>1</td>\n",
       "      <td>/home/bendm/machine_learning/project/majority-...</td>\n",
       "      <td>Singlet</td>\n",
       "    </tr>\n",
       "    <tr>\n",
       "      <th>1760</th>\n",
       "      <td>1</td>\n",
       "      <td>/home/bendm/machine_learning/project/majority-...</td>\n",
       "      <td>Singlet</td>\n",
       "    </tr>\n",
       "    <tr>\n",
       "      <th>7942</th>\n",
       "      <td>1</td>\n",
       "      <td>/home/bendm/machine_learning/project/majority-...</td>\n",
       "      <td>Singlet</td>\n",
       "    </tr>\n",
       "    <tr>\n",
       "      <th>6687</th>\n",
       "      <td>1</td>\n",
       "      <td>/home/bendm/machine_learning/project/majority-...</td>\n",
       "      <td>Singlet</td>\n",
       "    </tr>\n",
       "    <tr>\n",
       "      <th>107</th>\n",
       "      <td>1</td>\n",
       "      <td>/home/bendm/machine_learning/project/majority-...</td>\n",
       "      <td>Singlet</td>\n",
       "    </tr>\n",
       "    <tr>\n",
       "      <th>7539</th>\n",
       "      <td>1</td>\n",
       "      <td>/home/bendm/machine_learning/project/majority-...</td>\n",
       "      <td>Singlet</td>\n",
       "    </tr>\n",
       "    <tr>\n",
       "      <th>9896</th>\n",
       "      <td>1</td>\n",
       "      <td>/home/bendm/machine_learning/project/majority-...</td>\n",
       "      <td>Singlet</td>\n",
       "    </tr>\n",
       "    <tr>\n",
       "      <th>5589</th>\n",
       "      <td>1</td>\n",
       "      <td>/home/bendm/machine_learning/project/majority-...</td>\n",
       "      <td>Singlet</td>\n",
       "    </tr>\n",
       "    <tr>\n",
       "      <th>7938</th>\n",
       "      <td>1</td>\n",
       "      <td>/home/bendm/machine_learning/project/majority-...</td>\n",
       "      <td>Singlet</td>\n",
       "    </tr>\n",
       "    <tr>\n",
       "      <th>3337</th>\n",
       "      <td>1</td>\n",
       "      <td>/home/bendm/machine_learning/project/majority-...</td>\n",
       "      <td>Singlet</td>\n",
       "    </tr>\n",
       "    <tr>\n",
       "      <th>9753</th>\n",
       "      <td>1</td>\n",
       "      <td>/home/bendm/machine_learning/project/majority-...</td>\n",
       "      <td>Singlet</td>\n",
       "    </tr>\n",
       "    <tr>\n",
       "      <th>321</th>\n",
       "      <td>1</td>\n",
       "      <td>/home/bendm/machine_learning/project/majority-...</td>\n",
       "      <td>Singlet</td>\n",
       "    </tr>\n",
       "    <tr>\n",
       "      <th>2545</th>\n",
       "      <td>1</td>\n",
       "      <td>/home/bendm/machine_learning/project/majority-...</td>\n",
       "      <td>Singlet</td>\n",
       "    </tr>\n",
       "    <tr>\n",
       "      <th>7438</th>\n",
       "      <td>1</td>\n",
       "      <td>/home/bendm/machine_learning/project/majority-...</td>\n",
       "      <td>Singlet</td>\n",
       "    </tr>\n",
       "    <tr>\n",
       "      <th>2020</th>\n",
       "      <td>1</td>\n",
       "      <td>/home/bendm/machine_learning/project/majority-...</td>\n",
       "      <td>Singlet</td>\n",
       "    </tr>\n",
       "    <tr>\n",
       "      <th>3999</th>\n",
       "      <td>1</td>\n",
       "      <td>/home/bendm/machine_learning/project/majority-...</td>\n",
       "      <td>Singlet</td>\n",
       "    </tr>\n",
       "    <tr>\n",
       "      <th>9317</th>\n",
       "      <td>1</td>\n",
       "      <td>/home/bendm/machine_learning/project/majority-...</td>\n",
       "      <td>Singlet</td>\n",
       "    </tr>\n",
       "    <tr>\n",
       "      <th>1056</th>\n",
       "      <td>1</td>\n",
       "      <td>/home/bendm/machine_learning/project/majority-...</td>\n",
       "      <td>Singlet</td>\n",
       "    </tr>\n",
       "    <tr>\n",
       "      <th>952</th>\n",
       "      <td>1</td>\n",
       "      <td>/home/bendm/machine_learning/project/majority-...</td>\n",
       "      <td>Singlet</td>\n",
       "    </tr>\n",
       "    <tr>\n",
       "      <th>3006</th>\n",
       "      <td>1</td>\n",
       "      <td>/home/bendm/machine_learning/project/majority-...</td>\n",
       "      <td>Singlet</td>\n",
       "    </tr>\n",
       "    <tr>\n",
       "      <th>3723</th>\n",
       "      <td>1</td>\n",
       "      <td>/home/bendm/machine_learning/project/majority-...</td>\n",
       "      <td>Singlet</td>\n",
       "    </tr>\n",
       "    <tr>\n",
       "      <th>5547</th>\n",
       "      <td>1</td>\n",
       "      <td>/home/bendm/machine_learning/project/majority-...</td>\n",
       "      <td>Singlet</td>\n",
       "    </tr>\n",
       "    <tr>\n",
       "      <th>1731</th>\n",
       "      <td>1</td>\n",
       "      <td>/home/bendm/machine_learning/project/majority-...</td>\n",
       "      <td>Singlet</td>\n",
       "    </tr>\n",
       "    <tr>\n",
       "      <th>3570</th>\n",
       "      <td>1</td>\n",
       "      <td>/home/bendm/machine_learning/project/majority-...</td>\n",
       "      <td>Singlet</td>\n",
       "    </tr>\n",
       "    <tr>\n",
       "      <th>8243</th>\n",
       "      <td>1</td>\n",
       "      <td>/home/bendm/machine_learning/project/majority-...</td>\n",
       "      <td>Singlet</td>\n",
       "    </tr>\n",
       "    <tr>\n",
       "      <th>4521</th>\n",
       "      <td>1</td>\n",
       "      <td>/home/bendm/machine_learning/project/majority-...</td>\n",
       "      <td>Singlet</td>\n",
       "    </tr>\n",
       "    <tr>\n",
       "      <th>8847</th>\n",
       "      <td>1</td>\n",
       "      <td>/home/bendm/machine_learning/project/majority-...</td>\n",
       "      <td>Singlet</td>\n",
       "    </tr>\n",
       "    <tr>\n",
       "      <th>9920</th>\n",
       "      <td>1</td>\n",
       "      <td>/home/bendm/machine_learning/project/majority-...</td>\n",
       "      <td>Singlet</td>\n",
       "    </tr>\n",
       "    <tr>\n",
       "      <th>5359</th>\n",
       "      <td>1</td>\n",
       "      <td>/home/bendm/machine_learning/project/majority-...</td>\n",
       "      <td>Singlet</td>\n",
       "    </tr>\n",
       "    <tr>\n",
       "      <th>9189</th>\n",
       "      <td>1</td>\n",
       "      <td>/home/bendm/machine_learning/project/majority-...</td>\n",
       "      <td>Singlet</td>\n",
       "    </tr>\n",
       "    <tr>\n",
       "      <th>8158</th>\n",
       "      <td>1</td>\n",
       "      <td>/home/bendm/machine_learning/project/majority-...</td>\n",
       "      <td>Singlet</td>\n",
       "    </tr>\n",
       "    <tr>\n",
       "      <th>799</th>\n",
       "      <td>1</td>\n",
       "      <td>/home/bendm/machine_learning/project/majority-...</td>\n",
       "      <td>Singlet</td>\n",
       "    </tr>\n",
       "  </tbody>\n",
       "</table>\n",
       "</div>"
      ],
      "text/plain": [
       "      classification                                         file_names  \\\n",
       "2894               1  /home/bendm/machine_learning/project/majority-...   \n",
       "2876               1  /home/bendm/machine_learning/project/majority-...   \n",
       "4947               1  /home/bendm/machine_learning/project/majority-...   \n",
       "5861               1  /home/bendm/machine_learning/project/majority-...   \n",
       "2678               1  /home/bendm/machine_learning/project/majority-...   \n",
       "7231               1  /home/bendm/machine_learning/project/majority-...   \n",
       "9930               1  /home/bendm/machine_learning/project/majority-...   \n",
       "971                1  /home/bendm/machine_learning/project/majority-...   \n",
       "6340               1  /home/bendm/machine_learning/project/majority-...   \n",
       "4640               1  /home/bendm/machine_learning/project/majority-...   \n",
       "8284               1  /home/bendm/machine_learning/project/majority-...   \n",
       "7487               1  /home/bendm/machine_learning/project/majority-...   \n",
       "7825               1  /home/bendm/machine_learning/project/majority-...   \n",
       "6363               1  /home/bendm/machine_learning/project/majority-...   \n",
       "1760               1  /home/bendm/machine_learning/project/majority-...   \n",
       "7942               1  /home/bendm/machine_learning/project/majority-...   \n",
       "6687               1  /home/bendm/machine_learning/project/majority-...   \n",
       "107                1  /home/bendm/machine_learning/project/majority-...   \n",
       "7539               1  /home/bendm/machine_learning/project/majority-...   \n",
       "9896               1  /home/bendm/machine_learning/project/majority-...   \n",
       "5589               1  /home/bendm/machine_learning/project/majority-...   \n",
       "7938               1  /home/bendm/machine_learning/project/majority-...   \n",
       "3337               1  /home/bendm/machine_learning/project/majority-...   \n",
       "9753               1  /home/bendm/machine_learning/project/majority-...   \n",
       "321                1  /home/bendm/machine_learning/project/majority-...   \n",
       "2545               1  /home/bendm/machine_learning/project/majority-...   \n",
       "7438               1  /home/bendm/machine_learning/project/majority-...   \n",
       "2020               1  /home/bendm/machine_learning/project/majority-...   \n",
       "3999               1  /home/bendm/machine_learning/project/majority-...   \n",
       "9317               1  /home/bendm/machine_learning/project/majority-...   \n",
       "1056               1  /home/bendm/machine_learning/project/majority-...   \n",
       "952                1  /home/bendm/machine_learning/project/majority-...   \n",
       "3006               1  /home/bendm/machine_learning/project/majority-...   \n",
       "3723               1  /home/bendm/machine_learning/project/majority-...   \n",
       "5547               1  /home/bendm/machine_learning/project/majority-...   \n",
       "1731               1  /home/bendm/machine_learning/project/majority-...   \n",
       "3570               1  /home/bendm/machine_learning/project/majority-...   \n",
       "8243               1  /home/bendm/machine_learning/project/majority-...   \n",
       "4521               1  /home/bendm/machine_learning/project/majority-...   \n",
       "8847               1  /home/bendm/machine_learning/project/majority-...   \n",
       "9920               1  /home/bendm/machine_learning/project/majority-...   \n",
       "5359               1  /home/bendm/machine_learning/project/majority-...   \n",
       "9189               1  /home/bendm/machine_learning/project/majority-...   \n",
       "8158               1  /home/bendm/machine_learning/project/majority-...   \n",
       "799                1  /home/bendm/machine_learning/project/majority-...   \n",
       "\n",
       "        label  \n",
       "2894  Singlet  \n",
       "2876  Singlet  \n",
       "4947  Singlet  \n",
       "5861  Singlet  \n",
       "2678  Singlet  \n",
       "7231  Singlet  \n",
       "9930  Singlet  \n",
       "971   Singlet  \n",
       "6340  Singlet  \n",
       "4640  Singlet  \n",
       "8284  Singlet  \n",
       "7487  Singlet  \n",
       "7825  Singlet  \n",
       "6363  Singlet  \n",
       "1760  Singlet  \n",
       "7942  Singlet  \n",
       "6687  Singlet  \n",
       "107   Singlet  \n",
       "7539  Singlet  \n",
       "9896  Singlet  \n",
       "5589  Singlet  \n",
       "7938  Singlet  \n",
       "3337  Singlet  \n",
       "9753  Singlet  \n",
       "321   Singlet  \n",
       "2545  Singlet  \n",
       "7438  Singlet  \n",
       "2020  Singlet  \n",
       "3999  Singlet  \n",
       "9317  Singlet  \n",
       "1056  Singlet  \n",
       "952   Singlet  \n",
       "3006  Singlet  \n",
       "3723  Singlet  \n",
       "5547  Singlet  \n",
       "1731  Singlet  \n",
       "3570  Singlet  \n",
       "8243  Singlet  \n",
       "4521  Singlet  \n",
       "8847  Singlet  \n",
       "9920  Singlet  \n",
       "5359  Singlet  \n",
       "9189  Singlet  \n",
       "8158  Singlet  \n",
       "799   Singlet  "
      ]
     },
     "execution_count": 1,
     "metadata": {},
     "output_type": "execute_result"
    }
   ],
   "source": [
    "\n",
    "import sys\n",
    "\n",
    "sys.path.append(\"../../\")\n",
    "\n",
    "import utils.load_csv as load_csv\n",
    "\n",
    "set = load_csv.load_pandas()\n",
    "set = load_csv.sample_data(set, 100)\n",
    "\n",
    "# train and val only contain inliers and test contains both inliers and outliers\n",
    "train, val, test = load_csv.split_data(set)\n",
    "print(f\"train length: {len(train)}\")\n",
    "print(f\"val length: {len(val)}\")\n",
    "print(f\"test length: {len(test)}\")\n",
    "\n",
    "print(f'outlier test training: {any(train[\"classification\"] != 1)}')\n",
    "print(f'outlier test validation: {any(val[\"classification\"] != 1)}')\n",
    "print(f'outlier test test: {any(test[\"classification\"] != 1)}')\n",
    "train"
   ]
  },
  {
   "cell_type": "code",
   "execution_count": 2,
   "metadata": {},
   "outputs": [
    {
     "name": "stderr",
     "output_type": "stream",
     "text": [
      "2024-11-21 12:08:58.172556: E external/local_xla/xla/stream_executor/cuda/cuda_fft.cc:477] Unable to register cuFFT factory: Attempting to register factory for plugin cuFFT when one has already been registered\n",
      "WARNING: All log messages before absl::InitializeLog() is called are written to STDERR\n",
      "E0000 00:00:1732187338.183143   16703 cuda_dnn.cc:8310] Unable to register cuDNN factory: Attempting to register factory for plugin cuDNN when one has already been registered\n",
      "E0000 00:00:1732187338.185824   16703 cuda_blas.cc:1418] Unable to register cuBLAS factory: Attempting to register factory for plugin cuBLAS when one has already been registered\n",
      "2024-11-21 12:08:58.197894: I tensorflow/core/platform/cpu_feature_guard.cc:210] This TensorFlow binary is optimized to use available CPU instructions in performance-critical operations.\n",
      "To enable the following instructions: AVX2 FMA, in other operations, rebuild TensorFlow with the appropriate compiler flags.\n"
     ]
    }
   ],
   "source": [
    "from models.VAE.VAE import VAE\n",
    "from datetime import datetime\n",
    "\n",
    "import torch\n",
    "from torch.utils.tensorboard import SummaryWriter\n",
    "from utils.dataloader import ImagePathDataset\n",
    "from torchvision.transforms import v2"
   ]
  },
  {
   "cell_type": "code",
   "execution_count": 3,
   "metadata": {},
   "outputs": [],
   "source": [
    "batch_size = 8\n",
    "lr = 1e-3\n",
    "weight_decay = 1e-2\n",
    "epochs = 80\n",
    "input_dim = 4800\n",
    "hidden_dim = 2000\n",
    "latent_dim = 30\n",
    "\n",
    "transform = v2.Compose(\n",
    "    [\n",
    "        v2.ToImage(),\n",
    "        v2.ToDtype(torch.float32, scale=True),\n",
    "        v2.Resize((60, 80)),\n",
    "        v2.ToImage(),\n",
    "        v2.ToDtype(torch.float32, scale=True),\n",
    "        v2.Lambda(\n",
    "            lambda x: (x.view(-1) - torch.min(x)) / (torch.max(x) - torch.min(x))\n",
    "        ),\n",
    "    ]\n",
    ")\n",
    "\n",
    "train_set = ImagePathDataset(train, transform=transform)\n",
    "val_set = ImagePathDataset(val, transform=transform)\n",
    "\n",
    "train_dataloader = torch.utils.data.DataLoader(\n",
    "    train_set, batch_size=batch_size, shuffle=True\n",
    ")\n",
    "val_dataloader = torch.utils.data.DataLoader(\n",
    "    val_set, batch_size=batch_size, shuffle=True\n",
    ")"
   ]
  },
  {
   "cell_type": "code",
   "execution_count": 4,
   "metadata": {},
   "outputs": [],
   "source": [
    "import matplotlib.pyplot as plt\n",
    "import numpy as np\n",
    "\n",
    "for batch_idx, (data, target) in enumerate(train_dataloader):\n",
    "    # check if all values are 0\n",
    "    if ((data == 0).all()):\n",
    "        print(\"nan\")\n",
    "        print(data)\n",
    "        print(data.shape)\n",
    "        plt.imshow(data[0].reshape(60, 80))\n",
    "        plt.show()\n",
    "        break"
   ]
  },
  {
   "cell_type": "markdown",
   "metadata": {},
   "source": [
    "reasonable output after all preprocessing transformations."
   ]
  },
  {
   "cell_type": "code",
   "execution_count": 5,
   "metadata": {},
   "outputs": [],
   "source": [
    "device = torch.device(\"cuda\" if torch.cuda.is_available() else \"cpu\")\n",
    "model = VAE(input_dim=input_dim, hidden_dim=hidden_dim, latent_dim=latent_dim).to(device)\n",
    "optimizer = torch.optim.AdamW(model.parameters(), lr=lr, weight_decay=weight_decay)\n",
    "writer = SummaryWriter(f'runs/outlier/vae_{datetime.now().strftime(\"%Y%m%d-%H%M%S\")}')"
   ]
  },
  {
   "cell_type": "code",
   "execution_count": null,
   "metadata": {},
   "outputs": [
    {
     "name": "stdout",
     "output_type": "stream",
     "text": [
      "Epoch 1/80\n"
     ]
    },
    {
     "name": "stderr",
     "output_type": "stream",
     "text": [
      "  0%|          | 0/6 [00:00<?, ?it/s]"
     ]
    },
    {
     "name": "stdout",
     "output_type": "stream",
     "text": [
      "Step 0 (N samples: 0), Loss: 3330.3960 (Recon: 3327.1709, KL: 3.2251) Grad: 27.6826\n"
     ]
    },
    {
     "name": "stderr",
     "output_type": "stream",
     "text": [
      "100%|██████████| 6/6 [00:00<00:00,  6.42it/s]\n",
      "Testing: 100%|██████████| 2/2 [00:00<00:00, 33.68it/s]\n"
     ]
    },
    {
     "name": "stdout",
     "output_type": "stream",
     "text": [
      "====> Test set loss: 3751.5190 (BCE: 3517.5891, KLD: 233.9299)\n",
      "Epoch 2/80\n"
     ]
    },
    {
     "name": "stderr",
     "output_type": "stream",
     "text": [
      "100%|██████████| 6/6 [00:00<00:00,  7.35it/s]\n",
      "Testing: 100%|██████████| 2/2 [00:00<00:00, 39.82it/s]\n"
     ]
    },
    {
     "name": "stdout",
     "output_type": "stream",
     "text": [
      "====> Test set loss: 2072.1901 (BCE: 2066.9243, KLD: 5.2658)\n",
      "Epoch 3/80\n"
     ]
    },
    {
     "name": "stderr",
     "output_type": "stream",
     "text": [
      "100%|██████████| 6/6 [00:00<00:00,  7.20it/s]\n",
      "Testing: 100%|██████████| 2/2 [00:00<00:00, 44.20it/s]\n"
     ]
    },
    {
     "name": "stdout",
     "output_type": "stream",
     "text": [
      "====> Test set loss: 2045.0278 (BCE: 2039.8983, KLD: 5.1294)\n",
      "Epoch 4/80\n"
     ]
    },
    {
     "name": "stderr",
     "output_type": "stream",
     "text": [
      "100%|██████████| 6/6 [00:00<00:00,  7.15it/s]\n",
      "Testing: 100%|██████████| 2/2 [00:00<00:00, 45.88it/s]\n"
     ]
    },
    {
     "name": "stdout",
     "output_type": "stream",
     "text": [
      "====> Test set loss: 2013.9534 (BCE: 2008.5600, KLD: 5.3934)\n",
      "Epoch 5/80\n"
     ]
    },
    {
     "name": "stderr",
     "output_type": "stream",
     "text": [
      "100%|██████████| 6/6 [00:00<00:00,  7.19it/s]\n",
      "Testing: 100%|██████████| 2/2 [00:00<00:00, 42.10it/s]\n"
     ]
    },
    {
     "name": "stdout",
     "output_type": "stream",
     "text": [
      "====> Test set loss: 2061.4367 (BCE: 2054.9575, KLD: 6.4792)\n",
      "Epoch 6/80\n"
     ]
    },
    {
     "name": "stderr",
     "output_type": "stream",
     "text": [
      "100%|██████████| 6/6 [00:00<00:00,  7.02it/s]\n",
      "Testing: 100%|██████████| 2/2 [00:00<00:00, 47.08it/s]\n"
     ]
    },
    {
     "name": "stdout",
     "output_type": "stream",
     "text": [
      "====> Test set loss: 2011.3822 (BCE: 2004.2753, KLD: 7.1069)\n",
      "Epoch 7/80\n"
     ]
    },
    {
     "name": "stderr",
     "output_type": "stream",
     "text": [
      "100%|██████████| 6/6 [00:00<00:00,  7.24it/s]\n",
      "Testing: 100%|██████████| 2/2 [00:00<00:00, 46.86it/s]\n"
     ]
    },
    {
     "name": "stdout",
     "output_type": "stream",
     "text": [
      "====> Test set loss: 2026.9869 (BCE: 2018.6473, KLD: 8.3396)\n",
      "Epoch 8/80\n"
     ]
    },
    {
     "name": "stderr",
     "output_type": "stream",
     "text": [
      "100%|██████████| 6/6 [00:00<00:00,  7.00it/s]\n",
      "Testing: 100%|██████████| 2/2 [00:00<00:00, 48.10it/s]\n"
     ]
    },
    {
     "name": "stdout",
     "output_type": "stream",
     "text": [
      "====> Test set loss: 2045.3550 (BCE: 2038.8311, KLD: 6.5239)\n",
      "Epoch 9/80\n"
     ]
    },
    {
     "name": "stderr",
     "output_type": "stream",
     "text": [
      "100%|██████████| 6/6 [00:00<00:00,  7.19it/s]\n",
      "Testing: 100%|██████████| 2/2 [00:00<00:00, 47.38it/s]\n"
     ]
    },
    {
     "name": "stdout",
     "output_type": "stream",
     "text": [
      "====> Test set loss: 2011.3523 (BCE: 2006.8373, KLD: 4.5149)\n",
      "Epoch 10/80\n"
     ]
    },
    {
     "name": "stderr",
     "output_type": "stream",
     "text": [
      "100%|██████████| 6/6 [00:00<00:00,  6.65it/s]\n",
      "Testing: 100%|██████████| 2/2 [00:00<00:00, 39.22it/s]\n"
     ]
    },
    {
     "name": "stdout",
     "output_type": "stream",
     "text": [
      "====> Test set loss: 2021.8531 (BCE: 2015.8385, KLD: 6.0146)\n",
      "Epoch 11/80\n"
     ]
    },
    {
     "name": "stderr",
     "output_type": "stream",
     "text": [
      "100%|██████████| 6/6 [00:00<00:00,  6.73it/s]\n",
      "Testing: 100%|██████████| 2/2 [00:00<00:00, 44.07it/s]\n"
     ]
    },
    {
     "name": "stdout",
     "output_type": "stream",
     "text": [
      "====> Test set loss: 2026.2528 (BCE: 2021.6437, KLD: 4.6091)\n",
      "Epoch 12/80\n"
     ]
    },
    {
     "name": "stderr",
     "output_type": "stream",
     "text": [
      "100%|██████████| 6/6 [00:00<00:00,  6.45it/s]\n",
      "Testing: 100%|██████████| 2/2 [00:00<00:00, 41.98it/s]\n"
     ]
    },
    {
     "name": "stdout",
     "output_type": "stream",
     "text": [
      "====> Test set loss: 2002.4526 (BCE: 1999.0206, KLD: 3.4321)\n",
      "Epoch 13/80\n"
     ]
    },
    {
     "name": "stderr",
     "output_type": "stream",
     "text": [
      "100%|██████████| 6/6 [00:00<00:00,  6.87it/s]\n",
      "Testing: 100%|██████████| 2/2 [00:00<00:00, 33.28it/s]\n"
     ]
    },
    {
     "name": "stdout",
     "output_type": "stream",
     "text": [
      "====> Test set loss: 2005.5638 (BCE: 2000.9886, KLD: 4.5752)\n",
      "Epoch 14/80\n"
     ]
    },
    {
     "name": "stderr",
     "output_type": "stream",
     "text": [
      "100%|██████████| 6/6 [00:00<00:00,  7.23it/s]\n",
      "Testing: 100%|██████████| 2/2 [00:00<00:00, 43.24it/s]\n"
     ]
    },
    {
     "name": "stdout",
     "output_type": "stream",
     "text": [
      "====> Test set loss: 1996.8766 (BCE: 1992.4734, KLD: 4.4032)\n",
      "Epoch 15/80\n"
     ]
    },
    {
     "name": "stderr",
     "output_type": "stream",
     "text": [
      "100%|██████████| 6/6 [00:00<00:00,  7.03it/s]\n",
      "Testing: 100%|██████████| 2/2 [00:00<00:00, 44.63it/s]\n"
     ]
    },
    {
     "name": "stdout",
     "output_type": "stream",
     "text": [
      "====> Test set loss: 2004.6574 (BCE: 1999.6846, KLD: 4.9728)\n",
      "Epoch 16/80\n"
     ]
    },
    {
     "name": "stderr",
     "output_type": "stream",
     "text": [
      "100%|██████████| 6/6 [00:00<00:00,  6.80it/s]\n",
      "Testing: 100%|██████████| 2/2 [00:00<00:00, 39.19it/s]\n"
     ]
    },
    {
     "name": "stdout",
     "output_type": "stream",
     "text": [
      "====> Test set loss: 1981.1362 (BCE: 1977.2492, KLD: 3.8871)\n",
      "Epoch 17/80\n"
     ]
    },
    {
     "name": "stderr",
     "output_type": "stream",
     "text": [
      " 83%|████████▎ | 5/6 [00:00<00:00,  7.42it/s]"
     ]
    },
    {
     "name": "stdout",
     "output_type": "stream",
     "text": [
      "Step 100 (N samples: 800), Loss: 2013.0725 (Recon: 2007.6686, KL: 5.4039) Grad: 367.0663\n"
     ]
    },
    {
     "name": "stderr",
     "output_type": "stream",
     "text": [
      "100%|██████████| 6/6 [00:00<00:00,  7.46it/s]\n",
      "Testing: 100%|██████████| 2/2 [00:00<00:00, 40.86it/s]\n"
     ]
    },
    {
     "name": "stdout",
     "output_type": "stream",
     "text": [
      "====> Test set loss: 1993.7203 (BCE: 1989.5646, KLD: 4.1556)\n",
      "Epoch 18/80\n"
     ]
    },
    {
     "name": "stderr",
     "output_type": "stream",
     "text": [
      "100%|██████████| 6/6 [00:00<00:00,  7.81it/s]\n",
      "Testing: 100%|██████████| 2/2 [00:00<00:00, 48.10it/s]\n"
     ]
    },
    {
     "name": "stdout",
     "output_type": "stream",
     "text": [
      "====> Test set loss: 1983.2234 (BCE: 1979.3406, KLD: 3.8828)\n",
      "Epoch 19/80\n"
     ]
    },
    {
     "name": "stderr",
     "output_type": "stream",
     "text": [
      "100%|██████████| 6/6 [00:00<00:00,  7.33it/s]\n",
      "Testing: 100%|██████████| 2/2 [00:00<00:00, 48.93it/s]\n"
     ]
    },
    {
     "name": "stdout",
     "output_type": "stream",
     "text": [
      "====> Test set loss: 1993.6851 (BCE: 1989.6071, KLD: 4.0781)\n",
      "Epoch 20/80\n"
     ]
    },
    {
     "name": "stderr",
     "output_type": "stream",
     "text": [
      "100%|██████████| 6/6 [00:00<00:00,  7.99it/s]\n",
      "Testing: 100%|██████████| 2/2 [00:00<00:00, 49.78it/s]\n"
     ]
    },
    {
     "name": "stdout",
     "output_type": "stream",
     "text": [
      "====> Test set loss: 1987.6696 (BCE: 1983.9452, KLD: 3.7244)\n",
      "Epoch 21/80\n"
     ]
    },
    {
     "name": "stderr",
     "output_type": "stream",
     "text": [
      "100%|██████████| 6/6 [00:00<00:00,  7.33it/s]\n",
      "Testing: 100%|██████████| 2/2 [00:00<00:00, 46.07it/s]\n"
     ]
    },
    {
     "name": "stdout",
     "output_type": "stream",
     "text": [
      "====> Test set loss: 1993.9528 (BCE: 1989.7719, KLD: 4.1809)\n",
      "Epoch 22/80\n"
     ]
    },
    {
     "name": "stderr",
     "output_type": "stream",
     "text": [
      "100%|██████████| 6/6 [00:00<00:00,  7.24it/s]\n",
      "Testing: 100%|██████████| 2/2 [00:00<00:00, 50.12it/s]\n"
     ]
    },
    {
     "name": "stdout",
     "output_type": "stream",
     "text": [
      "====> Test set loss: 1984.5219 (BCE: 1978.8716, KLD: 5.6502)\n",
      "Epoch 23/80\n"
     ]
    },
    {
     "name": "stderr",
     "output_type": "stream",
     "text": [
      "100%|██████████| 6/6 [00:00<00:00,  7.90it/s]\n",
      "Testing: 100%|██████████| 2/2 [00:00<00:00, 48.56it/s]\n"
     ]
    },
    {
     "name": "stdout",
     "output_type": "stream",
     "text": [
      "====> Test set loss: 1990.8187 (BCE: 1987.3461, KLD: 3.4726)\n",
      "Epoch 24/80\n"
     ]
    },
    {
     "name": "stderr",
     "output_type": "stream",
     "text": [
      "100%|██████████| 6/6 [00:00<00:00,  7.53it/s]\n",
      "Testing: 100%|██████████| 2/2 [00:00<00:00, 50.85it/s]\n"
     ]
    },
    {
     "name": "stdout",
     "output_type": "stream",
     "text": [
      "====> Test set loss: 2000.5337 (BCE: 1996.4350, KLD: 4.0987)\n",
      "Epoch 25/80\n"
     ]
    },
    {
     "name": "stderr",
     "output_type": "stream",
     "text": [
      "100%|██████████| 6/6 [00:00<00:00,  7.94it/s]\n",
      "Testing: 100%|██████████| 2/2 [00:00<00:00, 50.82it/s]\n"
     ]
    },
    {
     "name": "stdout",
     "output_type": "stream",
     "text": [
      "====> Test set loss: 2001.8349 (BCE: 1998.5308, KLD: 3.3041)\n",
      "Epoch 26/80\n"
     ]
    },
    {
     "name": "stderr",
     "output_type": "stream",
     "text": [
      "100%|██████████| 6/6 [00:00<00:00,  7.63it/s]\n",
      "Testing: 100%|██████████| 2/2 [00:00<00:00, 47.97it/s]\n"
     ]
    },
    {
     "name": "stdout",
     "output_type": "stream",
     "text": [
      "====> Test set loss: 1988.1570 (BCE: 1983.9792, KLD: 4.1777)\n",
      "Epoch 27/80\n"
     ]
    },
    {
     "name": "stderr",
     "output_type": "stream",
     "text": [
      "100%|██████████| 6/6 [00:00<00:00,  8.01it/s]\n",
      "Testing: 100%|██████████| 2/2 [00:00<00:00, 51.67it/s]\n"
     ]
    },
    {
     "name": "stdout",
     "output_type": "stream",
     "text": [
      "====> Test set loss: 1987.3114 (BCE: 1982.9900, KLD: 4.3214)\n",
      "Epoch 28/80\n"
     ]
    },
    {
     "name": "stderr",
     "output_type": "stream",
     "text": [
      "100%|██████████| 6/6 [00:00<00:00,  7.85it/s]\n",
      "Testing: 100%|██████████| 2/2 [00:00<00:00, 49.16it/s]\n"
     ]
    },
    {
     "name": "stdout",
     "output_type": "stream",
     "text": [
      "====> Test set loss: 1980.2390 (BCE: 1976.4458, KLD: 3.7932)\n",
      "Epoch 29/80\n"
     ]
    },
    {
     "name": "stderr",
     "output_type": "stream",
     "text": [
      "100%|██████████| 6/6 [00:00<00:00,  7.70it/s]\n",
      "Testing: 100%|██████████| 2/2 [00:00<00:00, 48.97it/s]\n"
     ]
    },
    {
     "name": "stdout",
     "output_type": "stream",
     "text": [
      "====> Test set loss: 1992.5082 (BCE: 1989.5224, KLD: 2.9859)\n",
      "Epoch 30/80\n"
     ]
    },
    {
     "name": "stderr",
     "output_type": "stream",
     "text": [
      "100%|██████████| 6/6 [00:00<00:00,  7.78it/s]\n",
      "Testing: 100%|██████████| 2/2 [00:00<00:00, 52.70it/s]\n"
     ]
    },
    {
     "name": "stdout",
     "output_type": "stream",
     "text": [
      "====> Test set loss: 1996.1128 (BCE: 1992.6905, KLD: 3.4223)\n",
      "Epoch 31/80\n"
     ]
    },
    {
     "name": "stderr",
     "output_type": "stream",
     "text": [
      "100%|██████████| 6/6 [00:00<00:00,  7.84it/s]\n",
      "Testing: 100%|██████████| 2/2 [00:00<00:00, 50.20it/s]\n"
     ]
    },
    {
     "name": "stdout",
     "output_type": "stream",
     "text": [
      "====> Test set loss: 1993.7139 (BCE: 1990.5754, KLD: 3.1384)\n",
      "Epoch 32/80\n"
     ]
    },
    {
     "name": "stderr",
     "output_type": "stream",
     "text": [
      " 83%|████████▎ | 5/6 [00:00<00:00,  7.50it/s]"
     ]
    }
   ],
   "source": [
    "prev_updates = 0\n",
    "for epoch in range(epochs):\n",
    "    print(f\"Epoch {epoch+1}/{epochs}\")\n",
    "    prev_updates = model.train_model(train_dataloader, optimizer, prev_updates, writer)\n",
    "    model.test(val_dataloader, prev_updates, writer)"
   ]
  }
 ],
 "metadata": {
  "kernelspec": {
   "display_name": ".venv",
   "language": "python",
   "name": "python3"
  },
  "language_info": {
   "codemirror_mode": {
    "name": "ipython",
    "version": 3
   },
   "file_extension": ".py",
   "mimetype": "text/x-python",
   "name": "python",
   "nbconvert_exporter": "python",
   "pygments_lexer": "ipython3",
   "version": "3.12.7"
  }
 },
 "nbformat": 4,
 "nbformat_minor": 2
}
